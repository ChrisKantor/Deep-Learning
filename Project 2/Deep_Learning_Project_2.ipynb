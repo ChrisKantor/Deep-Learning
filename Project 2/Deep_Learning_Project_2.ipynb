{
  "nbformat": 4,
  "nbformat_minor": 0,
  "metadata": {
    "colab": {
      "provenance": [],
      "authorship_tag": "ABX9TyOtJJK+oCr6tC5A7CZlvulj",
      "include_colab_link": true
    },
    "kernelspec": {
      "name": "python3",
      "display_name": "Python 3"
    },
    "language_info": {
      "name": "python"
    }
  },
  "cells": [
    {
      "cell_type": "markdown",
      "metadata": {
        "id": "view-in-github",
        "colab_type": "text"
      },
      "source": [
        "<a href=\"https://colab.research.google.com/github/ChrisKantor/Deep-Learning/blob/main/Project%202/Deep_Learning_Project_2.ipynb\" target=\"_parent\"><img src=\"https://colab.research.google.com/assets/colab-badge.svg\" alt=\"Open In Colab\"/></a>"
      ]
    },
    {
      "cell_type": "code",
      "source": [
        "#Deep learning model that builds on the one made in HW3 for determining an infants pain level using vital signs\n",
        "#This improved model uses LSTM to better understand the sequential readings\n",
        "\n",
        "\n",
        "\n",
        "#Run these commands - NECCESARY to use the GPU\n",
        "# export CUDNN_PATH=$(dirname $(python -c \"import nvidia.cudnn;print(nvidia.cudnn.__file__)\"))\n",
        "# export LD_LIBRARY_PATH=${CUDNN_PATH}/lib\n",
        "\n",
        "#To connect to local runtime: jupyter lab --NotebookApp.allow_origin='https://colab.research.google.com' --port=8888 --NotebookApp.port_retries=0"
      ],
      "metadata": {
        "id": "-gD_j6_iqrxm"
      },
      "execution_count": null,
      "outputs": []
    },
    {
      "cell_type": "code",
      "execution_count": 1,
      "metadata": {
        "id": "aRuH-vPap5nA"
      },
      "outputs": [],
      "source": [
        "#import libraries\n",
        "import tensorflow as tf\n",
        "import numpy as np\n",
        "import pandas as pd\n",
        "import csv\n",
        "import os\n",
        "from matplotlib import pyplot as plt\n",
        "import PIL\n",
        "from tensorflow import keras"
      ]
    },
    {
      "cell_type": "code",
      "source": [
        "print(\"Num GPUs Available: \", len(tf.config.list_physical_devices('GPU')))\n",
        "# dir = 'Deep Learning/Project 2/'\n",
        "# data_dir = \"data/\"\n",
        "\n",
        "\n",
        "## Mount Google drive\n",
        "from google.colab import drive\n",
        "drive.mount('/content/drive', force_remount=True)\n",
        "data_dir = '/content/drive/MyDrive/Colab Notebooks/Deep Learning/Project 2/data/'\n",
        "\n",
        "\n",
        "import os\n",
        "print(os.getcwd())"
      ],
      "metadata": {
        "colab": {
          "base_uri": "https://localhost:8080/"
        },
        "id": "z45cpkBIsMQ-",
        "outputId": "f06d5161-9f5d-4c82-f33a-4d212c714a6a"
      },
      "execution_count": 2,
      "outputs": [
        {
          "output_type": "stream",
          "name": "stdout",
          "text": [
            "Num GPUs Available:  0\n",
            "Mounted at /content/drive\n",
            "/content\n"
          ]
        }
      ]
    },
    {
      "cell_type": "markdown",
      "source": [
        "# Data Preprocessing"
      ],
      "metadata": {
        "id": "CrrDoReswut8"
      }
    },
    {
      "cell_type": "code",
      "source": [
        "#NEEDS FURTHER CLARIFICATION:\n",
        "#If a csv file sequence has an invalid row, do we just remove it or is the whole sequence invalid?\n",
        "#Can we mix the csv sequences together to get a fixed length input sequence? or should each seperate csv file be treated as its own sequence?\n",
        "#Are we predicting if the baby is in pain during the next timestep?\n",
        "\n",
        "\n",
        "\n",
        "#lots to do here - roughly follow this tutorial for general RNN processing: https://www.tensorflow.org/text/tutorials/text_generation\n",
        "\n",
        "#need sequences of data to use as input. Each csv file is 1 sequence, and each of them could potentially have missing/invalid data in them. 602 total csv files\n",
        "#Each csv file has 30 entries, but due to missing/invalid data, our cleaned sequences could have any number of entries\n",
        "#After cleaning the csv files, our dataset will be compromised of a bunch of variable length sequences\n",
        "#we will split our dataset up into training/validation sets on a sequence level\n",
        "\n",
        "#the inputs at a specific timestep will be the 3 labels in the csv files (Heart Rate, Respiratory Rate, O2 level) and the output will be (either if the baby is in pain OR if the baby is in pain during the NEXT step)? -Need clarification here"
      ],
      "metadata": {
        "id": "5wsgp_xGwyhP"
      },
      "execution_count": null,
      "outputs": []
    },
    {
      "cell_type": "code",
      "source": [
        "#store a list of dataframes representing the data from the csv files we read in\n",
        "#after reading in all of the csv files as dataframes, iterate through them, cleaning up the data and normalizing the inputs\n",
        "\n",
        "\n",
        "#Should we normalize on a dataframe level or a dataset level?\n",
        "\n",
        "\n",
        "data = []\n",
        "\n",
        "\n",
        "#use the os library to iterate through all files in the current path\n",
        "for (root,dirs,files) in os.walk(data_dir, topdown=True):\n",
        "  #open each CSV file, we don't want to open any other type of file\n",
        "  for f in files:\n",
        "    if f.endswith(\".csv\"):\n",
        "      with open(os.path.join(root, f), mode ='r') as csvFile:\n",
        "\n",
        "        #read in the csv file\n",
        "        csvData = csv.reader(csvFile)\n",
        "\n",
        "        #store the data temporarily before we turn it into a pandas dataframe\n",
        "        temp = []\n",
        "\n",
        "\n",
        "        #check if each row is valid\n",
        "        #one way to tell if the data is invalid is if the label is NOT [0, 1, 2]. This means there was something wrong with one of the sensors at the time of capture\n",
        "        #another way is to check if the heart rate, respiratory rate, or o2 level is too low or too high\n",
        "        #for heart Rate, we want a range of 40 - 200\n",
        "        #for Respiratory Rate, we want a range of 15 - 90\n",
        "        #for o2 level, we want a rate of 80 - 100\n",
        "\n",
        "        for row in csvData:\n",
        "          try:\n",
        "            if row[4] in \"012\" and (int(row[1]) >= 40 and int(row[1]) <= 200) and (int(row[2]) >= 15 and int(row[2]) <= 90) and (int(row[3]) >= 80 and int(row[3]) <= 100):   #data is valid, so add it to the main csv\n",
        "              #row[0] just stores the row # in the csv file, so it is not needed in the training dataset\n",
        "              temp.append([int(row[1]), int(row[2]), int(row[3]), int(row[4])])\n",
        "\n",
        "          #Catches errors that occur when an element cannot be parsed into an integer. In this case the row is invalid so we can skip it\n",
        "          except ValueError:\n",
        "            continue\n",
        "\n",
        "        #if this valid and cleaned sequence is NOT empty, add it to our dataset\n",
        "        if len(temp) > 0:\n",
        "          df = pd.DataFrame(temp, columns = ['Heart Rate', 'Respiratory Rate', 'O2 Level', 'Label'])\n",
        "          data.append(df)\n",
        "\n",
        "print(len(data))"
      ],
      "metadata": {
        "colab": {
          "base_uri": "https://localhost:8080/"
        },
        "id": "n0brwvTJ5rkZ",
        "outputId": "f886cac0-7b10-484e-b6ac-1baabdaedf50"
      },
      "execution_count": 6,
      "outputs": [
        {
          "output_type": "stream",
          "name": "stdout",
          "text": [
            "487\n"
          ]
        }
      ]
    },
    {
      "cell_type": "code",
      "source": [
        "#count sequence lengths and how often they appear\n",
        "freqMap = {}\n",
        "for d in data:\n",
        "  if d.shape not in freqMap.keys():\n",
        "    freqMap[d.shape] = 1\n",
        "\n",
        "  else:\n",
        "    freqMap[d.shape] += 1\n",
        "\n",
        "for key, value in freqMap.items():\n",
        "    print(f'{key} -> {value}')\n",
        "\n",
        "\n",
        "#split data into training/validation sets using an 90/10 split\n",
        "data = np.asarray(data, dtype=\"object\")\n",
        "np.random.shuffle(data)\n",
        "\n",
        "trainData, valData = np.split(data, [int(0.90*len(data))])\n",
        "\n",
        "print(len(trainData), len(valData))\n",
        "\n",
        "#remove the labels from the trainingData and validation data, also storing them as a list\n",
        "#we don't need the entire column of labels, just the first rows label\n",
        "trainLabels = []\n",
        "valLabels = []\n",
        "\n",
        "for df in trainData:\n",
        "  label = df['Label'].iloc[0]    #get the first rows label, and use it for this whole sequence\n",
        "  df.drop('Label', axis=1, inplace=True)\n",
        "  trainLabels.append(label)\n",
        "\n",
        "for df in valData:\n",
        "  label = df['Label'].iloc[0]    #get the first rows label, and use it for this whole sequence\n",
        "  df.drop('Label', axis=1, inplace=True)\n",
        "  valLabels.append(label)\n",
        "\n",
        "trainLabels = np.asarray(trainLabels).astype('int32')\n",
        "valLabels = np.asarray(valLabels).astype('int32')\n",
        "print(trainData.shape, len(trainLabels))\n",
        "print(valData.shape, len(valLabels))\n",
        "\n",
        "trainLabelMap = {}\n",
        "for label in trainLabels:\n",
        "  if label not in trainLabelMap.keys():\n",
        "    trainLabelMap[label] = 1\n",
        "  else:\n",
        "    trainLabelMap[label] += 1\n",
        "\n",
        "\n",
        "valLabelMap = {}\n",
        "for label in valLabels:\n",
        "  if label not in valLabelMap.keys():\n",
        "    valLabelMap[label] = 1\n",
        "  else:\n",
        "    valLabelMap[label] += 1\n",
        "\n",
        "print(trainLabelMap)\n",
        "print(valLabelMap)"
      ],
      "metadata": {
        "id": "4Xy6b8Q6LoY3",
        "outputId": "5e882829-c7c5-43bf-f45e-87b80e7b7164",
        "colab": {
          "base_uri": "https://localhost:8080/"
        }
      },
      "execution_count": 7,
      "outputs": [
        {
          "output_type": "stream",
          "name": "stdout",
          "text": [
            "(31, 4) -> 381\n",
            "(30, 4) -> 31\n",
            "(14, 4) -> 2\n",
            "(29, 4) -> 21\n",
            "(5, 4) -> 1\n",
            "(11, 4) -> 1\n",
            "(21, 4) -> 4\n",
            "(4, 4) -> 1\n",
            "(7, 4) -> 1\n",
            "(27, 4) -> 10\n",
            "(28, 4) -> 15\n",
            "(25, 4) -> 4\n",
            "(26, 4) -> 6\n",
            "(17, 4) -> 2\n",
            "(22, 4) -> 2\n",
            "(24, 4) -> 2\n",
            "(23, 4) -> 2\n",
            "(15, 4) -> 1\n",
            "438 49\n",
            "(438,) 438\n",
            "(49,) 49\n",
            "{1: 160, 0: 252, 2: 26}\n",
            "{0: 26, 1: 19, 2: 4}\n"
          ]
        }
      ]
    },
    {
      "cell_type": "code",
      "source": [
        "#normalize data using only the training set\n",
        "#find the min/max of each column throughout all of the dataframes in the training dataset\n",
        "#save the values, then iterate through the training and validation dataset and use min-max normalization\n",
        "#df[column] = (df[column] - df[column].min()) / (df[column].max() - df[column].min())\n",
        "\n",
        "#norm values stores the min/max of each column, initialized to min = float('inf'), max = float('-inf')\n",
        "#[[Heart Rate Min, Heart Rate Max], [Respiratory Rate Min, Respiratory Rate Max], [O2 Level Min, O2 Level Max]]\n",
        "normValues = [[float('inf'), float('-inf')], [float('inf'), float('-inf')], [float('inf'), float('-inf')]]\n",
        "\n",
        "for df in trainData:\n",
        "  normValues[0][0] = min(normValues[0][0], df['Heart Rate'].min())\n",
        "  normValues[0][1] = max(normValues[0][1], df['Heart Rate'].max())\n",
        "\n",
        "  normValues[1][0] = min(normValues[1][0], df['Respiratory Rate'].min())\n",
        "  normValues[1][1] = max(normValues[1][1], df['Respiratory Rate'].max())\n",
        "\n",
        "  normValues[2][0] = min(normValues[2][0], df['O2 Level'].min())\n",
        "  normValues[2][1] = max(normValues[2][1], df['O2 Level'].max())\n",
        "\n",
        "#now we have the min/max for each column across our whole dataset from our training data, so we can save this normalization, and apply it to the validation set\n",
        "print(normValues)\n",
        "\n",
        "\n",
        "\n",
        "#normalizing the data:\n",
        "for df in trainData:\n",
        "  df['Heart Rate'] = (df['Heart Rate'] - normValues[0][0]) / (normValues[0][1] - normValues[0][0])\n",
        "  df['Respiratory Rate'] = (df['Respiratory Rate'] - normValues[1][0]) / (normValues[1][1] - normValues[1][0])\n",
        "  df['O2 Level'] = (df['O2 Level'] - normValues[2][0]) / (normValues[2][1] - normValues[2][0])\n",
        "\n",
        "for df in valData:\n",
        "  df['Heart Rate'] = (df['Heart Rate'] - normValues[0][0]) / (normValues[0][1] - normValues[0][0])\n",
        "  df['Respiratory Rate'] = (df['Respiratory Rate'] - normValues[1][0]) / (normValues[1][1] - normValues[1][0])\n",
        "  df['O2 Level'] = (df['O2 Level'] - normValues[2][0]) / (normValues[2][1] - normValues[2][0])"
      ],
      "metadata": {
        "id": "FQgBFE7onqWI",
        "colab": {
          "base_uri": "https://localhost:8080/"
        },
        "outputId": "b8d4653b-2213-4619-ed4c-5a276dfe6166"
      },
      "execution_count": 8,
      "outputs": [
        {
          "output_type": "stream",
          "name": "stdout",
          "text": [
            "[[44, 199], [15, 90], [80, 100]]\n"
          ]
        }
      ]
    },
    {
      "cell_type": "code",
      "source": [
        "#Data padding\n",
        "#inputs to GRU cells are in the form of [batch, timesteps, feature]\n",
        "#our sequences have multiple lengths, so we need to pad this data to get all of the sequences to have a length of 31 (indices 0-30)\n",
        "#we can pad the data by adding rows of 0's, and use a masking layer to ignore them when training the model\n",
        "\n",
        "for i in range(len(trainData)):\n",
        "  if trainData[i].shape[0] < 31:\n",
        "    padding = pd.DataFrame(0, index=np.arange(trainData[i].shape[0], 31), columns=trainData[i].columns)\n",
        "    trainData[i] = pd.concat([trainData[i], padding])\n",
        "\n",
        "for i in range(len(valData)):\n",
        "  if valData[i].shape[0] < 31:\n",
        "    padding = pd.DataFrame(0, index=np.arange(valData[i].shape[0], 31), columns=valData[i].columns)\n",
        "    valData[i] = pd.concat([valData[i], padding])"
      ],
      "metadata": {
        "id": "ypAB10mGl136"
      },
      "execution_count": 9,
      "outputs": []
    },
    {
      "cell_type": "code",
      "source": [
        "#convert dataframes into np arrays and make the whole dataset multidimensional instead of an array of dataframes for tensorflow to properly use\n",
        "trainData = np.array([np.array(val) for val in trainData])\n",
        "valData = np.array([np.array(val) for val in valData])"
      ],
      "metadata": {
        "id": "yQEEoXxWwW2O"
      },
      "execution_count": 10,
      "outputs": []
    },
    {
      "cell_type": "markdown",
      "source": [
        "# Model Setup"
      ],
      "metadata": {
        "id": "upaZTSH3w0qs"
      }
    },
    {
      "cell_type": "code",
      "source": [
        "#first model uses 4 GRU layers with 16 unit each\n",
        "#input is taken in the form of: [batch, timesteps, feature]\n",
        "#Since our sequences have different lengths, we need to pad them\n",
        "# model = tf.keras.models.Sequential([\n",
        "#     tf.keras.layers.Masking(mask_value=0., input_shape=(31, 3)),\n",
        "#     tf.keras.layers.GRU(16, return_sequences=True, return_state=True),\n",
        "#     tf.keras.layers.GRU(16, return_sequences=True, return_state=True),\n",
        "#     tf.keras.layers.GRU(16, return_sequences=True, return_state=True),\n",
        "#     tf.keras.layers.GRU(16),\n",
        "#     tf.keras.layers.Dense(3)\n",
        "# ])\n",
        "\n",
        "input = tf.keras.layers.Input(shape=(31, 3))\n",
        "mask = tf.keras.layers.Masking(mask_value=0., input_shape=(31, 3)) (input)\n",
        "x = (tf.keras.layers.GRU(128, return_sequences=True, return_state=True, kernel_regularizer = tf.keras.regularizers.l2(), recurrent_regularizer = tf.keras.regularizers.l2())) (mask)\n",
        "x = (tf.keras.layers.GRU(128, return_sequences=True, kernel_regularizer = tf.keras.regularizers.l2(), recurrent_regularizer = tf.keras.regularizers.l2())) (x)\n",
        "x = (tf.keras.layers.GRU(128, return_sequences=True, return_state=True, kernel_regularizer = tf.keras.regularizers.l2(), recurrent_regularizer = tf.keras.regularizers.l2())) (x)\n",
        "x = (tf.keras.layers.GRU(128, return_sequences=True, kernel_regularizer = tf.keras.regularizers.l2(), recurrent_regularizer = tf.keras.regularizers.l2())) (x)\n",
        "x = (tf.keras.layers.Flatten()) (x)\n",
        "x = (tf.keras.layers.Dense(128, activation='relu', kernel_regularizer = tf.keras.regularizers.l2())) (x)\n",
        "x = (tf.keras.layers.Dropout(0.5)) (x)\n",
        "x = (tf.keras.layers.Dense(32, activation='relu', kernel_regularizer = tf.keras.regularizers.l2())) (x)\n",
        "output = (tf.keras.layers.Dense(3)) (x)\n",
        "\n",
        "model = keras.Model(input, output, name=\"GRU_Model\")"
      ],
      "metadata": {
        "id": "CClHL9t2w3kc"
      },
      "execution_count": 17,
      "outputs": []
    },
    {
      "cell_type": "markdown",
      "source": [
        "# Model Training"
      ],
      "metadata": {
        "id": "G1Fi-MTs5vzo"
      }
    },
    {
      "cell_type": "code",
      "source": [
        "#our learning rate scheduler. Will gradually shrink the learning rate as training progesses to find a better converging point.\n",
        "lr_schedule = tf.keras.optimizers.schedules.ExponentialDecay(\n",
        "    0.001,\n",
        "    decay_steps=100000,\n",
        "    decay_rate=0.96,\n",
        "    staircase=True)\n",
        "\n",
        "checkpoint_filepath = '/content/drive/MyDrive/Colab Notebooks/Deep Learning/Project 2/checkpoint'\n",
        "model_checkpoint_callback = tf.keras.callbacks.ModelCheckpoint(\n",
        "    filepath=checkpoint_filepath,\n",
        "    save_weights_only=True,\n",
        "    monitor='val_accuracy',\n",
        "    mode='max',\n",
        "    save_best_only=True)\n",
        "\n",
        "#early stopping callback. stop if the loss doesn't improve for 7 epochs in a row\n",
        "early_stopping_callback = tf.keras.callbacks.EarlyStopping(\n",
        "    monitor='loss',\n",
        "    patience=5,\n",
        "    start_from_epoch=20)\n",
        "\n",
        "\n",
        "opt = tf.keras.optimizers.Adam(learning_rate=lr_schedule)\n",
        "loss_fn = tf.keras.losses.SparseCategoricalCrossentropy(from_logits=True)\n",
        "model.compile(optimizer=opt,\n",
        "              loss=loss_fn,\n",
        "              metrics=['accuracy'])\n",
        "model.summary()"
      ],
      "metadata": {
        "id": "X0_nUOY_50Dw",
        "colab": {
          "base_uri": "https://localhost:8080/"
        },
        "outputId": "19c4d8f4-2659-488d-a724-6f056216840f"
      },
      "execution_count": 18,
      "outputs": [
        {
          "output_type": "stream",
          "name": "stdout",
          "text": [
            "Model: \"GRU_Model\"\n",
            "__________________________________________________________________________________________________\n",
            " Layer (type)                Output Shape                 Param #   Connected to                  \n",
            "==================================================================================================\n",
            " input_4 (InputLayer)        [(None, 31, 3)]              0         []                            \n",
            "                                                                                                  \n",
            " masking_3 (Masking)         (None, 31, 3)                0         ['input_4[0][0]']             \n",
            "                                                                                                  \n",
            " gru_12 (GRU)                [(None, 31, 128),            51072     ['masking_3[0][0]']           \n",
            "                              (None, 128)]                                                        \n",
            "                                                                                                  \n",
            " gru_13 (GRU)                (None, 31, 128)              99072     ['gru_12[0][0]',              \n",
            "                                                                     'gru_12[0][1]']              \n",
            "                                                                                                  \n",
            " gru_14 (GRU)                [(None, 31, 128),            99072     ['gru_13[0][0]']              \n",
            "                              (None, 128)]                                                        \n",
            "                                                                                                  \n",
            " gru_15 (GRU)                (None, 31, 128)              99072     ['gru_14[0][0]',              \n",
            "                                                                     'gru_14[0][1]']              \n",
            "                                                                                                  \n",
            " flatten_3 (Flatten)         (None, 3968)                 0         ['gru_15[0][0]']              \n",
            "                                                                                                  \n",
            " dense_9 (Dense)             (None, 128)                  508032    ['flatten_3[0][0]']           \n",
            "                                                                                                  \n",
            " dropout_3 (Dropout)         (None, 128)                  0         ['dense_9[0][0]']             \n",
            "                                                                                                  \n",
            " dense_10 (Dense)            (None, 32)                   4128      ['dropout_3[0][0]']           \n",
            "                                                                                                  \n",
            " dense_11 (Dense)            (None, 3)                    99        ['dense_10[0][0]']            \n",
            "                                                                                                  \n",
            "==================================================================================================\n",
            "Total params: 860547 (3.28 MB)\n",
            "Trainable params: 860547 (3.28 MB)\n",
            "Non-trainable params: 0 (0.00 Byte)\n",
            "__________________________________________________________________________________________________\n"
          ]
        }
      ]
    },
    {
      "cell_type": "code",
      "source": [
        "#train the model\n",
        "#Some hyperparameter setup\n",
        "batch_size = 128           #set batch size to 128\n",
        "epochs = 100               #set num epochs to 100\n",
        "\n",
        "history = model.fit(\n",
        "    trainData,\n",
        "    trainLabels,\n",
        "    validation_data=(valData, valLabels),\n",
        "    batch_size=batch_size,\n",
        "    epochs=epochs,\n",
        "    callbacks=[model_checkpoint_callback]\n",
        ")"
      ],
      "metadata": {
        "id": "zlLqB23znTXc",
        "colab": {
          "base_uri": "https://localhost:8080/"
        },
        "outputId": "d843b797-9fc6-4c72-a71f-cba93b50f6f2"
      },
      "execution_count": 19,
      "outputs": [
        {
          "output_type": "stream",
          "name": "stdout",
          "text": [
            "Epoch 1/100\n",
            "4/4 [==============================] - 29s 3s/step - loss: 14.3975 - accuracy: 0.4726 - val_loss: 13.1277 - val_accuracy: 0.5306\n",
            "Epoch 2/100\n",
            "4/4 [==============================] - 2s 419ms/step - loss: 12.5905 - accuracy: 0.5753 - val_loss: 11.5015 - val_accuracy: 0.5306\n",
            "Epoch 3/100\n",
            "4/4 [==============================] - 2s 447ms/step - loss: 11.0108 - accuracy: 0.5753 - val_loss: 10.1577 - val_accuracy: 0.5306\n",
            "Epoch 4/100\n",
            "4/4 [==============================] - 2s 399ms/step - loss: 9.7163 - accuracy: 0.5753 - val_loss: 8.9027 - val_accuracy: 0.5306\n",
            "Epoch 5/100\n",
            "4/4 [==============================] - 2s 413ms/step - loss: 8.5519 - accuracy: 0.5776 - val_loss: 7.8614 - val_accuracy: 0.5306\n",
            "Epoch 6/100\n",
            "4/4 [==============================] - 2s 598ms/step - loss: 7.5379 - accuracy: 0.5662 - val_loss: 6.9648 - val_accuracy: 0.5306\n",
            "Epoch 7/100\n",
            "4/4 [==============================] - 3s 733ms/step - loss: 6.6810 - accuracy: 0.5708 - val_loss: 6.1970 - val_accuracy: 0.5306\n",
            "Epoch 8/100\n",
            "4/4 [==============================] - 2s 406ms/step - loss: 5.9311 - accuracy: 0.5753 - val_loss: 5.5216 - val_accuracy: 0.5306\n",
            "Epoch 9/100\n",
            "4/4 [==============================] - 1s 355ms/step - loss: 5.3043 - accuracy: 0.5731 - val_loss: 4.9465 - val_accuracy: 0.5306\n",
            "Epoch 10/100\n",
            "4/4 [==============================] - 1s 357ms/step - loss: 4.7522 - accuracy: 0.5753 - val_loss: 4.4545 - val_accuracy: 0.5306\n",
            "Epoch 11/100\n",
            "4/4 [==============================] - 2s 416ms/step - loss: 4.2656 - accuracy: 0.5753 - val_loss: 4.0225 - val_accuracy: 0.5306\n",
            "Epoch 12/100\n",
            "4/4 [==============================] - 2s 395ms/step - loss: 3.8632 - accuracy: 0.5753 - val_loss: 3.6418 - val_accuracy: 0.5306\n",
            "Epoch 13/100\n",
            "4/4 [==============================] - 2s 389ms/step - loss: 3.4928 - accuracy: 0.5776 - val_loss: 3.3089 - val_accuracy: 0.5306\n",
            "Epoch 14/100\n",
            "4/4 [==============================] - 2s 682ms/step - loss: 3.1699 - accuracy: 0.5731 - val_loss: 3.0304 - val_accuracy: 0.5306\n",
            "Epoch 15/100\n",
            "4/4 [==============================] - 3s 614ms/step - loss: 2.8810 - accuracy: 0.5753 - val_loss: 2.7634 - val_accuracy: 0.5306\n",
            "Epoch 16/100\n",
            "4/4 [==============================] - 2s 395ms/step - loss: 2.6437 - accuracy: 0.5753 - val_loss: 2.5315 - val_accuracy: 0.5306\n",
            "Epoch 17/100\n",
            "4/4 [==============================] - 2s 379ms/step - loss: 2.4300 - accuracy: 0.5731 - val_loss: 2.3220 - val_accuracy: 0.5306\n",
            "Epoch 18/100\n",
            "4/4 [==============================] - 2s 453ms/step - loss: 2.2210 - accuracy: 0.5753 - val_loss: 2.1270 - val_accuracy: 0.5918\n",
            "Epoch 19/100\n",
            "4/4 [==============================] - 2s 436ms/step - loss: 2.0605 - accuracy: 0.5913 - val_loss: 1.9561 - val_accuracy: 0.6122\n",
            "Epoch 20/100\n",
            "4/4 [==============================] - 2s 435ms/step - loss: 1.9116 - accuracy: 0.5845 - val_loss: 1.8254 - val_accuracy: 0.6531\n",
            "Epoch 21/100\n",
            "4/4 [==============================] - 2s 431ms/step - loss: 1.7741 - accuracy: 0.6005 - val_loss: 1.7375 - val_accuracy: 0.5918\n",
            "Epoch 22/100\n",
            "4/4 [==============================] - 3s 788ms/step - loss: 1.6666 - accuracy: 0.5959 - val_loss: 1.6164 - val_accuracy: 0.6735\n",
            "Epoch 23/100\n",
            "4/4 [==============================] - 2s 389ms/step - loss: 1.5639 - accuracy: 0.6164 - val_loss: 1.5220 - val_accuracy: 0.6531\n",
            "Epoch 24/100\n",
            "4/4 [==============================] - 2s 414ms/step - loss: 1.4810 - accuracy: 0.6370 - val_loss: 1.4865 - val_accuracy: 0.5714\n",
            "Epoch 25/100\n",
            "4/4 [==============================] - 2s 439ms/step - loss: 1.4080 - accuracy: 0.5982 - val_loss: 1.3939 - val_accuracy: 0.7347\n",
            "Epoch 26/100\n",
            "4/4 [==============================] - 1s 372ms/step - loss: 1.3273 - accuracy: 0.6598 - val_loss: 1.3603 - val_accuracy: 0.5714\n",
            "Epoch 27/100\n",
            "4/4 [==============================] - 2s 407ms/step - loss: 1.2952 - accuracy: 0.6142 - val_loss: 1.3013 - val_accuracy: 0.7143\n",
            "Epoch 28/100\n",
            "4/4 [==============================] - 2s 397ms/step - loss: 1.2259 - accuracy: 0.6667 - val_loss: 1.2909 - val_accuracy: 0.5714\n",
            "Epoch 29/100\n",
            "4/4 [==============================] - 2s 634ms/step - loss: 1.2158 - accuracy: 0.6256 - val_loss: 1.2173 - val_accuracy: 0.7347\n",
            "Epoch 30/100\n",
            "4/4 [==============================] - 3s 717ms/step - loss: 1.1657 - accuracy: 0.6553 - val_loss: 1.2001 - val_accuracy: 0.5714\n",
            "Epoch 31/100\n",
            "4/4 [==============================] - 2s 423ms/step - loss: 1.1173 - accuracy: 0.6096 - val_loss: 1.1074 - val_accuracy: 0.7347\n",
            "Epoch 32/100\n",
            "4/4 [==============================] - 2s 401ms/step - loss: 1.1034 - accuracy: 0.6689 - val_loss: 1.0725 - val_accuracy: 0.6531\n",
            "Epoch 33/100\n",
            "4/4 [==============================] - 2s 395ms/step - loss: 1.0711 - accuracy: 0.6256 - val_loss: 1.0356 - val_accuracy: 0.7347\n",
            "Epoch 34/100\n",
            "4/4 [==============================] - 2s 459ms/step - loss: 1.0189 - accuracy: 0.6849 - val_loss: 1.0162 - val_accuracy: 0.6939\n",
            "Epoch 35/100\n",
            "4/4 [==============================] - 3s 715ms/step - loss: 0.9875 - accuracy: 0.6507 - val_loss: 0.9937 - val_accuracy: 0.7143\n",
            "Epoch 36/100\n",
            "4/4 [==============================] - 4s 899ms/step - loss: 0.9823 - accuracy: 0.6781 - val_loss: 0.9598 - val_accuracy: 0.7551\n",
            "Epoch 37/100\n",
            "4/4 [==============================] - 4s 804ms/step - loss: 0.9477 - accuracy: 0.6667 - val_loss: 0.9338 - val_accuracy: 0.7347\n",
            "Epoch 38/100\n",
            "4/4 [==============================] - 3s 629ms/step - loss: 0.9574 - accuracy: 0.6781 - val_loss: 0.9214 - val_accuracy: 0.7143\n",
            "Epoch 39/100\n",
            "4/4 [==============================] - 2s 395ms/step - loss: 0.9646 - accuracy: 0.6484 - val_loss: 0.9448 - val_accuracy: 0.7143\n",
            "Epoch 40/100\n",
            "4/4 [==============================] - 2s 411ms/step - loss: 0.9185 - accuracy: 0.6895 - val_loss: 0.9715 - val_accuracy: 0.6327\n",
            "Epoch 41/100\n",
            "4/4 [==============================] - 1s 379ms/step - loss: 0.9192 - accuracy: 0.6530 - val_loss: 0.9190 - val_accuracy: 0.7143\n",
            "Epoch 42/100\n",
            "4/4 [==============================] - 2s 661ms/step - loss: 0.8975 - accuracy: 0.6895 - val_loss: 0.9147 - val_accuracy: 0.6531\n",
            "Epoch 43/100\n",
            "4/4 [==============================] - 3s 633ms/step - loss: 0.8962 - accuracy: 0.6804 - val_loss: 0.8599 - val_accuracy: 0.7143\n",
            "Epoch 44/100\n",
            "4/4 [==============================] - 2s 409ms/step - loss: 0.8862 - accuracy: 0.6667 - val_loss: 0.8737 - val_accuracy: 0.7347\n",
            "Epoch 45/100\n",
            "4/4 [==============================] - 2s 382ms/step - loss: 0.8756 - accuracy: 0.6826 - val_loss: 0.8968 - val_accuracy: 0.6531\n",
            "Epoch 46/100\n",
            "4/4 [==============================] - 2s 410ms/step - loss: 0.8643 - accuracy: 0.6986 - val_loss: 0.8283 - val_accuracy: 0.7143\n",
            "Epoch 47/100\n",
            "4/4 [==============================] - 2s 379ms/step - loss: 0.8467 - accuracy: 0.7169 - val_loss: 0.9099 - val_accuracy: 0.6531\n",
            "Epoch 48/100\n",
            "4/4 [==============================] - 2s 366ms/step - loss: 0.8612 - accuracy: 0.6644 - val_loss: 0.8818 - val_accuracy: 0.6531\n",
            "Epoch 49/100\n",
            "4/4 [==============================] - 2s 395ms/step - loss: 0.8597 - accuracy: 0.6872 - val_loss: 0.8323 - val_accuracy: 0.6939\n",
            "Epoch 50/100\n",
            "4/4 [==============================] - 4s 908ms/step - loss: 0.8327 - accuracy: 0.7078 - val_loss: 0.8270 - val_accuracy: 0.6939\n",
            "Epoch 51/100\n",
            "4/4 [==============================] - 2s 424ms/step - loss: 0.8389 - accuracy: 0.6941 - val_loss: 0.8963 - val_accuracy: 0.6327\n",
            "Epoch 52/100\n",
            "4/4 [==============================] - 2s 397ms/step - loss: 0.8437 - accuracy: 0.6849 - val_loss: 0.8278 - val_accuracy: 0.6939\n",
            "Epoch 53/100\n",
            "4/4 [==============================] - 2s 382ms/step - loss: 0.8303 - accuracy: 0.6918 - val_loss: 0.8255 - val_accuracy: 0.7143\n",
            "Epoch 54/100\n",
            "4/4 [==============================] - 2s 394ms/step - loss: 0.8608 - accuracy: 0.6804 - val_loss: 0.7976 - val_accuracy: 0.7143\n",
            "Epoch 55/100\n",
            "4/4 [==============================] - 2s 387ms/step - loss: 0.8299 - accuracy: 0.7032 - val_loss: 0.8145 - val_accuracy: 0.7551\n",
            "Epoch 56/100\n",
            "4/4 [==============================] - 2s 403ms/step - loss: 0.8222 - accuracy: 0.6986 - val_loss: 0.8595 - val_accuracy: 0.6939\n",
            "Epoch 57/100\n",
            "4/4 [==============================] - 2s 565ms/step - loss: 0.8531 - accuracy: 0.6689 - val_loss: 0.8158 - val_accuracy: 0.7551\n",
            "Epoch 58/100\n",
            "4/4 [==============================] - 3s 703ms/step - loss: 0.8065 - accuracy: 0.7146 - val_loss: 0.7834 - val_accuracy: 0.7347\n",
            "Epoch 59/100\n",
            "4/4 [==============================] - 2s 412ms/step - loss: 0.7915 - accuracy: 0.7283 - val_loss: 0.7818 - val_accuracy: 0.7143\n",
            "Epoch 60/100\n",
            "4/4 [==============================] - 2s 415ms/step - loss: 0.7901 - accuracy: 0.7237 - val_loss: 0.8101 - val_accuracy: 0.7143\n",
            "Epoch 61/100\n",
            "4/4 [==============================] - 2s 407ms/step - loss: 0.7891 - accuracy: 0.7420 - val_loss: 0.7854 - val_accuracy: 0.6939\n",
            "Epoch 62/100\n",
            "4/4 [==============================] - 1s 377ms/step - loss: 0.7881 - accuracy: 0.7260 - val_loss: 0.7771 - val_accuracy: 0.6939\n",
            "Epoch 63/100\n",
            "4/4 [==============================] - 2s 389ms/step - loss: 0.7917 - accuracy: 0.7215 - val_loss: 0.8268 - val_accuracy: 0.6939\n",
            "Epoch 64/100\n",
            "4/4 [==============================] - 2s 412ms/step - loss: 0.8156 - accuracy: 0.7009 - val_loss: 0.7897 - val_accuracy: 0.7143\n",
            "Epoch 65/100\n",
            "4/4 [==============================] - 3s 732ms/step - loss: 0.7992 - accuracy: 0.7283 - val_loss: 0.8236 - val_accuracy: 0.7143\n",
            "Epoch 66/100\n",
            "4/4 [==============================] - 2s 575ms/step - loss: 0.7984 - accuracy: 0.6963 - val_loss: 0.8295 - val_accuracy: 0.6939\n",
            "Epoch 67/100\n",
            "4/4 [==============================] - 2s 385ms/step - loss: 0.8007 - accuracy: 0.7009 - val_loss: 0.7698 - val_accuracy: 0.7143\n",
            "Epoch 68/100\n",
            "4/4 [==============================] - 2s 395ms/step - loss: 0.8092 - accuracy: 0.7009 - val_loss: 0.7768 - val_accuracy: 0.7347\n",
            "Epoch 69/100\n",
            "4/4 [==============================] - 2s 388ms/step - loss: 0.8111 - accuracy: 0.7009 - val_loss: 0.8239 - val_accuracy: 0.6939\n",
            "Epoch 70/100\n",
            "4/4 [==============================] - 2s 408ms/step - loss: 0.8272 - accuracy: 0.6963 - val_loss: 0.8094 - val_accuracy: 0.7347\n",
            "Epoch 71/100\n",
            "4/4 [==============================] - 2s 412ms/step - loss: 0.7977 - accuracy: 0.6941 - val_loss: 0.7713 - val_accuracy: 0.7143\n",
            "Epoch 72/100\n",
            "4/4 [==============================] - 2s 424ms/step - loss: 0.7835 - accuracy: 0.7420 - val_loss: 0.7526 - val_accuracy: 0.7347\n",
            "Epoch 73/100\n",
            "4/4 [==============================] - 3s 740ms/step - loss: 0.7740 - accuracy: 0.7146 - val_loss: 0.7744 - val_accuracy: 0.7143\n",
            "Epoch 74/100\n",
            "4/4 [==============================] - 2s 402ms/step - loss: 0.7826 - accuracy: 0.7055 - val_loss: 0.7968 - val_accuracy: 0.7143\n",
            "Epoch 75/100\n",
            "4/4 [==============================] - 2s 403ms/step - loss: 0.7869 - accuracy: 0.7215 - val_loss: 0.7814 - val_accuracy: 0.7143\n",
            "Epoch 76/100\n",
            "4/4 [==============================] - 2s 396ms/step - loss: 0.7821 - accuracy: 0.7374 - val_loss: 0.7757 - val_accuracy: 0.7347\n",
            "Epoch 77/100\n",
            "4/4 [==============================] - 2s 408ms/step - loss: 0.7684 - accuracy: 0.7283 - val_loss: 0.7599 - val_accuracy: 0.7143\n",
            "Epoch 78/100\n",
            "4/4 [==============================] - 2s 409ms/step - loss: 0.7781 - accuracy: 0.7329 - val_loss: 0.7965 - val_accuracy: 0.7143\n",
            "Epoch 79/100\n",
            "4/4 [==============================] - 2s 398ms/step - loss: 0.7707 - accuracy: 0.7283 - val_loss: 0.7560 - val_accuracy: 0.7143\n",
            "Epoch 80/100\n",
            "4/4 [==============================] - 2s 641ms/step - loss: 0.7764 - accuracy: 0.7306 - val_loss: 0.7612 - val_accuracy: 0.6939\n",
            "Epoch 81/100\n",
            "4/4 [==============================] - 3s 770ms/step - loss: 0.7765 - accuracy: 0.7260 - val_loss: 0.7914 - val_accuracy: 0.7143\n",
            "Epoch 82/100\n",
            "4/4 [==============================] - 2s 387ms/step - loss: 0.7712 - accuracy: 0.7352 - val_loss: 0.7579 - val_accuracy: 0.6939\n",
            "Epoch 83/100\n",
            "4/4 [==============================] - 2s 414ms/step - loss: 0.7755 - accuracy: 0.7215 - val_loss: 0.8026 - val_accuracy: 0.7143\n",
            "Epoch 84/100\n",
            "4/4 [==============================] - 2s 398ms/step - loss: 0.8043 - accuracy: 0.6849 - val_loss: 0.8090 - val_accuracy: 0.6939\n",
            "Epoch 85/100\n",
            "4/4 [==============================] - 2s 393ms/step - loss: 0.7913 - accuracy: 0.7169 - val_loss: 0.7877 - val_accuracy: 0.7347\n",
            "Epoch 86/100\n",
            "4/4 [==============================] - 2s 420ms/step - loss: 0.8047 - accuracy: 0.6986 - val_loss: 0.7830 - val_accuracy: 0.7347\n",
            "Epoch 87/100\n",
            "4/4 [==============================] - 2s 409ms/step - loss: 0.7676 - accuracy: 0.7283 - val_loss: 0.7717 - val_accuracy: 0.7347\n",
            "Epoch 88/100\n",
            "4/4 [==============================] - 3s 765ms/step - loss: 0.7972 - accuracy: 0.6712 - val_loss: 0.8086 - val_accuracy: 0.7143\n",
            "Epoch 89/100\n",
            "4/4 [==============================] - 2s 472ms/step - loss: 0.7766 - accuracy: 0.7123 - val_loss: 0.7672 - val_accuracy: 0.7143\n",
            "Epoch 90/100\n",
            "4/4 [==============================] - 2s 404ms/step - loss: 0.7518 - accuracy: 0.7306 - val_loss: 0.7748 - val_accuracy: 0.7143\n",
            "Epoch 91/100\n",
            "4/4 [==============================] - 2s 388ms/step - loss: 0.7578 - accuracy: 0.7374 - val_loss: 0.7682 - val_accuracy: 0.7143\n",
            "Epoch 92/100\n",
            "4/4 [==============================] - 2s 398ms/step - loss: 0.7597 - accuracy: 0.7283 - val_loss: 0.7845 - val_accuracy: 0.7143\n",
            "Epoch 93/100\n",
            "4/4 [==============================] - 2s 430ms/step - loss: 0.7500 - accuracy: 0.7443 - val_loss: 0.7496 - val_accuracy: 0.7143\n",
            "Epoch 94/100\n",
            "4/4 [==============================] - 2s 417ms/step - loss: 0.7536 - accuracy: 0.7306 - val_loss: 0.7434 - val_accuracy: 0.6939\n",
            "Epoch 95/100\n",
            "4/4 [==============================] - 2s 582ms/step - loss: 0.7304 - accuracy: 0.7511 - val_loss: 0.7547 - val_accuracy: 0.7143\n",
            "Epoch 96/100\n",
            "4/4 [==============================] - 3s 744ms/step - loss: 0.7733 - accuracy: 0.7192 - val_loss: 0.7737 - val_accuracy: 0.7143\n",
            "Epoch 97/100\n",
            "4/4 [==============================] - 2s 378ms/step - loss: 0.7703 - accuracy: 0.7283 - val_loss: 0.7550 - val_accuracy: 0.7347\n",
            "Epoch 98/100\n",
            "4/4 [==============================] - 2s 405ms/step - loss: 0.7384 - accuracy: 0.7374 - val_loss: 0.7425 - val_accuracy: 0.7551\n",
            "Epoch 99/100\n",
            "4/4 [==============================] - 1s 370ms/step - loss: 0.7420 - accuracy: 0.7443 - val_loss: 0.7588 - val_accuracy: 0.7347\n",
            "Epoch 100/100\n",
            "4/4 [==============================] - 2s 423ms/step - loss: 0.7659 - accuracy: 0.7260 - val_loss: 0.7766 - val_accuracy: 0.7143\n"
          ]
        }
      ]
    },
    {
      "cell_type": "code",
      "source": [
        "acc = history.history['accuracy']\n",
        "val_acc = history.history['val_accuracy']\n",
        "\n",
        "loss = history.history['loss']\n",
        "val_loss = history.history['val_loss']\n",
        "\n",
        "epochs_range = range(min(epochs, len(acc)))\n",
        "\n",
        "plt.figure(figsize=(8, 8))\n",
        "plt.subplot(1, 2, 1)\n",
        "plt.plot(epochs_range, acc, label='Training Accuracy')\n",
        "plt.plot(epochs_range, val_acc, label='Validation Accuracy')\n",
        "plt.legend(loc='lower right')\n",
        "plt.title('Training and Validation Accuracy')\n",
        "\n",
        "plt.subplot(1, 2, 2)\n",
        "plt.plot(epochs_range, loss, label='Training Loss')\n",
        "plt.plot(epochs_range, val_loss, label='Validation Loss')\n",
        "plt.legend(loc='upper right')\n",
        "plt.title('Training and Validation Loss')\n",
        "plt.show()"
      ],
      "metadata": {
        "id": "bV0n6NC321Sh",
        "outputId": "1c30b075-9ce6-4119-aadd-a4dc6b26976e",
        "colab": {
          "base_uri": "https://localhost:8080/",
          "height": 699
        }
      },
      "execution_count": 20,
      "outputs": [
        {
          "output_type": "display_data",
          "data": {
            "text/plain": [
              "<Figure size 800x800 with 2 Axes>"
            ],
            "image/png": "[encoded data removed]"
          },
          "metadata": {}
        }
      ]
    },
    {
      "cell_type": "code",
      "source": [
        "#load the best model using the callback\n",
        "model.load_weights(checkpoint_filepath)\n",
        "\n",
        "print(\"\\n\\nEvaluating Best Model\\n\")\n",
        "#evaluation the model on the validation data\n",
        "model.evaluate(valData, valLabels, verbose=2)\n",
        "\n",
        "\n",
        "#Best val acc so far: 0.796"
      ],
      "metadata": {
        "colab": {
          "base_uri": "https://localhost:8080/"
        },
        "id": "RXSNNOXVrb9I",
        "outputId": "d48a273b-90b2-4dfb-d20a-9cfd7b3ec6e8"
      },
      "execution_count": 21,
      "outputs": [
        {
          "output_type": "stream",
          "name": "stdout",
          "text": [
            "\n",
            "\n",
            "Evaluating Best Model\n",
            "\n",
            "2/2 - 0s - loss: 0.9598 - accuracy: 0.7551 - 103ms/epoch - 52ms/step\n"
          ]
        },
        {
          "output_type": "execute_result",
          "data": {
            "text/plain": [
              "[0.9598457217216492, 0.7551020383834839]"
            ]
          },
          "metadata": {},
          "execution_count": 21
        }
      ]
    },
    {
      "cell_type": "code",
      "source": [
        "#save the model\n",
        "model.save(\"/content/drive/MyDrive/Colab Notebooks/Deep Learning/Project 2/bestModel.keras\")\n",
        "print(\"Saved Model\")"
      ],
      "metadata": {
        "id": "oQ4k7YiBHw6C"
      },
      "execution_count": null,
      "outputs": []
    },
    {
      "cell_type": "markdown",
      "source": [
        "# Testing Script"
      ],
      "metadata": {
        "id": "AVq8bgK550VC"
      }
    },
    {
      "cell_type": "code",
      "source": [
        "#import libraries\n",
        "import tensorflow as tf\n",
        "import numpy as np\n",
        "import pandas as pd\n",
        "import csv\n",
        "import os\n",
        "from matplotlib import pyplot as plt\n",
        "\n",
        "## Mount Google drive\n",
        "from google.colab import drive\n",
        "drive.mount('/content/drive', force_remount=True)\n",
        "data_dir = '/content/drive/MyDrive/Colab Notebooks/Deep Learning/Project 2/'\n",
        "\n",
        "\n",
        "###############################################################################\n",
        "#Reading data and normalization\n",
        "\n",
        "#read test.csv, dropping the first column as it just holds the index of the rows, which we don't need\n",
        "testData = pd.read_csv(data_dir + \"test.csv\", sep=',', usecols=[1, 2, 3, 4], names = ['Heart Rate', 'Respiratory Rate', 'O2 Level', 'Label'])\n",
        "\n",
        "\n",
        "# #Normalize the test data using the normalization factors we found in the training data. Hard coded here\n",
        "normValues = [[40, 200], [15, 90], [80, 100]]   #from training\n",
        "testData['Heart Rate'] = (testData['Heart Rate'] - normValues[0][0]) / (normValues[0][1] - normValues[0][0])\n",
        "testData['Respiratory Rate'] = (testData['Respiratory Rate'] - normValues[1][0]) / (normValues[1][1] - normValues[1][0])\n",
        "testData['O2 Level'] = (testData['O2 Level'] - normValues[2][0]) / (normValues[2][1] - normValues[2][0])\n",
        "\n",
        "\n",
        "###############################################################################\n",
        "#Seperating normalized data into sequences\n",
        "\n",
        "#now we need to process the data by seperating the entire data array into 31 row chunks\n",
        "testData = np.array_split(testData, np.arange(31, len(testData), 31))\n",
        "\n",
        "#pull the labels from the first row of each sequence, save it to an array, then drop the label col from this data sequence\n",
        "testLabels = []\n",
        "for seq in testData:\n",
        "  label = seq['Label'].iloc[0]    #get the first rows label, and use it for this whole sequence\n",
        "  seq.drop('Label', axis=1, inplace=True)\n",
        "  testLabels.append(label)\n",
        "\n",
        "testLabels = np.asarray(testLabels).astype('int32')\n",
        "\n",
        "#convert dataframes into np arrays and make the whole dataset multidimensional instead of an array of dataframes for tensorflow to properly use\n",
        "testData = np.array([np.array(seq) for seq in testData])\n",
        "\n",
        "\n",
        "\n",
        "###############################################################################\n",
        "#Testing model\n",
        "\n",
        "#load the model from a saved file\n",
        "model = tf.keras.models.load_model(data_dir + \"bestModel.keras\")\n",
        "\n",
        "#evaluation the model on the test data\n",
        "loss, acc = model.evaluate(testData, testLabels, verbose=2)\n",
        "print(\"Loss on test data: \", loss)\n",
        "print(\"Accuracy on test data: \", acc)"
      ],
      "metadata": {
        "id": "8M7ZIwNM53As",
        "outputId": "3af12568-cd66-4c12-cfc6-82d4d4df626c",
        "colab": {
          "base_uri": "https://localhost:8080/"
        }
      },
      "execution_count": 26,
      "outputs": [
        {
          "output_type": "stream",
          "name": "stdout",
          "text": [
            "Mounted at /content/drive\n",
            "1/1 - 12s - loss: 1.0334 - accuracy: 0.5000 - 12s/epoch - 12s/step\n",
            "Loss on test data:  1.033374547958374\n",
            "Accuracy on test data:  0.5\n"
          ]
        }
      ]
    }
  ]
}