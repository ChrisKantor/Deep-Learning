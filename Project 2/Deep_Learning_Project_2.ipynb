{
  "nbformat": 4,
  "nbformat_minor": 0,
  "metadata": {
    "colab": {
      "provenance": [],
      "authorship_tag": "ABX9TyPTseoIcs/0Gx3wxP0mjHEH",
      "include_colab_link": true
    },
    "kernelspec": {
      "name": "python3",
      "display_name": "Python 3"
    },
    "language_info": {
      "name": "python"
    }
  },
  "cells": [
    {
      "cell_type": "markdown",
      "metadata": {
        "id": "view-in-github",
        "colab_type": "text"
      },
      "source": [
        "<a href=\"https://colab.research.google.com/github/ChrisKantor/Deep-Learning/blob/main/Project%202/Deep_Learning_Project_2.ipynb\" target=\"_parent\"><img src=\"https://colab.research.google.com/assets/colab-badge.svg\" alt=\"Open In Colab\"/></a>"
      ]
    },
    {
      "cell_type": "code",
      "source": [
        "#Deep learning model that builds on the one made in HW3 for determining an infants pain level using vital signs\n",
        "#This improved model uses LSTM to better understand the sequential readings\n",
        "\n",
        "\n",
        "\n",
        "#Run these commands - NECCESARY to use the GPU\n",
        "# export CUDNN_PATH=$(dirname $(python -c \"import nvidia.cudnn;print(nvidia.cudnn.__file__)\"))\n",
        "# export LD_LIBRARY_PATH=${CUDNN_PATH}/lib\n",
        "\n",
        "#To connect to local runtime: jupyter lab --NotebookApp.allow_origin='https://colab.research.google.com' --port=8888 --NotebookApp.port_retries=0"
      ],
      "metadata": {
        "id": "-gD_j6_iqrxm"
      },
      "execution_count": null,
      "outputs": []
    },
    {
      "cell_type": "code",
      "execution_count": 299,
      "metadata": {
        "id": "aRuH-vPap5nA",
        "outputId": "759adacb-f547-4442-d22b-9ac7622622fc",
        "colab": {
          "base_uri": "https://localhost:8080/"
        }
      },
      "outputs": [
        {
          "output_type": "stream",
          "name": "stdout",
          "text": [
            "Requirement already satisfied: tensorflow_addons in /usr/local/lib/python3.10/dist-packages (0.23.0)\n",
            "Requirement already satisfied: packaging in /usr/local/lib/python3.10/dist-packages (from tensorflow_addons) (24.0)\n",
            "Requirement already satisfied: typeguard<3.0.0,>=2.7 in /usr/local/lib/python3.10/dist-packages (from tensorflow_addons) (2.13.3)\n"
          ]
        }
      ],
      "source": [
        "#import libraries\n",
        "import tensorflow as tf\n",
        "import numpy as np\n",
        "import pandas as pd\n",
        "import csv\n",
        "import os\n",
        "from matplotlib import pyplot as plt\n",
        "import PIL\n",
        "from tensorflow import keras\n",
        "\n",
        "#needed for peephole lstm cell as tensorflow doesn't have native support yet\n",
        "!pip install tensorflow_addons\n",
        "import tensorflow_addons as tfa\n",
        "\n",
        "#potential definition of peephole LSTM cell to get around using the soon to be deprecated tfa verion\n",
        "#taken from here: https://github.com/tensorflow/tensorflow/blob/97f585d506cccc57dc98f234f4d5fcd824dd3c03/tensorflow/python/ops/rnn_cell.py#L353"
      ]
    },
    {
      "cell_type": "code",
      "source": [
        "print(\"Num GPUs Available: \", len(tf.config.list_physical_devices('GPU')))\n",
        "# dir = 'Deep Learning/Project 2/'\n",
        "# data_dir = \"data/\"\n",
        "\n",
        "\n",
        "## Mount Google drive\n",
        "from google.colab import drive\n",
        "drive.mount('/content/drive', force_remount=True)\n",
        "data_dir = '/content/drive/MyDrive/Colab Notebooks/Deep Learning/Project 2/data/'\n",
        "\n",
        "\n",
        "import os\n",
        "print(os.getcwd())"
      ],
      "metadata": {
        "colab": {
          "base_uri": "https://localhost:8080/"
        },
        "id": "z45cpkBIsMQ-",
        "outputId": "a6238ea3-e82b-41c5-9349-304e57495422"
      },
      "execution_count": 300,
      "outputs": [
        {
          "output_type": "stream",
          "name": "stdout",
          "text": [
            "Num GPUs Available:  0\n",
            "Mounted at /content/drive\n",
            "/content\n"
          ]
        }
      ]
    },
    {
      "cell_type": "markdown",
      "source": [
        "# Data Preprocessing"
      ],
      "metadata": {
        "id": "CrrDoReswut8"
      }
    },
    {
      "cell_type": "code",
      "source": [
        "#store a list of dataframes representing the data from the csv files we read in\n",
        "#after reading in all of the csv files as dataframes, iterate through them, cleaning up the data and normalizing the inputs\n",
        "\n",
        "\n",
        "#Should we normalize on a dataframe level or a dataset level?\n",
        "\n",
        "\n",
        "data = []\n",
        "\n",
        "\n",
        "#use the os library to iterate through all files in the current path\n",
        "for (root,dirs,files) in os.walk(data_dir, topdown=True):\n",
        "  #open each CSV file, we don't want to open any other type of file\n",
        "  for f in files:\n",
        "    if f.endswith(\".csv\"):\n",
        "      with open(os.path.join(root, f), mode ='r') as csvFile:\n",
        "\n",
        "        #read in the csv file\n",
        "        csvData = csv.reader(csvFile)\n",
        "\n",
        "        #store the data temporarily before we turn it into a pandas dataframe\n",
        "        temp = []\n",
        "\n",
        "\n",
        "        #check if each row is valid\n",
        "        #one way to tell if the data is invalid is if the label is NOT [0, 1, 2]. This means there was something wrong with one of the sensors at the time of capture\n",
        "        #another way is to check if the heart rate, respiratory rate, or o2 level is too low or too high\n",
        "        #for heart Rate, we want a range of 40 - 200\n",
        "        #for Respiratory Rate, we want a range of 15 - 90\n",
        "        #for o2 level, we want a rate of 80 - 100\n",
        "\n",
        "        for row in csvData:\n",
        "          try:\n",
        "            if row[4] in \"012\" and (int(row[1]) >= 40 and int(row[1]) <= 200) and (int(row[2]) >= 15 and int(row[2]) <= 90) and (int(row[3]) >= 80 and int(row[3]) <= 100):   #data is valid, so add it to the main csv\n",
        "              #row[0] just stores the row # in the csv file, so it is not needed in the training dataset\n",
        "              temp.append([int(row[1]), int(row[2]), int(row[3]), int(row[4])])\n",
        "\n",
        "          #Catches errors that occur when an element cannot be parsed into an integer. In this case the row is invalid so we can skip it\n",
        "          except ValueError:\n",
        "            continue\n",
        "\n",
        "        #if this valid and cleaned sequence is NOT empty, add it to our dataset\n",
        "        if len(temp) > 0:\n",
        "          df = pd.DataFrame(temp, columns = ['Heart Rate', 'Respiratory Rate', 'O2 Level', 'Label'])\n",
        "          data.append(df)\n",
        "\n",
        "print(len(data))"
      ],
      "metadata": {
        "colab": {
          "base_uri": "https://localhost:8080/"
        },
        "id": "n0brwvTJ5rkZ",
        "outputId": "3b63ccb2-baed-4dbe-b26c-890c8a85ac39"
      },
      "execution_count": 301,
      "outputs": [
        {
          "output_type": "stream",
          "name": "stdout",
          "text": [
            "487\n"
          ]
        }
      ]
    },
    {
      "cell_type": "code",
      "source": [
        "#count sequence lengths and how often they appear\n",
        "freqMap = {}\n",
        "for d in data:\n",
        "  if d.shape not in freqMap.keys():\n",
        "    freqMap[d.shape] = 1\n",
        "\n",
        "  else:\n",
        "    freqMap[d.shape] += 1\n",
        "\n",
        "for key, value in freqMap.items():\n",
        "    print(f'{key} -> {value}')\n",
        "\n",
        "\n",
        "#split data into training/validation sets using an 90/10 split\n",
        "data = np.asarray(data, dtype=\"object\")\n",
        "np.random.shuffle(data)\n",
        "\n",
        "trainData, valData = np.split(data, [int(0.90*len(data))])\n",
        "\n",
        "print(len(trainData), len(valData))\n",
        "\n",
        "#remove the labels from the trainingData and validation data, also storing them as a list\n",
        "#we don't need the entire column of labels, just the first rows label\n",
        "trainLabels = []\n",
        "valLabels = []\n",
        "\n",
        "for df in trainData:\n",
        "  label = df['Label'].iloc[0]    #get the first rows label, and use it for this whole sequence\n",
        "  df.drop('Label', axis=1, inplace=True)\n",
        "  trainLabels.append(label)\n",
        "\n",
        "for df in valData:\n",
        "  label = df['Label'].iloc[0]    #get the first rows label, and use it for this whole sequence\n",
        "  df.drop('Label', axis=1, inplace=True)\n",
        "  valLabels.append(label)\n",
        "\n",
        "trainLabels = np.asarray(trainLabels).astype('int32')\n",
        "valLabels = np.asarray(valLabels).astype('int32')\n",
        "print(trainData.shape, len(trainLabels))\n",
        "print(valData.shape, len(valLabels))\n",
        "\n",
        "trainLabelMap = {}\n",
        "for label in trainLabels:\n",
        "  if label not in trainLabelMap.keys():\n",
        "    trainLabelMap[label] = 1\n",
        "  else:\n",
        "    trainLabelMap[label] += 1\n",
        "\n",
        "\n",
        "valLabelMap = {}\n",
        "for label in valLabels:\n",
        "  if label not in valLabelMap.keys():\n",
        "    valLabelMap[label] = 1\n",
        "  else:\n",
        "    valLabelMap[label] += 1\n",
        "\n",
        "print(trainLabelMap)\n",
        "print(valLabelMap)"
      ],
      "metadata": {
        "id": "4Xy6b8Q6LoY3",
        "outputId": "8390de89-8f07-40ae-ee75-938030a23f79",
        "colab": {
          "base_uri": "https://localhost:8080/"
        }
      },
      "execution_count": 302,
      "outputs": [
        {
          "output_type": "stream",
          "name": "stdout",
          "text": [
            "(31, 4) -> 381\n",
            "(30, 4) -> 31\n",
            "(14, 4) -> 2\n",
            "(29, 4) -> 21\n",
            "(5, 4) -> 1\n",
            "(11, 4) -> 1\n",
            "(21, 4) -> 4\n",
            "(4, 4) -> 1\n",
            "(7, 4) -> 1\n",
            "(27, 4) -> 10\n",
            "(28, 4) -> 15\n",
            "(25, 4) -> 4\n",
            "(26, 4) -> 6\n",
            "(17, 4) -> 2\n",
            "(22, 4) -> 2\n",
            "(24, 4) -> 2\n",
            "(23, 4) -> 2\n",
            "(15, 4) -> 1\n",
            "438 49\n",
            "(438,) 438\n",
            "(49,) 49\n",
            "{0: 247, 1: 163, 2: 28}\n",
            "{0: 31, 1: 16, 2: 2}\n"
          ]
        }
      ]
    },
    {
      "cell_type": "code",
      "source": [
        "#normalize data using only the training set\n",
        "#save the values, then iterate through the training and validation dataset and use min-max normalization\n",
        "#df[column] = (df[column] - df[column].min()) / (df[column].max() - df[column].min())\n",
        "\n",
        "#[[Heart Rate Min, Heart Rate Max], [Respiratory Rate Min, Respiratory Rate Max], [O2 Level Min, O2 Level Max]]\n",
        "\n",
        "normValues = [[40, 200], [15, 90], [80, 100]]   #from data cleaning\n",
        "\n",
        "print(normValues)\n",
        "\n",
        "\n",
        "\n",
        "#normalizing the data:\n",
        "for df in trainData:\n",
        "  df['Heart Rate'] = (df['Heart Rate'] - normValues[0][0]) / (normValues[0][1] - normValues[0][0])\n",
        "  df['Respiratory Rate'] = (df['Respiratory Rate'] - normValues[1][0]) / (normValues[1][1] - normValues[1][0])\n",
        "  df['O2 Level'] = (df['O2 Level'] - normValues[2][0]) / (normValues[2][1] - normValues[2][0])\n",
        "\n",
        "for df in valData:\n",
        "  df['Heart Rate'] = (df['Heart Rate'] - normValues[0][0]) / (normValues[0][1] - normValues[0][0])\n",
        "  df['Respiratory Rate'] = (df['Respiratory Rate'] - normValues[1][0]) / (normValues[1][1] - normValues[1][0])\n",
        "  df['O2 Level'] = (df['O2 Level'] - normValues[2][0]) / (normValues[2][1] - normValues[2][0])"
      ],
      "metadata": {
        "id": "FQgBFE7onqWI",
        "colab": {
          "base_uri": "https://localhost:8080/"
        },
        "outputId": "88bef07c-62a6-4add-890b-1ba2726f7113"
      },
      "execution_count": 303,
      "outputs": [
        {
          "output_type": "stream",
          "name": "stdout",
          "text": [
            "[[40, 200], [15, 90], [80, 100]]\n"
          ]
        }
      ]
    },
    {
      "cell_type": "code",
      "source": [
        "#Data Augmentation\n",
        "#randomly select sequences from the training dataset by picking random indices (to also save the correct labels)\n",
        "#remove some random amout of entries from the end of these sequences, and save them as new ones\n",
        "\n",
        "import random\n",
        "\n",
        "print(trainData.shape, len(trainLabels))\n",
        "\n",
        "#using a 50% chance to augment a sequence\n",
        "aug_idx = []\n",
        "aug_train_data = []\n",
        "aug_labels = []\n",
        "\n",
        "for i in range(len(trainData)):\n",
        "  if random.random() >= 0.50:\n",
        "    aug_idx.append(i)\n",
        "\n",
        "print(len(aug_idx))\n",
        "print(aug_idx)\n",
        "\n",
        "#now we have a list of indices we want to augment\n",
        "\n",
        "for idx in aug_idx:\n",
        "\n",
        "  #copy seq we want to augment and its label\n",
        "  aug = trainData[idx]\n",
        "  label = trainLabels[idx]\n",
        "\n",
        "  #randomly drop between 1 element to 50% of elements from the end of this sequence, then save it as a new sequence\n",
        "  drop = int(random.randint(1, int(aug.shape[0] * 0.50)))\n",
        "  aug = df.drop(df.tail(drop).index)\n",
        "\n",
        "  if aug.shape[0] > 31:\n",
        "    print(\"ERROR: \", aug.shape)\n",
        "\n",
        "  aug_train_data.append(aug)\n",
        "  aug_labels.append(label)\n",
        "\n",
        "print(len(aug_train_data), len(aug_labels))\n",
        "\n",
        "#now add the augmented data and labels to the original lists\n",
        "\n",
        "#convert original data/label np arrays back to python lists\n",
        "trainData = trainData.tolist()\n",
        "trainLabels = trainLabels.tolist()\n",
        "\n",
        "#add our augmented data to the end of these lists\n",
        "trainData.extend(aug_train_data)\n",
        "trainLabels.extend(aug_labels)\n",
        "\n",
        "#convert the arrays back to np arrays\n",
        "trainData = np.asarray(trainData, dtype=\"object\")\n",
        "trainLabels = np.array(trainLabels)\n",
        "\n",
        "print(trainData.shape, len(trainLabels))"
      ],
      "metadata": {
        "colab": {
          "base_uri": "https://localhost:8080/"
        },
        "id": "wEDSoHiv2gPX",
        "outputId": "775bfd44-92da-4328-dd78-f18010871e6b"
      },
      "execution_count": 304,
      "outputs": [
        {
          "output_type": "stream",
          "name": "stdout",
          "text": [
            "(438,) 438\n",
            "217\n",
            "[4, 5, 6, 7, 8, 9, 10, 11, 14, 18, 19, 20, 23, 24, 25, 26, 31, 34, 35, 36, 39, 40, 43, 45, 47, 48, 49, 50, 51, 52, 53, 54, 55, 57, 58, 60, 61, 63, 66, 69, 72, 75, 76, 78, 80, 83, 84, 85, 86, 88, 89, 91, 94, 95, 97, 100, 107, 112, 113, 116, 117, 119, 121, 122, 124, 125, 127, 131, 132, 133, 134, 135, 138, 139, 144, 145, 146, 149, 150, 153, 154, 158, 159, 162, 164, 166, 167, 169, 170, 172, 174, 175, 181, 183, 185, 186, 187, 188, 189, 190, 193, 194, 197, 198, 200, 201, 205, 206, 207, 208, 209, 213, 218, 219, 224, 229, 231, 232, 235, 236, 237, 239, 240, 243, 247, 249, 250, 252, 253, 256, 257, 260, 261, 266, 270, 271, 272, 273, 275, 276, 277, 278, 279, 283, 285, 286, 287, 288, 291, 292, 293, 294, 296, 297, 298, 299, 304, 305, 308, 310, 311, 316, 319, 322, 323, 329, 330, 337, 338, 339, 341, 343, 345, 348, 349, 353, 354, 355, 357, 358, 359, 360, 362, 363, 364, 365, 368, 370, 372, 374, 375, 377, 382, 384, 385, 392, 395, 396, 399, 403, 405, 406, 410, 412, 414, 417, 418, 419, 424, 426, 427, 430, 432, 433, 434, 436, 437]\n",
            "217 217\n",
            "(655,) 655\n"
          ]
        }
      ]
    },
    {
      "cell_type": "code",
      "source": [
        "#Data padding\n",
        "#inputs to GRU cells are in the form of [batch, timesteps, feature]\n",
        "#our sequences have multiple lengths, so we need to pad this data to get all of the sequences to have a length of 31 (indices 0-30)\n",
        "#we can pad the data by adding rows of 0's, and use a masking layer to ignore them when training the model\n",
        "\n",
        "for i in range(len(trainData)):\n",
        "  if trainData[i].shape[0] < 31:\n",
        "    padding = pd.DataFrame(0, index=np.arange(trainData[i].shape[0], 31), columns=trainData[i].columns)\n",
        "    trainData[i] = pd.concat([trainData[i], padding])\n",
        "\n",
        "for i in range(len(valData)):\n",
        "  if valData[i].shape[0] < 31:\n",
        "    padding = pd.DataFrame(0, index=np.arange(valData[i].shape[0], 31), columns=valData[i].columns)\n",
        "    valData[i] = pd.concat([valData[i], padding])"
      ],
      "metadata": {
        "id": "ypAB10mGl136"
      },
      "execution_count": 305,
      "outputs": []
    },
    {
      "cell_type": "code",
      "source": [
        "#convert dataframes into np arrays and make the whole dataset multidimensional instead of an array of dataframes for tensorflow to properly use\n",
        "trainData = np.array([np.array(val) for val in trainData])\n",
        "valData = np.array([np.array(val) for val in valData])"
      ],
      "metadata": {
        "id": "yQEEoXxWwW2O"
      },
      "execution_count": 306,
      "outputs": []
    },
    {
      "cell_type": "markdown",
      "source": [
        "# Model Setup"
      ],
      "metadata": {
        "id": "upaZTSH3w0qs"
      }
    },
    {
      "cell_type": "code",
      "source": [
        "#need to seed initialization\n",
        "seed = 8312001\n",
        "\n",
        "tf.keras.utils.set_random_seed(seed)"
      ],
      "metadata": {
        "id": "4HlHAADR50xW"
      },
      "execution_count": 307,
      "outputs": []
    },
    {
      "cell_type": "code",
      "source": [
        "#input is taken in the form of: [batch, timesteps, feature]\n",
        "\n",
        "input = tf.keras.layers.Input(shape=(31, 3))\n",
        "mask = tf.keras.layers.Masking(mask_value=0., input_shape=(31, 3)) (input)\n",
        "x = (tf.keras.layers.LSTM(32, return_sequences=True, kernel_regularizer = tf.keras.regularizers.l2(), recurrent_regularizer = tf.keras.regularizers.l2())) (mask)\n",
        "# x = (tf.keras.layers.LSTM(32, return_sequences=True, return_state=True, kernel_regularizer = tf.keras.regularizers.l2(), recurrent_regularizer = tf.keras.regularizers.l2())) (x)\n",
        "# x = (tf.keras.layers.LSTM(32, return_sequences=True, kernel_regularizer = tf.keras.regularizers.l2(), recurrent_regularizer = tf.keras.regularizers.l2())) (x)\n",
        "x = (tf.keras.layers.Flatten()) (x)\n",
        "x = (tf.keras.layers.Dense(64, activation='relu', kernel_regularizer = tf.keras.regularizers.l2())) (x)\n",
        "output = (tf.keras.layers.Dense(3)) (x)\n",
        "\n",
        "model = keras.Model(input, output, name=\"LSTM_Model\")"
      ],
      "metadata": {
        "id": "CClHL9t2w3kc"
      },
      "execution_count": 308,
      "outputs": []
    },
    {
      "cell_type": "code",
      "source": [
        "#Peephole LSTM Model\n",
        "#uses the tfa PeepholeLSTMCell, which is equivalent to the normal tf LSTMCell, but adds peephole connections\n",
        "#soon to be deprecated\n",
        "\n",
        "input = tf.keras.layers.Input(shape=(31, 3))\n",
        "mask = tf.keras.layers.Masking(mask_value=0., input_shape=(31, 3)) (input)\n",
        "\n",
        "Peep_LSTMCell = tfa.rnn.PeepholeLSTMCell(32, kernel_regularizer = tf.keras.regularizers.l2(), recurrent_regularizer = tf.keras.regularizers.l2())\n",
        "\n",
        "x = (tf.keras.layers.RNN(Peep_LSTMCell, return_sequences=True)) (mask)\n",
        "# x = (tf.keras.layers.RNN(Peep_LSTMCell, return_sequences=True)) (x)\n",
        "# x = (tf.keras.layers.RNN(Peep_LSTMCell, return_sequences=True, return_state=True)) (x)\n",
        "# x = (tf.keras.layers.RNN(Peep_LSTMCell, return_sequences=True)) (x)\n",
        "x = (tf.keras.layers.Flatten()) (x)\n",
        "x = (tf.keras.layers.Dense(64, activation='relu', kernel_regularizer = tf.keras.regularizers.l2())) (x)\n",
        "# x = (tf.keras.layers.Dropout(0.5)) (x)\n",
        "# x = (tf.keras.layers.Dense(64, activation='relu', kernel_regularizer = tf.keras.regularizers.l2())) (x)\n",
        "output = (tf.keras.layers.Dense(3)) (x)\n",
        "\n",
        "peep_model = keras.Model(input, output, name=\"Peephole_LSTM_Model\")\n"
      ],
      "metadata": {
        "id": "fQOBam913OUL",
        "colab": {
          "base_uri": "https://localhost:8080/"
        },
        "outputId": "906d4bca-1e48-4323-cf23-0250e9887fd5"
      },
      "execution_count": 309,
      "outputs": [
        {
          "output_type": "stream",
          "name": "stderr",
          "text": [
            "/usr/local/lib/python3.10/dist-packages/keras/src/initializers/initializers.py:120: UserWarning: The initializer GlorotUniform is unseeded and being called multiple times, which will return identical values each time (even if the initializer is unseeded). Please update your code to provide a seed to the initializer, or avoid using the same initializer instance more than once.\n",
            "  warnings.warn(\n"
          ]
        }
      ]
    },
    {
      "cell_type": "markdown",
      "source": [
        "# Model Training"
      ],
      "metadata": {
        "id": "G1Fi-MTs5vzo"
      }
    },
    {
      "cell_type": "code",
      "source": [
        "models = [model, peep_model]\n",
        "\n",
        "model = model"
      ],
      "metadata": {
        "id": "QMyJhVBy6BY8"
      },
      "execution_count": 310,
      "outputs": []
    },
    {
      "cell_type": "code",
      "source": [
        "#our learning rate scheduler. Will gradually shrink the learning rate as training progesses to find a better converging point.\n",
        "lr_schedule = tf.keras.optimizers.schedules.ExponentialDecay(\n",
        "    0.001,\n",
        "    decay_steps=100000,\n",
        "    decay_rate=0.96,\n",
        "    staircase=True)\n",
        "\n",
        "checkpoint_filepath = '/content/drive/MyDrive/Colab Notebooks/Deep Learning/Project 2/checkpoint'\n",
        "model_checkpoint_callback = tf.keras.callbacks.ModelCheckpoint(\n",
        "    filepath=checkpoint_filepath,\n",
        "    save_weights_only=True,\n",
        "    monitor='val_accuracy',\n",
        "    mode='max',\n",
        "    save_best_only=True)\n",
        "\n",
        "#early stopping callback. stop if the loss doesn't improve for 7 epochs in a row\n",
        "early_stopping_callback = tf.keras.callbacks.EarlyStopping(\n",
        "    monitor='loss',\n",
        "    patience=5,\n",
        "    start_from_epoch=20)\n",
        "\n",
        "\n",
        "opt = tf.keras.optimizers.Adam(learning_rate=lr_schedule)\n",
        "loss_fn = tf.keras.losses.SparseCategoricalCrossentropy(from_logits=True)\n",
        "model.compile(optimizer=opt,\n",
        "              loss=loss_fn,\n",
        "              metrics=['accuracy'])\n",
        "model.summary()"
      ],
      "metadata": {
        "id": "X0_nUOY_50Dw",
        "colab": {
          "base_uri": "https://localhost:8080/"
        },
        "outputId": "f81b6260-ebbd-4e0f-fce9-c9014fed4c87"
      },
      "execution_count": 311,
      "outputs": [
        {
          "output_type": "stream",
          "name": "stdout",
          "text": [
            "Model: \"LSTM_Model\"\n",
            "_________________________________________________________________\n",
            " Layer (type)                Output Shape              Param #   \n",
            "=================================================================\n",
            " input_33 (InputLayer)       [(None, 31, 3)]           0         \n",
            "                                                                 \n",
            " masking_32 (Masking)        (None, 31, 3)             0         \n",
            "                                                                 \n",
            " lstm_25 (LSTM)              (None, 31, 32)            4608      \n",
            "                                                                 \n",
            " flatten_32 (Flatten)        (None, 992)               0         \n",
            "                                                                 \n",
            " dense_65 (Dense)            (None, 64)                63552     \n",
            "                                                                 \n",
            " dense_66 (Dense)            (None, 3)                 195       \n",
            "                                                                 \n",
            "=================================================================\n",
            "Total params: 68355 (267.01 KB)\n",
            "Trainable params: 68355 (267.01 KB)\n",
            "Non-trainable params: 0 (0.00 Byte)\n",
            "_________________________________________________________________\n"
          ]
        }
      ]
    },
    {
      "cell_type": "code",
      "source": [
        "#train the model\n",
        "#Some hyperparameter setup\n",
        "batch_size = 256           #set batch size to 256\n",
        "epochs = 100               #set num epochs to 100\n",
        "\n",
        "history = model.fit(\n",
        "    trainData,\n",
        "    trainLabels,\n",
        "    validation_data=(valData, valLabels),\n",
        "    batch_size=batch_size,\n",
        "    epochs=epochs,\n",
        "    callbacks=[model_checkpoint_callback]\n",
        ")"
      ],
      "metadata": {
        "id": "zlLqB23znTXc",
        "colab": {
          "base_uri": "https://localhost:8080/"
        },
        "outputId": "0efdf742-1ec3-4283-b091-aae1dd1d71c2"
      },
      "execution_count": 312,
      "outputs": [
        {
          "output_type": "stream",
          "name": "stdout",
          "text": [
            "Epoch 1/100\n",
            "3/3 [==============================] - 16s 906ms/step - loss: 2.5719 - accuracy: 0.5206 - val_loss: 2.3030 - val_accuracy: 0.6327\n",
            "Epoch 2/100\n",
            "3/3 [==============================] - 0s 66ms/step - loss: 2.3341 - accuracy: 0.5603 - val_loss: 2.1979 - val_accuracy: 0.6327\n",
            "Epoch 3/100\n",
            "3/3 [==============================] - 0s 116ms/step - loss: 2.2389 - accuracy: 0.5603 - val_loss: 2.0973 - val_accuracy: 0.6531\n",
            "Epoch 4/100\n",
            "3/3 [==============================] - 0s 63ms/step - loss: 2.1375 - accuracy: 0.5573 - val_loss: 1.9933 - val_accuracy: 0.6327\n",
            "Epoch 5/100\n",
            "3/3 [==============================] - 0s 61ms/step - loss: 2.0352 - accuracy: 0.5511 - val_loss: 1.8918 - val_accuracy: 0.6327\n",
            "Epoch 6/100\n",
            "3/3 [==============================] - 0s 69ms/step - loss: 1.9400 - accuracy: 0.5527 - val_loss: 1.8029 - val_accuracy: 0.6327\n",
            "Epoch 7/100\n",
            "3/3 [==============================] - 0s 70ms/step - loss: 1.8519 - accuracy: 0.5573 - val_loss: 1.7322 - val_accuracy: 0.6531\n",
            "Epoch 8/100\n",
            "3/3 [==============================] - 0s 67ms/step - loss: 1.7776 - accuracy: 0.5481 - val_loss: 1.6553 - val_accuracy: 0.6531\n",
            "Epoch 9/100\n",
            "3/3 [==============================] - 0s 105ms/step - loss: 1.7027 - accuracy: 0.5603 - val_loss: 1.5727 - val_accuracy: 0.6735\n",
            "Epoch 10/100\n",
            "3/3 [==============================] - 0s 68ms/step - loss: 1.6348 - accuracy: 0.5527 - val_loss: 1.5097 - val_accuracy: 0.6531\n",
            "Epoch 11/100\n",
            "3/3 [==============================] - 0s 99ms/step - loss: 1.5711 - accuracy: 0.5649 - val_loss: 1.4558 - val_accuracy: 0.6939\n",
            "Epoch 12/100\n",
            "3/3 [==============================] - 0s 61ms/step - loss: 1.5162 - accuracy: 0.5710 - val_loss: 1.3946 - val_accuracy: 0.6735\n",
            "Epoch 13/100\n",
            "3/3 [==============================] - 0s 62ms/step - loss: 1.4628 - accuracy: 0.5695 - val_loss: 1.3384 - val_accuracy: 0.6735\n",
            "Epoch 14/100\n",
            "3/3 [==============================] - 0s 61ms/step - loss: 1.4166 - accuracy: 0.5557 - val_loss: 1.2919 - val_accuracy: 0.6735\n",
            "Epoch 15/100\n",
            "3/3 [==============================] - 0s 60ms/step - loss: 1.3703 - accuracy: 0.5725 - val_loss: 1.2604 - val_accuracy: 0.6939\n",
            "Epoch 16/100\n",
            "3/3 [==============================] - 0s 68ms/step - loss: 1.3316 - accuracy: 0.5328 - val_loss: 1.2132 - val_accuracy: 0.6735\n",
            "Epoch 17/100\n",
            "3/3 [==============================] - 0s 61ms/step - loss: 1.3015 - accuracy: 0.5618 - val_loss: 1.1759 - val_accuracy: 0.6531\n",
            "Epoch 18/100\n",
            "3/3 [==============================] - 0s 63ms/step - loss: 1.2640 - accuracy: 0.5557 - val_loss: 1.1609 - val_accuracy: 0.6735\n",
            "Epoch 19/100\n",
            "3/3 [==============================] - 0s 65ms/step - loss: 1.2325 - accuracy: 0.5573 - val_loss: 1.1210 - val_accuracy: 0.6939\n",
            "Epoch 20/100\n",
            "3/3 [==============================] - 0s 60ms/step - loss: 1.2012 - accuracy: 0.5832 - val_loss: 1.0921 - val_accuracy: 0.6531\n",
            "Epoch 21/100\n",
            "3/3 [==============================] - 0s 60ms/step - loss: 1.1789 - accuracy: 0.5771 - val_loss: 1.0726 - val_accuracy: 0.6735\n",
            "Epoch 22/100\n",
            "3/3 [==============================] - 0s 68ms/step - loss: 1.1541 - accuracy: 0.5847 - val_loss: 1.0535 - val_accuracy: 0.6735\n",
            "Epoch 23/100\n",
            "3/3 [==============================] - 0s 61ms/step - loss: 1.1324 - accuracy: 0.5649 - val_loss: 1.0368 - val_accuracy: 0.6735\n",
            "Epoch 24/100\n",
            "3/3 [==============================] - 0s 65ms/step - loss: 1.1136 - accuracy: 0.5740 - val_loss: 1.0080 - val_accuracy: 0.6735\n",
            "Epoch 25/100\n",
            "3/3 [==============================] - 0s 67ms/step - loss: 1.0969 - accuracy: 0.5740 - val_loss: 0.9944 - val_accuracy: 0.6735\n",
            "Epoch 26/100\n",
            "3/3 [==============================] - 0s 69ms/step - loss: 1.0760 - accuracy: 0.5939 - val_loss: 0.9760 - val_accuracy: 0.6735\n",
            "Epoch 27/100\n",
            "3/3 [==============================] - 0s 72ms/step - loss: 1.0629 - accuracy: 0.5817 - val_loss: 0.9653 - val_accuracy: 0.6531\n",
            "Epoch 28/100\n",
            "3/3 [==============================] - 0s 68ms/step - loss: 1.0463 - accuracy: 0.5908 - val_loss: 0.9589 - val_accuracy: 0.6735\n",
            "Epoch 29/100\n",
            "3/3 [==============================] - 0s 65ms/step - loss: 1.0366 - accuracy: 0.5664 - val_loss: 0.9349 - val_accuracy: 0.6735\n",
            "Epoch 30/100\n",
            "3/3 [==============================] - 0s 61ms/step - loss: 1.0222 - accuracy: 0.5939 - val_loss: 0.9251 - val_accuracy: 0.6531\n",
            "Epoch 31/100\n",
            "3/3 [==============================] - 0s 66ms/step - loss: 1.0101 - accuracy: 0.5817 - val_loss: 0.9165 - val_accuracy: 0.6735\n",
            "Epoch 32/100\n",
            "3/3 [==============================] - 0s 61ms/step - loss: 0.9992 - accuracy: 0.5924 - val_loss: 0.9025 - val_accuracy: 0.6735\n",
            "Epoch 33/100\n",
            "3/3 [==============================] - 0s 73ms/step - loss: 0.9917 - accuracy: 0.5878 - val_loss: 0.8977 - val_accuracy: 0.6531\n",
            "Epoch 34/100\n",
            "3/3 [==============================] - 0s 67ms/step - loss: 0.9801 - accuracy: 0.5740 - val_loss: 0.8854 - val_accuracy: 0.6735\n",
            "Epoch 35/100\n",
            "3/3 [==============================] - 0s 60ms/step - loss: 0.9715 - accuracy: 0.5924 - val_loss: 0.8784 - val_accuracy: 0.6735\n",
            "Epoch 36/100\n",
            "3/3 [==============================] - 0s 60ms/step - loss: 0.9632 - accuracy: 0.5954 - val_loss: 0.8721 - val_accuracy: 0.6735\n",
            "Epoch 37/100\n",
            "3/3 [==============================] - 0s 60ms/step - loss: 0.9560 - accuracy: 0.5634 - val_loss: 0.8634 - val_accuracy: 0.6531\n",
            "Epoch 38/100\n",
            "3/3 [==============================] - 0s 66ms/step - loss: 0.9475 - accuracy: 0.6000 - val_loss: 0.8553 - val_accuracy: 0.6735\n",
            "Epoch 39/100\n",
            "3/3 [==============================] - 0s 63ms/step - loss: 0.9411 - accuracy: 0.5985 - val_loss: 0.8565 - val_accuracy: 0.6735\n",
            "Epoch 40/100\n",
            "3/3 [==============================] - 0s 60ms/step - loss: 0.9375 - accuracy: 0.5664 - val_loss: 0.8454 - val_accuracy: 0.6531\n",
            "Epoch 41/100\n",
            "3/3 [==============================] - 0s 66ms/step - loss: 0.9288 - accuracy: 0.5878 - val_loss: 0.8354 - val_accuracy: 0.6735\n",
            "Epoch 42/100\n",
            "3/3 [==============================] - 0s 71ms/step - loss: 0.9294 - accuracy: 0.5634 - val_loss: 0.8361 - val_accuracy: 0.6939\n",
            "Epoch 43/100\n",
            "3/3 [==============================] - 0s 96ms/step - loss: 0.9175 - accuracy: 0.5679 - val_loss: 0.8247 - val_accuracy: 0.6735\n",
            "Epoch 44/100\n",
            "3/3 [==============================] - 0s 102ms/step - loss: 0.9159 - accuracy: 0.5908 - val_loss: 0.8205 - val_accuracy: 0.6735\n",
            "Epoch 45/100\n",
            "3/3 [==============================] - 0s 99ms/step - loss: 0.9151 - accuracy: 0.5695 - val_loss: 0.8262 - val_accuracy: 0.6735\n",
            "Epoch 46/100\n",
            "3/3 [==============================] - 0s 93ms/step - loss: 0.9094 - accuracy: 0.5679 - val_loss: 0.8108 - val_accuracy: 0.6735\n",
            "Epoch 47/100\n",
            "3/3 [==============================] - 0s 106ms/step - loss: 0.8996 - accuracy: 0.5893 - val_loss: 0.8164 - val_accuracy: 0.6939\n",
            "Epoch 48/100\n",
            "3/3 [==============================] - 0s 99ms/step - loss: 0.8981 - accuracy: 0.5695 - val_loss: 0.8037 - val_accuracy: 0.6735\n",
            "Epoch 49/100\n",
            "3/3 [==============================] - 0s 104ms/step - loss: 0.8969 - accuracy: 0.5969 - val_loss: 0.8010 - val_accuracy: 0.6735\n",
            "Epoch 50/100\n",
            "3/3 [==============================] - 0s 101ms/step - loss: 0.8941 - accuracy: 0.5893 - val_loss: 0.8082 - val_accuracy: 0.6735\n",
            "Epoch 51/100\n",
            "3/3 [==============================] - 0s 106ms/step - loss: 0.8859 - accuracy: 0.5710 - val_loss: 0.7934 - val_accuracy: 0.6939\n",
            "Epoch 52/100\n",
            "3/3 [==============================] - 0s 95ms/step - loss: 0.8851 - accuracy: 0.5969 - val_loss: 0.7930 - val_accuracy: 0.6939\n",
            "Epoch 53/100\n",
            "3/3 [==============================] - 0s 99ms/step - loss: 0.8795 - accuracy: 0.5725 - val_loss: 0.7870 - val_accuracy: 0.6735\n",
            "Epoch 54/100\n",
            "3/3 [==============================] - 0s 97ms/step - loss: 0.8756 - accuracy: 0.5817 - val_loss: 0.7841 - val_accuracy: 0.6735\n",
            "Epoch 55/100\n",
            "3/3 [==============================] - 0s 95ms/step - loss: 0.8726 - accuracy: 0.6076 - val_loss: 0.7866 - val_accuracy: 0.6735\n",
            "Epoch 56/100\n",
            "3/3 [==============================] - 0s 104ms/step - loss: 0.8698 - accuracy: 0.5679 - val_loss: 0.7821 - val_accuracy: 0.6735\n",
            "Epoch 57/100\n",
            "3/3 [==============================] - 0s 100ms/step - loss: 0.8664 - accuracy: 0.5710 - val_loss: 0.7765 - val_accuracy: 0.6735\n",
            "Epoch 58/100\n",
            "3/3 [==============================] - 0s 87ms/step - loss: 0.8636 - accuracy: 0.5847 - val_loss: 0.7728 - val_accuracy: 0.6531\n",
            "Epoch 59/100\n",
            "3/3 [==============================] - 0s 67ms/step - loss: 0.8620 - accuracy: 0.6137 - val_loss: 0.7746 - val_accuracy: 0.6939\n",
            "Epoch 60/100\n",
            "3/3 [==============================] - 0s 63ms/step - loss: 0.8597 - accuracy: 0.5740 - val_loss: 0.7712 - val_accuracy: 0.6735\n",
            "Epoch 61/100\n",
            "3/3 [==============================] - 0s 64ms/step - loss: 0.8578 - accuracy: 0.6137 - val_loss: 0.7678 - val_accuracy: 0.6939\n",
            "Epoch 62/100\n",
            "3/3 [==============================] - 0s 60ms/step - loss: 0.8544 - accuracy: 0.5878 - val_loss: 0.7689 - val_accuracy: 0.6939\n",
            "Epoch 63/100\n",
            "3/3 [==============================] - 0s 66ms/step - loss: 0.8527 - accuracy: 0.5863 - val_loss: 0.7618 - val_accuracy: 0.6939\n",
            "Epoch 64/100\n",
            "3/3 [==============================] - 0s 78ms/step - loss: 0.8519 - accuracy: 0.6000 - val_loss: 0.7650 - val_accuracy: 0.6939\n",
            "Epoch 65/100\n",
            "3/3 [==============================] - 0s 61ms/step - loss: 0.8534 - accuracy: 0.5847 - val_loss: 0.7659 - val_accuracy: 0.6735\n",
            "Epoch 66/100\n",
            "3/3 [==============================] - 0s 67ms/step - loss: 0.8485 - accuracy: 0.5802 - val_loss: 0.7618 - val_accuracy: 0.6939\n",
            "Epoch 67/100\n",
            "3/3 [==============================] - 0s 64ms/step - loss: 0.8456 - accuracy: 0.5939 - val_loss: 0.7548 - val_accuracy: 0.6939\n",
            "Epoch 68/100\n",
            "3/3 [==============================] - 0s 67ms/step - loss: 0.8427 - accuracy: 0.6153 - val_loss: 0.7605 - val_accuracy: 0.6939\n",
            "Epoch 69/100\n",
            "3/3 [==============================] - 0s 70ms/step - loss: 0.8433 - accuracy: 0.5786 - val_loss: 0.7501 - val_accuracy: 0.6939\n",
            "Epoch 70/100\n",
            "3/3 [==============================] - 0s 70ms/step - loss: 0.8453 - accuracy: 0.6107 - val_loss: 0.7524 - val_accuracy: 0.6939\n",
            "Epoch 71/100\n",
            "3/3 [==============================] - 0s 59ms/step - loss: 0.8374 - accuracy: 0.6015 - val_loss: 0.7609 - val_accuracy: 0.6939\n",
            "Epoch 72/100\n",
            "3/3 [==============================] - 0s 65ms/step - loss: 0.8377 - accuracy: 0.6031 - val_loss: 0.7476 - val_accuracy: 0.6939\n",
            "Epoch 73/100\n",
            "3/3 [==============================] - 0s 104ms/step - loss: 0.8365 - accuracy: 0.6214 - val_loss: 0.7458 - val_accuracy: 0.7143\n",
            "Epoch 74/100\n",
            "3/3 [==============================] - 0s 69ms/step - loss: 0.8331 - accuracy: 0.5695 - val_loss: 0.7463 - val_accuracy: 0.7143\n",
            "Epoch 75/100\n",
            "3/3 [==============================] - 0s 75ms/step - loss: 0.8318 - accuracy: 0.5771 - val_loss: 0.7420 - val_accuracy: 0.6939\n",
            "Epoch 76/100\n",
            "3/3 [==============================] - 0s 66ms/step - loss: 0.8342 - accuracy: 0.6198 - val_loss: 0.7480 - val_accuracy: 0.7143\n",
            "Epoch 77/100\n",
            "3/3 [==============================] - 0s 60ms/step - loss: 0.8317 - accuracy: 0.5695 - val_loss: 0.7497 - val_accuracy: 0.7143\n",
            "Epoch 78/100\n",
            "3/3 [==============================] - 0s 59ms/step - loss: 0.8307 - accuracy: 0.6015 - val_loss: 0.7418 - val_accuracy: 0.6735\n",
            "Epoch 79/100\n",
            "3/3 [==============================] - 0s 66ms/step - loss: 0.8248 - accuracy: 0.6244 - val_loss: 0.7645 - val_accuracy: 0.6531\n",
            "Epoch 80/100\n",
            "3/3 [==============================] - 0s 67ms/step - loss: 0.8424 - accuracy: 0.5863 - val_loss: 0.7393 - val_accuracy: 0.6735\n",
            "Epoch 81/100\n",
            "3/3 [==============================] - 0s 64ms/step - loss: 0.8438 - accuracy: 0.5939 - val_loss: 0.7405 - val_accuracy: 0.6735\n",
            "Epoch 82/100\n",
            "3/3 [==============================] - 0s 62ms/step - loss: 0.8354 - accuracy: 0.6061 - val_loss: 0.7618 - val_accuracy: 0.6735\n",
            "Epoch 83/100\n",
            "3/3 [==============================] - 0s 60ms/step - loss: 0.8259 - accuracy: 0.6244 - val_loss: 0.7387 - val_accuracy: 0.6939\n",
            "Epoch 84/100\n",
            "3/3 [==============================] - 0s 102ms/step - loss: 0.8356 - accuracy: 0.6076 - val_loss: 0.7400 - val_accuracy: 0.7347\n",
            "Epoch 85/100\n",
            "3/3 [==============================] - 0s 66ms/step - loss: 0.8277 - accuracy: 0.5832 - val_loss: 0.7450 - val_accuracy: 0.7347\n",
            "Epoch 86/100\n",
            "3/3 [==============================] - 0s 66ms/step - loss: 0.8216 - accuracy: 0.6107 - val_loss: 0.7386 - val_accuracy: 0.6735\n",
            "Epoch 87/100\n",
            "3/3 [==============================] - 0s 61ms/step - loss: 0.8232 - accuracy: 0.6076 - val_loss: 0.7479 - val_accuracy: 0.6939\n",
            "Epoch 88/100\n",
            "3/3 [==============================] - 0s 61ms/step - loss: 0.8218 - accuracy: 0.5771 - val_loss: 0.7371 - val_accuracy: 0.6939\n",
            "Epoch 89/100\n",
            "3/3 [==============================] - 0s 62ms/step - loss: 0.8166 - accuracy: 0.5924 - val_loss: 0.7377 - val_accuracy: 0.6939\n",
            "Epoch 90/100\n",
            "3/3 [==============================] - 0s 64ms/step - loss: 0.8150 - accuracy: 0.6137 - val_loss: 0.7377 - val_accuracy: 0.6735\n",
            "Epoch 91/100\n",
            "3/3 [==============================] - 0s 62ms/step - loss: 0.8171 - accuracy: 0.6244 - val_loss: 0.7421 - val_accuracy: 0.6939\n",
            "Epoch 92/100\n",
            "3/3 [==============================] - 0s 62ms/step - loss: 0.8157 - accuracy: 0.5832 - val_loss: 0.7429 - val_accuracy: 0.6939\n",
            "Epoch 93/100\n",
            "3/3 [==============================] - 0s 60ms/step - loss: 0.8129 - accuracy: 0.5969 - val_loss: 0.7365 - val_accuracy: 0.6735\n",
            "Epoch 94/100\n",
            "3/3 [==============================] - 0s 71ms/step - loss: 0.8122 - accuracy: 0.6305 - val_loss: 0.7481 - val_accuracy: 0.6735\n",
            "Epoch 95/100\n",
            "3/3 [==============================] - 0s 67ms/step - loss: 0.8149 - accuracy: 0.5878 - val_loss: 0.7452 - val_accuracy: 0.6735\n",
            "Epoch 96/100\n",
            "3/3 [==============================] - 0s 62ms/step - loss: 0.8160 - accuracy: 0.6321 - val_loss: 0.7351 - val_accuracy: 0.6531\n",
            "Epoch 97/100\n",
            "3/3 [==============================] - 0s 68ms/step - loss: 0.8112 - accuracy: 0.5939 - val_loss: 0.7481 - val_accuracy: 0.6327\n",
            "Epoch 98/100\n",
            "3/3 [==============================] - 0s 61ms/step - loss: 0.8089 - accuracy: 0.6275 - val_loss: 0.7419 - val_accuracy: 0.6531\n",
            "Epoch 99/100\n",
            "3/3 [==============================] - 0s 58ms/step - loss: 0.8068 - accuracy: 0.6382 - val_loss: 0.7451 - val_accuracy: 0.6531\n",
            "Epoch 100/100\n",
            "3/3 [==============================] - 0s 68ms/step - loss: 0.8114 - accuracy: 0.5863 - val_loss: 0.7430 - val_accuracy: 0.6531\n"
          ]
        }
      ]
    },
    {
      "cell_type": "code",
      "source": [
        "acc = history.history['accuracy']\n",
        "val_acc = history.history['val_accuracy']\n",
        "\n",
        "loss = history.history['loss']\n",
        "val_loss = history.history['val_loss']\n",
        "\n",
        "epochs_range = range(min(epochs, len(acc)))\n",
        "\n",
        "plt.figure(figsize=(8, 8))\n",
        "plt.subplot(1, 2, 1)\n",
        "plt.plot(epochs_range, acc, label='Training Accuracy')\n",
        "plt.plot(epochs_range, val_acc, label='Validation Accuracy')\n",
        "plt.legend(loc='lower right')\n",
        "plt.title('Training and Validation Accuracy')\n",
        "\n",
        "plt.subplot(1, 2, 2)\n",
        "plt.plot(epochs_range, loss, label='Training Loss')\n",
        "plt.plot(epochs_range, val_loss, label='Validation Loss')\n",
        "plt.legend(loc='upper right')\n",
        "plt.title('Training and Validation Loss')\n",
        "plt.show()"
      ],
      "metadata": {
        "id": "bV0n6NC321Sh",
        "outputId": "44b0d828-26b6-456e-d776-cbb4a3c8fbd9",
        "colab": {
          "base_uri": "https://localhost:8080/",
          "height": 699
        }
      },
      "execution_count": 313,
      "outputs": [
        {
          "output_type": "display_data",
          "data": {
            "text/plain": [
              "<Figure size 800x800 with 2 Axes>"
            ],
            "image/png": "[encoded data removed]"
          },
          "metadata": {}
        }
      ]
    },
    {
      "cell_type": "code",
      "source": [
        "#load the best model using the callback\n",
        "model.load_weights(checkpoint_filepath)\n",
        "\n",
        "print(\"\\n\\nEvaluating Best Model\\n\")\n",
        "#evaluation the model on the validation data\n",
        "model.evaluate(valData, valLabels, verbose=2)\n",
        "\n",
        "\n",
        "#Best val acc so far: 0.816 w/ 0.75 test acc"
      ],
      "metadata": {
        "colab": {
          "base_uri": "https://localhost:8080/"
        },
        "id": "RXSNNOXVrb9I",
        "outputId": "be7cb6c7-8bfb-4898-dd92-375e064b2b30"
      },
      "execution_count": 314,
      "outputs": [
        {
          "output_type": "stream",
          "name": "stdout",
          "text": [
            "\n",
            "\n",
            "Evaluating Best Model\n",
            "\n",
            "2/2 - 0s - loss: 0.7400 - accuracy: 0.7347 - 68ms/epoch - 34ms/step\n"
          ]
        },
        {
          "output_type": "execute_result",
          "data": {
            "text/plain": [
              "[0.7400217056274414, 0.7346938848495483]"
            ]
          },
          "metadata": {},
          "execution_count": 314
        }
      ]
    },
    {
      "cell_type": "code",
      "source": [
        "#save the model\n",
        "model.save(\"/content/drive/MyDrive/Colab Notebooks/Deep Learning/Project 2/bestModel_LSTM.keras\")\n",
        "print(\"Saved Model\")"
      ],
      "metadata": {
        "id": "oQ4k7YiBHw6C",
        "outputId": "f8743841-5564-467a-c1f8-38a85c4e878a",
        "colab": {
          "base_uri": "https://localhost:8080/"
        }
      },
      "execution_count": null,
      "outputs": [
        {
          "output_type": "stream",
          "name": "stdout",
          "text": [
            "Saved Model\n"
          ]
        }
      ]
    },
    {
      "cell_type": "markdown",
      "source": [
        "# Testing Script"
      ],
      "metadata": {
        "id": "AVq8bgK550VC"
      }
    },
    {
      "cell_type": "code",
      "source": [
        "#import libraries\n",
        "import tensorflow as tf\n",
        "import numpy as np\n",
        "import pandas as pd\n",
        "import csv\n",
        "import os\n",
        "from matplotlib import pyplot as plt\n",
        "\n",
        "\n",
        "# ## Mount Google drive\n",
        "# from google.colab import drive\n",
        "# drive.mount('/content/drive', force_remount=True)\n",
        "# data_dir = '/content/drive/MyDrive/Colab Notebooks/Deep Learning/Project 2/'\n",
        "\n",
        "###############################################################################\n",
        "#Reading data and normalization\n",
        "\n",
        "#read test.csv, dropping the first column as it just holds the index of the rows, which we don't need\n",
        "testData = pd.read_csv(\"test.csv\", sep=',', usecols=[1, 2, 3, 4], names = ['Heart Rate', 'Respiratory Rate', 'O2 Level', 'Label'])\n",
        "\n",
        "\n",
        "#Normalize the test data using the normalization factors we found in the training data. Hard coded here\n",
        "normValues = [[40, 200], [15, 90], [80, 100]]   #from training\n",
        "testData['Heart Rate'] = (testData['Heart Rate'] - normValues[0][0]) / (normValues[0][1] - normValues[0][0])\n",
        "testData['Respiratory Rate'] = (testData['Respiratory Rate'] - normValues[1][0]) / (normValues[1][1] - normValues[1][0])\n",
        "testData['O2 Level'] = (testData['O2 Level'] - normValues[2][0]) / (normValues[2][1] - normValues[2][0])\n",
        "\n",
        "\n",
        "###############################################################################\n",
        "#now we need to process the data by seperating the entire data array into 31 row chunks\n",
        "testData = np.array_split(testData, np.arange(31, len(testData), 31))\n",
        "\n",
        "#pull the labels from the first row of each sequence, save it to an array, then drop the label col from this data sequence\n",
        "testLabels = []\n",
        "for seq in testData:\n",
        "  label = seq['Label'].iloc[0]    #get the first rows label, and use it for this whole sequence\n",
        "  seq.drop('Label', axis=1, inplace=True)\n",
        "  testLabels.append(label)\n",
        "\n",
        "testLabels = np.asarray(testLabels).astype('int32')\n",
        "\n",
        "#convert dataframes into np arrays and make the whole dataset multidimensional instead of an array of dataframes for tensorflow to properly use\n",
        "testData = np.array([np.array(seq) for seq in testData])\n",
        "\n",
        "###############################################################################\n",
        "#Testing model\n",
        "#load the model from a saved file\n",
        "bestmodel = tf.keras.models.load_model(data_dir + \"bestModel_LSTM.keras\")\n",
        "\n",
        "#evaluating the model on the test data\n",
        "loss, acc = bestmodel.evaluate(testData, testLabels, verbose=2)\n",
        "print(\"Loss on test data: \", loss)\n",
        "print(\"Accuracy on test data: \", acc)"
      ],
      "metadata": {
        "id": "8M7ZIwNM53As",
        "outputId": "1db20f96-9241-44fb-be33-431cada67289",
        "colab": {
          "base_uri": "https://localhost:8080/"
        }
      },
      "execution_count": 298,
      "outputs": [
        {
          "output_type": "stream",
          "name": "stdout",
          "text": [
            "Mounted at /content/drive\n",
            "1/1 - 0s - loss: 0.8242 - accuracy: 0.7500 - 38ms/epoch - 38ms/step\n",
            "Loss on test data:  0.8242024183273315\n",
            "Accuracy on test data:  0.75\n",
            "1/1 - 3s - loss: 0.7477 - accuracy: 0.7500 - 3s/epoch - 3s/step\n",
            "Loss on test data:  0.7477211952209473\n",
            "Accuracy on test data:  0.75\n"
          ]
        }
      ]
    }
  ]
}