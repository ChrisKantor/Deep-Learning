{
  "nbformat": 4,
  "nbformat_minor": 0,
  "metadata": {
    "colab": {
      "provenance": [],
      "authorship_tag": "ABX9TyN2yQXFUZV0Gnien0Y/H5fA",
      "include_colab_link": true
    },
    "kernelspec": {
      "name": "python3",
      "display_name": "Python 3"
    },
    "language_info": {
      "name": "python"
    }
  },
  "cells": [
    {
      "cell_type": "markdown",
      "metadata": {
        "id": "view-in-github",
        "colab_type": "text"
      },
      "source": [
        "<a href=\"https://colab.research.google.com/github/ChrisKantor/Deep-Learning/blob/main/Project%202/Deep_Learning_Project_2.ipynb\" target=\"_parent\"><img src=\"https://colab.research.google.com/assets/colab-badge.svg\" alt=\"Open In Colab\"/></a>"
      ]
    },
    {
      "cell_type": "code",
      "source": [
        "#Deep learning model that builds on the one made in HW3 for determining an infants pain level using vital signs\n",
        "#This improved model uses LSTM to better understand the sequential readings\n",
        "\n",
        "\n",
        "\n",
        "#Run these commands - NECCESARY to use the GPU\n",
        "# export CUDNN_PATH=$(dirname $(python -c \"import nvidia.cudnn;print(nvidia.cudnn.__file__)\"))\n",
        "# export LD_LIBRARY_PATH=${CUDNN_PATH}/lib\n",
        "\n",
        "#To connect to local runtime: jupyter lab --NotebookApp.allow_origin='https://colab.research.google.com' --port=8888 --NotebookApp.port_retries=0"
      ],
      "metadata": {
        "id": "-gD_j6_iqrxm"
      },
      "execution_count": null,
      "outputs": []
    },
    {
      "cell_type": "code",
      "execution_count": 1,
      "metadata": {
        "id": "aRuH-vPap5nA"
      },
      "outputs": [],
      "source": [
        "#import libraries\n",
        "import tensorflow as tf\n",
        "import numpy as np\n",
        "import pandas as pd\n",
        "import csv\n",
        "import os\n",
        "from matplotlib import pyplot as plt\n",
        "import PIL\n",
        "from tensorflow import keras"
      ]
    },
    {
      "cell_type": "code",
      "source": [
        "print(\"Num GPUs Available: \", len(tf.config.list_physical_devices('GPU')))\n",
        "# dir = 'Deep Learning/Project 2/'\n",
        "# data_dir = \"data/\"\n",
        "\n",
        "\n",
        "## Mount Google drive\n",
        "from google.colab import drive\n",
        "drive.mount('/content/drive', force_remount=True)\n",
        "data_dir = '/content/drive/MyDrive/Colab Notebooks/Deep Learning/Project 2/data/'\n",
        "\n",
        "\n",
        "import os\n",
        "print(os.getcwd())"
      ],
      "metadata": {
        "colab": {
          "base_uri": "https://localhost:8080/"
        },
        "id": "z45cpkBIsMQ-",
        "outputId": "33e83f9c-1541-4062-9e0b-1c9920210e99"
      },
      "execution_count": 40,
      "outputs": [
        {
          "output_type": "stream",
          "name": "stdout",
          "text": [
            "Num GPUs Available:  0\n",
            "Mounted at /content/drive\n",
            "/content\n"
          ]
        }
      ]
    },
    {
      "cell_type": "markdown",
      "source": [
        "# Data Preprocessing"
      ],
      "metadata": {
        "id": "CrrDoReswut8"
      }
    },
    {
      "cell_type": "code",
      "source": [
        "#store a list of dataframes representing the data from the csv files we read in\n",
        "#after reading in all of the csv files as dataframes, iterate through them, cleaning up the data and normalizing the inputs\n",
        "\n",
        "\n",
        "#Should we normalize on a dataframe level or a dataset level?\n",
        "\n",
        "\n",
        "data = []\n",
        "\n",
        "\n",
        "#use the os library to iterate through all files in the current path\n",
        "for (root,dirs,files) in os.walk(data_dir, topdown=True):\n",
        "  #open each CSV file, we don't want to open any other type of file\n",
        "  for f in files:\n",
        "    if f.endswith(\".csv\"):\n",
        "      with open(os.path.join(root, f), mode ='r') as csvFile:\n",
        "\n",
        "        #read in the csv file\n",
        "        csvData = csv.reader(csvFile)\n",
        "\n",
        "        #store the data temporarily before we turn it into a pandas dataframe\n",
        "        temp = []\n",
        "\n",
        "\n",
        "        #check if each row is valid\n",
        "        #one way to tell if the data is invalid is if the label is NOT [0, 1, 2]. This means there was something wrong with one of the sensors at the time of capture\n",
        "        #another way is to check if the heart rate, respiratory rate, or o2 level is too low or too high\n",
        "        #for heart Rate, we want a range of 40 - 200\n",
        "        #for Respiratory Rate, we want a range of 15 - 90\n",
        "        #for o2 level, we want a rate of 80 - 100\n",
        "\n",
        "        for row in csvData:\n",
        "          try:\n",
        "            if row[4] in \"012\" and (int(row[1]) >= 40 and int(row[1]) <= 200) and (int(row[2]) >= 15 and int(row[2]) <= 90) and (int(row[3]) >= 80 and int(row[3]) <= 100):   #data is valid, so add it to the main csv\n",
        "              #row[0] just stores the row # in the csv file, so it is not needed in the training dataset\n",
        "              temp.append([int(row[1]), int(row[2]), int(row[3]), int(row[4])])\n",
        "\n",
        "          #Catches errors that occur when an element cannot be parsed into an integer. In this case the row is invalid so we can skip it\n",
        "          except ValueError:\n",
        "            continue\n",
        "\n",
        "        #if this valid and cleaned sequence is NOT empty, add it to our dataset\n",
        "        if len(temp) > 0:\n",
        "          df = pd.DataFrame(temp, columns = ['Heart Rate', 'Respiratory Rate', 'O2 Level', 'Label'])\n",
        "          data.append(df)\n",
        "\n",
        "print(len(data))"
      ],
      "metadata": {
        "colab": {
          "base_uri": "https://localhost:8080/"
        },
        "id": "n0brwvTJ5rkZ",
        "outputId": "9982044a-cc01-40f7-d5b3-26ff7c06580a"
      },
      "execution_count": 41,
      "outputs": [
        {
          "output_type": "stream",
          "name": "stdout",
          "text": [
            "487\n"
          ]
        }
      ]
    },
    {
      "cell_type": "code",
      "source": [
        "#count sequence lengths and how often they appear\n",
        "freqMap = {}\n",
        "for d in data:\n",
        "  if d.shape not in freqMap.keys():\n",
        "    freqMap[d.shape] = 1\n",
        "\n",
        "  else:\n",
        "    freqMap[d.shape] += 1\n",
        "\n",
        "for key, value in freqMap.items():\n",
        "    print(f'{key} -> {value}')\n",
        "\n",
        "\n",
        "#split data into training/validation sets using an 90/10 split\n",
        "data = np.asarray(data, dtype=\"object\")\n",
        "np.random.shuffle(data)\n",
        "\n",
        "trainData, valData = np.split(data, [int(0.90*len(data))])\n",
        "\n",
        "print(len(trainData), len(valData))\n",
        "\n",
        "#remove the labels from the trainingData and validation data, also storing them as a list\n",
        "#we don't need the entire column of labels, just the first rows label\n",
        "trainLabels = []\n",
        "valLabels = []\n",
        "\n",
        "for df in trainData:\n",
        "  label = df['Label'].iloc[0]    #get the first rows label, and use it for this whole sequence\n",
        "  df.drop('Label', axis=1, inplace=True)\n",
        "  trainLabels.append(label)\n",
        "\n",
        "for df in valData:\n",
        "  label = df['Label'].iloc[0]    #get the first rows label, and use it for this whole sequence\n",
        "  df.drop('Label', axis=1, inplace=True)\n",
        "  valLabels.append(label)\n",
        "\n",
        "trainLabels = np.asarray(trainLabels).astype('int32')\n",
        "valLabels = np.asarray(valLabels).astype('int32')\n",
        "print(trainData.shape, len(trainLabels))\n",
        "print(valData.shape, len(valLabels))\n",
        "\n",
        "trainLabelMap = {}\n",
        "for label in trainLabels:\n",
        "  if label not in trainLabelMap.keys():\n",
        "    trainLabelMap[label] = 1\n",
        "  else:\n",
        "    trainLabelMap[label] += 1\n",
        "\n",
        "\n",
        "valLabelMap = {}\n",
        "for label in valLabels:\n",
        "  if label not in valLabelMap.keys():\n",
        "    valLabelMap[label] = 1\n",
        "  else:\n",
        "    valLabelMap[label] += 1\n",
        "\n",
        "print(trainLabelMap)\n",
        "print(valLabelMap)"
      ],
      "metadata": {
        "id": "4Xy6b8Q6LoY3",
        "outputId": "9450d9a6-1d7e-4151-cc26-688682ec65e1",
        "colab": {
          "base_uri": "https://localhost:8080/"
        }
      },
      "execution_count": 42,
      "outputs": [
        {
          "output_type": "stream",
          "name": "stdout",
          "text": [
            "(31, 4) -> 381\n",
            "(30, 4) -> 31\n",
            "(14, 4) -> 2\n",
            "(29, 4) -> 21\n",
            "(5, 4) -> 1\n",
            "(11, 4) -> 1\n",
            "(21, 4) -> 4\n",
            "(4, 4) -> 1\n",
            "(7, 4) -> 1\n",
            "(27, 4) -> 10\n",
            "(28, 4) -> 15\n",
            "(25, 4) -> 4\n",
            "(26, 4) -> 6\n",
            "(17, 4) -> 2\n",
            "(22, 4) -> 2\n",
            "(24, 4) -> 2\n",
            "(23, 4) -> 2\n",
            "(15, 4) -> 1\n",
            "438 49\n",
            "(438,) 438\n",
            "(49,) 49\n",
            "{1: 163, 0: 248, 2: 27}\n",
            "{0: 30, 1: 16, 2: 3}\n"
          ]
        }
      ]
    },
    {
      "cell_type": "code",
      "source": [
        "#normalize data using only the training set\n",
        "#find the min/max of each column throughout all of the dataframes in the training dataset\n",
        "#save the values, then iterate through the training and validation dataset and use min-max normalization\n",
        "#df[column] = (df[column] - df[column].min()) / (df[column].max() - df[column].min())\n",
        "\n",
        "#norm values stores the min/max of each column, initialized to min = float('inf'), max = float('-inf')\n",
        "#[[Heart Rate Min, Heart Rate Max], [Respiratory Rate Min, Respiratory Rate Max], [O2 Level Min, O2 Level Max]]\n",
        "normValues = [[float('inf'), float('-inf')], [float('inf'), float('-inf')], [float('inf'), float('-inf')]]\n",
        "\n",
        "for df in trainData:\n",
        "  normValues[0][0] = min(normValues[0][0], df['Heart Rate'].min())\n",
        "  normValues[0][1] = max(normValues[0][1], df['Heart Rate'].max())\n",
        "\n",
        "  normValues[1][0] = min(normValues[1][0], df['Respiratory Rate'].min())\n",
        "  normValues[1][1] = max(normValues[1][1], df['Respiratory Rate'].max())\n",
        "\n",
        "  normValues[2][0] = min(normValues[2][0], df['O2 Level'].min())\n",
        "  normValues[2][1] = max(normValues[2][1], df['O2 Level'].max())\n",
        "\n",
        "#now we have the min/max for each column across our whole dataset from our training data, so we can save this normalization, and apply it to the validation set\n",
        "print(normValues)\n",
        "\n",
        "\n",
        "\n",
        "#normalizing the data:\n",
        "for df in trainData:\n",
        "  df['Heart Rate'] = (df['Heart Rate'] - normValues[0][0]) / (normValues[0][1] - normValues[0][0])\n",
        "  df['Respiratory Rate'] = (df['Respiratory Rate'] - normValues[1][0]) / (normValues[1][1] - normValues[1][0])\n",
        "  df['O2 Level'] = (df['O2 Level'] - normValues[2][0]) / (normValues[2][1] - normValues[2][0])\n",
        "\n",
        "for df in valData:\n",
        "  df['Heart Rate'] = (df['Heart Rate'] - normValues[0][0]) / (normValues[0][1] - normValues[0][0])\n",
        "  df['Respiratory Rate'] = (df['Respiratory Rate'] - normValues[1][0]) / (normValues[1][1] - normValues[1][0])\n",
        "  df['O2 Level'] = (df['O2 Level'] - normValues[2][0]) / (normValues[2][1] - normValues[2][0])"
      ],
      "metadata": {
        "id": "FQgBFE7onqWI",
        "colab": {
          "base_uri": "https://localhost:8080/"
        },
        "outputId": "975f5af6-77e1-4d9b-d268-8494c1077127"
      },
      "execution_count": 43,
      "outputs": [
        {
          "output_type": "stream",
          "name": "stdout",
          "text": [
            "[[44, 199], [15, 90], [80, 100]]\n"
          ]
        }
      ]
    },
    {
      "cell_type": "code",
      "source": [
        "#Data padding\n",
        "#inputs to GRU cells are in the form of [batch, timesteps, feature]\n",
        "#our sequences have multiple lengths, so we need to pad this data to get all of the sequences to have a length of 31 (indices 0-30)\n",
        "#we can pad the data by adding rows of 0's, and use a masking layer to ignore them when training the model\n",
        "\n",
        "for i in range(len(trainData)):\n",
        "  if trainData[i].shape[0] < 31:\n",
        "    padding = pd.DataFrame(0, index=np.arange(trainData[i].shape[0], 31), columns=trainData[i].columns)\n",
        "    trainData[i] = pd.concat([trainData[i], padding])\n",
        "\n",
        "for i in range(len(valData)):\n",
        "  if valData[i].shape[0] < 31:\n",
        "    padding = pd.DataFrame(0, index=np.arange(valData[i].shape[0], 31), columns=valData[i].columns)\n",
        "    valData[i] = pd.concat([valData[i], padding])"
      ],
      "metadata": {
        "id": "ypAB10mGl136"
      },
      "execution_count": 44,
      "outputs": []
    },
    {
      "cell_type": "code",
      "source": [
        "#convert dataframes into np arrays and make the whole dataset multidimensional instead of an array of dataframes for tensorflow to properly use\n",
        "trainData = np.array([np.array(val) for val in trainData])\n",
        "valData = np.array([np.array(val) for val in valData])"
      ],
      "metadata": {
        "id": "yQEEoXxWwW2O"
      },
      "execution_count": 45,
      "outputs": []
    },
    {
      "cell_type": "markdown",
      "source": [
        "# Model Setup"
      ],
      "metadata": {
        "id": "upaZTSH3w0qs"
      }
    },
    {
      "cell_type": "code",
      "source": [
        "#first model uses 4 GRU layers with 16 unit each\n",
        "#input is taken in the form of: [batch, timesteps, feature]\n",
        "\n",
        "input = tf.keras.layers.Input(shape=(31, 3))\n",
        "mask = tf.keras.layers.Masking(mask_value=0., input_shape=(31, 3)) (input)\n",
        "x = (tf.keras.layers.LSTM(32, return_sequences=True, kernel_regularizer = tf.keras.regularizers.l2(), recurrent_regularizer = tf.keras.regularizers.l2())) (mask)\n",
        "# x = (tf.keras.layers.LSTM(32, return_sequences=True, kernel_regularizer = tf.keras.regularizers.l2(), recurrent_regularizer = tf.keras.regularizers.l2())) (x)\n",
        "# x = (tf.keras.layers.LSTM(32, return_sequences=True, return_state=True, kernel_regularizer = tf.keras.regularizers.l2(), recurrent_regularizer = tf.keras.regularizers.l2())) (x)\n",
        "# x = (tf.keras.layers.LSTM(32, return_sequences=True, kernel_regularizer = tf.keras.regularizers.l2(), recurrent_regularizer = tf.keras.regularizers.l2())) (x)\n",
        "x = (tf.keras.layers.Flatten()) (x)\n",
        "x = (tf.keras.layers.Dense(64, activation='relu', kernel_regularizer = tf.keras.regularizers.l2())) (x)\n",
        "# x = (tf.keras.layers.Dropout(0.5)) (x)\n",
        "# x = (tf.keras.layers.Dense(64, activation='relu', kernel_regularizer = tf.keras.regularizers.l2())) (x)\n",
        "output = (tf.keras.layers.Dense(3)) (x)\n",
        "\n",
        "model = keras.Model(input, output, name=\"LSTM_Model\")"
      ],
      "metadata": {
        "id": "CClHL9t2w3kc"
      },
      "execution_count": 46,
      "outputs": []
    },
    {
      "cell_type": "markdown",
      "source": [
        "# Model Training"
      ],
      "metadata": {
        "id": "G1Fi-MTs5vzo"
      }
    },
    {
      "cell_type": "code",
      "source": [
        "#our learning rate scheduler. Will gradually shrink the learning rate as training progesses to find a better converging point.\n",
        "lr_schedule = tf.keras.optimizers.schedules.ExponentialDecay(\n",
        "    0.001,\n",
        "    decay_steps=100000,\n",
        "    decay_rate=0.96,\n",
        "    staircase=True)\n",
        "\n",
        "checkpoint_filepath = '/content/drive/MyDrive/Colab Notebooks/Deep Learning/Project 2/checkpoint'\n",
        "model_checkpoint_callback = tf.keras.callbacks.ModelCheckpoint(\n",
        "    filepath=checkpoint_filepath,\n",
        "    save_weights_only=True,\n",
        "    monitor='val_accuracy',\n",
        "    mode='max',\n",
        "    save_best_only=True)\n",
        "\n",
        "#early stopping callback. stop if the loss doesn't improve for 7 epochs in a row\n",
        "early_stopping_callback = tf.keras.callbacks.EarlyStopping(\n",
        "    monitor='loss',\n",
        "    patience=5,\n",
        "    start_from_epoch=20)\n",
        "\n",
        "\n",
        "opt = tf.keras.optimizers.Adam(learning_rate=lr_schedule)\n",
        "loss_fn = tf.keras.losses.SparseCategoricalCrossentropy(from_logits=True)\n",
        "model.compile(optimizer=opt,\n",
        "              loss=loss_fn,\n",
        "              metrics=['accuracy'])\n",
        "model.summary()"
      ],
      "metadata": {
        "id": "X0_nUOY_50Dw",
        "colab": {
          "base_uri": "https://localhost:8080/"
        },
        "outputId": "32c5ac00-e669-447d-ca4a-d26e5bc4ade7"
      },
      "execution_count": 47,
      "outputs": [
        {
          "output_type": "stream",
          "name": "stdout",
          "text": [
            "Model: \"LSTM_Model\"\n",
            "_________________________________________________________________\n",
            " Layer (type)                Output Shape              Param #   \n",
            "=================================================================\n",
            " input_4 (InputLayer)        [(None, 31, 3)]           0         \n",
            "                                                                 \n",
            " masking_3 (Masking)         (None, 31, 3)             0         \n",
            "                                                                 \n",
            " lstm_12 (LSTM)              (None, 31, 32)            4608      \n",
            "                                                                 \n",
            " flatten_3 (Flatten)         (None, 992)               0         \n",
            "                                                                 \n",
            " dense_6 (Dense)             (None, 64)                63552     \n",
            "                                                                 \n",
            " dense_7 (Dense)             (None, 3)                 195       \n",
            "                                                                 \n",
            "=================================================================\n",
            "Total params: 68355 (267.01 KB)\n",
            "Trainable params: 68355 (267.01 KB)\n",
            "Non-trainable params: 0 (0.00 Byte)\n",
            "_________________________________________________________________\n"
          ]
        }
      ]
    },
    {
      "cell_type": "code",
      "source": [
        "#train the model\n",
        "#Some hyperparameter setup\n",
        "batch_size = 256           #set batch size to 256\n",
        "epochs = 100               #set num epochs to 100\n",
        "\n",
        "history = model.fit(\n",
        "    trainData,\n",
        "    trainLabels,\n",
        "    validation_data=(valData, valLabels),\n",
        "    batch_size=batch_size,\n",
        "    epochs=epochs,\n",
        "    callbacks=[model_checkpoint_callback]\n",
        ")"
      ],
      "metadata": {
        "id": "zlLqB23znTXc",
        "colab": {
          "base_uri": "https://localhost:8080/"
        },
        "outputId": "069b8118-f67e-4fd8-e44b-a7f85259e1a1"
      },
      "execution_count": 48,
      "outputs": [
        {
          "output_type": "stream",
          "name": "stdout",
          "text": [
            "Epoch 1/100\n",
            "2/2 [==============================] - 8s 2s/step - loss: 2.5395 - accuracy: 0.5662 - val_loss: 2.3668 - val_accuracy: 0.6122\n",
            "Epoch 2/100\n",
            "2/2 [==============================] - 0s 92ms/step - loss: 2.3758 - accuracy: 0.5662 - val_loss: 2.2620 - val_accuracy: 0.6122\n",
            "Epoch 3/100\n",
            "2/2 [==============================] - 0s 87ms/step - loss: 2.2809 - accuracy: 0.5685 - val_loss: 2.1873 - val_accuracy: 0.5918\n",
            "Epoch 4/100\n",
            "2/2 [==============================] - 0s 90ms/step - loss: 2.2097 - accuracy: 0.5685 - val_loss: 2.1123 - val_accuracy: 0.5918\n",
            "Epoch 5/100\n",
            "2/2 [==============================] - 0s 76ms/step - loss: 2.1305 - accuracy: 0.5662 - val_loss: 2.0262 - val_accuracy: 0.5918\n",
            "Epoch 6/100\n",
            "2/2 [==============================] - 0s 93ms/step - loss: 2.0536 - accuracy: 0.5685 - val_loss: 1.9584 - val_accuracy: 0.5918\n",
            "Epoch 7/100\n",
            "2/2 [==============================] - 0s 154ms/step - loss: 1.9766 - accuracy: 0.6073 - val_loss: 1.8987 - val_accuracy: 0.6327\n",
            "Epoch 8/100\n",
            "2/2 [==============================] - 0s 184ms/step - loss: 1.9057 - accuracy: 0.6142 - val_loss: 1.8288 - val_accuracy: 0.6531\n",
            "Epoch 9/100\n",
            "2/2 [==============================] - 0s 77ms/step - loss: 1.8406 - accuracy: 0.6187 - val_loss: 1.7642 - val_accuracy: 0.6531\n",
            "Epoch 10/100\n",
            "2/2 [==============================] - 0s 168ms/step - loss: 1.7808 - accuracy: 0.6210 - val_loss: 1.7042 - val_accuracy: 0.6735\n",
            "Epoch 11/100\n",
            "2/2 [==============================] - 0s 92ms/step - loss: 1.7237 - accuracy: 0.6301 - val_loss: 1.6541 - val_accuracy: 0.6735\n",
            "Epoch 12/100\n",
            "2/2 [==============================] - 0s 97ms/step - loss: 1.6691 - accuracy: 0.6324 - val_loss: 1.5999 - val_accuracy: 0.6531\n",
            "Epoch 13/100\n",
            "2/2 [==============================] - 0s 80ms/step - loss: 1.6157 - accuracy: 0.6370 - val_loss: 1.5418 - val_accuracy: 0.6531\n",
            "Epoch 14/100\n",
            "2/2 [==============================] - 0s 85ms/step - loss: 1.5645 - accuracy: 0.6416 - val_loss: 1.4931 - val_accuracy: 0.6735\n",
            "Epoch 15/100\n",
            "2/2 [==============================] - 0s 76ms/step - loss: 1.5174 - accuracy: 0.6416 - val_loss: 1.4416 - val_accuracy: 0.6531\n",
            "Epoch 16/100\n",
            "2/2 [==============================] - 0s 88ms/step - loss: 1.4713 - accuracy: 0.6461 - val_loss: 1.4069 - val_accuracy: 0.6735\n",
            "Epoch 17/100\n",
            "2/2 [==============================] - 0s 137ms/step - loss: 1.4314 - accuracy: 0.6393 - val_loss: 1.3719 - val_accuracy: 0.6531\n",
            "Epoch 18/100\n",
            "2/2 [==============================] - 0s 125ms/step - loss: 1.3922 - accuracy: 0.6484 - val_loss: 1.3170 - val_accuracy: 0.6735\n",
            "Epoch 19/100\n",
            "2/2 [==============================] - 0s 119ms/step - loss: 1.3536 - accuracy: 0.6438 - val_loss: 1.2905 - val_accuracy: 0.6735\n",
            "Epoch 20/100\n",
            "2/2 [==============================] - 0s 130ms/step - loss: 1.3197 - accuracy: 0.6438 - val_loss: 1.2733 - val_accuracy: 0.6531\n",
            "Epoch 21/100\n",
            "2/2 [==============================] - 0s 124ms/step - loss: 1.2868 - accuracy: 0.6393 - val_loss: 1.2271 - val_accuracy: 0.6735\n",
            "Epoch 22/100\n",
            "2/2 [==============================] - 0s 251ms/step - loss: 1.2554 - accuracy: 0.6484 - val_loss: 1.1880 - val_accuracy: 0.7143\n",
            "Epoch 23/100\n",
            "2/2 [==============================] - 0s 136ms/step - loss: 1.2302 - accuracy: 0.6461 - val_loss: 1.1719 - val_accuracy: 0.6735\n",
            "Epoch 24/100\n",
            "2/2 [==============================] - 0s 125ms/step - loss: 1.2022 - accuracy: 0.6461 - val_loss: 1.1674 - val_accuracy: 0.6531\n",
            "Epoch 25/100\n",
            "2/2 [==============================] - 0s 135ms/step - loss: 1.1796 - accuracy: 0.6301 - val_loss: 1.1297 - val_accuracy: 0.6735\n",
            "Epoch 26/100\n",
            "2/2 [==============================] - 0s 128ms/step - loss: 1.1542 - accuracy: 0.6461 - val_loss: 1.1020 - val_accuracy: 0.6735\n",
            "Epoch 27/100\n",
            "2/2 [==============================] - 0s 128ms/step - loss: 1.1321 - accuracy: 0.6461 - val_loss: 1.0869 - val_accuracy: 0.6735\n",
            "Epoch 28/100\n",
            "2/2 [==============================] - 0s 143ms/step - loss: 1.1121 - accuracy: 0.6484 - val_loss: 1.0655 - val_accuracy: 0.6735\n",
            "Epoch 29/100\n",
            "2/2 [==============================] - 0s 142ms/step - loss: 1.0932 - accuracy: 0.6438 - val_loss: 1.0488 - val_accuracy: 0.6735\n",
            "Epoch 30/100\n",
            "2/2 [==============================] - 0s 135ms/step - loss: 1.0756 - accuracy: 0.6416 - val_loss: 1.0363 - val_accuracy: 0.6735\n",
            "Epoch 31/100\n",
            "2/2 [==============================] - 0s 142ms/step - loss: 1.0598 - accuracy: 0.6461 - val_loss: 1.0115 - val_accuracy: 0.6735\n",
            "Epoch 32/100\n",
            "2/2 [==============================] - 0s 122ms/step - loss: 1.0516 - accuracy: 0.6461 - val_loss: 1.0043 - val_accuracy: 0.6735\n",
            "Epoch 33/100\n",
            "2/2 [==============================] - 0s 133ms/step - loss: 1.0314 - accuracy: 0.6461 - val_loss: 1.0255 - val_accuracy: 0.6735\n",
            "Epoch 34/100\n",
            "2/2 [==============================] - 0s 95ms/step - loss: 1.0229 - accuracy: 0.6461 - val_loss: 0.9770 - val_accuracy: 0.6735\n",
            "Epoch 35/100\n",
            "2/2 [==============================] - 0s 154ms/step - loss: 1.0037 - accuracy: 0.6461 - val_loss: 0.9515 - val_accuracy: 0.7347\n",
            "Epoch 36/100\n",
            "2/2 [==============================] - 0s 85ms/step - loss: 0.9935 - accuracy: 0.6553 - val_loss: 0.9535 - val_accuracy: 0.6735\n",
            "Epoch 37/100\n",
            "2/2 [==============================] - 0s 89ms/step - loss: 0.9815 - accuracy: 0.6416 - val_loss: 0.9573 - val_accuracy: 0.6735\n",
            "Epoch 38/100\n",
            "2/2 [==============================] - 0s 88ms/step - loss: 0.9711 - accuracy: 0.6324 - val_loss: 0.9327 - val_accuracy: 0.6735\n",
            "Epoch 39/100\n",
            "2/2 [==============================] - 0s 112ms/step - loss: 0.9616 - accuracy: 0.6507 - val_loss: 0.9187 - val_accuracy: 0.6735\n",
            "Epoch 40/100\n",
            "2/2 [==============================] - 0s 81ms/step - loss: 0.9537 - accuracy: 0.6507 - val_loss: 0.9211 - val_accuracy: 0.6735\n",
            "Epoch 41/100\n",
            "2/2 [==============================] - 0s 91ms/step - loss: 0.9431 - accuracy: 0.6461 - val_loss: 0.9060 - val_accuracy: 0.6735\n",
            "Epoch 42/100\n",
            "2/2 [==============================] - 0s 89ms/step - loss: 0.9360 - accuracy: 0.6484 - val_loss: 0.8943 - val_accuracy: 0.6735\n",
            "Epoch 43/100\n",
            "2/2 [==============================] - 0s 88ms/step - loss: 0.9305 - accuracy: 0.6530 - val_loss: 0.8902 - val_accuracy: 0.6735\n",
            "Epoch 44/100\n",
            "2/2 [==============================] - 0s 86ms/step - loss: 0.9231 - accuracy: 0.6484 - val_loss: 0.9074 - val_accuracy: 0.6939\n",
            "Epoch 45/100\n",
            "2/2 [==============================] - 0s 81ms/step - loss: 0.9154 - accuracy: 0.6347 - val_loss: 0.8745 - val_accuracy: 0.6735\n",
            "Epoch 46/100\n",
            "2/2 [==============================] - 0s 100ms/step - loss: 0.9111 - accuracy: 0.6370 - val_loss: 0.8549 - val_accuracy: 0.7347\n",
            "Epoch 47/100\n",
            "2/2 [==============================] - 0s 77ms/step - loss: 0.9031 - accuracy: 0.6553 - val_loss: 0.8784 - val_accuracy: 0.6939\n",
            "Epoch 48/100\n",
            "2/2 [==============================] - 0s 88ms/step - loss: 0.9017 - accuracy: 0.6461 - val_loss: 0.8872 - val_accuracy: 0.6939\n",
            "Epoch 49/100\n",
            "2/2 [==============================] - 0s 87ms/step - loss: 0.8942 - accuracy: 0.6347 - val_loss: 0.8443 - val_accuracy: 0.6939\n",
            "Epoch 50/100\n",
            "2/2 [==============================] - 0s 92ms/step - loss: 0.8871 - accuracy: 0.6598 - val_loss: 0.8400 - val_accuracy: 0.6939\n",
            "Epoch 51/100\n",
            "2/2 [==============================] - 0s 89ms/step - loss: 0.8832 - accuracy: 0.6484 - val_loss: 0.8585 - val_accuracy: 0.6939\n",
            "Epoch 52/100\n",
            "2/2 [==============================] - 0s 89ms/step - loss: 0.8769 - accuracy: 0.6484 - val_loss: 0.8436 - val_accuracy: 0.6735\n",
            "Epoch 53/100\n",
            "2/2 [==============================] - 0s 87ms/step - loss: 0.8712 - accuracy: 0.6484 - val_loss: 0.8354 - val_accuracy: 0.6735\n",
            "Epoch 54/100\n",
            "2/2 [==============================] - 0s 88ms/step - loss: 0.8666 - accuracy: 0.6598 - val_loss: 0.8251 - val_accuracy: 0.6939\n",
            "Epoch 55/100\n",
            "2/2 [==============================] - 0s 81ms/step - loss: 0.8625 - accuracy: 0.6553 - val_loss: 0.8322 - val_accuracy: 0.6735\n",
            "Epoch 56/100\n",
            "2/2 [==============================] - 0s 92ms/step - loss: 0.8579 - accuracy: 0.6507 - val_loss: 0.8257 - val_accuracy: 0.6735\n",
            "Epoch 57/100\n",
            "2/2 [==============================] - 0s 86ms/step - loss: 0.8547 - accuracy: 0.6484 - val_loss: 0.8155 - val_accuracy: 0.6735\n",
            "Epoch 58/100\n",
            "2/2 [==============================] - 0s 75ms/step - loss: 0.8519 - accuracy: 0.6484 - val_loss: 0.8229 - val_accuracy: 0.6735\n",
            "Epoch 59/100\n",
            "2/2 [==============================] - 0s 82ms/step - loss: 0.8479 - accuracy: 0.6461 - val_loss: 0.8073 - val_accuracy: 0.7143\n",
            "Epoch 60/100\n",
            "2/2 [==============================] - 0s 77ms/step - loss: 0.8486 - accuracy: 0.6438 - val_loss: 0.7965 - val_accuracy: 0.7347\n",
            "Epoch 61/100\n",
            "2/2 [==============================] - 0s 102ms/step - loss: 0.8404 - accuracy: 0.6598 - val_loss: 0.8273 - val_accuracy: 0.6939\n",
            "Epoch 62/100\n",
            "2/2 [==============================] - 0s 82ms/step - loss: 0.8414 - accuracy: 0.6507 - val_loss: 0.8151 - val_accuracy: 0.6939\n",
            "Epoch 63/100\n",
            "2/2 [==============================] - 0s 91ms/step - loss: 0.8341 - accuracy: 0.6416 - val_loss: 0.7843 - val_accuracy: 0.7143\n",
            "Epoch 64/100\n",
            "2/2 [==============================] - 0s 79ms/step - loss: 0.8350 - accuracy: 0.6712 - val_loss: 0.7841 - val_accuracy: 0.7347\n",
            "Epoch 65/100\n",
            "2/2 [==============================] - 0s 92ms/step - loss: 0.8301 - accuracy: 0.6553 - val_loss: 0.8126 - val_accuracy: 0.7143\n",
            "Epoch 66/100\n",
            "2/2 [==============================] - 0s 80ms/step - loss: 0.8272 - accuracy: 0.6621 - val_loss: 0.7958 - val_accuracy: 0.7143\n",
            "Epoch 67/100\n",
            "2/2 [==============================] - 0s 92ms/step - loss: 0.8227 - accuracy: 0.6461 - val_loss: 0.7740 - val_accuracy: 0.7143\n",
            "Epoch 68/100\n",
            "2/2 [==============================] - 0s 104ms/step - loss: 0.8224 - accuracy: 0.6598 - val_loss: 0.7765 - val_accuracy: 0.7143\n",
            "Epoch 69/100\n",
            "2/2 [==============================] - 0s 91ms/step - loss: 0.8172 - accuracy: 0.6598 - val_loss: 0.7799 - val_accuracy: 0.7143\n",
            "Epoch 70/100\n",
            "2/2 [==============================] - 0s 83ms/step - loss: 0.8143 - accuracy: 0.6484 - val_loss: 0.7863 - val_accuracy: 0.7143\n",
            "Epoch 71/100\n",
            "2/2 [==============================] - 0s 96ms/step - loss: 0.8159 - accuracy: 0.6575 - val_loss: 0.7749 - val_accuracy: 0.7143\n",
            "Epoch 72/100\n",
            "2/2 [==============================] - 0s 213ms/step - loss: 0.8088 - accuracy: 0.6667 - val_loss: 0.7551 - val_accuracy: 0.7551\n",
            "Epoch 73/100\n",
            "2/2 [==============================] - 0s 92ms/step - loss: 0.8136 - accuracy: 0.6758 - val_loss: 0.7661 - val_accuracy: 0.7143\n",
            "Epoch 74/100\n",
            "2/2 [==============================] - 0s 94ms/step - loss: 0.8052 - accuracy: 0.6667 - val_loss: 0.7951 - val_accuracy: 0.7143\n",
            "Epoch 75/100\n",
            "2/2 [==============================] - 0s 84ms/step - loss: 0.8085 - accuracy: 0.6667 - val_loss: 0.7683 - val_accuracy: 0.7347\n",
            "Epoch 76/100\n",
            "2/2 [==============================] - 0s 100ms/step - loss: 0.8012 - accuracy: 0.6575 - val_loss: 0.7534 - val_accuracy: 0.7143\n",
            "Epoch 77/100\n",
            "2/2 [==============================] - 0s 92ms/step - loss: 0.8016 - accuracy: 0.6781 - val_loss: 0.7541 - val_accuracy: 0.7143\n",
            "Epoch 78/100\n",
            "2/2 [==============================] - 0s 82ms/step - loss: 0.8047 - accuracy: 0.6712 - val_loss: 0.7760 - val_accuracy: 0.7347\n",
            "Epoch 79/100\n",
            "2/2 [==============================] - 0s 79ms/step - loss: 0.7961 - accuracy: 0.6553 - val_loss: 0.7433 - val_accuracy: 0.7551\n",
            "Epoch 80/100\n",
            "2/2 [==============================] - 0s 92ms/step - loss: 0.7948 - accuracy: 0.6872 - val_loss: 0.7413 - val_accuracy: 0.7347\n",
            "Epoch 81/100\n",
            "2/2 [==============================] - 0s 87ms/step - loss: 0.7906 - accuracy: 0.6712 - val_loss: 0.7632 - val_accuracy: 0.7143\n",
            "Epoch 82/100\n",
            "2/2 [==============================] - 0s 88ms/step - loss: 0.7906 - accuracy: 0.6735 - val_loss: 0.7589 - val_accuracy: 0.7551\n",
            "Epoch 83/100\n",
            "2/2 [==============================] - 0s 81ms/step - loss: 0.7887 - accuracy: 0.6712 - val_loss: 0.7457 - val_accuracy: 0.7551\n",
            "Epoch 84/100\n",
            "2/2 [==============================] - 0s 91ms/step - loss: 0.7850 - accuracy: 0.6804 - val_loss: 0.7407 - val_accuracy: 0.7551\n",
            "Epoch 85/100\n",
            "2/2 [==============================] - 0s 81ms/step - loss: 0.7826 - accuracy: 0.6849 - val_loss: 0.7410 - val_accuracy: 0.7347\n",
            "Epoch 86/100\n",
            "2/2 [==============================] - 0s 106ms/step - loss: 0.7817 - accuracy: 0.6712 - val_loss: 0.7365 - val_accuracy: 0.7347\n",
            "Epoch 87/100\n",
            "2/2 [==============================] - 0s 80ms/step - loss: 0.7796 - accuracy: 0.6781 - val_loss: 0.7312 - val_accuracy: 0.7551\n",
            "Epoch 88/100\n",
            "2/2 [==============================] - 0s 96ms/step - loss: 0.7769 - accuracy: 0.6872 - val_loss: 0.7318 - val_accuracy: 0.7551\n",
            "Epoch 89/100\n",
            "2/2 [==============================] - 0s 81ms/step - loss: 0.7773 - accuracy: 0.6872 - val_loss: 0.7381 - val_accuracy: 0.7551\n",
            "Epoch 90/100\n",
            "2/2 [==============================] - 0s 93ms/step - loss: 0.7738 - accuracy: 0.6826 - val_loss: 0.7439 - val_accuracy: 0.7551\n",
            "Epoch 91/100\n",
            "2/2 [==============================] - 0s 100ms/step - loss: 0.7748 - accuracy: 0.6849 - val_loss: 0.7218 - val_accuracy: 0.7551\n",
            "Epoch 92/100\n",
            "2/2 [==============================] - 0s 92ms/step - loss: 0.7712 - accuracy: 0.6826 - val_loss: 0.7239 - val_accuracy: 0.7551\n",
            "Epoch 93/100\n",
            "2/2 [==============================] - 0s 115ms/step - loss: 0.7688 - accuracy: 0.6872 - val_loss: 0.7339 - val_accuracy: 0.7551\n",
            "Epoch 94/100\n",
            "2/2 [==============================] - 0s 78ms/step - loss: 0.7717 - accuracy: 0.6826 - val_loss: 0.7253 - val_accuracy: 0.7551\n",
            "Epoch 95/100\n",
            "2/2 [==============================] - 0s 166ms/step - loss: 0.7632 - accuracy: 0.7032 - val_loss: 0.6971 - val_accuracy: 0.7755\n",
            "Epoch 96/100\n",
            "2/2 [==============================] - 0s 90ms/step - loss: 0.7691 - accuracy: 0.7009 - val_loss: 0.7177 - val_accuracy: 0.7551\n",
            "Epoch 97/100\n",
            "2/2 [==============================] - 0s 75ms/step - loss: 0.7628 - accuracy: 0.6826 - val_loss: 0.7198 - val_accuracy: 0.7551\n",
            "Epoch 98/100\n",
            "2/2 [==============================] - 0s 92ms/step - loss: 0.7587 - accuracy: 0.6895 - val_loss: 0.6998 - val_accuracy: 0.7551\n",
            "Epoch 99/100\n",
            "2/2 [==============================] - 0s 86ms/step - loss: 0.7625 - accuracy: 0.6895 - val_loss: 0.7116 - val_accuracy: 0.7551\n",
            "Epoch 100/100\n",
            "2/2 [==============================] - 0s 81ms/step - loss: 0.7599 - accuracy: 0.6941 - val_loss: 0.7211 - val_accuracy: 0.7551\n"
          ]
        }
      ]
    },
    {
      "cell_type": "code",
      "source": [
        "acc = history.history['accuracy']\n",
        "val_acc = history.history['val_accuracy']\n",
        "\n",
        "loss = history.history['loss']\n",
        "val_loss = history.history['val_loss']\n",
        "\n",
        "epochs_range = range(min(epochs, len(acc)))\n",
        "\n",
        "plt.figure(figsize=(8, 8))\n",
        "plt.subplot(1, 2, 1)\n",
        "plt.plot(epochs_range, acc, label='Training Accuracy')\n",
        "plt.plot(epochs_range, val_acc, label='Validation Accuracy')\n",
        "plt.legend(loc='lower right')\n",
        "plt.title('Training and Validation Accuracy')\n",
        "\n",
        "plt.subplot(1, 2, 2)\n",
        "plt.plot(epochs_range, loss, label='Training Loss')\n",
        "plt.plot(epochs_range, val_loss, label='Validation Loss')\n",
        "plt.legend(loc='upper right')\n",
        "plt.title('Training and Validation Loss')\n",
        "plt.show()"
      ],
      "metadata": {
        "id": "bV0n6NC321Sh",
        "outputId": "e86f1568-2f7c-4ea9-ab82-80fa6bf02b1b",
        "colab": {
          "base_uri": "https://localhost:8080/",
          "height": 699
        }
      },
      "execution_count": 49,
      "outputs": [
        {
          "output_type": "display_data",
          "data": {
            "text/plain": [
              "<Figure size 800x800 with 2 Axes>"
            ],
            "image/png": "[encoded data removed]"
          },
          "metadata": {}
        }
      ]
    },
    {
      "cell_type": "code",
      "source": [
        "#load the best model using the callback\n",
        "model.load_weights(checkpoint_filepath)\n",
        "\n",
        "print(\"\\n\\nEvaluating Best Model\\n\")\n",
        "#evaluation the model on the validation data\n",
        "model.evaluate(valData, valLabels, verbose=2)\n",
        "\n",
        "\n",
        "#Best val acc so far: 0.816 w/ 0.75 test acc"
      ],
      "metadata": {
        "colab": {
          "base_uri": "https://localhost:8080/"
        },
        "id": "RXSNNOXVrb9I",
        "outputId": "53bc8ba4-e514-4d9e-facf-01e9efed8f42"
      },
      "execution_count": 50,
      "outputs": [
        {
          "output_type": "stream",
          "name": "stdout",
          "text": [
            "\n",
            "\n",
            "Evaluating Best Model\n",
            "\n",
            "2/2 - 0s - loss: 0.6971 - accuracy: 0.7755 - 39ms/epoch - 19ms/step\n"
          ]
        },
        {
          "output_type": "execute_result",
          "data": {
            "text/plain": [
              "[0.6970576047897339, 0.7755101919174194]"
            ]
          },
          "metadata": {},
          "execution_count": 50
        }
      ]
    },
    {
      "cell_type": "code",
      "source": [
        "#save the model\n",
        "model.save(\"/content/drive/MyDrive/Colab Notebooks/Deep Learning/Project 2/bestModel_LSTM.keras\")\n",
        "print(\"Saved Model\")"
      ],
      "metadata": {
        "id": "oQ4k7YiBHw6C",
        "outputId": "f8743841-5564-467a-c1f8-38a85c4e878a",
        "colab": {
          "base_uri": "https://localhost:8080/"
        }
      },
      "execution_count": 39,
      "outputs": [
        {
          "output_type": "stream",
          "name": "stdout",
          "text": [
            "Saved Model\n"
          ]
        }
      ]
    },
    {
      "cell_type": "markdown",
      "source": [
        "# Testing Script"
      ],
      "metadata": {
        "id": "AVq8bgK550VC"
      }
    },
    {
      "cell_type": "code",
      "source": [
        "#import libraries\n",
        "import tensorflow as tf\n",
        "import numpy as np\n",
        "import pandas as pd\n",
        "import csv\n",
        "import os\n",
        "from matplotlib import pyplot as plt\n",
        "\n",
        "\n",
        "## Mount Google drive\n",
        "from google.colab import drive\n",
        "drive.mount('/content/drive', force_remount=True)\n",
        "data_dir = '/content/drive/MyDrive/Colab Notebooks/Deep Learning/Project 2/'\n",
        "\n",
        "###############################################################################\n",
        "#Reading data and normalization\n",
        "\n",
        "#read test.csv, dropping the first column as it just holds the index of the rows, which we don't need\n",
        "testData = pd.read_csv(data_dir + \"test.csv\", sep=',', usecols=[1, 2, 3, 4], names = ['Heart Rate', 'Respiratory Rate', 'O2 Level', 'Label'])\n",
        "\n",
        "\n",
        "# #Normalize the test data using the normalization factors we found in the training data. Hard coded here\n",
        "normValues = [[40, 200], [15, 90], [80, 100]]   #from training\n",
        "testData['Heart Rate'] = (testData['Heart Rate'] - normValues[0][0]) / (normValues[0][1] - normValues[0][0])\n",
        "testData['Respiratory Rate'] = (testData['Respiratory Rate'] - normValues[1][0]) / (normValues[1][1] - normValues[1][0])\n",
        "testData['O2 Level'] = (testData['O2 Level'] - normValues[2][0]) / (normValues[2][1] - normValues[2][0])\n",
        "\n",
        "\n",
        "###############################################################################\n",
        "#Seperating normalized data into sequences\n",
        "\n",
        "#now we need to process the data by seperating the entire data array into 31 row chunks\n",
        "testData = np.array_split(testData, np.arange(31, len(testData), 31))\n",
        "\n",
        "#pull the labels from the first row of each sequence, save it to an array, then drop the label col from this data sequence\n",
        "testLabels = []\n",
        "for seq in testData:\n",
        "  label = seq['Label'].iloc[0]    #get the first rows label, and use it for this whole sequence\n",
        "  seq.drop('Label', axis=1, inplace=True)\n",
        "  testLabels.append(label)\n",
        "\n",
        "testLabels = np.asarray(testLabels).astype('int32')\n",
        "\n",
        "#convert dataframes into np arrays and make the whole dataset multidimensional instead of an array of dataframes for tensorflow to properly use\n",
        "testData = np.array([np.array(seq) for seq in testData])\n",
        "\n",
        "\n",
        "\n",
        "###############################################################################\n",
        "#Testing model\n",
        "#evaluating the model on the test data\n",
        "loss, acc = model.evaluate(testData, testLabels, verbose=2)\n",
        "print(\"Loss on test data: \", loss)\n",
        "print(\"Accuracy on test data: \", acc)\n",
        "\n",
        "\n",
        "#load the model from a saved file\n",
        "bestmodel = tf.keras.models.load_model(data_dir + \"bestModel_LSTM.keras\")\n",
        "\n",
        "#evaluating the model on the test data\n",
        "loss, acc = bestmodel.evaluate(testData, testLabels, verbose=2)\n",
        "print(\"Loss on test data: \", loss)\n",
        "print(\"Accuracy on test data: \", acc)"
      ],
      "metadata": {
        "id": "8M7ZIwNM53As",
        "outputId": "c0e7592f-adff-467e-bdcf-69d6224b259a",
        "colab": {
          "base_uri": "https://localhost:8080/"
        }
      },
      "execution_count": 51,
      "outputs": [
        {
          "output_type": "stream",
          "name": "stdout",
          "text": [
            "Mounted at /content/drive\n",
            "1/1 - 0s - loss: 0.7693 - accuracy: 0.7500 - 32ms/epoch - 32ms/step\n",
            "Loss on test data:  0.7693431377410889\n",
            "Accuracy on test data:  0.75\n",
            "1/1 - 10s - loss: 1.0830 - accuracy: 0.7500 - 10s/epoch - 10s/step\n",
            "Loss on test data:  1.0829505920410156\n",
            "Accuracy on test data:  0.75\n"
          ]
        }
      ]
    }
  ]
}