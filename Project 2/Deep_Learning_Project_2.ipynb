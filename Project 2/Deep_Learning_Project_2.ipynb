{
  "nbformat": 4,
  "nbformat_minor": 0,
  "metadata": {
    "colab": {
      "provenance": [],
      "authorship_tag": "ABX9TyNZvoSQTZ47lDwFGxwk3w6j",
      "include_colab_link": true
    },
    "kernelspec": {
      "name": "python3",
      "display_name": "Python 3"
    },
    "language_info": {
      "name": "python"
    }
  },
  "cells": [
    {
      "cell_type": "markdown",
      "metadata": {
        "id": "view-in-github",
        "colab_type": "text"
      },
      "source": [
        "<a href=\"https://colab.research.google.com/github/ChrisKantor/Deep-Learning/blob/main/Project%202/Deep_Learning_Project_2.ipynb\" target=\"_parent\"><img src=\"https://colab.research.google.com/assets/colab-badge.svg\" alt=\"Open In Colab\"/></a>"
      ]
    },
    {
      "cell_type": "code",
      "source": [
        "#Deep learning model that builds on the one made in HW3 for determining an infants pain level using vital signs\n",
        "#This improved model uses LSTM to better understand the sequential readings\n",
        "\n",
        "\n",
        "\n",
        "#Run these commands - NECCESARY to use the GPU\n",
        "# export CUDNN_PATH=$(dirname $(python -c \"import nvidia.cudnn;print(nvidia.cudnn.__file__)\"))\n",
        "# export LD_LIBRARY_PATH=${CUDNN_PATH}/lib\n",
        "\n",
        "#To connect to local runtime: jupyter lab --NotebookApp.allow_origin='https://colab.research.google.com' --port=8888 --NotebookApp.port_retries=0"
      ],
      "metadata": {
        "id": "-gD_j6_iqrxm"
      },
      "execution_count": null,
      "outputs": []
    },
    {
      "cell_type": "code",
      "execution_count": 1,
      "metadata": {
        "id": "aRuH-vPap5nA",
        "outputId": "8245125c-6e46-4d9c-873c-e6a86446b0e0",
        "colab": {
          "base_uri": "https://localhost:8080/"
        }
      },
      "outputs": [
        {
          "output_type": "stream",
          "name": "stdout",
          "text": [
            "Collecting tensorflow_addons\n",
            "  Downloading tensorflow_addons-0.23.0-cp310-cp310-manylinux_2_17_x86_64.manylinux2014_x86_64.whl (611 kB)\n",
            "\u001b[2K     \u001b[90m━━━━━━━━━━━━━━━━━━━━━━━━━━━━━━━━━━━━━━━━\u001b[0m \u001b[32m611.8/611.8 kB\u001b[0m \u001b[31m4.9 MB/s\u001b[0m eta \u001b[36m0:00:00\u001b[0m\n",
            "\u001b[?25hRequirement already satisfied: packaging in /usr/local/lib/python3.10/dist-packages (from tensorflow_addons) (24.0)\n",
            "Collecting typeguard<3.0.0,>=2.7 (from tensorflow_addons)\n",
            "  Downloading typeguard-2.13.3-py3-none-any.whl (17 kB)\n",
            "Installing collected packages: typeguard, tensorflow_addons\n",
            "Successfully installed tensorflow_addons-0.23.0 typeguard-2.13.3\n"
          ]
        },
        {
          "output_type": "stream",
          "name": "stderr",
          "text": [
            "/usr/local/lib/python3.10/dist-packages/tensorflow_addons/utils/tfa_eol_msg.py:23: UserWarning: \n",
            "\n",
            "TensorFlow Addons (TFA) has ended development and introduction of new features.\n",
            "TFA has entered a minimal maintenance and release mode until a planned end of life in May 2024.\n",
            "Please modify downstream libraries to take dependencies from other repositories in our TensorFlow community (e.g. Keras, Keras-CV, and Keras-NLP). \n",
            "\n",
            "For more information see: https://github.com/tensorflow/addons/issues/2807 \n",
            "\n",
            "  warnings.warn(\n"
          ]
        }
      ],
      "source": [
        "#import libraries\n",
        "import tensorflow as tf\n",
        "import numpy as np\n",
        "import pandas as pd\n",
        "import csv\n",
        "import os\n",
        "from matplotlib import pyplot as plt\n",
        "import PIL\n",
        "from tensorflow import keras\n",
        "\n",
        "#needed for peephole lstm cell as tensorflow doesn't have native support yet\n",
        "!pip install tensorflow_addons\n",
        "import tensorflow_addons as tfa\n",
        "\n",
        "#potential definition of peephole LSTM cell to get around using the soon to be deprecated tfa verion\n",
        "#taken from here: https://github.com/tensorflow/tensorflow/blob/97f585d506cccc57dc98f234f4d5fcd824dd3c03/tensorflow/python/ops/rnn_cell.py#L353"
      ]
    },
    {
      "cell_type": "code",
      "source": [
        "print(\"Num GPUs Available: \", len(tf.config.list_physical_devices('GPU')))\n",
        "# dir = 'Deep Learning/Project 2/'\n",
        "# data_dir = \"data/\"\n",
        "\n",
        "\n",
        "## Mount Google drive\n",
        "from google.colab import drive\n",
        "drive.mount('/content/drive', force_remount=True)\n",
        "data_dir = '/content/drive/MyDrive/Colab Notebooks/Deep Learning/Project 2/data/'\n",
        "\n",
        "\n",
        "import os\n",
        "print(os.getcwd())"
      ],
      "metadata": {
        "colab": {
          "base_uri": "https://localhost:8080/"
        },
        "id": "z45cpkBIsMQ-",
        "outputId": "a9c8b8a4-141b-4b61-88d2-df25e2eed1fd"
      },
      "execution_count": 256,
      "outputs": [
        {
          "output_type": "stream",
          "name": "stdout",
          "text": [
            "Num GPUs Available:  0\n",
            "Mounted at /content/drive\n",
            "/content\n"
          ]
        }
      ]
    },
    {
      "cell_type": "markdown",
      "source": [
        "# Data Preprocessing"
      ],
      "metadata": {
        "id": "CrrDoReswut8"
      }
    },
    {
      "cell_type": "code",
      "source": [
        "#store a list of dataframes representing the data from the csv files we read in\n",
        "#after reading in all of the csv files as dataframes, iterate through them, cleaning up the data and normalizing the inputs\n",
        "\n",
        "\n",
        "#Should we normalize on a dataframe level or a dataset level?\n",
        "\n",
        "\n",
        "data = []\n",
        "\n",
        "\n",
        "#use the os library to iterate through all files in the current path\n",
        "for (root,dirs,files) in os.walk(data_dir, topdown=True):\n",
        "  #open each CSV file, we don't want to open any other type of file\n",
        "  for f in files:\n",
        "    if f.endswith(\".csv\"):\n",
        "      with open(os.path.join(root, f), mode ='r') as csvFile:\n",
        "\n",
        "        #read in the csv file\n",
        "        csvData = csv.reader(csvFile)\n",
        "\n",
        "        #store the data temporarily before we turn it into a pandas dataframe\n",
        "        temp = []\n",
        "\n",
        "\n",
        "        #check if each row is valid\n",
        "        #one way to tell if the data is invalid is if the label is NOT [0, 1, 2]. This means there was something wrong with one of the sensors at the time of capture\n",
        "        #another way is to check if the heart rate, respiratory rate, or o2 level is too low or too high\n",
        "        #for heart Rate, we want a range of 40 - 200\n",
        "        #for Respiratory Rate, we want a range of 15 - 90\n",
        "        #for o2 level, we want a rate of 80 - 100\n",
        "\n",
        "        for row in csvData:\n",
        "          try:\n",
        "            if row[4] in \"012\" and (int(row[1]) >= 40 and int(row[1]) <= 200) and (int(row[2]) >= 15 and int(row[2]) <= 90) and (int(row[3]) >= 80 and int(row[3]) <= 100):   #data is valid, so add it to the main csv\n",
        "              #row[0] just stores the row # in the csv file, so it is not needed in the training dataset\n",
        "              temp.append([int(row[1]), int(row[2]), int(row[3]), int(row[4])])\n",
        "\n",
        "          #Catches errors that occur when an element cannot be parsed into an integer. In this case the row is invalid so we can skip it\n",
        "          except ValueError:\n",
        "            continue\n",
        "\n",
        "        #if this valid and cleaned sequence is NOT empty, add it to our dataset\n",
        "        if len(temp) > 0:\n",
        "          df = pd.DataFrame(temp, columns = ['Heart Rate', 'Respiratory Rate', 'O2 Level', 'Label'])\n",
        "          data.append(df)\n",
        "\n",
        "print(len(data))"
      ],
      "metadata": {
        "colab": {
          "base_uri": "https://localhost:8080/"
        },
        "id": "n0brwvTJ5rkZ",
        "outputId": "98c11c10-c481-4036-e1ba-8c9ba8a04d0d"
      },
      "execution_count": 257,
      "outputs": [
        {
          "output_type": "stream",
          "name": "stdout",
          "text": [
            "487\n"
          ]
        }
      ]
    },
    {
      "cell_type": "code",
      "source": [
        "#count sequence lengths and how often they appear\n",
        "freqMap = {}\n",
        "for d in data:\n",
        "  if d.shape not in freqMap.keys():\n",
        "    freqMap[d.shape] = 1\n",
        "\n",
        "  else:\n",
        "    freqMap[d.shape] += 1\n",
        "\n",
        "for key, value in freqMap.items():\n",
        "    print(f'{key} -> {value}')\n",
        "\n",
        "\n",
        "#split data into training/validation sets using an 90/10 split\n",
        "data = np.asarray(data, dtype=\"object\")\n",
        "np.random.shuffle(data)\n",
        "\n",
        "trainData, valData = np.split(data, [int(0.90*len(data))])\n",
        "\n",
        "print(len(trainData), len(valData))\n",
        "\n",
        "#remove the labels from the trainingData and validation data, also storing them as a list\n",
        "#we don't need the entire column of labels, just the first rows label\n",
        "trainLabels = []\n",
        "valLabels = []\n",
        "\n",
        "for df in trainData:\n",
        "  label = df['Label'].iloc[0]    #get the first rows label, and use it for this whole sequence\n",
        "  df.drop('Label', axis=1, inplace=True)\n",
        "  trainLabels.append(label)\n",
        "\n",
        "for df in valData:\n",
        "  label = df['Label'].iloc[0]    #get the first rows label, and use it for this whole sequence\n",
        "  df.drop('Label', axis=1, inplace=True)\n",
        "  valLabels.append(label)\n",
        "\n",
        "trainLabels = np.asarray(trainLabels).astype('int32')\n",
        "valLabels = np.asarray(valLabels).astype('int32')\n",
        "print(trainData.shape, len(trainLabels))\n",
        "print(valData.shape, len(valLabels))\n",
        "\n",
        "trainLabelMap = {}\n",
        "for label in trainLabels:\n",
        "  if label not in trainLabelMap.keys():\n",
        "    trainLabelMap[label] = 1\n",
        "  else:\n",
        "    trainLabelMap[label] += 1\n",
        "\n",
        "\n",
        "valLabelMap = {}\n",
        "for label in valLabels:\n",
        "  if label not in valLabelMap.keys():\n",
        "    valLabelMap[label] = 1\n",
        "  else:\n",
        "    valLabelMap[label] += 1\n",
        "\n",
        "print(trainLabelMap)\n",
        "print(valLabelMap)"
      ],
      "metadata": {
        "id": "4Xy6b8Q6LoY3",
        "outputId": "705556e7-45a4-41d6-8739-d2b777940ded",
        "colab": {
          "base_uri": "https://localhost:8080/"
        }
      },
      "execution_count": 258,
      "outputs": [
        {
          "output_type": "stream",
          "name": "stdout",
          "text": [
            "(31, 4) -> 381\n",
            "(30, 4) -> 31\n",
            "(14, 4) -> 2\n",
            "(29, 4) -> 21\n",
            "(5, 4) -> 1\n",
            "(11, 4) -> 1\n",
            "(21, 4) -> 4\n",
            "(4, 4) -> 1\n",
            "(7, 4) -> 1\n",
            "(27, 4) -> 10\n",
            "(28, 4) -> 15\n",
            "(25, 4) -> 4\n",
            "(26, 4) -> 6\n",
            "(17, 4) -> 2\n",
            "(22, 4) -> 2\n",
            "(24, 4) -> 2\n",
            "(23, 4) -> 2\n",
            "(15, 4) -> 1\n",
            "438 49\n",
            "(438,) 438\n",
            "(49,) 49\n",
            "{0: 247, 1: 163, 2: 28}\n",
            "{0: 31, 1: 16, 2: 2}\n"
          ]
        }
      ]
    },
    {
      "cell_type": "code",
      "source": [
        "#normalize data using only the training set\n",
        "#save the values, then iterate through the training and validation dataset and use min-max normalization\n",
        "#df[column] = (df[column] - df[column].min()) / (df[column].max() - df[column].min())\n",
        "\n",
        "#[[Heart Rate Min, Heart Rate Max], [Respiratory Rate Min, Respiratory Rate Max], [O2 Level Min, O2 Level Max]]\n",
        "\n",
        "normValues = [[40, 200], [15, 90], [80, 100]]   #from data cleaning\n",
        "\n",
        "print(normValues)\n",
        "\n",
        "\n",
        "\n",
        "#normalizing the data:\n",
        "for df in trainData:\n",
        "  df['Heart Rate'] = (df['Heart Rate'] - normValues[0][0]) / (normValues[0][1] - normValues[0][0])\n",
        "  df['Respiratory Rate'] = (df['Respiratory Rate'] - normValues[1][0]) / (normValues[1][1] - normValues[1][0])\n",
        "  df['O2 Level'] = (df['O2 Level'] - normValues[2][0]) / (normValues[2][1] - normValues[2][0])\n",
        "\n",
        "for df in valData:\n",
        "  df['Heart Rate'] = (df['Heart Rate'] - normValues[0][0]) / (normValues[0][1] - normValues[0][0])\n",
        "  df['Respiratory Rate'] = (df['Respiratory Rate'] - normValues[1][0]) / (normValues[1][1] - normValues[1][0])\n",
        "  df['O2 Level'] = (df['O2 Level'] - normValues[2][0]) / (normValues[2][1] - normValues[2][0])"
      ],
      "metadata": {
        "id": "FQgBFE7onqWI",
        "colab": {
          "base_uri": "https://localhost:8080/"
        },
        "outputId": "aa0b7fbf-7362-4df1-faa4-bd69eccb5266"
      },
      "execution_count": 259,
      "outputs": [
        {
          "output_type": "stream",
          "name": "stdout",
          "text": [
            "[[40, 200], [15, 90], [80, 100]]\n"
          ]
        }
      ]
    },
    {
      "cell_type": "code",
      "source": [
        "#Data Augmentation\n",
        "#randomly select sequences from the training dataset by picking random indices (to also save the correct labels)\n",
        "#remove some random amout of entries from the end of these sequences, and save them as new ones\n",
        "\n",
        "import random\n",
        "\n",
        "print(trainData.shape, len(trainLabels))\n",
        "\n",
        "#using a 50% chance to augment a sequence\n",
        "aug_idx = []\n",
        "aug_train_data = []\n",
        "aug_labels = []\n",
        "\n",
        "for i in range(len(trainData)):\n",
        "  if random.random() >= 0.50:\n",
        "    aug_idx.append(i)\n",
        "\n",
        "print(len(aug_idx))\n",
        "print(aug_idx)\n",
        "\n",
        "#now we have a list of indices we want to augment\n",
        "\n",
        "for idx in aug_idx:\n",
        "\n",
        "  #copy seq we want to augment and its label\n",
        "  aug = trainData[idx]\n",
        "  label = trainLabels[idx]\n",
        "\n",
        "  #randomly drop between 1 element to 50% of elements from the end of this sequence, then save it as a new sequence\n",
        "  drop = int(random.randint(1, int(aug.shape[0] * 0.50)))\n",
        "  aug = df.drop(df.tail(drop).index)\n",
        "\n",
        "  if aug.shape[0] > 31:\n",
        "    print(\"ERROR: \", aug.shape)\n",
        "\n",
        "  aug_train_data.append(aug)\n",
        "  aug_labels.append(label)\n",
        "\n",
        "print(len(aug_train_data), len(aug_labels))\n",
        "\n",
        "#now add the augmented data and labels to the original lists\n",
        "\n",
        "#convert original data/label np arrays back to python lists\n",
        "trainData = trainData.tolist()\n",
        "trainLabels = trainLabels.tolist()\n",
        "\n",
        "#add our augmented data to the end of these lists\n",
        "trainData.extend(aug_train_data)\n",
        "trainLabels.extend(aug_labels)\n",
        "\n",
        "#convert the arrays back to np arrays\n",
        "trainData = np.asarray(trainData, dtype=\"object\")\n",
        "trainLabels = np.array(trainLabels)\n",
        "\n",
        "print(trainData.shape, len(trainLabels))"
      ],
      "metadata": {
        "colab": {
          "base_uri": "https://localhost:8080/"
        },
        "id": "wEDSoHiv2gPX",
        "outputId": "e0959171-edd7-4291-f419-70496278d6e1"
      },
      "execution_count": 260,
      "outputs": [
        {
          "output_type": "stream",
          "name": "stdout",
          "text": [
            "(438,) 438\n",
            "217\n",
            "[4, 5, 6, 7, 8, 9, 10, 11, 14, 18, 19, 20, 23, 24, 25, 26, 31, 34, 35, 36, 39, 40, 43, 45, 47, 48, 49, 50, 51, 52, 53, 54, 55, 57, 58, 60, 61, 63, 66, 69, 72, 75, 76, 78, 80, 83, 84, 85, 86, 88, 89, 91, 94, 95, 97, 100, 107, 112, 113, 116, 117, 119, 121, 122, 124, 125, 127, 131, 132, 133, 134, 135, 138, 139, 144, 145, 146, 149, 150, 153, 154, 158, 159, 162, 164, 166, 167, 169, 170, 172, 174, 175, 181, 183, 185, 186, 187, 188, 189, 190, 193, 194, 197, 198, 200, 201, 205, 206, 207, 208, 209, 213, 218, 219, 224, 229, 231, 232, 235, 236, 237, 239, 240, 243, 247, 249, 250, 252, 253, 256, 257, 260, 261, 266, 270, 271, 272, 273, 275, 276, 277, 278, 279, 283, 285, 286, 287, 288, 291, 292, 293, 294, 296, 297, 298, 299, 304, 305, 308, 310, 311, 316, 319, 322, 323, 329, 330, 337, 338, 339, 341, 343, 345, 348, 349, 353, 354, 355, 357, 358, 359, 360, 362, 363, 364, 365, 368, 370, 372, 374, 375, 377, 382, 384, 385, 392, 395, 396, 399, 403, 405, 406, 410, 412, 414, 417, 418, 419, 424, 426, 427, 430, 432, 433, 434, 436, 437]\n",
            "217 217\n",
            "(655,) 655\n"
          ]
        }
      ]
    },
    {
      "cell_type": "code",
      "source": [
        "#Data padding\n",
        "#inputs to GRU cells are in the form of [batch, timesteps, feature]\n",
        "#our sequences have multiple lengths, so we need to pad this data to get all of the sequences to have a length of 31 (indices 0-30)\n",
        "#we can pad the data by adding rows of 0's, and use a masking layer to ignore them when training the model\n",
        "\n",
        "for i in range(len(trainData)):\n",
        "  if trainData[i].shape[0] < 31:\n",
        "    padding = pd.DataFrame(0, index=np.arange(trainData[i].shape[0], 31), columns=trainData[i].columns)\n",
        "    trainData[i] = pd.concat([trainData[i], padding])\n",
        "\n",
        "for i in range(len(valData)):\n",
        "  if valData[i].shape[0] < 31:\n",
        "    padding = pd.DataFrame(0, index=np.arange(valData[i].shape[0], 31), columns=valData[i].columns)\n",
        "    valData[i] = pd.concat([valData[i], padding])"
      ],
      "metadata": {
        "id": "ypAB10mGl136"
      },
      "execution_count": 261,
      "outputs": []
    },
    {
      "cell_type": "code",
      "source": [
        "#convert dataframes into np arrays and make the whole dataset multidimensional instead of an array of dataframes for tensorflow to properly use\n",
        "trainData = np.array([np.array(val) for val in trainData])\n",
        "valData = np.array([np.array(val) for val in valData])"
      ],
      "metadata": {
        "id": "yQEEoXxWwW2O"
      },
      "execution_count": 262,
      "outputs": []
    },
    {
      "cell_type": "markdown",
      "source": [
        "# Model Setup"
      ],
      "metadata": {
        "id": "upaZTSH3w0qs"
      }
    },
    {
      "cell_type": "code",
      "source": [
        "#need to seed initialization\n",
        "seed = 8312001\n",
        "\n",
        "tf.keras.utils.set_random_seed(seed)"
      ],
      "metadata": {
        "id": "4HlHAADR50xW"
      },
      "execution_count": 263,
      "outputs": []
    },
    {
      "cell_type": "code",
      "source": [
        "#input is taken in the form of: [batch, timesteps, feature]\n",
        "\n",
        "input = tf.keras.layers.Input(shape=(31, 3))\n",
        "mask = tf.keras.layers.Masking(mask_value=0., input_shape=(31, 3)) (input)\n",
        "x = (tf.keras.layers.LSTM(256, return_sequences=True, kernel_regularizer = tf.keras.regularizers.l2(), recurrent_regularizer = tf.keras.regularizers.l2())) (mask)\n",
        "x = (tf.keras.layers.LSTM(64, return_sequences=True, kernel_regularizer = tf.keras.regularizers.l2(), recurrent_regularizer = tf.keras.regularizers.l2())) (x)\n",
        "# x = (tf.keras.layers.LSTM(32, return_sequences=True, return_state=True, kernel_regularizer = tf.keras.regularizers.l2(), recurrent_regularizer = tf.keras.regularizers.l2())) (x)\n",
        "# x = (tf.keras.layers.LSTM(32, return_sequences=True, kernel_regularizer = tf.keras.regularizers.l2(), recurrent_regularizer = tf.keras.regularizers.l2())) (x)\n",
        "x = (tf.keras.layers.Flatten()) (x)\n",
        "x = (tf.keras.layers.Dense(64, activation='relu', kernel_regularizer = tf.keras.regularizers.l2())) (x)\n",
        "output = (tf.keras.layers.Dense(3)) (x)\n",
        "\n",
        "model = keras.Model(input, output, name=\"LSTM_Model\")"
      ],
      "metadata": {
        "id": "CClHL9t2w3kc"
      },
      "execution_count": 292,
      "outputs": []
    },
    {
      "cell_type": "code",
      "source": [
        "#Peephole LSTM Model\n",
        "#uses the tfa PeepholeLSTMCell, which is equivalent to the normal tf LSTMCell, but adds peephole connections\n",
        "#soon to be deprecated\n",
        "\n",
        "input = tf.keras.layers.Input(shape=(31, 3))\n",
        "mask = tf.keras.layers.Masking(mask_value=0., input_shape=(31, 3)) (input)\n",
        "\n",
        "Peep_LSTMCell = tfa.rnn.PeepholeLSTMCell(32, kernel_regularizer = tf.keras.regularizers.l2(), recurrent_regularizer = tf.keras.regularizers.l2())\n",
        "\n",
        "x = (tf.keras.layers.RNN(Peep_LSTMCell, return_sequences=True)) (mask)\n",
        "# x = (tf.keras.layers.RNN(Peep_LSTMCell, return_sequences=True)) (x)\n",
        "# x = (tf.keras.layers.RNN(Peep_LSTMCell, return_sequences=True, return_state=True)) (x)\n",
        "# x = (tf.keras.layers.RNN(Peep_LSTMCell, return_sequences=True)) (x)\n",
        "x = (tf.keras.layers.Flatten()) (x)\n",
        "x = (tf.keras.layers.Dense(64, activation='relu', kernel_regularizer = tf.keras.regularizers.l2())) (x)\n",
        "# x = (tf.keras.layers.Dropout(0.5)) (x)\n",
        "# x = (tf.keras.layers.Dense(64, activation='relu', kernel_regularizer = tf.keras.regularizers.l2())) (x)\n",
        "output = (tf.keras.layers.Dense(3)) (x)\n",
        "\n",
        "peep_model = keras.Model(input, output, name=\"Peephole_LSTM_Model\")\n"
      ],
      "metadata": {
        "id": "fQOBam913OUL"
      },
      "execution_count": 246,
      "outputs": []
    },
    {
      "cell_type": "markdown",
      "source": [
        "# Model Training"
      ],
      "metadata": {
        "id": "G1Fi-MTs5vzo"
      }
    },
    {
      "cell_type": "code",
      "source": [
        "models = [model, peep_model]\n",
        "\n",
        "model = model"
      ],
      "metadata": {
        "id": "QMyJhVBy6BY8"
      },
      "execution_count": 293,
      "outputs": []
    },
    {
      "cell_type": "code",
      "source": [
        "#our learning rate scheduler. Will gradually shrink the learning rate as training progesses to find a better converging point.\n",
        "lr_schedule = tf.keras.optimizers.schedules.ExponentialDecay(\n",
        "    0.001,\n",
        "    decay_steps=100000,\n",
        "    decay_rate=0.96,\n",
        "    staircase=True)\n",
        "\n",
        "checkpoint_filepath = '/content/drive/MyDrive/Colab Notebooks/Deep Learning/Project 2/checkpoint'\n",
        "model_checkpoint_callback = tf.keras.callbacks.ModelCheckpoint(\n",
        "    filepath=checkpoint_filepath,\n",
        "    save_weights_only=True,\n",
        "    monitor='val_accuracy',\n",
        "    mode='max',\n",
        "    save_best_only=True)\n",
        "\n",
        "#early stopping callback. stop if the loss doesn't improve for 7 epochs in a row\n",
        "early_stopping_callback = tf.keras.callbacks.EarlyStopping(\n",
        "    monitor='loss',\n",
        "    patience=5,\n",
        "    start_from_epoch=20)\n",
        "\n",
        "\n",
        "opt = tf.keras.optimizers.Adam(learning_rate=lr_schedule)\n",
        "loss_fn = tf.keras.losses.SparseCategoricalCrossentropy(from_logits=True)\n",
        "model.compile(optimizer=opt,\n",
        "              loss=loss_fn,\n",
        "              metrics=['accuracy'])\n",
        "model.summary()"
      ],
      "metadata": {
        "id": "X0_nUOY_50Dw",
        "colab": {
          "base_uri": "https://localhost:8080/"
        },
        "outputId": "89e14c13-05c7-4b2f-b7f7-ed974aa06447"
      },
      "execution_count": 294,
      "outputs": [
        {
          "output_type": "stream",
          "name": "stdout",
          "text": [
            "Model: \"LSTM_Model\"\n",
            "_________________________________________________________________\n",
            " Layer (type)                Output Shape              Param #   \n",
            "=================================================================\n",
            " input_32 (InputLayer)       [(None, 31, 3)]           0         \n",
            "                                                                 \n",
            " masking_31 (Masking)        (None, 31, 3)             0         \n",
            "                                                                 \n",
            " lstm_23 (LSTM)              (None, 31, 256)           266240    \n",
            "                                                                 \n",
            " lstm_24 (LSTM)              (None, 31, 64)            82176     \n",
            "                                                                 \n",
            " flatten_31 (Flatten)        (None, 1984)              0         \n",
            "                                                                 \n",
            " dense_63 (Dense)            (None, 64)                127040    \n",
            "                                                                 \n",
            " dense_64 (Dense)            (None, 3)                 195       \n",
            "                                                                 \n",
            "=================================================================\n",
            "Total params: 475651 (1.81 MB)\n",
            "Trainable params: 475651 (1.81 MB)\n",
            "Non-trainable params: 0 (0.00 Byte)\n",
            "_________________________________________________________________\n"
          ]
        }
      ]
    },
    {
      "cell_type": "code",
      "source": [
        "#train the model\n",
        "#Some hyperparameter setup\n",
        "batch_size = 256           #set batch size to 256\n",
        "epochs = 100               #set num epochs to 100\n",
        "\n",
        "history = model.fit(\n",
        "    trainData,\n",
        "    trainLabels,\n",
        "    validation_data=(valData, valLabels),\n",
        "    batch_size=batch_size,\n",
        "    epochs=epochs,\n",
        "    callbacks=[model_checkpoint_callback]\n",
        ")"
      ],
      "metadata": {
        "id": "zlLqB23znTXc",
        "colab": {
          "base_uri": "https://localhost:8080/"
        },
        "outputId": "24892b2d-a5c9-4777-a0fc-0bf9e60d79ba"
      },
      "execution_count": 295,
      "outputs": [
        {
          "output_type": "stream",
          "name": "stdout",
          "text": [
            "Epoch 1/100\n",
            "3/3 [==============================] - 14s 2s/step - loss: 7.8955 - accuracy: 0.4977 - val_loss: 7.1765 - val_accuracy: 0.6327\n",
            "Epoch 2/100\n",
            "3/3 [==============================] - 2s 819ms/step - loss: 7.0456 - accuracy: 0.5588 - val_loss: 6.5297 - val_accuracy: 0.6735\n",
            "Epoch 3/100\n",
            "3/3 [==============================] - 1s 468ms/step - loss: 6.3977 - accuracy: 0.5466 - val_loss: 5.8782 - val_accuracy: 0.6327\n",
            "Epoch 4/100\n",
            "3/3 [==============================] - 1s 468ms/step - loss: 5.7803 - accuracy: 0.5588 - val_loss: 5.3494 - val_accuracy: 0.6327\n",
            "Epoch 5/100\n",
            "3/3 [==============================] - 1s 460ms/step - loss: 5.2540 - accuracy: 0.5588 - val_loss: 4.8430 - val_accuracy: 0.6327\n",
            "Epoch 6/100\n",
            "3/3 [==============================] - 2s 499ms/step - loss: 4.7645 - accuracy: 0.5588 - val_loss: 4.3758 - val_accuracy: 0.6327\n",
            "Epoch 7/100\n",
            "3/3 [==============================] - 1s 482ms/step - loss: 4.3272 - accuracy: 0.5588 - val_loss: 3.9915 - val_accuracy: 0.6327\n",
            "Epoch 8/100\n",
            "3/3 [==============================] - 1s 478ms/step - loss: 3.9474 - accuracy: 0.5603 - val_loss: 3.6341 - val_accuracy: 0.6327\n",
            "Epoch 9/100\n",
            "3/3 [==============================] - 2s 667ms/step - loss: 3.5979 - accuracy: 0.5603 - val_loss: 3.3058 - val_accuracy: 0.6327\n",
            "Epoch 10/100\n",
            "3/3 [==============================] - 2s 809ms/step - loss: 3.2925 - accuracy: 0.5588 - val_loss: 3.0391 - val_accuracy: 0.6327\n",
            "Epoch 11/100\n",
            "3/3 [==============================] - 2s 470ms/step - loss: 3.0235 - accuracy: 0.5603 - val_loss: 2.7973 - val_accuracy: 0.6327\n",
            "Epoch 12/100\n",
            "3/3 [==============================] - 2s 472ms/step - loss: 2.7847 - accuracy: 0.5603 - val_loss: 2.5656 - val_accuracy: 0.6327\n",
            "Epoch 13/100\n",
            "3/3 [==============================] - 1s 467ms/step - loss: 2.5734 - accuracy: 0.5603 - val_loss: 2.3649 - val_accuracy: 0.6327\n",
            "Epoch 14/100\n",
            "3/3 [==============================] - 2s 501ms/step - loss: 2.3866 - accuracy: 0.5603 - val_loss: 2.1923 - val_accuracy: 0.6327\n",
            "Epoch 15/100\n",
            "3/3 [==============================] - 1s 471ms/step - loss: 2.2184 - accuracy: 0.5618 - val_loss: 2.0481 - val_accuracy: 0.6531\n",
            "Epoch 16/100\n",
            "3/3 [==============================] - 1s 469ms/step - loss: 2.0695 - accuracy: 0.5603 - val_loss: 1.8918 - val_accuracy: 0.6531\n",
            "Epoch 17/100\n",
            "3/3 [==============================] - 1s 470ms/step - loss: 1.9523 - accuracy: 0.5603 - val_loss: 1.7862 - val_accuracy: 0.6735\n",
            "Epoch 18/100\n",
            "3/3 [==============================] - 2s 766ms/step - loss: 1.8336 - accuracy: 0.5557 - val_loss: 1.6588 - val_accuracy: 0.6531\n",
            "Epoch 19/100\n",
            "3/3 [==============================] - 2s 730ms/step - loss: 1.7264 - accuracy: 0.5573 - val_loss: 1.5721 - val_accuracy: 0.6735\n",
            "Epoch 20/100\n",
            "3/3 [==============================] - 1s 476ms/step - loss: 1.6455 - accuracy: 0.5618 - val_loss: 1.4741 - val_accuracy: 0.6531\n",
            "Epoch 21/100\n",
            "3/3 [==============================] - 1s 466ms/step - loss: 1.5600 - accuracy: 0.5603 - val_loss: 1.4067 - val_accuracy: 0.6531\n",
            "Epoch 22/100\n",
            "3/3 [==============================] - 2s 509ms/step - loss: 1.4749 - accuracy: 0.5695 - val_loss: 1.3586 - val_accuracy: 0.7143\n",
            "Epoch 23/100\n",
            "3/3 [==============================] - 1s 467ms/step - loss: 1.4152 - accuracy: 0.5496 - val_loss: 1.2637 - val_accuracy: 0.6531\n",
            "Epoch 24/100\n",
            "3/3 [==============================] - 1s 462ms/step - loss: 1.3515 - accuracy: 0.5771 - val_loss: 1.2421 - val_accuracy: 0.6327\n",
            "Epoch 25/100\n",
            "3/3 [==============================] - 1s 471ms/step - loss: 1.3021 - accuracy: 0.5557 - val_loss: 1.2142 - val_accuracy: 0.6735\n",
            "Epoch 26/100\n",
            "3/3 [==============================] - 2s 601ms/step - loss: 1.3093 - accuracy: 0.5573 - val_loss: 1.1934 - val_accuracy: 0.6327\n",
            "Epoch 27/100\n",
            "3/3 [==============================] - 2s 795ms/step - loss: 1.2377 - accuracy: 0.5542 - val_loss: 1.1077 - val_accuracy: 0.6735\n",
            "Epoch 28/100\n",
            "3/3 [==============================] - 2s 515ms/step - loss: 1.2016 - accuracy: 0.5679 - val_loss: 1.0797 - val_accuracy: 0.6735\n",
            "Epoch 29/100\n",
            "3/3 [==============================] - 1s 466ms/step - loss: 1.1600 - accuracy: 0.5588 - val_loss: 1.0810 - val_accuracy: 0.6939\n",
            "Epoch 30/100\n",
            "3/3 [==============================] - 1s 479ms/step - loss: 1.1353 - accuracy: 0.5573 - val_loss: 1.0238 - val_accuracy: 0.6735\n",
            "Epoch 31/100\n",
            "3/3 [==============================] - 1s 475ms/step - loss: 1.0979 - accuracy: 0.5664 - val_loss: 0.9783 - val_accuracy: 0.6735\n",
            "Epoch 32/100\n",
            "3/3 [==============================] - 1s 467ms/step - loss: 1.0721 - accuracy: 0.5725 - val_loss: 0.9622 - val_accuracy: 0.6939\n",
            "Epoch 33/100\n",
            "3/3 [==============================] - 1s 457ms/step - loss: 1.0508 - accuracy: 0.5618 - val_loss: 0.9315 - val_accuracy: 0.6939\n",
            "Epoch 34/100\n",
            "3/3 [==============================] - 1s 465ms/step - loss: 1.0466 - accuracy: 0.5740 - val_loss: 0.9263 - val_accuracy: 0.6939\n",
            "Epoch 35/100\n",
            "3/3 [==============================] - 2s 806ms/step - loss: 1.0145 - accuracy: 0.5695 - val_loss: 0.9008 - val_accuracy: 0.7143\n",
            "Epoch 36/100\n",
            "3/3 [==============================] - 2s 785ms/step - loss: 0.9987 - accuracy: 0.5817 - val_loss: 0.8872 - val_accuracy: 0.7143\n",
            "Epoch 37/100\n",
            "3/3 [==============================] - 1s 469ms/step - loss: 0.9858 - accuracy: 0.5756 - val_loss: 0.8910 - val_accuracy: 0.7143\n",
            "Epoch 38/100\n",
            "3/3 [==============================] - 1s 468ms/step - loss: 0.9672 - accuracy: 0.5924 - val_loss: 0.8599 - val_accuracy: 0.6735\n",
            "Epoch 39/100\n",
            "3/3 [==============================] - 1s 458ms/step - loss: 0.9576 - accuracy: 0.5863 - val_loss: 0.8675 - val_accuracy: 0.6735\n",
            "Epoch 40/100\n",
            "3/3 [==============================] - 1s 474ms/step - loss: 0.9489 - accuracy: 0.5740 - val_loss: 0.8326 - val_accuracy: 0.7143\n",
            "Epoch 41/100\n",
            "3/3 [==============================] - 1s 470ms/step - loss: 0.9353 - accuracy: 0.5878 - val_loss: 0.8221 - val_accuracy: 0.7143\n",
            "Epoch 42/100\n",
            "3/3 [==============================] - 1s 472ms/step - loss: 0.9364 - accuracy: 0.5756 - val_loss: 0.8228 - val_accuracy: 0.7143\n",
            "Epoch 43/100\n",
            "3/3 [==============================] - 2s 549ms/step - loss: 0.9157 - accuracy: 0.5756 - val_loss: 0.8075 - val_accuracy: 0.6735\n",
            "Epoch 44/100\n",
            "3/3 [==============================] - 2s 774ms/step - loss: 0.9114 - accuracy: 0.5924 - val_loss: 0.8082 - val_accuracy: 0.7143\n",
            "Epoch 45/100\n",
            "3/3 [==============================] - 2s 576ms/step - loss: 0.9102 - accuracy: 0.5649 - val_loss: 0.7909 - val_accuracy: 0.7143\n",
            "Epoch 46/100\n",
            "3/3 [==============================] - 1s 479ms/step - loss: 0.9009 - accuracy: 0.5939 - val_loss: 0.7925 - val_accuracy: 0.6939\n",
            "Epoch 47/100\n",
            "3/3 [==============================] - 1s 463ms/step - loss: 0.8937 - accuracy: 0.5740 - val_loss: 0.7921 - val_accuracy: 0.7143\n",
            "Epoch 48/100\n",
            "3/3 [==============================] - 1s 472ms/step - loss: 0.8801 - accuracy: 0.5832 - val_loss: 0.7767 - val_accuracy: 0.6735\n",
            "Epoch 49/100\n",
            "3/3 [==============================] - 1s 465ms/step - loss: 0.8885 - accuracy: 0.5832 - val_loss: 0.7884 - val_accuracy: 0.6939\n",
            "Epoch 50/100\n",
            "3/3 [==============================] - 1s 465ms/step - loss: 0.8867 - accuracy: 0.5817 - val_loss: 0.7687 - val_accuracy: 0.7143\n",
            "Epoch 51/100\n",
            "3/3 [==============================] - 1s 469ms/step - loss: 0.8820 - accuracy: 0.5802 - val_loss: 0.7647 - val_accuracy: 0.6735\n",
            "Epoch 52/100\n",
            "3/3 [==============================] - 2s 754ms/step - loss: 0.8755 - accuracy: 0.5771 - val_loss: 0.7858 - val_accuracy: 0.6939\n",
            "Epoch 53/100\n",
            "3/3 [==============================] - 2s 774ms/step - loss: 0.8693 - accuracy: 0.5863 - val_loss: 0.7544 - val_accuracy: 0.6735\n",
            "Epoch 54/100\n",
            "3/3 [==============================] - 2s 466ms/step - loss: 0.8651 - accuracy: 0.5939 - val_loss: 0.7534 - val_accuracy: 0.7143\n",
            "Epoch 55/100\n",
            "3/3 [==============================] - 1s 471ms/step - loss: 0.8607 - accuracy: 0.5771 - val_loss: 0.7402 - val_accuracy: 0.7143\n",
            "Epoch 56/100\n",
            "3/3 [==============================] - 1s 471ms/step - loss: 0.8605 - accuracy: 0.5954 - val_loss: 0.7435 - val_accuracy: 0.7143\n",
            "Epoch 57/100\n",
            "3/3 [==============================] - 2s 525ms/step - loss: 0.8547 - accuracy: 0.5771 - val_loss: 0.7461 - val_accuracy: 0.7347\n",
            "Epoch 58/100\n",
            "3/3 [==============================] - 1s 465ms/step - loss: 0.8503 - accuracy: 0.5832 - val_loss: 0.7368 - val_accuracy: 0.7143\n",
            "Epoch 59/100\n",
            "3/3 [==============================] - 1s 465ms/step - loss: 0.8460 - accuracy: 0.5969 - val_loss: 0.7502 - val_accuracy: 0.7143\n",
            "Epoch 60/100\n",
            "3/3 [==============================] - 2s 514ms/step - loss: 0.8499 - accuracy: 0.5847 - val_loss: 0.7278 - val_accuracy: 0.7143\n",
            "Epoch 61/100\n",
            "3/3 [==============================] - 2s 795ms/step - loss: 0.8430 - accuracy: 0.6000 - val_loss: 0.7372 - val_accuracy: 0.7347\n",
            "Epoch 62/100\n",
            "3/3 [==============================] - 2s 636ms/step - loss: 0.8427 - accuracy: 0.5664 - val_loss: 0.7227 - val_accuracy: 0.7143\n",
            "Epoch 63/100\n",
            "3/3 [==============================] - 1s 479ms/step - loss: 0.8383 - accuracy: 0.5985 - val_loss: 0.7252 - val_accuracy: 0.7143\n",
            "Epoch 64/100\n",
            "3/3 [==============================] - 1s 467ms/step - loss: 0.8359 - accuracy: 0.5847 - val_loss: 0.7176 - val_accuracy: 0.7347\n",
            "Epoch 65/100\n",
            "3/3 [==============================] - 2s 475ms/step - loss: 0.8540 - accuracy: 0.5878 - val_loss: 0.7469 - val_accuracy: 0.6735\n",
            "Epoch 66/100\n",
            "3/3 [==============================] - 1s 473ms/step - loss: 0.8534 - accuracy: 0.5847 - val_loss: 0.7318 - val_accuracy: 0.7143\n",
            "Epoch 67/100\n",
            "3/3 [==============================] - 1s 469ms/step - loss: 0.8445 - accuracy: 0.5924 - val_loss: 0.7252 - val_accuracy: 0.6735\n",
            "Epoch 68/100\n",
            "3/3 [==============================] - 1s 477ms/step - loss: 0.8349 - accuracy: 0.5847 - val_loss: 0.7331 - val_accuracy: 0.7347\n",
            "Epoch 69/100\n",
            "3/3 [==============================] - 2s 742ms/step - loss: 0.8343 - accuracy: 0.5908 - val_loss: 0.7096 - val_accuracy: 0.6939\n",
            "Epoch 70/100\n",
            "3/3 [==============================] - 2s 771ms/step - loss: 0.8426 - accuracy: 0.5847 - val_loss: 0.7137 - val_accuracy: 0.7347\n",
            "Epoch 71/100\n",
            "3/3 [==============================] - 2s 467ms/step - loss: 0.8303 - accuracy: 0.5725 - val_loss: 0.7085 - val_accuracy: 0.7347\n",
            "Epoch 72/100\n",
            "3/3 [==============================] - 1s 473ms/step - loss: 0.8269 - accuracy: 0.5985 - val_loss: 0.7051 - val_accuracy: 0.7347\n",
            "Epoch 73/100\n",
            "3/3 [==============================] - 1s 474ms/step - loss: 0.8256 - accuracy: 0.5802 - val_loss: 0.6945 - val_accuracy: 0.7347\n",
            "Epoch 74/100\n",
            "3/3 [==============================] - 1s 474ms/step - loss: 0.8267 - accuracy: 0.6000 - val_loss: 0.6956 - val_accuracy: 0.7143\n",
            "Epoch 75/100\n",
            "3/3 [==============================] - 1s 469ms/step - loss: 0.8232 - accuracy: 0.5832 - val_loss: 0.6991 - val_accuracy: 0.7143\n",
            "Epoch 76/100\n",
            "3/3 [==============================] - 1s 464ms/step - loss: 0.8300 - accuracy: 0.6031 - val_loss: 0.7316 - val_accuracy: 0.6327\n",
            "Epoch 77/100\n",
            "3/3 [==============================] - 1s 473ms/step - loss: 0.8331 - accuracy: 0.5847 - val_loss: 0.6996 - val_accuracy: 0.7347\n",
            "Epoch 78/100\n",
            "3/3 [==============================] - 2s 762ms/step - loss: 0.8238 - accuracy: 0.6092 - val_loss: 0.7006 - val_accuracy: 0.7347\n",
            "Epoch 79/100\n",
            "3/3 [==============================] - 2s 697ms/step - loss: 0.8201 - accuracy: 0.5908 - val_loss: 0.6879 - val_accuracy: 0.7143\n",
            "Epoch 80/100\n",
            "3/3 [==============================] - 1s 476ms/step - loss: 0.8205 - accuracy: 0.5908 - val_loss: 0.7005 - val_accuracy: 0.6939\n",
            "Epoch 81/100\n",
            "3/3 [==============================] - 1s 473ms/step - loss: 0.8363 - accuracy: 0.5954 - val_loss: 0.7206 - val_accuracy: 0.7143\n",
            "Epoch 82/100\n",
            "3/3 [==============================] - 1s 465ms/step - loss: 0.8308 - accuracy: 0.6015 - val_loss: 0.6990 - val_accuracy: 0.6939\n",
            "Epoch 83/100\n",
            "3/3 [==============================] - 2s 506ms/step - loss: 0.8368 - accuracy: 0.5985 - val_loss: 0.6918 - val_accuracy: 0.7551\n",
            "Epoch 84/100\n",
            "3/3 [==============================] - 1s 480ms/step - loss: 0.8163 - accuracy: 0.5802 - val_loss: 0.6849 - val_accuracy: 0.7143\n",
            "Epoch 85/100\n",
            "3/3 [==============================] - 1s 472ms/step - loss: 0.8189 - accuracy: 0.6092 - val_loss: 0.6824 - val_accuracy: 0.7551\n",
            "Epoch 86/100\n",
            "3/3 [==============================] - 2s 688ms/step - loss: 0.8215 - accuracy: 0.5863 - val_loss: 0.6897 - val_accuracy: 0.7347\n",
            "Epoch 87/100\n",
            "3/3 [==============================] - 2s 766ms/step - loss: 0.8124 - accuracy: 0.6000 - val_loss: 0.6763 - val_accuracy: 0.7551\n",
            "Epoch 88/100\n",
            "3/3 [==============================] - 2s 473ms/step - loss: 0.8131 - accuracy: 0.5939 - val_loss: 0.7117 - val_accuracy: 0.6531\n",
            "Epoch 89/100\n",
            "3/3 [==============================] - 1s 488ms/step - loss: 0.8286 - accuracy: 0.5985 - val_loss: 0.7012 - val_accuracy: 0.6939\n",
            "Epoch 90/100\n",
            "3/3 [==============================] - 2s 492ms/step - loss: 0.8392 - accuracy: 0.5969 - val_loss: 0.7115 - val_accuracy: 0.7551\n",
            "Epoch 91/100\n",
            "3/3 [==============================] - 1s 474ms/step - loss: 0.8176 - accuracy: 0.5985 - val_loss: 0.6831 - val_accuracy: 0.7551\n",
            "Epoch 92/100\n",
            "3/3 [==============================] - 2s 538ms/step - loss: 0.8130 - accuracy: 0.5969 - val_loss: 0.6722 - val_accuracy: 0.7755\n",
            "Epoch 93/100\n",
            "3/3 [==============================] - 1s 481ms/step - loss: 0.8151 - accuracy: 0.5847 - val_loss: 0.6685 - val_accuracy: 0.7551\n",
            "Epoch 94/100\n",
            "3/3 [==============================] - 2s 514ms/step - loss: 0.8212 - accuracy: 0.5969 - val_loss: 0.6979 - val_accuracy: 0.7347\n",
            "Epoch 95/100\n",
            "3/3 [==============================] - 2s 767ms/step - loss: 0.8252 - accuracy: 0.5817 - val_loss: 0.7128 - val_accuracy: 0.7347\n",
            "Epoch 96/100\n",
            "3/3 [==============================] - 2s 646ms/step - loss: 0.8260 - accuracy: 0.5939 - val_loss: 0.6693 - val_accuracy: 0.7551\n",
            "Epoch 97/100\n",
            "3/3 [==============================] - 1s 478ms/step - loss: 0.8142 - accuracy: 0.5939 - val_loss: 0.6662 - val_accuracy: 0.7755\n",
            "Epoch 98/100\n",
            "3/3 [==============================] - 1s 479ms/step - loss: 0.8118 - accuracy: 0.6061 - val_loss: 0.6732 - val_accuracy: 0.7551\n",
            "Epoch 99/100\n",
            "3/3 [==============================] - 1s 479ms/step - loss: 0.8070 - accuracy: 0.5969 - val_loss: 0.6752 - val_accuracy: 0.7755\n",
            "Epoch 100/100\n",
            "3/3 [==============================] - 1s 464ms/step - loss: 0.8082 - accuracy: 0.5969 - val_loss: 0.6725 - val_accuracy: 0.7755\n"
          ]
        }
      ]
    },
    {
      "cell_type": "code",
      "source": [
        "acc = history.history['accuracy']\n",
        "val_acc = history.history['val_accuracy']\n",
        "\n",
        "loss = history.history['loss']\n",
        "val_loss = history.history['val_loss']\n",
        "\n",
        "epochs_range = range(min(epochs, len(acc)))\n",
        "\n",
        "plt.figure(figsize=(8, 8))\n",
        "plt.subplot(1, 2, 1)\n",
        "plt.plot(epochs_range, acc, label='Training Accuracy')\n",
        "plt.plot(epochs_range, val_acc, label='Validation Accuracy')\n",
        "plt.legend(loc='lower right')\n",
        "plt.title('Training and Validation Accuracy')\n",
        "\n",
        "plt.subplot(1, 2, 2)\n",
        "plt.plot(epochs_range, loss, label='Training Loss')\n",
        "plt.plot(epochs_range, val_loss, label='Validation Loss')\n",
        "plt.legend(loc='upper right')\n",
        "plt.title('Training and Validation Loss')\n",
        "plt.show()"
      ],
      "metadata": {
        "id": "bV0n6NC321Sh",
        "outputId": "75070f81-4f8c-4bc9-e0e0-8bb98d6a1fb5",
        "colab": {
          "base_uri": "https://localhost:8080/",
          "height": 699
        }
      },
      "execution_count": 296,
      "outputs": [
        {
          "output_type": "display_data",
          "data": {
            "text/plain": [
              "<Figure size 800x800 with 2 Axes>"
            ],
            "image/png": "[encoded data removed]"
          },
          "metadata": {}
        }
      ]
    },
    {
      "cell_type": "code",
      "source": [
        "#load the best model using the callback\n",
        "model.load_weights(checkpoint_filepath)\n",
        "\n",
        "print(\"\\n\\nEvaluating Best Model\\n\")\n",
        "#evaluation the model on the validation data\n",
        "model.evaluate(valData, valLabels, verbose=2)\n",
        "\n",
        "\n",
        "#Best val acc so far: 0.816 w/ 0.75 test acc"
      ],
      "metadata": {
        "colab": {
          "base_uri": "https://localhost:8080/"
        },
        "id": "RXSNNOXVrb9I",
        "outputId": "e7f25975-9141-4d38-db6a-c3bcf869b7f1"
      },
      "execution_count": 297,
      "outputs": [
        {
          "output_type": "stream",
          "name": "stdout",
          "text": [
            "\n",
            "\n",
            "Evaluating Best Model\n",
            "\n",
            "2/2 - 0s - loss: 0.6722 - accuracy: 0.7755 - 97ms/epoch - 49ms/step\n"
          ]
        },
        {
          "output_type": "execute_result",
          "data": {
            "text/plain": [
              "[0.6721618175506592, 0.7755101919174194]"
            ]
          },
          "metadata": {},
          "execution_count": 297
        }
      ]
    },
    {
      "cell_type": "code",
      "source": [
        "#save the model\n",
        "model.save(\"/content/drive/MyDrive/Colab Notebooks/Deep Learning/Project 2/bestModel_LSTM.keras\")\n",
        "print(\"Saved Model\")"
      ],
      "metadata": {
        "id": "oQ4k7YiBHw6C",
        "outputId": "f8743841-5564-467a-c1f8-38a85c4e878a",
        "colab": {
          "base_uri": "https://localhost:8080/"
        }
      },
      "execution_count": null,
      "outputs": [
        {
          "output_type": "stream",
          "name": "stdout",
          "text": [
            "Saved Model\n"
          ]
        }
      ]
    },
    {
      "cell_type": "markdown",
      "source": [
        "# Testing Script"
      ],
      "metadata": {
        "id": "AVq8bgK550VC"
      }
    },
    {
      "cell_type": "code",
      "source": [
        "#import libraries\n",
        "import tensorflow as tf\n",
        "import numpy as np\n",
        "import pandas as pd\n",
        "import csv\n",
        "import os\n",
        "from matplotlib import pyplot as plt\n",
        "\n",
        "\n",
        "## Mount Google drive\n",
        "from google.colab import drive\n",
        "drive.mount('/content/drive', force_remount=True)\n",
        "data_dir = '/content/drive/MyDrive/Colab Notebooks/Deep Learning/Project 2/'\n",
        "\n",
        "###############################################################################\n",
        "#Reading data and normalization\n",
        "\n",
        "#read test.csv, dropping the first column as it just holds the index of the rows, which we don't need\n",
        "testData = pd.read_csv(data_dir + \"test.csv\", sep=',', usecols=[1, 2, 3, 4], names = ['Heart Rate', 'Respiratory Rate', 'O2 Level', 'Label'])\n",
        "\n",
        "\n",
        "# #Normalize the test data using the normalization factors we found in the training data. Hard coded here\n",
        "normValues = [[40, 200], [15, 90], [80, 100]]   #from training\n",
        "testData['Heart Rate'] = (testData['Heart Rate'] - normValues[0][0]) / (normValues[0][1] - normValues[0][0])\n",
        "testData['Respiratory Rate'] = (testData['Respiratory Rate'] - normValues[1][0]) / (normValues[1][1] - normValues[1][0])\n",
        "testData['O2 Level'] = (testData['O2 Level'] - normValues[2][0]) / (normValues[2][1] - normValues[2][0])\n",
        "\n",
        "\n",
        "###############################################################################\n",
        "#Seperating normalized data into sequences\n",
        "\n",
        "#now we need to process the data by seperating the entire data array into 31 row chunks\n",
        "testData = np.array_split(testData, np.arange(31, len(testData), 31))\n",
        "\n",
        "#pull the labels from the first row of each sequence, save it to an array, then drop the label col from this data sequence\n",
        "testLabels = []\n",
        "for seq in testData:\n",
        "  label = seq['Label'].iloc[0]    #get the first rows label, and use it for this whole sequence\n",
        "  seq.drop('Label', axis=1, inplace=True)\n",
        "  testLabels.append(label)\n",
        "\n",
        "testLabels = np.asarray(testLabels).astype('int32')\n",
        "\n",
        "#convert dataframes into np arrays and make the whole dataset multidimensional instead of an array of dataframes for tensorflow to properly use\n",
        "testData = np.array([np.array(seq) for seq in testData])\n",
        "\n",
        "\n",
        "\n",
        "###############################################################################\n",
        "#Testing model\n",
        "#evaluating the model on the test data\n",
        "loss, acc = model.evaluate(testData, testLabels, verbose=2)\n",
        "print(\"Loss on test data: \", loss)\n",
        "print(\"Accuracy on test data: \", acc)\n",
        "\n",
        "\n",
        "#load the model from a saved file\n",
        "bestmodel = tf.keras.models.load_model(data_dir + \"bestModel_LSTM.keras\")\n",
        "\n",
        "#evaluating the model on the test data\n",
        "loss, acc = bestmodel.evaluate(testData, testLabels, verbose=2)\n",
        "print(\"Loss on test data: \", loss)\n",
        "print(\"Accuracy on test data: \", acc)"
      ],
      "metadata": {
        "id": "8M7ZIwNM53As",
        "outputId": "1db20f96-9241-44fb-be33-431cada67289",
        "colab": {
          "base_uri": "https://localhost:8080/"
        }
      },
      "execution_count": 298,
      "outputs": [
        {
          "output_type": "stream",
          "name": "stdout",
          "text": [
            "Mounted at /content/drive\n",
            "1/1 - 0s - loss: 0.8242 - accuracy: 0.7500 - 38ms/epoch - 38ms/step\n",
            "Loss on test data:  0.8242024183273315\n",
            "Accuracy on test data:  0.75\n",
            "1/1 - 3s - loss: 0.7477 - accuracy: 0.7500 - 3s/epoch - 3s/step\n",
            "Loss on test data:  0.7477211952209473\n",
            "Accuracy on test data:  0.75\n"
          ]
        }
      ]
    }
  ]
}