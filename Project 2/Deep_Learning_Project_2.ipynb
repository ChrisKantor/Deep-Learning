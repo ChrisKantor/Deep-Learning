{
  "nbformat": 4,
  "nbformat_minor": 0,
  "metadata": {
    "colab": {
      "provenance": [],
      "authorship_tag": "ABX9TyOyKcEGZAe5yy7GPOv6hk3h",
      "include_colab_link": true
    },
    "kernelspec": {
      "name": "python3",
      "display_name": "Python 3"
    },
    "language_info": {
      "name": "python"
    }
  },
  "cells": [
    {
      "cell_type": "markdown",
      "metadata": {
        "id": "view-in-github",
        "colab_type": "text"
      },
      "source": [
        "<a href=\"https://colab.research.google.com/github/ChrisKantor/Deep-Learning/blob/main/Project%202/Deep_Learning_Project_2.ipynb\" target=\"_parent\"><img src=\"https://colab.research.google.com/assets/colab-badge.svg\" alt=\"Open In Colab\"/></a>"
      ]
    },
    {
      "cell_type": "code",
      "source": [
        "#Deep learning model that builds on the one made in HW3 for determining an infants pain level using vital signs\n",
        "#This improved model uses LSTM to better understand the sequential readings\n",
        "\n",
        "\n",
        "\n",
        "#Run these commands - NECCESARY to use the GPU\n",
        "# export CUDNN_PATH=$(dirname $(python -c \"import nvidia.cudnn;print(nvidia.cudnn.__file__)\"))\n",
        "# export LD_LIBRARY_PATH=${CUDNN_PATH}/lib\n",
        "\n",
        "#To connect to local runtime: jupyter lab --NotebookApp.allow_origin='https://colab.research.google.com' --port=8888 --NotebookApp.port_retries=0"
      ],
      "metadata": {
        "id": "-gD_j6_iqrxm"
      },
      "execution_count": null,
      "outputs": []
    },
    {
      "cell_type": "code",
      "execution_count": 1,
      "metadata": {
        "id": "aRuH-vPap5nA"
      },
      "outputs": [],
      "source": [
        "#import libraries\n",
        "import tensorflow as tf\n",
        "import numpy as np\n",
        "import pandas as pd\n",
        "import csv\n",
        "import os\n",
        "from matplotlib import pyplot as plt\n",
        "import PIL\n",
        "from tensorflow import keras"
      ]
    },
    {
      "cell_type": "code",
      "source": [
        "print(\"Num GPUs Available: \", len(tf.config.list_physical_devices('GPU')))\n",
        "# dir = 'Deep Learning/Project 2/'\n",
        "# data_dir = \"data/\"\n",
        "\n",
        "\n",
        "## Mount Google drive\n",
        "from google.colab import drive\n",
        "drive.mount('/content/drive', force_remount=True)\n",
        "data_dir = '/content/drive/MyDrive/Colab Notebooks/Deep Learning/Project 2/data/'\n",
        "\n",
        "\n",
        "import os\n",
        "print(os.getcwd())"
      ],
      "metadata": {
        "colab": {
          "base_uri": "https://localhost:8080/"
        },
        "id": "z45cpkBIsMQ-",
        "outputId": "d7b513e1-77a8-4e81-c867-0ee9674d8e05"
      },
      "execution_count": 27,
      "outputs": [
        {
          "output_type": "stream",
          "name": "stdout",
          "text": [
            "Num GPUs Available:  0\n",
            "Mounted at /content/drive\n",
            "/content\n"
          ]
        }
      ]
    },
    {
      "cell_type": "markdown",
      "source": [
        "# Data Preprocessing"
      ],
      "metadata": {
        "id": "CrrDoReswut8"
      }
    },
    {
      "cell_type": "code",
      "source": [
        "#NEEDS FURTHER CLARIFICATION:\n",
        "#If a csv file sequence has an invalid row, do we just remove it or is the whole sequence invalid?\n",
        "#Can we mix the csv sequences together to get a fixed length input sequence? or should each seperate csv file be treated as its own sequence?\n",
        "#Are we predicting if the baby is in pain during the next timestep?\n",
        "\n",
        "\n",
        "\n",
        "#lots to do here - roughly follow this tutorial for general RNN processing: https://www.tensorflow.org/text/tutorials/text_generation\n",
        "\n",
        "#need sequences of data to use as input. Each csv file is 1 sequence, and each of them could potentially have missing/invalid data in them. 602 total csv files\n",
        "#Each csv file has 30 entries, but due to missing/invalid data, our cleaned sequences could have any number of entries\n",
        "#After cleaning the csv files, our dataset will be compromised of a bunch of variable length sequences\n",
        "#we will split our dataset up into training/validation sets on a sequence level\n",
        "\n",
        "#the inputs at a specific timestep will be the 3 labels in the csv files (Heart Rate, Respiratory Rate, O2 level) and the output will be (either if the baby is in pain OR if the baby is in pain during the NEXT step)? -Need clarification here"
      ],
      "metadata": {
        "id": "5wsgp_xGwyhP"
      },
      "execution_count": null,
      "outputs": []
    },
    {
      "cell_type": "code",
      "source": [
        "#store a list of dataframes representing the data from the csv files we read in\n",
        "#after reading in all of the csv files as dataframes, iterate through them, cleaning up the data and normalizing the inputs\n",
        "\n",
        "\n",
        "#Should we normalize on a dataframe level or a dataset level?\n",
        "\n",
        "\n",
        "data = []\n",
        "\n",
        "\n",
        "#use the os library to iterate through all files in the current path\n",
        "for (root,dirs,files) in os.walk(data_dir, topdown=True):\n",
        "  #open each CSV file, we don't want to open any other type of file\n",
        "  for f in files:\n",
        "    if f.endswith(\".csv\"):\n",
        "      with open(os.path.join(root, f), mode ='r') as csvFile:\n",
        "\n",
        "        #read in the csv file\n",
        "        csvData = csv.reader(csvFile)\n",
        "\n",
        "        #store the data temporarily before we turn it into a pandas dataframe\n",
        "        temp = []\n",
        "\n",
        "\n",
        "        #check if each row is valid\n",
        "        #one way to tell if the data is invalid is if the label is NOT [0, 1, 2]. This means there was something wrong with one of the sensors at the time of capture\n",
        "        #another way is to check if the heart rate, respiratory rate, or o2 level is too low or too high\n",
        "        #for heart Rate, we want a range of 40 - 200\n",
        "        #for Respiratory Rate, we want a range of 15 - 90\n",
        "        #for o2 level, we want a rate of 80 - 100\n",
        "\n",
        "        for row in csvData:\n",
        "          try:\n",
        "            if row[4] in \"012\" and (int(row[1]) >= 40 and int(row[1]) <= 200) and (int(row[2]) >= 15 and int(row[2]) <= 90) and (int(row[3]) >= 80 and int(row[3]) <= 100):   #data is valid, so add it to the main csv\n",
        "              #row[0] just stores the row # in the csv file, so it is not needed in the training dataset\n",
        "              temp.append([int(row[1]), int(row[2]), int(row[3]), int(row[4])])\n",
        "\n",
        "          #Catches errors that occur when an element cannot be parsed into an integer. In this case the row is invalid so we can skip it\n",
        "          except ValueError:\n",
        "            continue\n",
        "\n",
        "        #if this valid and cleaned sequence is NOT empty, add it to our dataset\n",
        "        if len(temp) > 0:\n",
        "          df = pd.DataFrame(temp, columns = ['Heart Rate', 'Respiratory Rate', 'O2 Level', 'Label'])\n",
        "          data.append(df)\n",
        "\n",
        "print(len(data))"
      ],
      "metadata": {
        "colab": {
          "base_uri": "https://localhost:8080/"
        },
        "id": "n0brwvTJ5rkZ",
        "outputId": "b5acfdb1-20f7-4c67-ec74-dbe8cb8c4deb"
      },
      "execution_count": 28,
      "outputs": [
        {
          "output_type": "stream",
          "name": "stdout",
          "text": [
            "487\n"
          ]
        }
      ]
    },
    {
      "cell_type": "code",
      "source": [
        "#count sequence lengths and how often they appear\n",
        "freqMap = {}\n",
        "for d in data:\n",
        "  if d.shape not in freqMap.keys():\n",
        "    freqMap[d.shape] = 1\n",
        "\n",
        "  else:\n",
        "    freqMap[d.shape] += 1\n",
        "\n",
        "for key, value in freqMap.items():\n",
        "    print(f'{key} -> {value}')\n",
        "\n",
        "\n",
        "#split data into training/validation sets using an 85/15 split\n",
        "data = np.asarray(data, dtype=\"object\")\n",
        "np.random.shuffle(data)\n",
        "\n",
        "trainData, valData = np.split(data, [int(0.85*len(data))])\n",
        "\n",
        "print(len(trainData), len(valData))\n",
        "\n",
        "#remove the labels from the trainingData and validation data, also storing them as a list\n",
        "#we don't need the entire column of labels, just the first rows label\n",
        "trainLabels = []\n",
        "valLabels = []\n",
        "\n",
        "for df in trainData:\n",
        "  label = df['Label'].iloc[0]    #get the first rows label, and use it for this whole sequence\n",
        "  df.drop('Label', axis=1, inplace=True)\n",
        "  trainLabels.append(label)\n",
        "\n",
        "for df in valData:\n",
        "  label = df['Label'].iloc[0]    #get the first rows label, and use it for this whole sequence\n",
        "  df.drop('Label', axis=1, inplace=True)\n",
        "  valLabels.append(label)\n",
        "\n",
        "trainLabels = np.asarray(trainLabels).astype('int32')\n",
        "valLabels = np.asarray(valLabels).astype('int32')\n",
        "print(trainData.shape, len(trainLabels))\n",
        "print(valData.shape, len(valLabels))"
      ],
      "metadata": {
        "id": "4Xy6b8Q6LoY3",
        "outputId": "be4bba81-cf13-46b7-85e2-e603af696ade",
        "colab": {
          "base_uri": "https://localhost:8080/"
        }
      },
      "execution_count": 29,
      "outputs": [
        {
          "output_type": "stream",
          "name": "stdout",
          "text": [
            "(31, 4) -> 381\n",
            "(30, 4) -> 31\n",
            "(14, 4) -> 2\n",
            "(29, 4) -> 21\n",
            "(5, 4) -> 1\n",
            "(11, 4) -> 1\n",
            "(21, 4) -> 4\n",
            "(4, 4) -> 1\n",
            "(7, 4) -> 1\n",
            "(27, 4) -> 10\n",
            "(28, 4) -> 15\n",
            "(25, 4) -> 4\n",
            "(26, 4) -> 6\n",
            "(17, 4) -> 2\n",
            "(22, 4) -> 2\n",
            "(24, 4) -> 2\n",
            "(23, 4) -> 2\n",
            "(15, 4) -> 1\n",
            "413 74\n",
            "(413,) 413\n",
            "(74,) 74\n"
          ]
        }
      ]
    },
    {
      "cell_type": "code",
      "source": [
        "#normalize data using only the training set\n",
        "#find the min/max of each column throughout all of the dataframes in the training dataset\n",
        "#save the values, then iterate through the training and validation dataset and use min-max normalization\n",
        "#df[column] = (df[column] - df[column].min()) / (df[column].max() - df[column].min())\n",
        "\n",
        "#norm values stores the min/max of each column, initialized to min = float('inf'), max = float('-inf')\n",
        "#[[Heart Rate Min, Heart Rate Max], [Respiratory Rate Min, Respiratory Rate Max], [O2 Level Min, O2 Level Max]]\n",
        "normValues = [[float('inf'), float('-inf')], [float('inf'), float('-inf')], [float('inf'), float('-inf')]]\n",
        "\n",
        "for df in trainData:\n",
        "  normValues[0][0] = min(normValues[0][0], df['Heart Rate'].min())\n",
        "  normValues[0][1] = max(normValues[0][1], df['Heart Rate'].max())\n",
        "\n",
        "  normValues[1][0] = min(normValues[1][0], df['Respiratory Rate'].min())\n",
        "  normValues[1][1] = max(normValues[1][1], df['Respiratory Rate'].max())\n",
        "\n",
        "  normValues[2][0] = min(normValues[2][0], df['O2 Level'].min())\n",
        "  normValues[2][1] = max(normValues[2][1], df['O2 Level'].max())\n",
        "\n",
        "#now we have the min/max for each column across our whole dataset from our training data, so we can save this normalization, and apply it to the validation set\n",
        "print(normValues)\n",
        "\n",
        "\n",
        "\n",
        "#normalizing the data:\n",
        "for df in trainData:\n",
        "  df['Heart Rate'] = (df['Heart Rate'] - normValues[0][0]) / (normValues[0][1] - normValues[0][0])\n",
        "  df['Respiratory Rate'] = (df['Respiratory Rate'] - normValues[1][0]) / (normValues[1][1] - normValues[1][0])\n",
        "  df['O2 Level'] = (df['O2 Level'] - normValues[2][0]) / (normValues[2][1] - normValues[2][0])\n",
        "\n",
        "for df in valData:\n",
        "  df['Heart Rate'] = (df['Heart Rate'] - normValues[0][0]) / (normValues[0][1] - normValues[0][0])\n",
        "  df['Respiratory Rate'] = (df['Respiratory Rate'] - normValues[1][0]) / (normValues[1][1] - normValues[1][0])\n",
        "  df['O2 Level'] = (df['O2 Level'] - normValues[2][0]) / (normValues[2][1] - normValues[2][0])"
      ],
      "metadata": {
        "id": "FQgBFE7onqWI",
        "colab": {
          "base_uri": "https://localhost:8080/"
        },
        "outputId": "cee063d6-1f16-4ee1-945f-6fbb706f4798"
      },
      "execution_count": 30,
      "outputs": [
        {
          "output_type": "stream",
          "name": "stdout",
          "text": [
            "[[44, 199], [15, 90], [80, 100]]\n"
          ]
        }
      ]
    },
    {
      "cell_type": "code",
      "source": [
        "#Data padding\n",
        "#inputs to GRU cells are in the form of [batch, timesteps, feature]\n",
        "#our sequences have multiple lengths, so we need to pad this data to get all of the sequences to have a length of 31 (indices 0-30)\n",
        "#we can pad the data by adding rows of 0's, and use a masking layer to ignore them when training the model\n",
        "\n",
        "for i in range(len(trainData)):\n",
        "  if trainData[i].shape[0] < 31:\n",
        "    padding = pd.DataFrame(0, index=np.arange(trainData[i].shape[0], 31), columns=trainData[i].columns)\n",
        "    trainData[i] = pd.concat([trainData[i], padding])\n",
        "\n",
        "for i in range(len(valData)):\n",
        "  if valData[i].shape[0] < 31:\n",
        "    padding = pd.DataFrame(0, index=np.arange(valData[i].shape[0], 31), columns=valData[i].columns)\n",
        "    valData[i] = pd.concat([valData[i], padding])"
      ],
      "metadata": {
        "id": "ypAB10mGl136"
      },
      "execution_count": 31,
      "outputs": []
    },
    {
      "cell_type": "code",
      "source": [
        "#convert dataframes into np arrays and make the whole dataset multidimensional instead of an array of dataframes for tensorflow to properly use\n",
        "trainData = np.array([np.array(val) for val in trainData])\n",
        "valData = np.array([np.array(val) for val in valData])"
      ],
      "metadata": {
        "id": "yQEEoXxWwW2O"
      },
      "execution_count": 32,
      "outputs": []
    },
    {
      "cell_type": "markdown",
      "source": [
        "# Model Setup"
      ],
      "metadata": {
        "id": "upaZTSH3w0qs"
      }
    },
    {
      "cell_type": "code",
      "source": [
        "#first model uses 4 GRU layers with 16 unit each\n",
        "#input is taken in the form of: [batch, timesteps, feature]\n",
        "#Since our sequences have different lengths, we need to pad them\n",
        "# model = tf.keras.models.Sequential([\n",
        "#     tf.keras.layers.Masking(mask_value=0., input_shape=(31, 3)),\n",
        "#     tf.keras.layers.GRU(16, return_sequences=True, return_state=True),\n",
        "#     tf.keras.layers.GRU(16, return_sequences=True, return_state=True),\n",
        "#     tf.keras.layers.GRU(16, return_sequences=True, return_state=True),\n",
        "#     tf.keras.layers.GRU(16),\n",
        "#     tf.keras.layers.Dense(3)\n",
        "# ])\n",
        "\n",
        "input = tf.keras.layers.Input(shape=(31, 3))\n",
        "mask = tf.keras.layers.Masking(mask_value=0., input_shape=(31, 3)) (input)\n",
        "x = (tf.keras.layers.GRU(31, return_sequences=True, return_state=True, kernel_regularizer = tf.keras.regularizers.l2(), recurrent_regularizer = tf.keras.regularizers.l2())) (mask)\n",
        "x = (tf.keras.layers.GRU(31, return_sequences=True, return_state=True, kernel_regularizer = tf.keras.regularizers.l2(), recurrent_regularizer = tf.keras.regularizers.l2())) (x)\n",
        "x = (tf.keras.layers.GRU(31, return_sequences=True, return_state=True, kernel_regularizer = tf.keras.regularizers.l2(), recurrent_regularizer = tf.keras.regularizers.l2())) (x)\n",
        "x = (tf.keras.layers.GRU(31, return_sequences=True, kernel_regularizer = tf.keras.regularizers.l2(), recurrent_regularizer = tf.keras.regularizers.l2())) (x)\n",
        "x = (tf.keras.layers.Flatten()) (x)\n",
        "x = (tf.keras.layers.Dense(256, activation='relu', kernel_regularizer = tf.keras.regularizers.l2())) (x)\n",
        "x = (tf.keras.layers.Dropout(0.5)) (x)\n",
        "x = (tf.keras.layers.Dense(64, activation='relu', kernel_regularizer = tf.keras.regularizers.l2())) (x)\n",
        "output = (tf.keras.layers.Dense(3)) (x)\n",
        "\n",
        "model = keras.Model(input, output, name=\"GRU_Model\")"
      ],
      "metadata": {
        "id": "CClHL9t2w3kc"
      },
      "execution_count": 48,
      "outputs": []
    },
    {
      "cell_type": "markdown",
      "source": [
        "# Model Training"
      ],
      "metadata": {
        "id": "G1Fi-MTs5vzo"
      }
    },
    {
      "cell_type": "code",
      "source": [
        "#our learning rate scheduler. Will gradually shrink the learning rate as training progesses to find a better converging point.\n",
        "lr_schedule = tf.keras.optimizers.schedules.ExponentialDecay(\n",
        "    0.001,\n",
        "    decay_steps=100000,\n",
        "    decay_rate=0.96,\n",
        "    staircase=True)\n",
        "\n",
        "checkpoint_filepath = '/content/drive/MyDrive/Colab Notebooks/Deep Learning/Project 2/checkpoint'\n",
        "model_checkpoint_callback = tf.keras.callbacks.ModelCheckpoint(\n",
        "    filepath=checkpoint_filepath,\n",
        "    save_weights_only=True,\n",
        "    monitor='val_accuracy',\n",
        "    mode='max',\n",
        "    save_best_only=True)\n",
        "\n",
        "#early stopping callback. stop if the loss doesn't improve for 7 epochs in a row\n",
        "early_stopping_callback = tf.keras.callbacks.EarlyStopping(\n",
        "    monitor='loss',\n",
        "    patience=5,\n",
        "    start_from_epoch=20)\n",
        "\n",
        "\n",
        "opt = tf.keras.optimizers.Adam(learning_rate=lr_schedule)\n",
        "loss_fn = tf.keras.losses.SparseCategoricalCrossentropy(from_logits=True)\n",
        "model.compile(optimizer=opt,\n",
        "              loss=loss_fn,\n",
        "              metrics=['accuracy'])\n",
        "model.summary()"
      ],
      "metadata": {
        "id": "X0_nUOY_50Dw",
        "colab": {
          "base_uri": "https://localhost:8080/"
        },
        "outputId": "70c84385-5a51-46d7-c241-ac3acb146b8a"
      },
      "execution_count": 49,
      "outputs": [
        {
          "output_type": "stream",
          "name": "stdout",
          "text": [
            "Model: \"GRU_Model\"\n",
            "__________________________________________________________________________________________________\n",
            " Layer (type)                Output Shape                 Param #   Connected to                  \n",
            "==================================================================================================\n",
            " input_7 (InputLayer)        [(None, 31, 3)]              0         []                            \n",
            "                                                                                                  \n",
            " masking_6 (Masking)         (None, 31, 3)                0         ['input_7[0][0]']             \n",
            "                                                                                                  \n",
            " gru_23 (GRU)                [(None, 31, 31),             3348      ['masking_6[0][0]']           \n",
            "                              (None, 31)]                                                         \n",
            "                                                                                                  \n",
            " gru_24 (GRU)                [(None, 31, 31),             5952      ['gru_23[0][0]',              \n",
            "                              (None, 31)]                            'gru_23[0][1]']              \n",
            "                                                                                                  \n",
            " gru_25 (GRU)                [(None, 31, 31),             5952      ['gru_24[0][0]',              \n",
            "                              (None, 31)]                            'gru_24[0][1]']              \n",
            "                                                                                                  \n",
            " gru_26 (GRU)                (None, 31, 31)               5952      ['gru_25[0][0]',              \n",
            "                                                                     'gru_25[0][1]']              \n",
            "                                                                                                  \n",
            " flatten_4 (Flatten)         (None, 961)                  0         ['gru_26[0][0]']              \n",
            "                                                                                                  \n",
            " dense_12 (Dense)            (None, 256)                  246272    ['flatten_4[0][0]']           \n",
            "                                                                                                  \n",
            " dropout_2 (Dropout)         (None, 256)                  0         ['dense_12[0][0]']            \n",
            "                                                                                                  \n",
            " dense_13 (Dense)            (None, 64)                   16448     ['dropout_2[0][0]']           \n",
            "                                                                                                  \n",
            " dense_14 (Dense)            (None, 3)                    195       ['dense_13[0][0]']            \n",
            "                                                                                                  \n",
            "==================================================================================================\n",
            "Total params: 284119 (1.08 MB)\n",
            "Trainable params: 284119 (1.08 MB)\n",
            "Non-trainable params: 0 (0.00 Byte)\n",
            "__________________________________________________________________________________________________\n"
          ]
        }
      ]
    },
    {
      "cell_type": "code",
      "source": [
        "#train the model\n",
        "#Some hyperparameter setup\n",
        "batch_size = 256           #set batch size to 256\n",
        "epochs = 150               #set num epochs to 150\n",
        "\n",
        "history = model.fit(\n",
        "    trainData,\n",
        "    trainLabels,\n",
        "    validation_data=(valData, valLabels),\n",
        "    batch_size=batch_size,\n",
        "    epochs=epochs,\n",
        "    callbacks=[model_checkpoint_callback]\n",
        ")"
      ],
      "metadata": {
        "id": "zlLqB23znTXc",
        "colab": {
          "base_uri": "https://localhost:8080/"
        },
        "outputId": "017e0398-ebcf-47c8-bd23-b01a6277b907"
      },
      "execution_count": 50,
      "outputs": [
        {
          "output_type": "stream",
          "name": "stdout",
          "text": [
            "Epoch 1/150\n",
            "2/2 [==============================] - 24s 7s/step - loss: 8.8359 - accuracy: 0.1840 - val_loss: 8.4317 - val_accuracy: 0.5676\n",
            "Epoch 2/150\n",
            "2/2 [==============================] - 0s 187ms/step - loss: 8.3470 - accuracy: 0.4915 - val_loss: 7.9892 - val_accuracy: 0.5541\n",
            "Epoch 3/150\n",
            "2/2 [==============================] - 0s 165ms/step - loss: 7.9108 - accuracy: 0.5303 - val_loss: 7.5843 - val_accuracy: 0.5541\n",
            "Epoch 4/150\n",
            "2/2 [==============================] - 0s 158ms/step - loss: 7.4963 - accuracy: 0.5690 - val_loss: 7.2445 - val_accuracy: 0.5541\n",
            "Epoch 5/150\n",
            "2/2 [==============================] - 0s 157ms/step - loss: 7.1223 - accuracy: 0.5617 - val_loss: 6.9355 - val_accuracy: 0.5541\n",
            "Epoch 6/150\n",
            "2/2 [==============================] - 0s 158ms/step - loss: 6.8248 - accuracy: 0.5593 - val_loss: 6.6044 - val_accuracy: 0.5541\n",
            "Epoch 7/150\n",
            "2/2 [==============================] - 0s 164ms/step - loss: 6.4737 - accuracy: 0.5714 - val_loss: 6.2692 - val_accuracy: 0.5541\n",
            "Epoch 8/150\n",
            "2/2 [==============================] - 0s 194ms/step - loss: 6.1709 - accuracy: 0.5521 - val_loss: 5.9604 - val_accuracy: 0.5541\n",
            "Epoch 9/150\n",
            "2/2 [==============================] - 0s 164ms/step - loss: 5.8674 - accuracy: 0.5690 - val_loss: 5.6769 - val_accuracy: 0.5541\n",
            "Epoch 10/150\n",
            "2/2 [==============================] - 0s 163ms/step - loss: 5.5953 - accuracy: 0.5496 - val_loss: 5.4126 - val_accuracy: 0.5541\n",
            "Epoch 11/150\n",
            "2/2 [==============================] - 0s 199ms/step - loss: 5.3346 - accuracy: 0.5642 - val_loss: 5.1647 - val_accuracy: 0.5541\n",
            "Epoch 12/150\n",
            "2/2 [==============================] - 0s 176ms/step - loss: 5.0929 - accuracy: 0.5714 - val_loss: 4.9324 - val_accuracy: 0.5541\n",
            "Epoch 13/150\n",
            "2/2 [==============================] - 0s 204ms/step - loss: 4.8522 - accuracy: 0.5763 - val_loss: 4.7160 - val_accuracy: 0.5541\n",
            "Epoch 14/150\n",
            "2/2 [==============================] - 0s 157ms/step - loss: 4.6428 - accuracy: 0.5690 - val_loss: 4.5136 - val_accuracy: 0.5541\n",
            "Epoch 15/150\n",
            "2/2 [==============================] - 0s 176ms/step - loss: 4.4379 - accuracy: 0.5738 - val_loss: 4.3229 - val_accuracy: 0.5541\n",
            "Epoch 16/150\n",
            "2/2 [==============================] - 0s 156ms/step - loss: 4.2509 - accuracy: 0.5714 - val_loss: 4.1404 - val_accuracy: 0.5541\n",
            "Epoch 17/150\n",
            "2/2 [==============================] - 0s 164ms/step - loss: 4.0709 - accuracy: 0.5738 - val_loss: 3.9682 - val_accuracy: 0.5541\n",
            "Epoch 18/150\n",
            "2/2 [==============================] - 0s 159ms/step - loss: 3.8947 - accuracy: 0.5738 - val_loss: 3.8089 - val_accuracy: 0.5541\n",
            "Epoch 19/150\n",
            "2/2 [==============================] - 0s 200ms/step - loss: 3.7318 - accuracy: 0.5763 - val_loss: 3.6608 - val_accuracy: 0.5541\n",
            "Epoch 20/150\n",
            "2/2 [==============================] - 0s 156ms/step - loss: 3.5881 - accuracy: 0.5787 - val_loss: 3.5227 - val_accuracy: 0.5541\n",
            "Epoch 21/150\n",
            "2/2 [==============================] - 0s 157ms/step - loss: 3.4574 - accuracy: 0.5763 - val_loss: 3.3949 - val_accuracy: 0.5541\n",
            "Epoch 22/150\n",
            "2/2 [==============================] - 0s 167ms/step - loss: 3.3255 - accuracy: 0.5738 - val_loss: 3.2771 - val_accuracy: 0.5541\n",
            "Epoch 23/150\n",
            "2/2 [==============================] - 0s 202ms/step - loss: 3.2157 - accuracy: 0.5738 - val_loss: 3.1653 - val_accuracy: 0.5541\n",
            "Epoch 24/150\n",
            "2/2 [==============================] - 0s 156ms/step - loss: 3.1086 - accuracy: 0.5738 - val_loss: 3.0563 - val_accuracy: 0.5541\n",
            "Epoch 25/150\n",
            "2/2 [==============================] - 0s 176ms/step - loss: 2.9883 - accuracy: 0.5738 - val_loss: 2.9537 - val_accuracy: 0.5541\n",
            "Epoch 26/150\n",
            "2/2 [==============================] - 0s 158ms/step - loss: 2.8986 - accuracy: 0.5738 - val_loss: 2.8597 - val_accuracy: 0.5541\n",
            "Epoch 27/150\n",
            "2/2 [==============================] - 0s 161ms/step - loss: 2.8014 - accuracy: 0.5738 - val_loss: 2.7732 - val_accuracy: 0.5541\n",
            "Epoch 28/150\n",
            "2/2 [==============================] - 0s 307ms/step - loss: 2.7182 - accuracy: 0.5738 - val_loss: 2.6933 - val_accuracy: 0.5541\n",
            "Epoch 29/150\n",
            "2/2 [==============================] - 1s 284ms/step - loss: 2.6340 - accuracy: 0.5738 - val_loss: 2.6192 - val_accuracy: 0.5541\n",
            "Epoch 30/150\n",
            "2/2 [==============================] - 1s 284ms/step - loss: 2.5554 - accuracy: 0.5738 - val_loss: 2.5493 - val_accuracy: 0.5541\n",
            "Epoch 31/150\n",
            "2/2 [==============================] - 1s 293ms/step - loss: 2.4843 - accuracy: 0.5738 - val_loss: 2.4784 - val_accuracy: 0.5541\n",
            "Epoch 32/150\n",
            "2/2 [==============================] - 0s 268ms/step - loss: 2.4107 - accuracy: 0.5738 - val_loss: 2.4133 - val_accuracy: 0.5541\n",
            "Epoch 33/150\n",
            "2/2 [==============================] - 0s 261ms/step - loss: 2.3618 - accuracy: 0.5738 - val_loss: 2.3508 - val_accuracy: 0.5541\n",
            "Epoch 34/150\n",
            "2/2 [==============================] - 1s 303ms/step - loss: 2.2908 - accuracy: 0.5738 - val_loss: 2.2919 - val_accuracy: 0.5541\n",
            "Epoch 35/150\n",
            "2/2 [==============================] - 1s 299ms/step - loss: 2.2418 - accuracy: 0.5738 - val_loss: 2.2369 - val_accuracy: 0.5541\n",
            "Epoch 36/150\n",
            "2/2 [==============================] - 0s 230ms/step - loss: 2.1830 - accuracy: 0.5738 - val_loss: 2.1860 - val_accuracy: 0.5541\n",
            "Epoch 37/150\n",
            "2/2 [==============================] - 0s 202ms/step - loss: 2.1351 - accuracy: 0.5738 - val_loss: 2.1378 - val_accuracy: 0.5541\n",
            "Epoch 38/150\n",
            "2/2 [==============================] - 0s 167ms/step - loss: 2.0796 - accuracy: 0.5763 - val_loss: 2.0921 - val_accuracy: 0.5541\n",
            "Epoch 39/150\n",
            "2/2 [==============================] - 0s 182ms/step - loss: 2.0269 - accuracy: 0.5763 - val_loss: 2.0464 - val_accuracy: 0.5541\n",
            "Epoch 40/150\n",
            "2/2 [==============================] - 0s 161ms/step - loss: 1.9829 - accuracy: 0.5763 - val_loss: 2.0031 - val_accuracy: 0.5541\n",
            "Epoch 41/150\n",
            "2/2 [==============================] - 0s 201ms/step - loss: 1.9398 - accuracy: 0.5738 - val_loss: 1.9583 - val_accuracy: 0.5676\n",
            "Epoch 42/150\n",
            "2/2 [==============================] - 0s 165ms/step - loss: 1.8980 - accuracy: 0.5738 - val_loss: 1.9149 - val_accuracy: 0.5676\n",
            "Epoch 43/150\n",
            "2/2 [==============================] - 0s 193ms/step - loss: 1.8584 - accuracy: 0.5811 - val_loss: 1.8738 - val_accuracy: 0.5676\n",
            "Epoch 44/150\n",
            "2/2 [==============================] - 0s 250ms/step - loss: 1.8159 - accuracy: 0.5811 - val_loss: 1.8331 - val_accuracy: 0.5811\n",
            "Epoch 45/150\n",
            "2/2 [==============================] - 0s 211ms/step - loss: 1.7816 - accuracy: 0.5860 - val_loss: 1.7886 - val_accuracy: 0.5676\n",
            "Epoch 46/150\n",
            "2/2 [==============================] - 0s 161ms/step - loss: 1.7408 - accuracy: 0.6029 - val_loss: 1.7502 - val_accuracy: 0.5676\n",
            "Epoch 47/150\n",
            "2/2 [==============================] - 0s 286ms/step - loss: 1.7189 - accuracy: 0.5932 - val_loss: 1.7122 - val_accuracy: 0.6216\n",
            "Epoch 48/150\n",
            "2/2 [==============================] - 0s 278ms/step - loss: 1.6798 - accuracy: 0.6513 - val_loss: 1.6972 - val_accuracy: 0.6892\n",
            "Epoch 49/150\n",
            "2/2 [==============================] - 0s 158ms/step - loss: 1.6523 - accuracy: 0.6392 - val_loss: 1.6619 - val_accuracy: 0.5811\n",
            "Epoch 50/150\n",
            "2/2 [==============================] - 0s 180ms/step - loss: 1.6180 - accuracy: 0.6102 - val_loss: 1.6245 - val_accuracy: 0.6486\n",
            "Epoch 51/150\n",
            "2/2 [==============================] - 0s 183ms/step - loss: 1.5814 - accuracy: 0.6271 - val_loss: 1.6137 - val_accuracy: 0.6351\n",
            "Epoch 52/150\n",
            "2/2 [==============================] - 0s 198ms/step - loss: 1.5619 - accuracy: 0.6538 - val_loss: 1.5765 - val_accuracy: 0.6351\n",
            "Epoch 53/150\n",
            "2/2 [==============================] - 0s 175ms/step - loss: 1.5240 - accuracy: 0.6634 - val_loss: 1.5538 - val_accuracy: 0.6351\n",
            "Epoch 54/150\n",
            "2/2 [==============================] - 0s 288ms/step - loss: 1.5078 - accuracy: 0.6489 - val_loss: 1.5259 - val_accuracy: 0.7162\n",
            "Epoch 55/150\n",
            "2/2 [==============================] - 0s 175ms/step - loss: 1.4827 - accuracy: 0.6610 - val_loss: 1.5061 - val_accuracy: 0.6757\n",
            "Epoch 56/150\n",
            "2/2 [==============================] - 0s 183ms/step - loss: 1.4676 - accuracy: 0.6634 - val_loss: 1.4765 - val_accuracy: 0.6622\n",
            "Epoch 57/150\n",
            "2/2 [==============================] - 0s 173ms/step - loss: 1.4406 - accuracy: 0.6465 - val_loss: 1.4570 - val_accuracy: 0.6622\n",
            "Epoch 58/150\n",
            "2/2 [==============================] - 0s 193ms/step - loss: 1.4240 - accuracy: 0.6538 - val_loss: 1.4426 - val_accuracy: 0.7162\n",
            "Epoch 59/150\n",
            "2/2 [==============================] - 0s 168ms/step - loss: 1.3982 - accuracy: 0.6731 - val_loss: 1.4222 - val_accuracy: 0.6351\n",
            "Epoch 60/150\n",
            "2/2 [==============================] - 0s 198ms/step - loss: 1.4001 - accuracy: 0.6392 - val_loss: 1.4095 - val_accuracy: 0.6757\n",
            "Epoch 61/150\n",
            "2/2 [==============================] - 0s 194ms/step - loss: 1.3773 - accuracy: 0.6441 - val_loss: 1.3955 - val_accuracy: 0.7162\n",
            "Epoch 62/150\n",
            "2/2 [==============================] - 0s 163ms/step - loss: 1.3493 - accuracy: 0.6683 - val_loss: 1.3731 - val_accuracy: 0.6757\n",
            "Epoch 63/150\n",
            "2/2 [==============================] - 0s 163ms/step - loss: 1.3354 - accuracy: 0.6707 - val_loss: 1.3602 - val_accuracy: 0.6622\n",
            "Epoch 64/150\n",
            "2/2 [==============================] - 0s 158ms/step - loss: 1.3208 - accuracy: 0.6489 - val_loss: 1.3363 - val_accuracy: 0.6486\n",
            "Epoch 65/150\n",
            "2/2 [==============================] - 0s 201ms/step - loss: 1.2969 - accuracy: 0.6562 - val_loss: 1.3198 - val_accuracy: 0.6757\n",
            "Epoch 66/150\n",
            "2/2 [==============================] - 1s 273ms/step - loss: 1.2782 - accuracy: 0.6634 - val_loss: 1.3026 - val_accuracy: 0.6757\n",
            "Epoch 67/150\n",
            "2/2 [==============================] - 1s 275ms/step - loss: 1.2604 - accuracy: 0.6659 - val_loss: 1.2869 - val_accuracy: 0.6757\n",
            "Epoch 68/150\n",
            "2/2 [==============================] - 1s 295ms/step - loss: 1.2500 - accuracy: 0.6755 - val_loss: 1.2747 - val_accuracy: 0.6757\n",
            "Epoch 69/150\n",
            "2/2 [==============================] - 1s 298ms/step - loss: 1.2385 - accuracy: 0.6731 - val_loss: 1.2658 - val_accuracy: 0.7162\n",
            "Epoch 70/150\n",
            "2/2 [==============================] - 1s 268ms/step - loss: 1.2296 - accuracy: 0.6683 - val_loss: 1.2505 - val_accuracy: 0.6892\n",
            "Epoch 71/150\n",
            "2/2 [==============================] - 1s 283ms/step - loss: 1.2189 - accuracy: 0.6416 - val_loss: 1.2394 - val_accuracy: 0.6486\n",
            "Epoch 72/150\n",
            "2/2 [==============================] - 0s 255ms/step - loss: 1.1980 - accuracy: 0.6780 - val_loss: 1.2334 - val_accuracy: 0.6892\n",
            "Epoch 73/150\n",
            "2/2 [==============================] - 1s 326ms/step - loss: 1.1934 - accuracy: 0.6610 - val_loss: 1.2182 - val_accuracy: 0.7027\n",
            "Epoch 74/150\n",
            "2/2 [==============================] - 0s 163ms/step - loss: 1.1844 - accuracy: 0.6586 - val_loss: 1.2163 - val_accuracy: 0.6351\n",
            "Epoch 75/150\n",
            "2/2 [==============================] - 0s 214ms/step - loss: 1.1800 - accuracy: 0.6368 - val_loss: 1.1915 - val_accuracy: 0.6622\n",
            "Epoch 76/150\n",
            "2/2 [==============================] - 0s 176ms/step - loss: 1.1532 - accuracy: 0.6707 - val_loss: 1.1987 - val_accuracy: 0.6486\n",
            "Epoch 77/150\n",
            "2/2 [==============================] - 0s 160ms/step - loss: 1.1558 - accuracy: 0.6634 - val_loss: 1.1693 - val_accuracy: 0.6757\n",
            "Epoch 78/150\n",
            "2/2 [==============================] - 0s 230ms/step - loss: 1.1290 - accuracy: 0.6828 - val_loss: 1.1711 - val_accuracy: 0.6622\n",
            "Epoch 79/150\n",
            "2/2 [==============================] - 0s 158ms/step - loss: 1.1277 - accuracy: 0.6586 - val_loss: 1.1492 - val_accuracy: 0.6892\n",
            "Epoch 80/150\n",
            "2/2 [==============================] - 0s 157ms/step - loss: 1.1149 - accuracy: 0.6755 - val_loss: 1.1520 - val_accuracy: 0.6486\n",
            "Epoch 81/150\n",
            "2/2 [==============================] - 0s 162ms/step - loss: 1.1112 - accuracy: 0.6634 - val_loss: 1.1306 - val_accuracy: 0.7027\n",
            "Epoch 82/150\n",
            "2/2 [==============================] - 0s 165ms/step - loss: 1.0976 - accuracy: 0.6755 - val_loss: 1.1214 - val_accuracy: 0.6892\n",
            "Epoch 83/150\n",
            "2/2 [==============================] - 0s 168ms/step - loss: 1.0784 - accuracy: 0.6659 - val_loss: 1.1107 - val_accuracy: 0.6892\n",
            "Epoch 84/150\n",
            "2/2 [==============================] - 0s 162ms/step - loss: 1.0715 - accuracy: 0.6755 - val_loss: 1.1032 - val_accuracy: 0.6892\n",
            "Epoch 85/150\n",
            "2/2 [==============================] - 0s 162ms/step - loss: 1.0685 - accuracy: 0.6828 - val_loss: 1.0952 - val_accuracy: 0.6757\n",
            "Epoch 86/150\n",
            "2/2 [==============================] - 0s 201ms/step - loss: 1.0540 - accuracy: 0.6828 - val_loss: 1.0865 - val_accuracy: 0.6892\n",
            "Epoch 87/150\n",
            "2/2 [==============================] - 0s 161ms/step - loss: 1.0509 - accuracy: 0.6731 - val_loss: 1.0784 - val_accuracy: 0.7027\n",
            "Epoch 88/150\n",
            "2/2 [==============================] - 0s 186ms/step - loss: 1.0569 - accuracy: 0.6634 - val_loss: 1.0707 - val_accuracy: 0.6892\n",
            "Epoch 89/150\n",
            "2/2 [==============================] - 0s 210ms/step - loss: 1.0429 - accuracy: 0.6610 - val_loss: 1.0548 - val_accuracy: 0.6892\n",
            "Epoch 90/150\n",
            "2/2 [==============================] - 0s 159ms/step - loss: 1.0282 - accuracy: 0.6683 - val_loss: 1.0514 - val_accuracy: 0.6757\n",
            "Epoch 91/150\n",
            "2/2 [==============================] - 0s 265ms/step - loss: 1.0209 - accuracy: 0.6755 - val_loss: 1.0484 - val_accuracy: 0.7297\n",
            "Epoch 92/150\n",
            "2/2 [==============================] - 0s 161ms/step - loss: 1.0057 - accuracy: 0.6877 - val_loss: 1.0336 - val_accuracy: 0.7162\n",
            "Epoch 93/150\n",
            "2/2 [==============================] - 0s 178ms/step - loss: 1.0022 - accuracy: 0.6877 - val_loss: 1.0300 - val_accuracy: 0.6892\n",
            "Epoch 94/150\n",
            "2/2 [==============================] - 0s 221ms/step - loss: 1.0106 - accuracy: 0.6804 - val_loss: 1.0298 - val_accuracy: 0.7162\n",
            "Epoch 95/150\n",
            "2/2 [==============================] - 0s 198ms/step - loss: 0.9890 - accuracy: 0.6925 - val_loss: 1.0140 - val_accuracy: 0.6892\n",
            "Epoch 96/150\n",
            "2/2 [==============================] - 0s 163ms/step - loss: 0.9929 - accuracy: 0.6707 - val_loss: 1.0056 - val_accuracy: 0.7027\n",
            "Epoch 97/150\n",
            "2/2 [==============================] - 0s 177ms/step - loss: 0.9896 - accuracy: 0.6707 - val_loss: 1.0074 - val_accuracy: 0.7162\n",
            "Epoch 98/150\n",
            "2/2 [==============================] - 0s 194ms/step - loss: 0.9698 - accuracy: 0.6998 - val_loss: 0.9924 - val_accuracy: 0.6892\n",
            "Epoch 99/150\n",
            "2/2 [==============================] - 0s 163ms/step - loss: 0.9685 - accuracy: 0.6707 - val_loss: 0.9892 - val_accuracy: 0.6892\n",
            "Epoch 100/150\n",
            "2/2 [==============================] - 0s 158ms/step - loss: 0.9657 - accuracy: 0.6707 - val_loss: 0.9794 - val_accuracy: 0.7162\n",
            "Epoch 101/150\n",
            "2/2 [==============================] - 0s 168ms/step - loss: 0.9470 - accuracy: 0.6925 - val_loss: 0.9752 - val_accuracy: 0.7162\n",
            "Epoch 102/150\n",
            "2/2 [==============================] - 0s 199ms/step - loss: 0.9439 - accuracy: 0.6925 - val_loss: 0.9675 - val_accuracy: 0.7162\n",
            "Epoch 103/150\n",
            "2/2 [==============================] - 0s 157ms/step - loss: 0.9303 - accuracy: 0.7022 - val_loss: 0.9582 - val_accuracy: 0.7162\n",
            "Epoch 104/150\n",
            "2/2 [==============================] - 1s 360ms/step - loss: 0.9356 - accuracy: 0.7070 - val_loss: 0.9503 - val_accuracy: 0.7432\n",
            "Epoch 105/150\n",
            "2/2 [==============================] - 1s 277ms/step - loss: 0.9210 - accuracy: 0.6828 - val_loss: 0.9430 - val_accuracy: 0.7162\n",
            "Epoch 106/150\n",
            "2/2 [==============================] - 1s 280ms/step - loss: 0.9323 - accuracy: 0.7070 - val_loss: 0.9387 - val_accuracy: 0.7162\n",
            "Epoch 107/150\n",
            "2/2 [==============================] - 1s 289ms/step - loss: 0.9123 - accuracy: 0.7094 - val_loss: 0.9294 - val_accuracy: 0.7297\n",
            "Epoch 108/150\n",
            "2/2 [==============================] - 1s 263ms/step - loss: 0.9078 - accuracy: 0.7046 - val_loss: 0.9242 - val_accuracy: 0.7297\n",
            "Epoch 109/150\n",
            "2/2 [==============================] - 0s 260ms/step - loss: 0.9018 - accuracy: 0.7143 - val_loss: 0.9237 - val_accuracy: 0.7432\n",
            "Epoch 110/150\n",
            "2/2 [==============================] - 1s 293ms/step - loss: 0.8989 - accuracy: 0.7119 - val_loss: 0.9275 - val_accuracy: 0.7027\n",
            "Epoch 111/150\n",
            "2/2 [==============================] - 1s 294ms/step - loss: 0.9083 - accuracy: 0.6949 - val_loss: 0.9112 - val_accuracy: 0.7432\n",
            "Epoch 112/150\n",
            "2/2 [==============================] - 0s 165ms/step - loss: 0.8963 - accuracy: 0.7288 - val_loss: 0.9114 - val_accuracy: 0.7432\n",
            "Epoch 113/150\n",
            "2/2 [==============================] - 0s 157ms/step - loss: 0.8924 - accuracy: 0.7143 - val_loss: 0.9085 - val_accuracy: 0.7297\n",
            "Epoch 114/150\n",
            "2/2 [==============================] - 0s 160ms/step - loss: 0.8816 - accuracy: 0.6949 - val_loss: 0.9082 - val_accuracy: 0.7027\n",
            "Epoch 115/150\n",
            "2/2 [==============================] - 0s 284ms/step - loss: 0.8866 - accuracy: 0.7240 - val_loss: 0.8859 - val_accuracy: 0.7568\n",
            "Epoch 116/150\n",
            "2/2 [==============================] - 0s 168ms/step - loss: 0.8663 - accuracy: 0.7167 - val_loss: 0.8790 - val_accuracy: 0.7432\n",
            "Epoch 117/150\n",
            "2/2 [==============================] - 0s 172ms/step - loss: 0.8723 - accuracy: 0.7191 - val_loss: 0.8727 - val_accuracy: 0.7568\n",
            "Epoch 118/150\n",
            "2/2 [==============================] - 0s 222ms/step - loss: 0.8659 - accuracy: 0.7240 - val_loss: 0.8875 - val_accuracy: 0.7432\n",
            "Epoch 119/150\n",
            "2/2 [==============================] - 0s 174ms/step - loss: 0.8735 - accuracy: 0.7022 - val_loss: 0.9045 - val_accuracy: 0.6757\n",
            "Epoch 120/150\n",
            "2/2 [==============================] - 0s 172ms/step - loss: 0.8736 - accuracy: 0.7191 - val_loss: 0.8891 - val_accuracy: 0.7297\n",
            "Epoch 121/150\n",
            "2/2 [==============================] - 0s 185ms/step - loss: 0.8662 - accuracy: 0.6925 - val_loss: 0.8798 - val_accuracy: 0.7162\n",
            "Epoch 122/150\n",
            "2/2 [==============================] - 0s 160ms/step - loss: 0.8566 - accuracy: 0.7288 - val_loss: 0.8573 - val_accuracy: 0.7568\n",
            "Epoch 123/150\n",
            "2/2 [==============================] - 0s 258ms/step - loss: 0.8476 - accuracy: 0.7119 - val_loss: 0.8579 - val_accuracy: 0.7703\n",
            "Epoch 124/150\n",
            "2/2 [==============================] - 0s 209ms/step - loss: 0.8580 - accuracy: 0.7046 - val_loss: 0.8682 - val_accuracy: 0.7297\n",
            "Epoch 125/150\n",
            "2/2 [==============================] - 0s 159ms/step - loss: 0.8407 - accuracy: 0.7458 - val_loss: 0.8754 - val_accuracy: 0.7432\n",
            "Epoch 126/150\n",
            "2/2 [==============================] - 0s 164ms/step - loss: 0.8391 - accuracy: 0.7167 - val_loss: 0.8694 - val_accuracy: 0.7162\n",
            "Epoch 127/150\n",
            "2/2 [==============================] - 0s 166ms/step - loss: 0.8466 - accuracy: 0.7215 - val_loss: 0.8430 - val_accuracy: 0.7703\n",
            "Epoch 128/150\n",
            "2/2 [==============================] - 0s 165ms/step - loss: 0.8360 - accuracy: 0.7191 - val_loss: 0.8370 - val_accuracy: 0.7703\n",
            "Epoch 129/150\n",
            "2/2 [==============================] - 0s 167ms/step - loss: 0.8322 - accuracy: 0.7167 - val_loss: 0.8397 - val_accuracy: 0.7568\n",
            "Epoch 130/150\n",
            "2/2 [==============================] - 0s 164ms/step - loss: 0.8274 - accuracy: 0.7385 - val_loss: 0.8346 - val_accuracy: 0.7703\n",
            "Epoch 131/150\n",
            "2/2 [==============================] - 0s 167ms/step - loss: 0.8280 - accuracy: 0.7191 - val_loss: 0.8398 - val_accuracy: 0.7568\n",
            "Epoch 132/150\n",
            "2/2 [==============================] - 0s 214ms/step - loss: 0.8326 - accuracy: 0.7409 - val_loss: 0.8282 - val_accuracy: 0.7703\n",
            "Epoch 133/150\n",
            "2/2 [==============================] - 0s 162ms/step - loss: 0.8181 - accuracy: 0.7337 - val_loss: 0.8284 - val_accuracy: 0.7568\n",
            "Epoch 134/150\n",
            "2/2 [==============================] - 0s 222ms/step - loss: 0.8127 - accuracy: 0.7433 - val_loss: 0.8234 - val_accuracy: 0.7568\n",
            "Epoch 135/150\n",
            "2/2 [==============================] - 0s 160ms/step - loss: 0.8188 - accuracy: 0.7337 - val_loss: 0.8205 - val_accuracy: 0.7703\n",
            "Epoch 136/150\n",
            "2/2 [==============================] - 0s 158ms/step - loss: 0.8156 - accuracy: 0.7361 - val_loss: 0.8180 - val_accuracy: 0.7568\n",
            "Epoch 137/150\n",
            "2/2 [==============================] - 0s 174ms/step - loss: 0.8076 - accuracy: 0.7458 - val_loss: 0.8166 - val_accuracy: 0.7703\n",
            "Epoch 138/150\n",
            "2/2 [==============================] - 0s 158ms/step - loss: 0.8066 - accuracy: 0.7409 - val_loss: 0.8153 - val_accuracy: 0.7432\n",
            "Epoch 139/150\n",
            "2/2 [==============================] - 0s 178ms/step - loss: 0.8019 - accuracy: 0.7409 - val_loss: 0.8231 - val_accuracy: 0.7568\n",
            "Epoch 140/150\n",
            "2/2 [==============================] - 0s 163ms/step - loss: 0.8081 - accuracy: 0.7240 - val_loss: 0.8253 - val_accuracy: 0.7432\n",
            "Epoch 141/150\n",
            "2/2 [==============================] - 0s 157ms/step - loss: 0.8168 - accuracy: 0.7167 - val_loss: 0.8103 - val_accuracy: 0.7432\n",
            "Epoch 142/150\n",
            "2/2 [==============================] - 0s 168ms/step - loss: 0.8072 - accuracy: 0.7312 - val_loss: 0.8283 - val_accuracy: 0.7162\n",
            "Epoch 143/150\n",
            "2/2 [==============================] - 0s 287ms/step - loss: 0.8200 - accuracy: 0.7409 - val_loss: 0.8208 - val_accuracy: 0.7297\n",
            "Epoch 144/150\n",
            "2/2 [==============================] - 1s 289ms/step - loss: 0.8195 - accuracy: 0.6949 - val_loss: 0.8043 - val_accuracy: 0.7703\n",
            "Epoch 145/150\n",
            "2/2 [==============================] - 0s 270ms/step - loss: 0.8323 - accuracy: 0.7240 - val_loss: 0.8464 - val_accuracy: 0.6757\n",
            "Epoch 146/150\n",
            "2/2 [==============================] - 1s 303ms/step - loss: 0.8073 - accuracy: 0.7215 - val_loss: 0.8625 - val_accuracy: 0.7162\n",
            "Epoch 147/150\n",
            "2/2 [==============================] - 1s 273ms/step - loss: 0.8332 - accuracy: 0.6828 - val_loss: 0.8117 - val_accuracy: 0.7703\n",
            "Epoch 148/150\n",
            "2/2 [==============================] - 1s 305ms/step - loss: 0.8306 - accuracy: 0.7167 - val_loss: 0.8355 - val_accuracy: 0.7027\n",
            "Epoch 149/150\n",
            "2/2 [==============================] - 0s 257ms/step - loss: 0.8117 - accuracy: 0.7215 - val_loss: 0.8539 - val_accuracy: 0.7297\n",
            "Epoch 150/150\n",
            "2/2 [==============================] - 0s 263ms/step - loss: 0.8235 - accuracy: 0.6901 - val_loss: 0.8094 - val_accuracy: 0.7703\n"
          ]
        }
      ]
    },
    {
      "cell_type": "code",
      "source": [
        "acc = history.history['accuracy']\n",
        "val_acc = history.history['val_accuracy']\n",
        "\n",
        "loss = history.history['loss']\n",
        "val_loss = history.history['val_loss']\n",
        "\n",
        "epochs_range = range(min(epochs, len(acc)))\n",
        "\n",
        "plt.figure(figsize=(8, 8))\n",
        "plt.subplot(1, 2, 1)\n",
        "plt.plot(epochs_range, acc, label='Training Accuracy')\n",
        "plt.plot(epochs_range, val_acc, label='Validation Accuracy')\n",
        "plt.legend(loc='lower right')\n",
        "plt.title('Training and Validation Accuracy')\n",
        "\n",
        "plt.subplot(1, 2, 2)\n",
        "plt.plot(epochs_range, loss, label='Training Loss')\n",
        "plt.plot(epochs_range, val_loss, label='Validation Loss')\n",
        "plt.legend(loc='upper right')\n",
        "plt.title('Training and Validation Loss')\n",
        "plt.show()"
      ],
      "metadata": {
        "id": "bV0n6NC321Sh",
        "outputId": "21b958e8-1b29-498d-a1d7-01327be8b42b",
        "colab": {
          "base_uri": "https://localhost:8080/",
          "height": 699
        }
      },
      "execution_count": 51,
      "outputs": [
        {
          "output_type": "display_data",
          "data": {
            "text/plain": [
              "<Figure size 800x800 with 2 Axes>"
            ],
            "image/png": "[encoded data removed]"
          },
          "metadata": {}
        }
      ]
    },
    {
      "cell_type": "code",
      "source": [
        "#load the best model using the callback\n",
        "model.load_weights(checkpoint_filepath)\n",
        "\n",
        "print(\"\\n\\nEvaluating Best Model\\n\")\n",
        "#evaluation the model on the validation data\n",
        "model.evaluate(valData, valLabels, verbose=2)\n",
        "\n",
        "\n",
        "#Best val acc so far: 0.783"
      ],
      "metadata": {
        "colab": {
          "base_uri": "https://localhost:8080/"
        },
        "id": "RXSNNOXVrb9I",
        "outputId": "3ba916e2-5ba4-462d-846f-1a2129f75bef"
      },
      "execution_count": 52,
      "outputs": [
        {
          "output_type": "stream",
          "name": "stdout",
          "text": [
            "\n",
            "\n",
            "Evaluating Best Model\n",
            "\n",
            "3/3 - 0s - loss: 0.8579 - accuracy: 0.7703 - 63ms/epoch - 21ms/step\n"
          ]
        },
        {
          "output_type": "execute_result",
          "data": {
            "text/plain": [
              "[0.8579392433166504, 0.7702702879905701]"
            ]
          },
          "metadata": {},
          "execution_count": 52
        }
      ]
    },
    {
      "cell_type": "code",
      "source": [
        "#save the model\n",
        "model.save(\"/content/drive/MyDrive/Colab Notebooks/Deep Learning/Project 2/bestModel.keras\")\n",
        "print(\"Saved Model\")"
      ],
      "metadata": {
        "id": "oQ4k7YiBHw6C",
        "outputId": "2bb5e862-9fd0-403d-917d-8b090122b60c",
        "colab": {
          "base_uri": "https://localhost:8080/"
        }
      },
      "execution_count": 53,
      "outputs": [
        {
          "output_type": "stream",
          "name": "stdout",
          "text": [
            "Saved Model\n"
          ]
        }
      ]
    },
    {
      "cell_type": "markdown",
      "source": [
        "# Testing Script"
      ],
      "metadata": {
        "id": "AVq8bgK550VC"
      }
    },
    {
      "cell_type": "code",
      "source": [
        "#import libraries\n",
        "import tensorflow as tf\n",
        "import numpy as np\n",
        "import pandas as pd\n",
        "import csv\n",
        "import os\n",
        "from matplotlib import pyplot as plt\n",
        "\n",
        "## Mount Google drive\n",
        "from google.colab import drive\n",
        "drive.mount('/content/drive', force_remount=True)\n",
        "data_dir = '/content/drive/MyDrive/Colab Notebooks/Deep Learning/Project 2/'\n",
        "\n",
        "\n",
        "###############################################################################\n",
        "#Reading data and normalization\n",
        "\n",
        "#read test.csv, dropping the first column as it just holds the index of the rows, which we don't need\n",
        "testData = pd.read_csv(data_dir + \"test.csv\", sep=',', usecols=[1, 2, 3, 4], names = ['Heart Rate', 'Respiratory Rate', 'O2 Level', 'Label'])\n",
        "\n",
        "\n",
        "# #Normalize the test data using the normalization factors we found in the training data. Hard coded here\n",
        "normValues = [[40, 200], [15, 90], [80, 100]]   #from training\n",
        "testData['Heart Rate'] = (testData['Heart Rate'] - normValues[0][0]) / (normValues[0][1] - normValues[0][0])\n",
        "testData['Respiratory Rate'] = (testData['Respiratory Rate'] - normValues[1][0]) / (normValues[1][1] - normValues[1][0])\n",
        "testData['O2 Level'] = (testData['O2 Level'] - normValues[2][0]) / (normValues[2][1] - normValues[2][0])\n",
        "\n",
        "\n",
        "###############################################################################\n",
        "#Seperating normalized data into sequences\n",
        "\n",
        "#now we need to process the data by seperating the entire data array into 31 row chunks\n",
        "testData = np.array_split(testData, np.arange(31, len(testData), 31))\n",
        "\n",
        "#pull the labels from the first row of each sequence, save it to an array, then drop the label col from this data sequence\n",
        "testLabels = []\n",
        "for seq in testData:\n",
        "  label = seq['Label'].iloc[0]    #get the first rows label, and use it for this whole sequence\n",
        "  seq.drop('Label', axis=1, inplace=True)\n",
        "  testLabels.append(label)\n",
        "\n",
        "testLabels = np.asarray(testLabels).astype('int32')\n",
        "print(testLabels)\n",
        "\n",
        "#convert dataframes into np arrays and make the whole dataset multidimensional instead of an array of dataframes for tensorflow to properly use\n",
        "testData = np.array([np.array(seq) for seq in testData])\n",
        "\n",
        "\n",
        "\n",
        "###############################################################################\n",
        "#Testing model\n",
        "\n",
        "#load the model from a saved file\n",
        "model = tf.keras.models.load_model(data_dir + \"bestModel.keras\")\n",
        "\n",
        "#evaluation the model on the test data\n",
        "loss, acc = model.evaluate(testData, testLabels, verbose=2)\n",
        "print(\"Loss on test data: \", loss)\n",
        "print(\"Accuracy on test data: \", acc)"
      ],
      "metadata": {
        "id": "8M7ZIwNM53As",
        "outputId": "3d4e869d-55b7-43b5-dd7d-5abf9083dc2e",
        "colab": {
          "base_uri": "https://localhost:8080/"
        }
      },
      "execution_count": 54,
      "outputs": [
        {
          "output_type": "stream",
          "name": "stdout",
          "text": [
            "Mounted at /content/drive\n",
            "[0 0 1 1]\n",
            "1/1 - 10s - loss: 1.0900 - accuracy: 0.2500 - 10s/epoch - 10s/step\n",
            "Loss on test data:  1.089977741241455\n",
            "Accuracy on test data:  0.25\n"
          ]
        }
      ]
    }
  ]
}