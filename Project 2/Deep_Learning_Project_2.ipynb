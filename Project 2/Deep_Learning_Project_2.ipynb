{
  "nbformat": 4,
  "nbformat_minor": 0,
  "metadata": {
    "colab": {
      "provenance": [],
      "authorship_tag": "ABX9TyMxqV3piNsbnLMsdaEJ1cA/",
      "include_colab_link": true
    },
    "kernelspec": {
      "name": "python3",
      "display_name": "Python 3"
    },
    "language_info": {
      "name": "python"
    }
  },
  "cells": [
    {
      "cell_type": "markdown",
      "metadata": {
        "id": "view-in-github",
        "colab_type": "text"
      },
      "source": [
        "<a href=\"https://colab.research.google.com/github/ChrisKantor/Deep-Learning/blob/main/Project%202/Deep_Learning_Project_2.ipynb\" target=\"_parent\"><img src=\"https://colab.research.google.com/assets/colab-badge.svg\" alt=\"Open In Colab\"/></a>"
      ]
    },
    {
      "cell_type": "code",
      "source": [
        "#Deep learning model that builds on the one made in HW3 for determining an infants pain level using vital signs\n",
        "#This improved model uses LSTM to better understand the sequential readings\n",
        "\n",
        "\n",
        "\n",
        "#Run these commands - NECCESARY to use the GPU\n",
        "# export CUDNN_PATH=$(dirname $(python -c \"import nvidia.cudnn;print(nvidia.cudnn.__file__)\"))\n",
        "# export LD_LIBRARY_PATH=${CUDNN_PATH}/lib\n",
        "\n",
        "#To connect to local runtime: jupyter lab --NotebookApp.allow_origin='https://colab.research.google.com' --port=8888 --NotebookApp.port_retries=0"
      ],
      "metadata": {
        "id": "-gD_j6_iqrxm"
      },
      "execution_count": null,
      "outputs": []
    },
    {
      "cell_type": "code",
      "execution_count": null,
      "metadata": {
        "id": "aRuH-vPap5nA"
      },
      "outputs": [],
      "source": [
        "#import libraries\n",
        "import tensorflow as tf\n",
        "import numpy as np\n",
        "import pandas as pd\n",
        "import csv\n",
        "import os\n",
        "from matplotlib import pyplot as plt\n",
        "import PIL\n",
        "from tensorflow import keras"
      ]
    },
    {
      "cell_type": "code",
      "source": [
        "print(\"Num GPUs Available: \", len(tf.config.list_physical_devices('GPU')))\n",
        "# dir = 'Deep Learning/Project 2/'\n",
        "# data_dir = \"data/\"\n",
        "\n",
        "\n",
        "## Mount Google drive\n",
        "from google.colab import drive\n",
        "drive.mount('/content/drive', force_remount=True)\n",
        "data_dir = '/content/drive/MyDrive/Colab Notebooks/Deep Learning/Project 2/data/'\n",
        "\n",
        "\n",
        "import os\n",
        "print(os.getcwd())"
      ],
      "metadata": {
        "colab": {
          "base_uri": "https://localhost:8080/"
        },
        "id": "z45cpkBIsMQ-",
        "outputId": "627ed440-e5f6-486c-dac5-0b69124162d9"
      },
      "execution_count": null,
      "outputs": [
        {
          "output_type": "stream",
          "name": "stdout",
          "text": [
            "Num GPUs Available:  0\n",
            "Mounted at /content/drive\n",
            "/content\n"
          ]
        }
      ]
    },
    {
      "cell_type": "markdown",
      "source": [
        "# Data Preprocessing"
      ],
      "metadata": {
        "id": "CrrDoReswut8"
      }
    },
    {
      "cell_type": "code",
      "source": [
        "#NEEDS FURTHER CLARIFICATION:\n",
        "#If a csv file sequence has an invalid row, do we just remove it or is the whole sequence invalid?\n",
        "#Can we mix the csv sequences together to get a fixed length input sequence? or should each seperate csv file be treated as its own sequence?\n",
        "#Are we predicting if the baby is in pain during the next timestep?\n",
        "\n",
        "\n",
        "\n",
        "#lots to do here - roughly follow this tutorial for general RNN processing: https://www.tensorflow.org/text/tutorials/text_generation\n",
        "\n",
        "#need sequences of data to use as input. Each csv file is 1 sequence, and each of them could potentially have missing/invalid data in them. 602 total csv files\n",
        "#Each csv file has 30 entries, but due to missing/invalid data, our cleaned sequences could have any number of entries\n",
        "#After cleaning the csv files, our dataset will be compromised of a bunch of variable length sequences\n",
        "#we will split our dataset up into training/validation sets on a sequence level\n",
        "\n",
        "#the inputs at a specific timestep will be the 3 labels in the csv files (Heart Rate, Respiratory Rate, O2 level) and the output will be (either if the baby is in pain OR if the baby is in pain during the NEXT step)? -Need clarification here"
      ],
      "metadata": {
        "id": "5wsgp_xGwyhP"
      },
      "execution_count": null,
      "outputs": []
    },
    {
      "cell_type": "code",
      "source": [
        "#store a list of dataframes representing the data from the csv files we read in\n",
        "#after reading in all of the csv files as dataframes, iterate through them, cleaning up the data and normalizing the inputs\n",
        "\n",
        "\n",
        "#Should we normalize on a dataframe level or a dataset level?\n",
        "\n",
        "\n",
        "data = []\n",
        "\n",
        "\n",
        "#use the os library to iterate through all files in the current path\n",
        "for (root,dirs,files) in os.walk(data_dir, topdown=True):\n",
        "  #open each CSV file, we don't want to open any other type of file\n",
        "  for f in files:\n",
        "    if f.endswith(\".csv\"):\n",
        "      with open(os.path.join(root, f), mode ='r') as csvFile:\n",
        "\n",
        "        #read in the csv file\n",
        "        csvData = csv.reader(csvFile)\n",
        "\n",
        "        #store the data temporarily before we turn it into a pandas dataframe\n",
        "        temp = []\n",
        "\n",
        "\n",
        "        #check if each row is valid\n",
        "        #one way to tell if the data is invalid is if the label is NOT [0, 1, 2]. This means there was something wrong with one of the sensors at the time of capture\n",
        "        #another way is to check if the heart rate, respiratory rate, or o2 level is too low or too high\n",
        "        #for heart Rate, we want a range of 40 - 200\n",
        "        #for Respiratory Rate, we want a range of 15 - 90\n",
        "        #for o2 level, we want a rate of 80 - 100\n",
        "\n",
        "        for row in csvData:\n",
        "          try:\n",
        "            if row[4] in \"012\" and (int(row[1]) >= 40 and int(row[1]) <= 200) and (int(row[2]) >= 15 and int(row[2]) <= 90) and (int(row[3]) >= 80 and int(row[3]) <= 100):   #data is valid, so add it to the main csv\n",
        "              #row[0] just stores the row # in the csv file, so it is not needed in the training dataset\n",
        "              temp.append([int(row[1]), int(row[2]), int(row[3]), int(row[4])])\n",
        "\n",
        "          #Catches errors that occur when an element cannot be parsed into an integer. In this case the row is invalid so we can skip it\n",
        "          except ValueError:\n",
        "            continue\n",
        "\n",
        "        #if this valid and cleaned sequence is NOT empty, add it to our dataset\n",
        "        if len(temp) > 0:\n",
        "          df = pd.DataFrame(temp, columns = ['Heart Rate', 'Respiratory Rate', 'O2 Level', 'Label'])\n",
        "          data.append(df)\n",
        "\n",
        "print(len(data))"
      ],
      "metadata": {
        "colab": {
          "base_uri": "https://localhost:8080/"
        },
        "id": "n0brwvTJ5rkZ",
        "outputId": "7f93347e-4a0b-4ff5-82e5-3899f2a59c26"
      },
      "execution_count": null,
      "outputs": [
        {
          "output_type": "stream",
          "name": "stdout",
          "text": [
            "487\n"
          ]
        }
      ]
    },
    {
      "cell_type": "code",
      "source": [
        "#count sequence lengths and how often they appear\n",
        "freqMap = {}\n",
        "for d in data:\n",
        "  if d.shape not in freqMap.keys():\n",
        "    freqMap[d.shape] = 1\n",
        "\n",
        "  else:\n",
        "    freqMap[d.shape] += 1\n",
        "\n",
        "for key, value in freqMap.items():\n",
        "    print(f'{key} -> {value}')\n",
        "\n",
        "\n",
        "#split data into training/validation sets using an 90/10 split\n",
        "data = np.asarray(data, dtype=\"object\")\n",
        "np.random.shuffle(data)\n",
        "\n",
        "trainData, valData = np.split(data, [int(0.90*len(data))])\n",
        "\n",
        "print(len(trainData), len(valData))\n",
        "\n",
        "#remove the labels from the trainingData and validation data, also storing them as a list\n",
        "#we don't need the entire column of labels, just the first rows label\n",
        "trainLabels = []\n",
        "valLabels = []\n",
        "\n",
        "for df in trainData:\n",
        "  label = df['Label'].iloc[0]    #get the first rows label, and use it for this whole sequence\n",
        "  df.drop('Label', axis=1, inplace=True)\n",
        "  trainLabels.append(label)\n",
        "\n",
        "for df in valData:\n",
        "  label = df['Label'].iloc[0]    #get the first rows label, and use it for this whole sequence\n",
        "  df.drop('Label', axis=1, inplace=True)\n",
        "  valLabels.append(label)\n",
        "\n",
        "trainLabels = np.asarray(trainLabels).astype('int32')\n",
        "valLabels = np.asarray(valLabels).astype('int32')\n",
        "print(trainData.shape, len(trainLabels))\n",
        "print(valData.shape, len(valLabels))\n",
        "\n",
        "trainLabelMap = {}\n",
        "for label in trainLabels:\n",
        "  if label not in trainLabelMap.keys():\n",
        "    trainLabelMap[label] = 1\n",
        "  else:\n",
        "    trainLabelMap[label] += 1\n",
        "\n",
        "\n",
        "valLabelMap = {}\n",
        "for label in valLabels:\n",
        "  if label not in valLabelMap.keys():\n",
        "    valLabelMap[label] = 1\n",
        "  else:\n",
        "    valLabelMap[label] += 1\n",
        "\n",
        "print(trainLabelMap)\n",
        "print(valLabelMap)"
      ],
      "metadata": {
        "id": "4Xy6b8Q6LoY3",
        "outputId": "ae9a572f-d90f-48e9-d137-033adf1d5a59",
        "colab": {
          "base_uri": "https://localhost:8080/"
        }
      },
      "execution_count": null,
      "outputs": [
        {
          "output_type": "stream",
          "name": "stdout",
          "text": [
            "(31, 4) -> 381\n",
            "(30, 4) -> 31\n",
            "(14, 4) -> 2\n",
            "(29, 4) -> 21\n",
            "(5, 4) -> 1\n",
            "(11, 4) -> 1\n",
            "(21, 4) -> 4\n",
            "(4, 4) -> 1\n",
            "(7, 4) -> 1\n",
            "(27, 4) -> 10\n",
            "(28, 4) -> 15\n",
            "(25, 4) -> 4\n",
            "(26, 4) -> 6\n",
            "(17, 4) -> 2\n",
            "(22, 4) -> 2\n",
            "(24, 4) -> 2\n",
            "(23, 4) -> 2\n",
            "(15, 4) -> 1\n",
            "438 49\n",
            "(438,) 438\n",
            "(49,) 49\n",
            "{1: 161, 0: 250, 2: 27}\n",
            "{1: 18, 2: 3, 0: 28}\n"
          ]
        }
      ]
    },
    {
      "cell_type": "code",
      "source": [
        "#normalize data using only the training set\n",
        "#find the min/max of each column throughout all of the dataframes in the training dataset\n",
        "#save the values, then iterate through the training and validation dataset and use min-max normalization\n",
        "#df[column] = (df[column] - df[column].min()) / (df[column].max() - df[column].min())\n",
        "\n",
        "#norm values stores the min/max of each column, initialized to min = float('inf'), max = float('-inf')\n",
        "#[[Heart Rate Min, Heart Rate Max], [Respiratory Rate Min, Respiratory Rate Max], [O2 Level Min, O2 Level Max]]\n",
        "normValues = [[float('inf'), float('-inf')], [float('inf'), float('-inf')], [float('inf'), float('-inf')]]\n",
        "\n",
        "for df in trainData:\n",
        "  normValues[0][0] = min(normValues[0][0], df['Heart Rate'].min())\n",
        "  normValues[0][1] = max(normValues[0][1], df['Heart Rate'].max())\n",
        "\n",
        "  normValues[1][0] = min(normValues[1][0], df['Respiratory Rate'].min())\n",
        "  normValues[1][1] = max(normValues[1][1], df['Respiratory Rate'].max())\n",
        "\n",
        "  normValues[2][0] = min(normValues[2][0], df['O2 Level'].min())\n",
        "  normValues[2][1] = max(normValues[2][1], df['O2 Level'].max())\n",
        "\n",
        "#now we have the min/max for each column across our whole dataset from our training data, so we can save this normalization, and apply it to the validation set\n",
        "print(normValues)\n",
        "\n",
        "\n",
        "\n",
        "#normalizing the data:\n",
        "for df in trainData:\n",
        "  df['Heart Rate'] = (df['Heart Rate'] - normValues[0][0]) / (normValues[0][1] - normValues[0][0])\n",
        "  df['Respiratory Rate'] = (df['Respiratory Rate'] - normValues[1][0]) / (normValues[1][1] - normValues[1][0])\n",
        "  df['O2 Level'] = (df['O2 Level'] - normValues[2][0]) / (normValues[2][1] - normValues[2][0])\n",
        "\n",
        "for df in valData:\n",
        "  df['Heart Rate'] = (df['Heart Rate'] - normValues[0][0]) / (normValues[0][1] - normValues[0][0])\n",
        "  df['Respiratory Rate'] = (df['Respiratory Rate'] - normValues[1][0]) / (normValues[1][1] - normValues[1][0])\n",
        "  df['O2 Level'] = (df['O2 Level'] - normValues[2][0]) / (normValues[2][1] - normValues[2][0])"
      ],
      "metadata": {
        "id": "FQgBFE7onqWI",
        "colab": {
          "base_uri": "https://localhost:8080/"
        },
        "outputId": "b983fce9-8bbc-4996-98ca-5533e863158a"
      },
      "execution_count": null,
      "outputs": [
        {
          "output_type": "stream",
          "name": "stdout",
          "text": [
            "[[44, 199], [15, 90], [80, 100]]\n"
          ]
        }
      ]
    },
    {
      "cell_type": "code",
      "source": [
        "#Data padding\n",
        "#inputs to GRU cells are in the form of [batch, timesteps, feature]\n",
        "#our sequences have multiple lengths, so we need to pad this data to get all of the sequences to have a length of 31 (indices 0-30)\n",
        "#we can pad the data by adding rows of 0's, and use a masking layer to ignore them when training the model\n",
        "\n",
        "for i in range(len(trainData)):\n",
        "  if trainData[i].shape[0] < 31:\n",
        "    padding = pd.DataFrame(0, index=np.arange(trainData[i].shape[0], 31), columns=trainData[i].columns)\n",
        "    trainData[i] = pd.concat([trainData[i], padding])\n",
        "\n",
        "for i in range(len(valData)):\n",
        "  if valData[i].shape[0] < 31:\n",
        "    padding = pd.DataFrame(0, index=np.arange(valData[i].shape[0], 31), columns=valData[i].columns)\n",
        "    valData[i] = pd.concat([valData[i], padding])"
      ],
      "metadata": {
        "id": "ypAB10mGl136"
      },
      "execution_count": null,
      "outputs": []
    },
    {
      "cell_type": "code",
      "source": [
        "#convert dataframes into np arrays and make the whole dataset multidimensional instead of an array of dataframes for tensorflow to properly use\n",
        "trainData = np.array([np.array(val) for val in trainData])\n",
        "valData = np.array([np.array(val) for val in valData])"
      ],
      "metadata": {
        "id": "yQEEoXxWwW2O"
      },
      "execution_count": null,
      "outputs": []
    },
    {
      "cell_type": "markdown",
      "source": [
        "# Model Setup"
      ],
      "metadata": {
        "id": "upaZTSH3w0qs"
      }
    },
    {
      "cell_type": "code",
      "source": [
        "#first model uses 4 GRU layers with 16 unit each\n",
        "#input is taken in the form of: [batch, timesteps, feature]\n",
        "\n",
        "input = tf.keras.layers.Input(shape=(31, 3))\n",
        "mask = tf.keras.layers.Masking(mask_value=0., input_shape=(31, 3)) (input)\n",
        "x = (tf.keras.layers.GRU(32, return_sequences=True, kernel_regularizer = tf.keras.regularizers.l2(), recurrent_regularizer = tf.keras.regularizers.l2())) (mask)\n",
        "# x = (tf.keras.layers.GRU(32, return_sequences=True, kernel_regularizer = tf.keras.regularizers.l2(), recurrent_regularizer = tf.keras.regularizers.l2())) (x)\n",
        "# x = (tf.keras.layers.GRU(128, return_sequences=True, return_state=True, kernel_regularizer = tf.keras.regularizers.l2(), recurrent_regularizer = tf.keras.regularizers.l2())) (x)\n",
        "# x = (tf.keras.layers.GRU(128, return_sequences=True, kernel_regularizer = tf.keras.regularizers.l2(), recurrent_regularizer = tf.keras.regularizers.l2())) (x)\n",
        "x = (tf.keras.layers.Flatten()) (x)\n",
        "x = (tf.keras.layers.Dense(64, activation='relu', kernel_regularizer = tf.keras.regularizers.l2())) (x)\n",
        "# x = (tf.keras.layers.Dropout(0.5)) (x)\n",
        "# x = (tf.keras.layers.Dense(64, activation='relu', kernel_regularizer = tf.keras.regularizers.l2())) (x)\n",
        "output = (tf.keras.layers.Dense(3)) (x)\n",
        "\n",
        "model = keras.Model(input, output, name=\"GRU_Model\")"
      ],
      "metadata": {
        "id": "CClHL9t2w3kc"
      },
      "execution_count": null,
      "outputs": []
    },
    {
      "cell_type": "markdown",
      "source": [
        "# Model Training"
      ],
      "metadata": {
        "id": "G1Fi-MTs5vzo"
      }
    },
    {
      "cell_type": "code",
      "source": [
        "#our learning rate scheduler. Will gradually shrink the learning rate as training progesses to find a better converging point.\n",
        "lr_schedule = tf.keras.optimizers.schedules.ExponentialDecay(\n",
        "    0.001,\n",
        "    decay_steps=100000,\n",
        "    decay_rate=0.96,\n",
        "    staircase=True)\n",
        "\n",
        "checkpoint_filepath = '/content/drive/MyDrive/Colab Notebooks/Deep Learning/Project 2/checkpoint'\n",
        "model_checkpoint_callback = tf.keras.callbacks.ModelCheckpoint(\n",
        "    filepath=checkpoint_filepath,\n",
        "    save_weights_only=True,\n",
        "    monitor='val_accuracy',\n",
        "    mode='max',\n",
        "    save_best_only=True)\n",
        "\n",
        "#early stopping callback. stop if the loss doesn't improve for 7 epochs in a row\n",
        "early_stopping_callback = tf.keras.callbacks.EarlyStopping(\n",
        "    monitor='loss',\n",
        "    patience=5,\n",
        "    start_from_epoch=20)\n",
        "\n",
        "\n",
        "opt = tf.keras.optimizers.Adam(learning_rate=lr_schedule)\n",
        "loss_fn = tf.keras.losses.SparseCategoricalCrossentropy(from_logits=True)\n",
        "model.compile(optimizer=opt,\n",
        "              loss=loss_fn,\n",
        "              metrics=['accuracy'])\n",
        "model.summary()"
      ],
      "metadata": {
        "id": "X0_nUOY_50Dw",
        "colab": {
          "base_uri": "https://localhost:8080/"
        },
        "outputId": "615a742a-85c6-4422-c7b7-b87a8c3af325"
      },
      "execution_count": null,
      "outputs": [
        {
          "output_type": "stream",
          "name": "stdout",
          "text": [
            "Model: \"GRU_Model\"\n",
            "_________________________________________________________________\n",
            " Layer (type)                Output Shape              Param #   \n",
            "=================================================================\n",
            " input_16 (InputLayer)       [(None, 31, 3)]           0         \n",
            "                                                                 \n",
            " masking_15 (Masking)        (None, 31, 3)             0         \n",
            "                                                                 \n",
            " gru_32 (GRU)                (None, 31, 32)            3552      \n",
            "                                                                 \n",
            " flatten_15 (Flatten)        (None, 992)               0         \n",
            "                                                                 \n",
            " dense_40 (Dense)            (None, 64)                63552     \n",
            "                                                                 \n",
            " dense_41 (Dense)            (None, 3)                 195       \n",
            "                                                                 \n",
            "=================================================================\n",
            "Total params: 67299 (262.89 KB)\n",
            "Trainable params: 67299 (262.89 KB)\n",
            "Non-trainable params: 0 (0.00 Byte)\n",
            "_________________________________________________________________\n"
          ]
        }
      ]
    },
    {
      "cell_type": "code",
      "source": [
        "#train the model\n",
        "#Some hyperparameter setup\n",
        "batch_size = 256           #set batch size to 256\n",
        "epochs = 100               #set num epochs to 100\n",
        "\n",
        "history = model.fit(\n",
        "    trainData,\n",
        "    trainLabels,\n",
        "    validation_data=(valData, valLabels),\n",
        "    batch_size=batch_size,\n",
        "    epochs=epochs,\n",
        "    callbacks=[model_checkpoint_callback]\n",
        ")"
      ],
      "metadata": {
        "id": "zlLqB23znTXc",
        "colab": {
          "base_uri": "https://localhost:8080/"
        },
        "outputId": "2672301b-097a-46a3-d9ef-d44f491cb807"
      },
      "execution_count": null,
      "outputs": [
        {
          "output_type": "stream",
          "name": "stdout",
          "text": [
            "Epoch 1/100\n",
            "2/2 [==============================] - 8s 2s/step - loss: 2.6305 - accuracy: 0.4269 - val_loss: 2.4335 - val_accuracy: 0.5714\n",
            "Epoch 2/100\n",
            "2/2 [==============================] - 0s 91ms/step - loss: 2.4151 - accuracy: 0.5708 - val_loss: 2.3228 - val_accuracy: 0.5714\n",
            "Epoch 3/100\n",
            "2/2 [==============================] - 0s 88ms/step - loss: 2.3148 - accuracy: 0.5708 - val_loss: 2.2513 - val_accuracy: 0.5714\n",
            "Epoch 4/100\n",
            "2/2 [==============================] - 0s 212ms/step - loss: 2.2546 - accuracy: 0.5639 - val_loss: 2.1921 - val_accuracy: 0.5918\n",
            "Epoch 5/100\n",
            "2/2 [==============================] - 0s 78ms/step - loss: 2.1917 - accuracy: 0.5616 - val_loss: 2.1243 - val_accuracy: 0.5714\n",
            "Epoch 6/100\n",
            "2/2 [==============================] - 0s 81ms/step - loss: 2.1275 - accuracy: 0.5708 - val_loss: 2.0595 - val_accuracy: 0.5714\n",
            "Epoch 7/100\n",
            "2/2 [==============================] - 0s 85ms/step - loss: 2.0637 - accuracy: 0.5662 - val_loss: 1.9905 - val_accuracy: 0.5918\n",
            "Epoch 8/100\n",
            "2/2 [==============================] - 0s 197ms/step - loss: 1.9946 - accuracy: 0.5753 - val_loss: 1.9258 - val_accuracy: 0.6122\n",
            "Epoch 9/100\n",
            "2/2 [==============================] - 0s 94ms/step - loss: 1.9320 - accuracy: 0.5685 - val_loss: 1.8646 - val_accuracy: 0.6122\n",
            "Epoch 10/100\n",
            "2/2 [==============================] - 0s 77ms/step - loss: 1.8747 - accuracy: 0.5799 - val_loss: 1.8079 - val_accuracy: 0.6122\n",
            "Epoch 11/100\n",
            "2/2 [==============================] - 0s 219ms/step - loss: 1.8205 - accuracy: 0.5799 - val_loss: 1.7541 - val_accuracy: 0.6531\n",
            "Epoch 12/100\n",
            "2/2 [==============================] - 0s 100ms/step - loss: 1.7712 - accuracy: 0.5799 - val_loss: 1.7032 - val_accuracy: 0.6531\n",
            "Epoch 13/100\n",
            "2/2 [==============================] - 0s 95ms/step - loss: 1.7214 - accuracy: 0.5890 - val_loss: 1.6543 - val_accuracy: 0.6531\n",
            "Epoch 14/100\n",
            "2/2 [==============================] - 0s 78ms/step - loss: 1.6752 - accuracy: 0.5982 - val_loss: 1.6072 - val_accuracy: 0.6531\n",
            "Epoch 15/100\n",
            "2/2 [==============================] - 0s 85ms/step - loss: 1.6306 - accuracy: 0.5982 - val_loss: 1.5630 - val_accuracy: 0.6531\n",
            "Epoch 16/100\n",
            "2/2 [==============================] - 0s 172ms/step - loss: 1.5901 - accuracy: 0.6027 - val_loss: 1.5211 - val_accuracy: 0.6939\n",
            "Epoch 17/100\n",
            "2/2 [==============================] - 0s 82ms/step - loss: 1.5486 - accuracy: 0.6027 - val_loss: 1.4833 - val_accuracy: 0.6735\n",
            "Epoch 18/100\n",
            "2/2 [==============================] - 0s 76ms/step - loss: 1.5121 - accuracy: 0.6119 - val_loss: 1.4467 - val_accuracy: 0.6939\n",
            "Epoch 19/100\n",
            "2/2 [==============================] - 0s 78ms/step - loss: 1.4762 - accuracy: 0.6164 - val_loss: 1.4118 - val_accuracy: 0.6939\n",
            "Epoch 20/100\n",
            "2/2 [==============================] - 0s 70ms/step - loss: 1.4425 - accuracy: 0.6324 - val_loss: 1.3781 - val_accuracy: 0.6735\n",
            "Epoch 21/100\n",
            "2/2 [==============================] - 0s 73ms/step - loss: 1.4108 - accuracy: 0.6347 - val_loss: 1.3468 - val_accuracy: 0.6939\n",
            "Epoch 22/100\n",
            "2/2 [==============================] - 0s 82ms/step - loss: 1.3803 - accuracy: 0.6256 - val_loss: 1.3193 - val_accuracy: 0.6939\n",
            "Epoch 23/100\n",
            "2/2 [==============================] - 0s 65ms/step - loss: 1.3520 - accuracy: 0.6279 - val_loss: 1.2903 - val_accuracy: 0.6939\n",
            "Epoch 24/100\n",
            "2/2 [==============================] - 0s 68ms/step - loss: 1.3254 - accuracy: 0.6370 - val_loss: 1.2639 - val_accuracy: 0.6939\n",
            "Epoch 25/100\n",
            "2/2 [==============================] - 0s 81ms/step - loss: 1.2971 - accuracy: 0.6438 - val_loss: 1.2423 - val_accuracy: 0.6939\n",
            "Epoch 26/100\n",
            "2/2 [==============================] - 0s 80ms/step - loss: 1.2760 - accuracy: 0.6416 - val_loss: 1.2175 - val_accuracy: 0.6939\n",
            "Epoch 27/100\n",
            "2/2 [==============================] - 0s 162ms/step - loss: 1.2508 - accuracy: 0.6530 - val_loss: 1.2000 - val_accuracy: 0.7143\n",
            "Epoch 28/100\n",
            "2/2 [==============================] - 0s 71ms/step - loss: 1.2303 - accuracy: 0.6393 - val_loss: 1.1771 - val_accuracy: 0.6939\n",
            "Epoch 29/100\n",
            "2/2 [==============================] - 0s 81ms/step - loss: 1.2073 - accuracy: 0.6393 - val_loss: 1.1616 - val_accuracy: 0.7143\n",
            "Epoch 30/100\n",
            "2/2 [==============================] - 0s 97ms/step - loss: 1.1914 - accuracy: 0.6438 - val_loss: 1.1396 - val_accuracy: 0.7143\n",
            "Epoch 31/100\n",
            "2/2 [==============================] - 0s 84ms/step - loss: 1.1694 - accuracy: 0.6598 - val_loss: 1.1266 - val_accuracy: 0.7143\n",
            "Epoch 32/100\n",
            "2/2 [==============================] - 0s 80ms/step - loss: 1.1551 - accuracy: 0.6438 - val_loss: 1.1086 - val_accuracy: 0.7143\n",
            "Epoch 33/100\n",
            "2/2 [==============================] - 0s 87ms/step - loss: 1.1367 - accuracy: 0.6621 - val_loss: 1.0959 - val_accuracy: 0.7143\n",
            "Epoch 34/100\n",
            "2/2 [==============================] - 0s 221ms/step - loss: 1.1252 - accuracy: 0.6667 - val_loss: 1.0769 - val_accuracy: 0.7347\n",
            "Epoch 35/100\n",
            "2/2 [==============================] - 0s 94ms/step - loss: 1.1069 - accuracy: 0.6621 - val_loss: 1.0616 - val_accuracy: 0.7347\n",
            "Epoch 36/100\n",
            "2/2 [==============================] - 0s 94ms/step - loss: 1.0950 - accuracy: 0.6598 - val_loss: 1.0491 - val_accuracy: 0.6939\n",
            "Epoch 37/100\n",
            "2/2 [==============================] - 0s 82ms/step - loss: 1.0777 - accuracy: 0.6598 - val_loss: 1.0378 - val_accuracy: 0.7143\n",
            "Epoch 38/100\n",
            "2/2 [==============================] - 0s 73ms/step - loss: 1.0658 - accuracy: 0.6461 - val_loss: 1.0248 - val_accuracy: 0.7143\n",
            "Epoch 39/100\n",
            "2/2 [==============================] - 0s 68ms/step - loss: 1.0524 - accuracy: 0.6689 - val_loss: 1.0135 - val_accuracy: 0.7143\n",
            "Epoch 40/100\n",
            "2/2 [==============================] - 0s 174ms/step - loss: 1.0423 - accuracy: 0.6689 - val_loss: 1.0027 - val_accuracy: 0.7551\n",
            "Epoch 41/100\n",
            "2/2 [==============================] - 0s 65ms/step - loss: 1.0288 - accuracy: 0.6689 - val_loss: 0.9964 - val_accuracy: 0.7143\n",
            "Epoch 42/100\n",
            "2/2 [==============================] - 0s 84ms/step - loss: 1.0221 - accuracy: 0.6507 - val_loss: 0.9848 - val_accuracy: 0.7347\n",
            "Epoch 43/100\n",
            "2/2 [==============================] - 0s 72ms/step - loss: 1.0089 - accuracy: 0.6712 - val_loss: 0.9768 - val_accuracy: 0.7143\n",
            "Epoch 44/100\n",
            "2/2 [==============================] - 0s 99ms/step - loss: 1.0015 - accuracy: 0.6598 - val_loss: 0.9640 - val_accuracy: 0.7551\n",
            "Epoch 45/100\n",
            "2/2 [==============================] - 0s 81ms/step - loss: 0.9916 - accuracy: 0.6553 - val_loss: 0.9585 - val_accuracy: 0.7347\n",
            "Epoch 46/100\n",
            "2/2 [==============================] - 0s 87ms/step - loss: 0.9834 - accuracy: 0.6575 - val_loss: 0.9487 - val_accuracy: 0.7143\n",
            "Epoch 47/100\n",
            "2/2 [==============================] - 0s 94ms/step - loss: 0.9751 - accuracy: 0.6689 - val_loss: 0.9422 - val_accuracy: 0.7143\n",
            "Epoch 48/100\n",
            "2/2 [==============================] - 0s 77ms/step - loss: 0.9670 - accuracy: 0.6735 - val_loss: 0.9370 - val_accuracy: 0.7143\n",
            "Epoch 49/100\n",
            "2/2 [==============================] - 0s 85ms/step - loss: 0.9584 - accuracy: 0.6689 - val_loss: 0.9268 - val_accuracy: 0.7347\n",
            "Epoch 50/100\n",
            "2/2 [==============================] - 0s 81ms/step - loss: 0.9499 - accuracy: 0.6758 - val_loss: 0.9188 - val_accuracy: 0.7347\n",
            "Epoch 51/100\n",
            "2/2 [==============================] - 0s 84ms/step - loss: 0.9450 - accuracy: 0.6621 - val_loss: 0.9116 - val_accuracy: 0.7347\n",
            "Epoch 52/100\n",
            "2/2 [==============================] - 0s 79ms/step - loss: 0.9365 - accuracy: 0.6689 - val_loss: 0.9059 - val_accuracy: 0.7347\n",
            "Epoch 53/100\n",
            "2/2 [==============================] - 0s 76ms/step - loss: 0.9297 - accuracy: 0.6826 - val_loss: 0.9024 - val_accuracy: 0.7143\n",
            "Epoch 54/100\n",
            "2/2 [==============================] - 0s 69ms/step - loss: 0.9232 - accuracy: 0.6826 - val_loss: 0.8961 - val_accuracy: 0.7551\n",
            "Epoch 55/100\n",
            "2/2 [==============================] - 0s 84ms/step - loss: 0.9163 - accuracy: 0.6689 - val_loss: 0.8920 - val_accuracy: 0.7551\n",
            "Epoch 56/100\n",
            "2/2 [==============================] - 0s 66ms/step - loss: 0.9139 - accuracy: 0.6644 - val_loss: 0.8855 - val_accuracy: 0.7143\n",
            "Epoch 57/100\n",
            "2/2 [==============================] - 0s 67ms/step - loss: 0.9059 - accuracy: 0.6826 - val_loss: 0.8857 - val_accuracy: 0.7143\n",
            "Epoch 58/100\n",
            "2/2 [==============================] - 0s 83ms/step - loss: 0.9030 - accuracy: 0.6872 - val_loss: 0.8754 - val_accuracy: 0.7551\n",
            "Epoch 59/100\n",
            "2/2 [==============================] - 0s 70ms/step - loss: 0.8941 - accuracy: 0.6689 - val_loss: 0.8719 - val_accuracy: 0.7551\n",
            "Epoch 60/100\n",
            "2/2 [==============================] - 0s 85ms/step - loss: 0.8913 - accuracy: 0.6667 - val_loss: 0.8656 - val_accuracy: 0.7143\n",
            "Epoch 61/100\n",
            "2/2 [==============================] - 0s 81ms/step - loss: 0.8922 - accuracy: 0.6804 - val_loss: 0.8639 - val_accuracy: 0.7143\n",
            "Epoch 62/100\n",
            "2/2 [==============================] - 0s 82ms/step - loss: 0.8828 - accuracy: 0.6758 - val_loss: 0.8634 - val_accuracy: 0.7551\n",
            "Epoch 63/100\n",
            "2/2 [==============================] - 0s 86ms/step - loss: 0.8800 - accuracy: 0.6689 - val_loss: 0.8512 - val_accuracy: 0.7551\n",
            "Epoch 64/100\n",
            "2/2 [==============================] - 0s 87ms/step - loss: 0.8764 - accuracy: 0.6849 - val_loss: 0.8513 - val_accuracy: 0.7143\n",
            "Epoch 65/100\n",
            "2/2 [==============================] - 0s 105ms/step - loss: 0.8715 - accuracy: 0.6872 - val_loss: 0.8467 - val_accuracy: 0.7551\n",
            "Epoch 66/100\n",
            "2/2 [==============================] - 0s 117ms/step - loss: 0.8633 - accuracy: 0.6667 - val_loss: 0.8417 - val_accuracy: 0.7551\n",
            "Epoch 67/100\n",
            "2/2 [==============================] - 0s 131ms/step - loss: 0.8618 - accuracy: 0.6941 - val_loss: 0.8407 - val_accuracy: 0.7143\n",
            "Epoch 68/100\n",
            "2/2 [==============================] - 0s 117ms/step - loss: 0.8553 - accuracy: 0.6826 - val_loss: 0.8380 - val_accuracy: 0.7347\n",
            "Epoch 69/100\n",
            "2/2 [==============================] - 0s 118ms/step - loss: 0.8520 - accuracy: 0.6781 - val_loss: 0.8313 - val_accuracy: 0.7347\n",
            "Epoch 70/100\n",
            "2/2 [==============================] - 0s 115ms/step - loss: 0.8479 - accuracy: 0.6941 - val_loss: 0.8277 - val_accuracy: 0.7551\n",
            "Epoch 71/100\n",
            "2/2 [==============================] - 0s 122ms/step - loss: 0.8419 - accuracy: 0.6918 - val_loss: 0.8270 - val_accuracy: 0.7551\n",
            "Epoch 72/100\n",
            "2/2 [==============================] - 0s 96ms/step - loss: 0.8416 - accuracy: 0.6735 - val_loss: 0.8229 - val_accuracy: 0.7551\n",
            "Epoch 73/100\n",
            "2/2 [==============================] - 0s 126ms/step - loss: 0.8358 - accuracy: 0.6918 - val_loss: 0.8235 - val_accuracy: 0.7143\n",
            "Epoch 74/100\n",
            "2/2 [==============================] - 0s 142ms/step - loss: 0.8345 - accuracy: 0.6918 - val_loss: 0.8179 - val_accuracy: 0.7551\n",
            "Epoch 75/100\n",
            "2/2 [==============================] - 0s 116ms/step - loss: 0.8385 - accuracy: 0.6781 - val_loss: 0.8159 - val_accuracy: 0.7551\n",
            "Epoch 76/100\n",
            "2/2 [==============================] - 0s 129ms/step - loss: 0.8275 - accuracy: 0.6918 - val_loss: 0.8186 - val_accuracy: 0.7143\n",
            "Epoch 77/100\n",
            "2/2 [==============================] - 0s 136ms/step - loss: 0.8273 - accuracy: 0.6918 - val_loss: 0.8109 - val_accuracy: 0.7347\n",
            "Epoch 78/100\n",
            "2/2 [==============================] - 0s 201ms/step - loss: 0.8195 - accuracy: 0.6895 - val_loss: 0.8138 - val_accuracy: 0.7347\n",
            "Epoch 79/100\n",
            "2/2 [==============================] - 0s 114ms/step - loss: 0.8213 - accuracy: 0.6872 - val_loss: 0.8086 - val_accuracy: 0.7143\n",
            "Epoch 80/100\n",
            "2/2 [==============================] - 0s 125ms/step - loss: 0.8142 - accuracy: 0.7032 - val_loss: 0.8056 - val_accuracy: 0.7143\n",
            "Epoch 81/100\n",
            "2/2 [==============================] - 0s 132ms/step - loss: 0.8190 - accuracy: 0.6963 - val_loss: 0.8015 - val_accuracy: 0.7551\n",
            "Epoch 82/100\n",
            "2/2 [==============================] - 0s 260ms/step - loss: 0.8100 - accuracy: 0.6826 - val_loss: 0.8074 - val_accuracy: 0.8367\n",
            "Epoch 83/100\n",
            "2/2 [==============================] - 0s 117ms/step - loss: 0.8120 - accuracy: 0.6804 - val_loss: 0.8010 - val_accuracy: 0.7143\n",
            "Epoch 84/100\n",
            "2/2 [==============================] - 0s 113ms/step - loss: 0.8114 - accuracy: 0.6895 - val_loss: 0.8073 - val_accuracy: 0.7143\n",
            "Epoch 85/100\n",
            "2/2 [==============================] - 0s 69ms/step - loss: 0.8083 - accuracy: 0.6986 - val_loss: 0.8007 - val_accuracy: 0.8163\n",
            "Epoch 86/100\n",
            "2/2 [==============================] - 0s 84ms/step - loss: 0.8038 - accuracy: 0.6872 - val_loss: 0.7930 - val_accuracy: 0.7347\n",
            "Epoch 87/100\n",
            "2/2 [==============================] - 0s 83ms/step - loss: 0.7959 - accuracy: 0.6986 - val_loss: 0.7960 - val_accuracy: 0.7143\n",
            "Epoch 88/100\n",
            "2/2 [==============================] - 0s 65ms/step - loss: 0.7966 - accuracy: 0.7009 - val_loss: 0.7888 - val_accuracy: 0.7551\n",
            "Epoch 89/100\n",
            "2/2 [==============================] - 0s 94ms/step - loss: 0.7902 - accuracy: 0.6963 - val_loss: 0.7881 - val_accuracy: 0.7347\n",
            "Epoch 90/100\n",
            "2/2 [==============================] - 0s 69ms/step - loss: 0.7916 - accuracy: 0.6895 - val_loss: 0.7873 - val_accuracy: 0.7347\n",
            "Epoch 91/100\n",
            "2/2 [==============================] - 0s 80ms/step - loss: 0.7911 - accuracy: 0.7009 - val_loss: 0.7922 - val_accuracy: 0.7143\n",
            "Epoch 92/100\n",
            "2/2 [==============================] - 0s 72ms/step - loss: 0.7866 - accuracy: 0.6941 - val_loss: 0.7871 - val_accuracy: 0.7755\n",
            "Epoch 93/100\n",
            "2/2 [==============================] - 0s 73ms/step - loss: 0.7853 - accuracy: 0.6963 - val_loss: 0.7838 - val_accuracy: 0.7347\n",
            "Epoch 94/100\n",
            "2/2 [==============================] - 0s 74ms/step - loss: 0.7841 - accuracy: 0.7100 - val_loss: 0.7834 - val_accuracy: 0.7143\n",
            "Epoch 95/100\n",
            "2/2 [==============================] - 0s 85ms/step - loss: 0.7781 - accuracy: 0.7078 - val_loss: 0.7801 - val_accuracy: 0.7347\n",
            "Epoch 96/100\n",
            "2/2 [==============================] - 0s 87ms/step - loss: 0.7761 - accuracy: 0.6963 - val_loss: 0.7778 - val_accuracy: 0.7143\n",
            "Epoch 97/100\n",
            "2/2 [==============================] - 0s 99ms/step - loss: 0.7726 - accuracy: 0.7123 - val_loss: 0.7786 - val_accuracy: 0.7143\n",
            "Epoch 98/100\n",
            "2/2 [==============================] - 0s 70ms/step - loss: 0.7716 - accuracy: 0.7146 - val_loss: 0.7765 - val_accuracy: 0.7143\n",
            "Epoch 99/100\n",
            "2/2 [==============================] - 0s 77ms/step - loss: 0.7685 - accuracy: 0.7100 - val_loss: 0.7764 - val_accuracy: 0.7143\n",
            "Epoch 100/100\n",
            "2/2 [==============================] - 0s 70ms/step - loss: 0.7675 - accuracy: 0.7078 - val_loss: 0.7754 - val_accuracy: 0.7143\n"
          ]
        }
      ]
    },
    {
      "cell_type": "code",
      "source": [
        "acc = history.history['accuracy']\n",
        "val_acc = history.history['val_accuracy']\n",
        "\n",
        "loss = history.history['loss']\n",
        "val_loss = history.history['val_loss']\n",
        "\n",
        "epochs_range = range(min(epochs, len(acc)))\n",
        "\n",
        "plt.figure(figsize=(8, 8))\n",
        "plt.subplot(1, 2, 1)\n",
        "plt.plot(epochs_range, acc, label='Training Accuracy')\n",
        "plt.plot(epochs_range, val_acc, label='Validation Accuracy')\n",
        "plt.legend(loc='lower right')\n",
        "plt.title('Training and Validation Accuracy')\n",
        "\n",
        "plt.subplot(1, 2, 2)\n",
        "plt.plot(epochs_range, loss, label='Training Loss')\n",
        "plt.plot(epochs_range, val_loss, label='Validation Loss')\n",
        "plt.legend(loc='upper right')\n",
        "plt.title('Training and Validation Loss')\n",
        "plt.show()"
      ],
      "metadata": {
        "id": "bV0n6NC321Sh",
        "outputId": "d81f0192-71ae-4afd-ad98-4d6c4eb4c8ff",
        "colab": {
          "base_uri": "https://localhost:8080/",
          "height": 699
        }
      },
      "execution_count": null,
      "outputs": [
        {
          "output_type": "display_data",
          "data": {
            "text/plain": [
              "<Figure size 800x800 with 2 Axes>"
            ],
            "image/png": "[encoded data removed]"
          },
          "metadata": {}
        }
      ]
    },
    {
      "cell_type": "code",
      "source": [
        "#load the best model using the callback\n",
        "model.load_weights(checkpoint_filepath)\n",
        "\n",
        "print(\"\\n\\nEvaluating Best Model\\n\")\n",
        "#evaluation the model on the validation data\n",
        "model.evaluate(valData, valLabels, verbose=2)\n",
        "\n",
        "\n",
        "#Best val acc so far: 0.816 w/ 0.75 test acc"
      ],
      "metadata": {
        "colab": {
          "base_uri": "https://localhost:8080/"
        },
        "id": "RXSNNOXVrb9I",
        "outputId": "8c3e8121-c29a-4562-af63-e4e9214325b8"
      },
      "execution_count": null,
      "outputs": [
        {
          "output_type": "stream",
          "name": "stdout",
          "text": [
            "\n",
            "\n",
            "Evaluating Best Model\n",
            "\n",
            "2/2 - 0s - loss: 0.8074 - accuracy: 0.8367 - 35ms/epoch - 18ms/step\n"
          ]
        },
        {
          "output_type": "execute_result",
          "data": {
            "text/plain": [
              "[0.8074399828910828, 0.8367347121238708]"
            ]
          },
          "metadata": {},
          "execution_count": 108
        }
      ]
    },
    {
      "cell_type": "code",
      "source": [
        "#save the model\n",
        "model.save(\"/content/drive/MyDrive/Colab Notebooks/Deep Learning/Project 2/bestModel.keras\")\n",
        "print(\"Saved Model\")"
      ],
      "metadata": {
        "id": "oQ4k7YiBHw6C",
        "outputId": "6d6995a1-b27c-4044-e2e1-022342fee288",
        "colab": {
          "base_uri": "https://localhost:8080/"
        }
      },
      "execution_count": null,
      "outputs": [
        {
          "output_type": "stream",
          "name": "stdout",
          "text": [
            "Saved Model\n"
          ]
        }
      ]
    },
    {
      "cell_type": "markdown",
      "source": [
        "# Testing Script"
      ],
      "metadata": {
        "id": "AVq8bgK550VC"
      }
    },
    {
      "cell_type": "code",
      "source": [
        "#import libraries\n",
        "import tensorflow as tf\n",
        "import numpy as np\n",
        "import pandas as pd\n",
        "import csv\n",
        "import os\n",
        "from matplotlib import pyplot as plt\n",
        "\n",
        "###############################################################################\n",
        "#Reading data and normalization\n",
        "\n",
        "#read test.csv, dropping the first column as it just holds the index of the rows, which we don't need\n",
        "testData = pd.read_csv(\"test.csv\", sep=',', usecols=[1, 2, 3, 4], names = ['Heart Rate', 'Respiratory Rate', 'O2 Level', 'Label'])\n",
        "\n",
        "\n",
        "# #Normalize the test data using the normalization factors we found in the training data. Hard coded here\n",
        "normValues = [[40, 200], [15, 90], [80, 100]]   #from training\n",
        "testData['Heart Rate'] = (testData['Heart Rate'] - normValues[0][0]) / (normValues[0][1] - normValues[0][0])\n",
        "testData['Respiratory Rate'] = (testData['Respiratory Rate'] - normValues[1][0]) / (normValues[1][1] - normValues[1][0])\n",
        "testData['O2 Level'] = (testData['O2 Level'] - normValues[2][0]) / (normValues[2][1] - normValues[2][0])\n",
        "\n",
        "\n",
        "###############################################################################\n",
        "#Seperating normalized data into sequences\n",
        "\n",
        "#now we need to process the data by seperating the entire data array into 31 row chunks\n",
        "testData = np.array_split(testData, np.arange(31, len(testData), 31))\n",
        "\n",
        "#pull the labels from the first row of each sequence, save it to an array, then drop the label col from this data sequence\n",
        "testLabels = []\n",
        "for seq in testData:\n",
        "  label = seq['Label'].iloc[0]    #get the first rows label, and use it for this whole sequence\n",
        "  seq.drop('Label', axis=1, inplace=True)\n",
        "  testLabels.append(label)\n",
        "\n",
        "testLabels = np.asarray(testLabels).astype('int32')\n",
        "\n",
        "#convert dataframes into np arrays and make the whole dataset multidimensional instead of an array of dataframes for tensorflow to properly use\n",
        "testData = np.array([np.array(seq) for seq in testData])\n",
        "\n",
        "\n",
        "\n",
        "###############################################################################\n",
        "#Testing model\n",
        "\n",
        "#load the model from a saved file\n",
        "bestmodel = tf.keras.models.load_model(\"bestModel.keras\")\n",
        "\n",
        "#evaluating the model on the test data\n",
        "loss, acc = bestmodel.evaluate(testData, testLabels, verbose=2)\n",
        "print(\"Loss on test data: \", loss)\n",
        "print(\"Accuracy on test data: \", acc)"
      ],
      "metadata": {
        "id": "8M7ZIwNM53As",
        "outputId": "1b01f59e-69bd-46dc-e044-a1461523473a",
        "colab": {
          "base_uri": "https://localhost:8080/"
        }
      },
      "execution_count": 23,
      "outputs": [
        {
          "output_type": "stream",
          "name": "stdout",
          "text": [
            "Mounted at /content/drive\n",
            "1/1 - 6s - loss: 0.7497 - accuracy: 0.7500 - 6s/epoch - 6s/step\n",
            "Loss on test data:  0.7497431635856628\n",
            "Accuracy on test data:  0.75\n"
          ]
        }
      ]
    }
  ]
}