{
  "nbformat": 4,
  "nbformat_minor": 0,
  "metadata": {
    "colab": {
      "provenance": [],
      "authorship_tag": "ABX9TyPtHSWsIRQZxMlVsDAxKLHn",
      "include_colab_link": true
    },
    "kernelspec": {
      "name": "python3",
      "display_name": "Python 3"
    },
    "language_info": {
      "name": "python"
    }
  },
  "cells": [
    {
      "cell_type": "markdown",
      "metadata": {
        "id": "view-in-github",
        "colab_type": "text"
      },
      "source": [
        "<a href=\"https://colab.research.google.com/github/ChrisKantor/Deep-Learning/blob/main/Project%201/Deep_Learning_Project_1.ipynb\" target=\"_parent\"><img src=\"https://colab.research.google.com/assets/colab-badge.svg\" alt=\"Open In Colab\"/></a>"
      ]
    },
    {
      "cell_type": "code",
      "execution_count": null,
      "metadata": {
        "id": "WurbrvPdutvZ"
      },
      "outputs": [],
      "source": [
        "#Deep Learning model that can identify the state of different cooking ingredients\n",
        "\n",
        "#submit accuracy/loss figures for each epoch for both training and validation data\n",
        "\n",
        "#https://www.tensorflow.org/tutorials/images/classification\n",
        "\n",
        "#focus on getting a working model for pt 2. try a simple one first, then gradually increase complexity until we acheive overfitting. submit accuracy/loss figures for this part\n",
        "#pt3 is all about hyperparameter tuning/data augmentation"
      ]
    }
  ]
}