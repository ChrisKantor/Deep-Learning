{
  "nbformat": 4,
  "nbformat_minor": 0,
  "metadata": {
    "colab": {
      "provenance": [],
      "authorship_tag": "ABX9TyPdU3qna0xfDPxyIoxZZg3Y",
      "include_colab_link": true
    },
    "kernelspec": {
      "name": "python3",
      "display_name": "Python 3"
    },
    "language_info": {
      "name": "python"
    }
  },
  "cells": [
    {
      "cell_type": "markdown",
      "metadata": {
        "id": "view-in-github",
        "colab_type": "text"
      },
      "source": [
        "<a href=\"https://colab.research.google.com/github/ChrisKantor/Deep-Learning/blob/main/Project%201/Deep_Learning_Project_1.ipynb\" target=\"_parent\"><img src=\"https://colab.research.google.com/assets/colab-badge.svg\" alt=\"Open In Colab\"/></a>"
      ]
    },
    {
      "cell_type": "code",
      "execution_count": null,
      "metadata": {
        "id": "WurbrvPdutvZ"
      },
      "outputs": [],
      "source": [
        "#Deep Learning model that can identify the state of different cooking ingredients\n",
        "\n",
        "#submit accuracy/loss figures for each epoch for both training and validation data\n",
        "\n",
        "#https://www.tensorflow.org/tutorials/images/classification\n",
        "\n",
        "#focus on getting a working model for pt 2. try a simple one first, then gradually increase complexity until we acheive overfitting. submit accuracy/loss figures for this part\n",
        "#pt3 is all about hyperparameter tuning/data augmentation"
      ]
    },
    {
      "cell_type": "markdown",
      "source": [
        "# Loading Data"
      ],
      "metadata": {
        "id": "5mg9v0md9ixV"
      }
    },
    {
      "cell_type": "code",
      "source": [
        "#import libraries\n",
        "import tensorflow as tf\n",
        "import numpy as np\n",
        "import pandas as pd\n",
        "import csv\n",
        "import os\n",
        "from matplotlib import pyplot as plt\n",
        "import PIL\n",
        "\n",
        "## Mount Google drive\n",
        "from google.colab import drive\n",
        "drive.mount('/content/drive', force_remount=True)\n",
        "data_dir = '/content/drive/MyDrive/Colab Notebooks/Deep Learning/Project 1/data/'"
      ],
      "metadata": {
        "id": "hZcioqNn9oyg",
        "outputId": "8594c380-fcf2-4563-d839-f4a73a376fd1",
        "colab": {
          "base_uri": "https://localhost:8080/"
        }
      },
      "execution_count": 1,
      "outputs": [
        {
          "output_type": "stream",
          "name": "stdout",
          "text": [
            "Mounted at /content/drive\n",
            "/content/drive/MyDrive/Colab Notebooks/Deep Learning/Project 1/data/\n"
          ]
        }
      ]
    },
    {
      "cell_type": "code",
      "source": [
        "#Some hyperparameter setup\n",
        "image_size = (256, 256)\n",
        "batch_size = 32\n",
        "label_mode = 'categorical' #uses categorical_crossentropy , 'int' uses sparse_categorical_crossentropy"
      ],
      "metadata": {
        "id": "NU1aL_33Aq9f"
      },
      "execution_count": 10,
      "outputs": []
    },
    {
      "cell_type": "code",
      "source": [
        "#load data set\n",
        "print(data_dir)\n",
        "train_ds = tf.keras.utils.image_dataset_from_directory(\n",
        "    data_dir + 'train/',\n",
        "    image_size = image_size,\n",
        "    batch_size = batch_size,\n",
        "    label_mode = label_mode,\n",
        "    seed = 8312001\n",
        ")\n",
        "\n",
        "print(train_ds.class_names)"
      ],
      "metadata": {
        "id": "vCeicokJ_x1w",
        "outputId": "82c2bc20-cdb8-4073-de98-cbc603d967b1",
        "colab": {
          "base_uri": "https://localhost:8080/"
        }
      },
      "execution_count": 11,
      "outputs": [
        {
          "output_type": "stream",
          "name": "stdout",
          "text": [
            "/content/drive/MyDrive/Colab Notebooks/Deep Learning/Project 1/data/\n",
            "Found 7213 files belonging to 11 classes.\n",
            "['creamy_paste', 'diced', 'floured', 'grated', 'juiced', 'jullienne', 'mixed', 'other', 'peeled', 'sliced', 'whole']\n"
          ]
        }
      ]
    }
  ]
}