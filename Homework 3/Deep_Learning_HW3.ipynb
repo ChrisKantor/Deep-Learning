{
  "nbformat": 4,
  "nbformat_minor": 0,
  "metadata": {
    "colab": {
      "provenance": [],
      "authorship_tag": "ABX9TyPAKnb2qRqvMUBUm6VI/b6Y",
      "include_colab_link": true
    },
    "kernelspec": {
      "name": "python3",
      "display_name": "Python 3"
    },
    "language_info": {
      "name": "python"
    }
  },
  "cells": [
    {
      "cell_type": "markdown",
      "metadata": {
        "id": "view-in-github",
        "colab_type": "text"
      },
      "source": [
        "<a href=\"https://colab.research.google.com/github/ChrisKantor/Deep-Learning/blob/main/Homework%203/Deep_Learning_HW3.ipynb\" target=\"_parent\"><img src=\"https://colab.research.google.com/assets/colab-badge.svg\" alt=\"Open In Colab\"/></a>"
      ]
    },
    {
      "cell_type": "code",
      "execution_count": null,
      "metadata": {
        "id": "HCY4N1ruqq5u"
      },
      "outputs": [],
      "source": [
        "#Deep Learning Assignment Notes:\n",
        "#Need to submite 3 things, training code, the trained model, and then a bunch of results.\n",
        "#need to try all of the things listed in q2\n",
        "#lots of tial and eror with the hyperparameter tuning\n",
        "\n",
        "#data set is about baby vitals for detecting baby pain\n",
        "#3 classes: no pain, mild pain, lots of pain\n",
        "#col 1 is heart rate\n",
        "#col 2 is respiratory rate\n",
        "#col 3 is oxygen saturation\n",
        "#Can merge all the csv files into 1 large one\n",
        "#randomize and then split into training/validation data\n",
        "\n",
        "#need to clean the data, invalid data could be in any column\n",
        "\n",
        "#need 5 HIDDEN layers, so 7 total with the input and output layers\n",
        "#We can choose any number of neurons per layer\n",
        "\n",
        "#70% accuracy is a good minimum\n",
        "\n",
        "#Submit the best model only, but save figures for the other models with hyperparameter tuning\n",
        "#the model is not enough, need to submit a script which loads the model and then runs the test dataset on it\n",
        "#the test data has 2 folders same format as training data, need to combine the data into 1 csv\n",
        "\n",
        "#the testing script can be on a seperate cell in the notebook\n",
        "\n",
        "#figures are for validation loss\n",
        "#don't need to combine hyperparameters, just do them without each other, should be 12 figures total for part 2\n",
        "#1 figure for part 1 (the best model)"
      ]
    },
    {
      "cell_type": "markdown",
      "source": [
        "# **Loading Dataset**"
      ],
      "metadata": {
        "id": "qC0rRcFpQf42"
      }
    },
    {
      "cell_type": "code",
      "source": [
        "#import libraries\n",
        "import tensorflow as tf\n",
        "import numpy as np\n",
        "import pandas as pd\n",
        "import csv\n",
        "import os\n",
        "from matplotlib import pyplot as plt"
      ],
      "metadata": {
        "id": "occsCpZzfvaK"
      },
      "execution_count": 1,
      "outputs": []
    },
    {
      "cell_type": "code",
      "source": [
        "## Mount Google drive\n",
        "from google.colab import drive\n",
        "drive.mount('/content/drive')\n",
        "data_dir = '/content/drive/MyDrive/Colab Notebooks/Deep Learning/Homework 3 Data/'\n",
        "\n",
        "mainFile = \"baby_data.csv\"\n",
        "\n",
        "#create a new csv file that will hold all of our valid data\n",
        "with open(\"/content/drive/MyDrive/Colab Notebooks/Deep Learning/Homework 3 Data/\" + mainFile, 'w') as csvfile:\n",
        "  csvwriter = csv.writer(csvfile)\n",
        "\n",
        "  # writing the column names\n",
        "  csvwriter.writerow(['Heart Rate', 'Respiratory Rate', 'O2 Level', 'Label'])\n",
        "\n",
        "  #use the os library to iterate through all files in the current path\n",
        "  for (root,dirs,files) in os.walk(data_dir, topdown=True):\n",
        "    #open each CSV file, we don't want to open any other type of file\n",
        "    for f in files:\n",
        "      if f.endswith(\".csv\"):\n",
        "        #in each file, go through each row and check if it is valid\n",
        "        with open(os.path.join(root, f), mode ='r') as csvFile:\n",
        "          csvData = csv.reader(csvFile)\n",
        "\n",
        "          #one way to tell if the data is invalid is if the label is NOT [0, 1, 2]. This means there was something wrong with one of the sensors at the time of capture\n",
        "          #another way is to check if the heart rate, respiratory rate, or o2 level is too low, in this case we check if it is <= 0. if so, there was something wrong with the sensor\n",
        "          for row in csvData:\n",
        "            try:\n",
        "              if row[4] in \"012\" and int(row[1]) > 0 and int(row[2]) > 0 and int(row[3]) > 0:   #data is valid, so add it to the main csv\n",
        "\n",
        "                #row[0] just stores the row # in the csv file, so it is not needed in the training dataset\n",
        "                csvwriter.writerow([row[1], row[2], row[3], row[4]])\n",
        "\n",
        "            #Catches errors that occur when an element cannot be parsed into an integer. In this case the row is invalid so we can skip it\n",
        "            except ValueError:\n",
        "              continue\n",
        "\n",
        "print(\"Done writing to main csv file: \", mainFile)"
      ],
      "metadata": {
        "colab": {
          "base_uri": "https://localhost:8080/"
        },
        "id": "mWP_e1NDQorH",
        "outputId": "667e803c-e165-42d3-ea3e-eaf9b33096e5"
      },
      "execution_count": 2,
      "outputs": [
        {
          "output_type": "stream",
          "name": "stdout",
          "text": [
            "Mounted at /content/drive\n",
            "Done writing to main csv file:  baby_data.csv\n"
          ]
        }
      ]
    },
    {
      "cell_type": "code",
      "source": [
        "#Now we have a csv file that has ALL of the valid data which we will use in training our model\n",
        "#The next step is to split the data into a training and validation set, using a 90/10 split\n",
        "dataframe = pd.read_csv(\"/content/drive/MyDrive/Colab Notebooks/Deep Learning/Homework 3 Data/\" + mainFile, sep=',')\n",
        "print(dataframe.shape)\n",
        "print(dataframe.head())\n",
        "\n",
        "\n",
        "#split the data into a training and validation set using a 90/10 split, and randomize beforehand\n",
        "trainData, valData = np.split(dataframe.sample(frac=1), [int(0.9*len(dataframe))])\n",
        "\n",
        "#save the labels to a seperate dataframe and remove them from the data dataframe\n",
        "trainLabel = trainData.pop('Label')\n",
        "valLabel = valData.pop('Label')"
      ],
      "metadata": {
        "colab": {
          "base_uri": "https://localhost:8080/"
        },
        "id": "l-8o5KTrDopv",
        "outputId": "b4377500-26d8-4520-a151-556c5cbf88ea"
      },
      "execution_count": 3,
      "outputs": [
        {
          "output_type": "stream",
          "name": "stdout",
          "text": [
            "(16531, 4)\n",
            "   Heart Rate  Respiratory Rate  O2 Level  Label\n",
            "0         172                46        98      2\n",
            "1         172                46        98      2\n",
            "2         173                46        98      2\n",
            "3         175                48        98      2\n",
            "4         172                49        98      2\n"
          ]
        }
      ]
    },
    {
      "cell_type": "code",
      "source": [
        "#Hyperparameter Tuning\n",
        "batchSize = 32\n",
        "learningRate = 0.0001\n",
        "numEpochs = 50\n",
        "normalize = False\n",
        "optType = 'Adam'\n",
        "momentum = 0.9\n",
        "initType = 'Random'\n",
        "regularize = False         #using L2 regularization in tensorflow\n",
        "regularizeLamda = 0.0001\n",
        "\n",
        "\n",
        "\n",
        "#Choosing optimizer\n",
        "if optType == 'Adam':\n",
        "  opt = tf.keras.optimizers.Adam(learning_rate = learningRate)\n",
        "\n",
        "elif optType == 'SGD':\n",
        "  opt = tf.keras.optimizers.SGD(learning_rate = learningRate, momentum = momentum)\n",
        "\n",
        "\n",
        "#Normalizing data\n",
        "if normalize:\n",
        "  #normalize the data using pandas - use standard scaling\n",
        "  #normalize the validation data using the training datas values(?)\n",
        "  for col in trainData.columns:\n",
        "    trainData[col] = trainData[col]  / trainData[col].abs().max()\n",
        "\n",
        "  for col in valData.columns:\n",
        "    valData[col] = valData[col]  / valData[col].abs().max()"
      ],
      "metadata": {
        "id": "G6cnVUTKscGS"
      },
      "execution_count": 18,
      "outputs": []
    },
    {
      "cell_type": "markdown",
      "source": [
        "# Model Creation and Training"
      ],
      "metadata": {
        "id": "rSBe9Q_gb8W4"
      }
    },
    {
      "cell_type": "code",
      "source": [
        "#Create the model\n",
        "if regularize:\n",
        "  model = tf.keras.models.Sequential([\n",
        "    tf.keras.layers.Dense(3),\n",
        "    tf.keras.layers.Dense(64, activation='relu', kernel_regularizer = tf.keras.regularizers.l2(regularizeLamda)),\n",
        "    tf.keras.layers.Dropout(0.5),\n",
        "    tf.keras.layers.Dense(128, activation='relu', kernel_regularizer = tf.keras.regularizers.l2(regularizeLamda)),\n",
        "    tf.keras.layers.Dropout(0.5),\n",
        "    tf.keras.layers.Dense(64, activation='relu', kernel_regularizer = tf.keras.regularizers.l2(regularizeLamda)),\n",
        "    tf.keras.layers.Dense(3)\n",
        "  ])\n",
        "\n",
        "else:\n",
        "  model = tf.keras.models.Sequential([\n",
        "    tf.keras.layers.Dense(3),\n",
        "    tf.keras.layers.Dense(64, activation='relu'),\n",
        "    tf.keras.layers.Dropout(0.2),\n",
        "    tf.keras.layers.Dense(128, activation='relu'),\n",
        "    tf.keras.layers.Dropout(0.2),\n",
        "    tf.keras.layers.Dense(64, activation='relu'),\n",
        "    tf.keras.layers.Dense(3)\n",
        "  ])\n",
        "\n",
        "#creating the loss function we will use\n",
        "loss_fn = tf.keras.losses.SparseCategoricalCrossentropy(from_logits=True)\n",
        "model.compile(optimizer=opt,\n",
        "              loss=loss_fn,\n",
        "              metrics=['accuracy'])\n",
        "\n",
        "\n",
        "#or optionally load a model from a file\n",
        "#model = tf.keras.models.load_model(\"/content/drive/MyDrive/Colab Notebooks/Deep Learning/Homework 3 Data/baby_pain_model.keras\")"
      ],
      "metadata": {
        "id": "-CdMRySJcCgc"
      },
      "execution_count": 19,
      "outputs": []
    },
    {
      "cell_type": "code",
      "source": [
        "checkpoint_filepath = '/content/drive/MyDrive/Colab Notebooks/Deep Learning/Homework 3 Data/checkpoint'\n",
        "model_checkpoint_callback = tf.keras.callbacks.ModelCheckpoint(\n",
        "    filepath=checkpoint_filepath,\n",
        "    save_weights_only=True,\n",
        "    monitor='val_accuracy',\n",
        "    mode='max',\n",
        "    save_best_only=True)\n",
        "\n",
        "\n",
        "#Running the model\n",
        "print(\"Running Model\\n\")\n",
        "history = model.fit(trainData, trainLabel, epochs=numEpochs, batch_size=batchSize, validation_data=(valData, valLabel), callbacks=[model_checkpoint_callback])\n",
        "\n",
        "\n",
        "#load the best model using the callback\n",
        "model.load_weights(checkpoint_filepath)\n",
        "\n",
        "print(\"\\n\\nEvaluating Best Model\\n\")\n",
        "#evaluation the model on the validation data\n",
        "model.evaluate(valData, valLabel, verbose=2)"
      ],
      "metadata": {
        "id": "3TMqqRZZflHh",
        "outputId": "4a490921-e819-407b-dfc9-7ae05927cfe5",
        "colab": {
          "base_uri": "https://localhost:8080/"
        }
      },
      "execution_count": 20,
      "outputs": [
        {
          "output_type": "stream",
          "name": "stdout",
          "text": [
            "Running Model\n",
            "\n",
            "Epoch 1/50\n",
            "465/465 [==============================] - 3s 3ms/step - loss: 4.3106 - accuracy: 0.4685 - val_loss: 0.9733 - val_accuracy: 0.4407\n",
            "Epoch 2/50\n",
            "465/465 [==============================] - 1s 2ms/step - loss: 1.9537 - accuracy: 0.4801 - val_loss: 0.7918 - val_accuracy: 0.5937\n",
            "Epoch 3/50\n",
            "465/465 [==============================] - 1s 2ms/step - loss: 1.4102 - accuracy: 0.4956 - val_loss: 0.7987 - val_accuracy: 0.6348\n",
            "Epoch 4/50\n",
            "465/465 [==============================] - 1s 2ms/step - loss: 1.1724 - accuracy: 0.5057 - val_loss: 0.8379 - val_accuracy: 0.6040\n",
            "Epoch 5/50\n",
            "465/465 [==============================] - 2s 3ms/step - loss: 1.0491 - accuracy: 0.5236 - val_loss: 0.8167 - val_accuracy: 0.5756\n",
            "Epoch 6/50\n",
            "465/465 [==============================] - 2s 4ms/step - loss: 0.9758 - accuracy: 0.5363 - val_loss: 0.8559 - val_accuracy: 0.5871\n",
            "Epoch 7/50\n",
            "465/465 [==============================] - 1s 2ms/step - loss: 0.9347 - accuracy: 0.5484 - val_loss: 0.8243 - val_accuracy: 0.5695\n",
            "Epoch 8/50\n",
            "465/465 [==============================] - 1s 2ms/step - loss: 0.8985 - accuracy: 0.5576 - val_loss: 0.8057 - val_accuracy: 0.5798\n",
            "Epoch 9/50\n",
            "465/465 [==============================] - 2s 3ms/step - loss: 0.8850 - accuracy: 0.5674 - val_loss: 0.7818 - val_accuracy: 0.6505\n",
            "Epoch 10/50\n",
            "465/465 [==============================] - 2s 4ms/step - loss: 0.8589 - accuracy: 0.5797 - val_loss: 0.7766 - val_accuracy: 0.6669\n",
            "Epoch 11/50\n",
            "465/465 [==============================] - 1s 3ms/step - loss: 0.8432 - accuracy: 0.5951 - val_loss: 0.7603 - val_accuracy: 0.6929\n",
            "Epoch 12/50\n",
            "465/465 [==============================] - 1s 3ms/step - loss: 0.8273 - accuracy: 0.5986 - val_loss: 0.7293 - val_accuracy: 0.7019\n",
            "Epoch 13/50\n",
            "465/465 [==============================] - 1s 2ms/step - loss: 0.8049 - accuracy: 0.6177 - val_loss: 0.7274 - val_accuracy: 0.6917\n",
            "Epoch 14/50\n",
            "465/465 [==============================] - 1s 2ms/step - loss: 0.7951 - accuracy: 0.6286 - val_loss: 0.7029 - val_accuracy: 0.6705\n",
            "Epoch 15/50\n",
            "465/465 [==============================] - 1s 2ms/step - loss: 0.7819 - accuracy: 0.6361 - val_loss: 0.6975 - val_accuracy: 0.6808\n",
            "Epoch 16/50\n",
            "465/465 [==============================] - 1s 3ms/step - loss: 0.7678 - accuracy: 0.6483 - val_loss: 0.6888 - val_accuracy: 0.6947\n",
            "Epoch 17/50\n",
            "465/465 [==============================] - 1s 2ms/step - loss: 0.7590 - accuracy: 0.6495 - val_loss: 0.6821 - val_accuracy: 0.6929\n",
            "Epoch 18/50\n",
            "465/465 [==============================] - 1s 2ms/step - loss: 0.7455 - accuracy: 0.6642 - val_loss: 0.6774 - val_accuracy: 0.6941\n",
            "Epoch 19/50\n",
            "465/465 [==============================] - 1s 2ms/step - loss: 0.7368 - accuracy: 0.6581 - val_loss: 0.6652 - val_accuracy: 0.7104\n",
            "Epoch 20/50\n",
            "465/465 [==============================] - 2s 3ms/step - loss: 0.7209 - accuracy: 0.6723 - val_loss: 0.6590 - val_accuracy: 0.6989\n",
            "Epoch 21/50\n",
            "465/465 [==============================] - 2s 3ms/step - loss: 0.7131 - accuracy: 0.6716 - val_loss: 0.6489 - val_accuracy: 0.7068\n",
            "Epoch 22/50\n",
            "465/465 [==============================] - 1s 3ms/step - loss: 0.7063 - accuracy: 0.6804 - val_loss: 0.6330 - val_accuracy: 0.7098\n",
            "Epoch 23/50\n",
            "465/465 [==============================] - 1s 2ms/step - loss: 0.6953 - accuracy: 0.6798 - val_loss: 0.6417 - val_accuracy: 0.7189\n",
            "Epoch 24/50\n",
            "465/465 [==============================] - 1s 2ms/step - loss: 0.6922 - accuracy: 0.6839 - val_loss: 0.6291 - val_accuracy: 0.7195\n",
            "Epoch 25/50\n",
            "465/465 [==============================] - 1s 2ms/step - loss: 0.6876 - accuracy: 0.6858 - val_loss: 0.6342 - val_accuracy: 0.7170\n",
            "Epoch 26/50\n",
            "465/465 [==============================] - 1s 2ms/step - loss: 0.6828 - accuracy: 0.6866 - val_loss: 0.6345 - val_accuracy: 0.7243\n",
            "Epoch 27/50\n",
            "465/465 [==============================] - 1s 2ms/step - loss: 0.6822 - accuracy: 0.6871 - val_loss: 0.6294 - val_accuracy: 0.7225\n",
            "Epoch 28/50\n",
            "465/465 [==============================] - 1s 2ms/step - loss: 0.6758 - accuracy: 0.6933 - val_loss: 0.6278 - val_accuracy: 0.7213\n",
            "Epoch 29/50\n",
            "465/465 [==============================] - 1s 3ms/step - loss: 0.6750 - accuracy: 0.6905 - val_loss: 0.6252 - val_accuracy: 0.7273\n",
            "Epoch 30/50\n",
            "465/465 [==============================] - 1s 2ms/step - loss: 0.6689 - accuracy: 0.6952 - val_loss: 0.6173 - val_accuracy: 0.7249\n",
            "Epoch 31/50\n",
            "465/465 [==============================] - 1s 3ms/step - loss: 0.6708 - accuracy: 0.6919 - val_loss: 0.6199 - val_accuracy: 0.7243\n",
            "Epoch 32/50\n",
            "465/465 [==============================] - 2s 4ms/step - loss: 0.6669 - accuracy: 0.6973 - val_loss: 0.6140 - val_accuracy: 0.7225\n",
            "Epoch 33/50\n",
            "465/465 [==============================] - 1s 3ms/step - loss: 0.6643 - accuracy: 0.6964 - val_loss: 0.6180 - val_accuracy: 0.7273\n",
            "Epoch 34/50\n",
            "465/465 [==============================] - 1s 2ms/step - loss: 0.6671 - accuracy: 0.6921 - val_loss: 0.6197 - val_accuracy: 0.7243\n",
            "Epoch 35/50\n",
            "465/465 [==============================] - 1s 2ms/step - loss: 0.6634 - accuracy: 0.6984 - val_loss: 0.6156 - val_accuracy: 0.7237\n",
            "Epoch 36/50\n",
            "465/465 [==============================] - 1s 2ms/step - loss: 0.6624 - accuracy: 0.6989 - val_loss: 0.6172 - val_accuracy: 0.7243\n",
            "Epoch 37/50\n",
            "465/465 [==============================] - 1s 2ms/step - loss: 0.6619 - accuracy: 0.6988 - val_loss: 0.6146 - val_accuracy: 0.7201\n",
            "Epoch 38/50\n",
            "465/465 [==============================] - 1s 2ms/step - loss: 0.6578 - accuracy: 0.6968 - val_loss: 0.6166 - val_accuracy: 0.7225\n",
            "Epoch 39/50\n",
            "465/465 [==============================] - 1s 2ms/step - loss: 0.6615 - accuracy: 0.6988 - val_loss: 0.6108 - val_accuracy: 0.7267\n",
            "Epoch 40/50\n",
            "465/465 [==============================] - 1s 2ms/step - loss: 0.6611 - accuracy: 0.6948 - val_loss: 0.6179 - val_accuracy: 0.7195\n",
            "Epoch 41/50\n",
            "465/465 [==============================] - 1s 2ms/step - loss: 0.6597 - accuracy: 0.6997 - val_loss: 0.6195 - val_accuracy: 0.7267\n",
            "Epoch 42/50\n",
            "465/465 [==============================] - 1s 3ms/step - loss: 0.6588 - accuracy: 0.6991 - val_loss: 0.6127 - val_accuracy: 0.7273\n",
            "Epoch 43/50\n",
            "465/465 [==============================] - 2s 3ms/step - loss: 0.6610 - accuracy: 0.7006 - val_loss: 0.6254 - val_accuracy: 0.7243\n",
            "Epoch 44/50\n",
            "465/465 [==============================] - 2s 3ms/step - loss: 0.6562 - accuracy: 0.7008 - val_loss: 0.6139 - val_accuracy: 0.7213\n",
            "Epoch 45/50\n",
            "465/465 [==============================] - 1s 2ms/step - loss: 0.6558 - accuracy: 0.6971 - val_loss: 0.6141 - val_accuracy: 0.7201\n",
            "Epoch 46/50\n",
            "465/465 [==============================] - 1s 2ms/step - loss: 0.6557 - accuracy: 0.6979 - val_loss: 0.6139 - val_accuracy: 0.7201\n",
            "Epoch 47/50\n",
            "465/465 [==============================] - 1s 2ms/step - loss: 0.6571 - accuracy: 0.7016 - val_loss: 0.6170 - val_accuracy: 0.7231\n",
            "Epoch 48/50\n",
            "465/465 [==============================] - 1s 3ms/step - loss: 0.6527 - accuracy: 0.7041 - val_loss: 0.6146 - val_accuracy: 0.7231\n",
            "Epoch 49/50\n",
            "465/465 [==============================] - 1s 2ms/step - loss: 0.6583 - accuracy: 0.6989 - val_loss: 0.6140 - val_accuracy: 0.7195\n",
            "Epoch 50/50\n",
            "465/465 [==============================] - 1s 2ms/step - loss: 0.6508 - accuracy: 0.7028 - val_loss: 0.6102 - val_accuracy: 0.7261\n",
            "\n",
            "\n",
            "Evaluating Best Model\n",
            "\n",
            "52/52 - 0s - loss: 0.6252 - accuracy: 0.7273 - 82ms/epoch - 2ms/step\n"
          ]
        },
        {
          "output_type": "execute_result",
          "data": {
            "text/plain": [
              "[0.6251620054244995, 0.7273277044296265]"
            ]
          },
          "metadata": {},
          "execution_count": 20
        }
      ]
    },
    {
      "cell_type": "code",
      "source": [
        "#save the model\n",
        "model.save(\"/content/drive/MyDrive/Colab Notebooks/Deep Learning/Homework 3 Data/baby_pain_model.keras\")\n",
        "print(\"Saved Model\")"
      ],
      "metadata": {
        "colab": {
          "base_uri": "https://localhost:8080/"
        },
        "id": "7aLVYq9FCJCK",
        "outputId": "189db763-8b6e-47cc-84e7-d8b52c335305"
      },
      "execution_count": 21,
      "outputs": [
        {
          "output_type": "stream",
          "name": "stdout",
          "text": [
            "Saved Model\n"
          ]
        }
      ]
    },
    {
      "cell_type": "markdown",
      "source": [
        "# Graph Results"
      ],
      "metadata": {
        "id": "NyVPRsM3DO9E"
      }
    },
    {
      "cell_type": "code",
      "source": [
        "acc = history.history['accuracy']\n",
        "val_acc = history.history['val_accuracy']\n",
        "loss = history.history['loss']\n",
        "val_loss = history.history['val_loss']\n",
        "\n",
        "\n",
        "epochs = range(1, len(acc) + 1)\n",
        "\n",
        "plt.plot(epochs, acc, 'r', label='Training acc')\n",
        "plt.plot(epochs, val_acc, 'b', label='Validation acc')\n",
        "plt.title('Training and validation accuracy')\n",
        "plt.xlabel(\"Epochs\")\n",
        "plt.ylabel(\"Accuracy Percent\")\n",
        "plt.legend()\n",
        "\n",
        "plt.figure()\n",
        "\n",
        "plt.plot(epochs, loss, 'r', label='Training loss')\n",
        "plt.plot(epochs, val_loss, 'b', label='Validation loss')\n",
        "plt.title('Training and validation loss')\n",
        "plt.xlabel(\"Epochs\")\n",
        "plt.ylabel(\"Loss\")\n",
        "plt.legend()\n",
        "\n",
        "plt.show()"
      ],
      "metadata": {
        "colab": {
          "base_uri": "https://localhost:8080/",
          "height": 927
        },
        "id": "WlLLtdWdDRu8",
        "outputId": "14bd0a13-3717-4a47-993d-3366aa788683"
      },
      "execution_count": 22,
      "outputs": [
        {
          "output_type": "display_data",
          "data": {
            "text/plain": [
              "<Figure size 640x480 with 1 Axes>"
            ],
            "image/png": "[encoded data removed]"
          },
          "metadata": {}
        },
        {
          "output_type": "display_data",
          "data": {
            "text/plain": [
              "<Figure size 640x480 with 1 Axes>"
            ],
            "image/png": "[encoded data removed]"
          },
          "metadata": {}
        }
      ]
    }
  ]
}