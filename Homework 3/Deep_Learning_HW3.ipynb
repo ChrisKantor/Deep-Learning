{
  "nbformat": 4,
  "nbformat_minor": 0,
  "metadata": {
    "colab": {
      "provenance": [],
      "authorship_tag": "ABX9TyOoEzLNOxu5jG0E0iT6Eo/i",
      "include_colab_link": true
    },
    "kernelspec": {
      "name": "python3",
      "display_name": "Python 3"
    },
    "language_info": {
      "name": "python"
    }
  },
  "cells": [
    {
      "cell_type": "markdown",
      "metadata": {
        "id": "view-in-github",
        "colab_type": "text"
      },
      "source": [
        "<a href=\"https://colab.research.google.com/github/ChrisKantor/Deep-Learning/blob/main/Homework%203/Deep_Learning_HW3.ipynb\" target=\"_parent\"><img src=\"https://colab.research.google.com/assets/colab-badge.svg\" alt=\"Open In Colab\"/></a>"
      ]
    },
    {
      "cell_type": "code",
      "execution_count": null,
      "metadata": {
        "id": "HCY4N1ruqq5u"
      },
      "outputs": [],
      "source": [
        "#Deep Learning Assignment Notes:\n",
        "#Need to submit 3 things, training code, the trained model, and then a bunch of results.\n",
        "#need to try all of the things listed in q2\n",
        "#lots of tial and eror with the hyperparameter tuning\n",
        "\n",
        "#data set is about baby vitals for detecting baby pain\n",
        "#3 classes: no pain, mild pain, lots of pain\n",
        "#col 1 is heart rate\n",
        "#col 2 is respiratory rate\n",
        "#col 3 is oxygen saturation\n",
        "#Can merge all the csv files into 1 large one\n",
        "#randomize and then split into training/validation data\n",
        "\n",
        "#need to clean the data, invalid data could be in any column\n",
        "\n",
        "#need 5 HIDDEN layers, so 7 total with the input and output layers\n",
        "#We can choose any number of neurons per layer\n",
        "\n",
        "#70% accuracy is a good minimum\n",
        "\n",
        "#Submit the best model only, but save figures for the other models with hyperparameter tuning\n",
        "#the model is not enough, need to submit a script which loads the model and then runs the test dataset on it\n",
        "#the testing script can be on a seperate cell in the notebook\n",
        "\n",
        "#figures are for validation loss\n",
        "#don't need to combine hyperparameters, just do them without each other, should be 12 figures total for part 2\n",
        "#1 figure for part 1 (the best model)"
      ]
    },
    {
      "cell_type": "markdown",
      "source": [
        "# **Loading Dataset**"
      ],
      "metadata": {
        "id": "qC0rRcFpQf42"
      }
    },
    {
      "cell_type": "code",
      "source": [
        "#import libraries\n",
        "import tensorflow as tf\n",
        "import numpy as np\n",
        "import pandas as pd\n",
        "import csv\n",
        "import os\n",
        "from matplotlib import pyplot as plt\n",
        "\n",
        "## Mount Google drive\n",
        "from google.colab import drive\n",
        "drive.mount('/content/drive', force_remount=True)\n",
        "data_dir = '/content/drive/MyDrive/Colab Notebooks/Deep Learning/HW3/Homework 3 Data/'\n",
        "\n",
        "mainFile = \"baby_data.csv\""
      ],
      "metadata": {
        "id": "occsCpZzfvaK",
        "outputId": "f5b61a10-6592-4593-ad52-95072ea55666",
        "colab": {
          "base_uri": "https://localhost:8080/"
        }
      },
      "execution_count": 18,
      "outputs": [
        {
          "output_type": "stream",
          "name": "stdout",
          "text": [
            "Mounted at /content/drive\n"
          ]
        }
      ]
    },
    {
      "cell_type": "code",
      "source": [
        "#create a new csv file that will hold all of our valid data\n",
        "with open(\"/content/drive/MyDrive/Colab Notebooks/Deep Learning/HW3/\" + mainFile, 'w') as csvfile:\n",
        "  csvwriter = csv.writer(csvfile)\n",
        "\n",
        "  # writing the column names\n",
        "  csvwriter.writerow(['Heart Rate', 'Respiratory Rate', 'O2 Level', 'Label'])\n",
        "\n",
        "  #use the os library to iterate through all files in the current path\n",
        "  for (root,dirs,files) in os.walk(data_dir, topdown=True):\n",
        "    #open each CSV file, we don't want to open any other type of file\n",
        "    for f in files:\n",
        "      if f.endswith(\".csv\"):\n",
        "        #in each file, go through each row and check if it is valid\n",
        "        with open(os.path.join(root, f), mode ='r') as csvFile:\n",
        "          csvData = csv.reader(csvFile)\n",
        "\n",
        "          #one way to tell if the data is invalid is if the label is NOT [0, 1, 2]. This means there was something wrong with one of the sensors at the time of capture\n",
        "          #another way is to check if the heart rate, respiratory rate, or o2 level is too low or too high\n",
        "          #for heart Rate, we want a range of 44 - 200\n",
        "          #for Respiratory Rate, we want a range of 18 - 90\n",
        "          #for o2 level, we want a rate of 80 - 100\n",
        "          for row in csvData:\n",
        "            try:\n",
        "              if row[4] in \"012\" and (int(row[1]) >= 44 and int(row[1]) <= 200) and (int(row[2]) >= 18 and int(row[2]) <= 90) and (int(row[3]) >= 80 and int(row[3]) <= 100):   #data is valid, so add it to the main csv\n",
        "\n",
        "                #row[0] just stores the row # in the csv file, so it is not needed in the training dataset\n",
        "                csvwriter.writerow([row[1], row[2], row[3], row[4]])\n",
        "\n",
        "            #Catches errors that occur when an element cannot be parsed into an integer. In this case the row is invalid so we can skip it\n",
        "            except ValueError:\n",
        "              continue\n",
        "\n",
        "print(\"Done writing to main csv file: \", mainFile)"
      ],
      "metadata": {
        "id": "mWP_e1NDQorH"
      },
      "execution_count": null,
      "outputs": []
    },
    {
      "cell_type": "code",
      "source": [
        "#Now we have a csv file that has ALL of the valid data which we will use in training our model\n",
        "#The next step is to split the data into a training and validation set, using a 90/10 split\n",
        "dataframe = pd.read_csv(\"/content/drive/MyDrive/Colab Notebooks/Deep Learning/HW3/\" + mainFile, sep=',')\n",
        "print(dataframe.shape)\n",
        "print(dataframe.head())\n",
        "\n",
        "\n",
        "#split the data into a training and validation set using a 90/10 split, and randomize beforehand\n",
        "trainData, valData = np.split(dataframe.sample(frac=1), [int(0.9*len(dataframe))])\n",
        "\n",
        "#save the labels to a seperate dataframe and remove them from the data dataframe\n",
        "trainLabel = trainData.pop('Label')\n",
        "valLabel = valData.pop('Label')"
      ],
      "metadata": {
        "colab": {
          "base_uri": "https://localhost:8080/"
        },
        "id": "l-8o5KTrDopv",
        "outputId": "265f50e0-6bcd-46ba-e5dc-d154bd615573"
      },
      "execution_count": 19,
      "outputs": [
        {
          "output_type": "stream",
          "name": "stdout",
          "text": [
            "(14423, 4)\n",
            "   Heart Rate  Respiratory Rate  O2 Level  Label\n",
            "0         172                46        98      2\n",
            "1         172                46        98      2\n",
            "2         173                46        98      2\n",
            "3         175                48        98      2\n",
            "4         172                49        98      2\n"
          ]
        }
      ]
    },
    {
      "cell_type": "code",
      "source": [
        "#Hyperparameter Tuning\n",
        "batchSize = 32\n",
        "learningRate = 0.0001\n",
        "numEpochs = 50\n",
        "normalize = True\n",
        "optType = 'Adam'\n",
        "momentum = 0.9\n",
        "initType = 'Random'\n",
        "regularize = True         #using L2 regularization in tensorflow\n",
        "regularizeLamda = 0.0001\n",
        "\n",
        "\n",
        "\n",
        "#Choosing optimizer\n",
        "if optType == 'Adam':\n",
        "  opt = tf.keras.optimizers.Adam(learning_rate = learningRate)\n",
        "\n",
        "elif optType == 'SGD':\n",
        "  opt = tf.keras.optimizers.SGD(learning_rate = learningRate, momentum = momentum)\n",
        "\n",
        "\n",
        "#Normalizing data\n",
        "#normFactors stores the column maximums so we can normalize our validation and test data with the same factors we found in our training data\n",
        "normFactors = {}\n",
        "\n",
        "if normalize:\n",
        "  for col in trainData.columns:\n",
        "    normFactors[col] = trainData[col].abs().max()\n",
        "    trainData[col] = trainData[col]  / normFactors[col]\n",
        "    valData[col] = valData[col]  / normFactors[col]\n",
        "\n",
        "print(normFactors)"
      ],
      "metadata": {
        "id": "G6cnVUTKscGS",
        "outputId": "a2bd71ea-4cc9-4775-e7e0-f5e09521f347",
        "colab": {
          "base_uri": "https://localhost:8080/"
        }
      },
      "execution_count": 20,
      "outputs": [
        {
          "output_type": "stream",
          "name": "stdout",
          "text": [
            "{'Heart Rate': 199, 'Respiratory Rate': 90, 'O2 Level': 100}\n"
          ]
        }
      ]
    },
    {
      "cell_type": "markdown",
      "source": [
        "# Model Creation and Training"
      ],
      "metadata": {
        "id": "rSBe9Q_gb8W4"
      }
    },
    {
      "cell_type": "code",
      "source": [
        "#Create the model\n",
        "if regularize:\n",
        "  model = tf.keras.models.Sequential([\n",
        "    tf.keras.layers.Input(3),\n",
        "    tf.keras.layers.Dense(64, activation='relu', kernel_regularizer = tf.keras.regularizers.l2(regularizeLamda)),\n",
        "    tf.keras.layers.Dropout(0.2),\n",
        "    tf.keras.layers.Dense(128, activation='relu', kernel_regularizer = tf.keras.regularizers.l2(regularizeLamda)),\n",
        "    tf.keras.layers.Dropout(0.2),\n",
        "    tf.keras.layers.Dense(64, activation='relu', kernel_regularizer = tf.keras.regularizers.l2(regularizeLamda)),\n",
        "    tf.keras.layers.Dense(3)\n",
        "  ])\n",
        "\n",
        "else:\n",
        "  model = tf.keras.models.Sequential([\n",
        "    tf.keras.layers.Dense(3),\n",
        "    tf.keras.layers.Dense(64, activation='relu'),\n",
        "    tf.keras.layers.Dropout(0.2),\n",
        "    tf.keras.layers.Dense(128, activation='relu'),\n",
        "    tf.keras.layers.Dropout(0.2),\n",
        "    tf.keras.layers.Dense(64, activation='relu'),\n",
        "    tf.keras.layers.Dense(3)\n",
        "  ])\n",
        "\n",
        "#creating the loss function we will use\n",
        "loss_fn = tf.keras.losses.SparseCategoricalCrossentropy(from_logits=True)\n",
        "model.compile(optimizer=opt,\n",
        "              loss=loss_fn,\n",
        "              metrics=['accuracy'])\n",
        "\n",
        "\n",
        "#or optionally load a model from a file\n",
        "# model = tf.keras.models.load_model(\"/content/drive/MyDrive/Colab Notebooks/Deep Learning/HW3/bestModel.keras\")"
      ],
      "metadata": {
        "id": "-CdMRySJcCgc"
      },
      "execution_count": 21,
      "outputs": []
    },
    {
      "cell_type": "code",
      "source": [
        "checkpoint_filepath = '/content/drive/MyDrive/Colab Notebooks/Deep Learning/HW3/checkpoint'\n",
        "model_checkpoint_callback = tf.keras.callbacks.ModelCheckpoint(\n",
        "    filepath=checkpoint_filepath,\n",
        "    save_weights_only=True,\n",
        "    monitor='val_accuracy',\n",
        "    mode='max',\n",
        "    save_best_only=True)\n",
        "\n",
        "\n",
        "#Running the model\n",
        "print(\"Running Model\\n\")\n",
        "history = model.fit(trainData, trainLabel, epochs=numEpochs, batch_size=batchSize, validation_data=(valData, valLabel), callbacks=[model_checkpoint_callback])\n",
        "\n",
        "\n",
        "#load the best model using the callback\n",
        "model.load_weights(checkpoint_filepath)\n",
        "\n",
        "print(\"\\n\\nEvaluating Best Model\\n\")\n",
        "#evaluation the model on the validation data\n",
        "model.evaluate(valData, valLabel, verbose=2)"
      ],
      "metadata": {
        "id": "3TMqqRZZflHh",
        "outputId": "30cabf02-e271-403a-b7d7-fd7740c51814",
        "colab": {
          "base_uri": "https://localhost:8080/"
        }
      },
      "execution_count": 22,
      "outputs": [
        {
          "output_type": "stream",
          "name": "stdout",
          "text": [
            "Running Model\n",
            "\n",
            "Epoch 1/50\n",
            "406/406 [==============================] - 2s 3ms/step - loss: 0.9227 - accuracy: 0.5602 - val_loss: 0.8871 - val_accuracy: 0.5648\n",
            "Epoch 2/50\n",
            "406/406 [==============================] - 2s 4ms/step - loss: 0.8618 - accuracy: 0.5712 - val_loss: 0.8640 - val_accuracy: 0.5690\n",
            "Epoch 3/50\n",
            "406/406 [==============================] - 2s 5ms/step - loss: 0.8367 - accuracy: 0.5958 - val_loss: 0.8332 - val_accuracy: 0.6105\n",
            "Epoch 4/50\n",
            "406/406 [==============================] - 2s 5ms/step - loss: 0.8117 - accuracy: 0.6295 - val_loss: 0.8080 - val_accuracy: 0.6292\n",
            "Epoch 5/50\n",
            "406/406 [==============================] - 1s 3ms/step - loss: 0.7874 - accuracy: 0.6551 - val_loss: 0.7883 - val_accuracy: 0.6604\n",
            "Epoch 6/50\n",
            "406/406 [==============================] - 1s 3ms/step - loss: 0.7667 - accuracy: 0.6729 - val_loss: 0.7682 - val_accuracy: 0.6909\n",
            "Epoch 7/50\n",
            "406/406 [==============================] - 1s 2ms/step - loss: 0.7519 - accuracy: 0.6834 - val_loss: 0.7564 - val_accuracy: 0.6881\n",
            "Epoch 8/50\n",
            "406/406 [==============================] - 1s 3ms/step - loss: 0.7401 - accuracy: 0.6899 - val_loss: 0.7441 - val_accuracy: 0.7013\n",
            "Epoch 9/50\n",
            "406/406 [==============================] - 1s 2ms/step - loss: 0.7276 - accuracy: 0.6983 - val_loss: 0.7351 - val_accuracy: 0.6992\n",
            "Epoch 10/50\n",
            "406/406 [==============================] - 1s 3ms/step - loss: 0.7224 - accuracy: 0.6972 - val_loss: 0.7304 - val_accuracy: 0.7034\n",
            "Epoch 11/50\n",
            "406/406 [==============================] - 1s 2ms/step - loss: 0.7169 - accuracy: 0.7035 - val_loss: 0.7250 - val_accuracy: 0.7027\n",
            "Epoch 12/50\n",
            "406/406 [==============================] - 1s 3ms/step - loss: 0.7099 - accuracy: 0.7042 - val_loss: 0.7190 - val_accuracy: 0.7096\n",
            "Epoch 13/50\n",
            "406/406 [==============================] - 2s 4ms/step - loss: 0.7080 - accuracy: 0.7059 - val_loss: 0.7172 - val_accuracy: 0.7041\n",
            "Epoch 14/50\n",
            "406/406 [==============================] - 2s 4ms/step - loss: 0.7022 - accuracy: 0.7086 - val_loss: 0.7153 - val_accuracy: 0.7055\n",
            "Epoch 15/50\n",
            "406/406 [==============================] - 1s 2ms/step - loss: 0.6994 - accuracy: 0.7084 - val_loss: 0.7103 - val_accuracy: 0.7089\n",
            "Epoch 16/50\n",
            "406/406 [==============================] - 1s 2ms/step - loss: 0.6958 - accuracy: 0.7091 - val_loss: 0.7094 - val_accuracy: 0.7082\n",
            "Epoch 17/50\n",
            "406/406 [==============================] - 1s 2ms/step - loss: 0.6943 - accuracy: 0.7080 - val_loss: 0.7059 - val_accuracy: 0.7082\n",
            "Epoch 18/50\n",
            "406/406 [==============================] - 1s 2ms/step - loss: 0.6892 - accuracy: 0.7108 - val_loss: 0.7024 - val_accuracy: 0.7117\n",
            "Epoch 19/50\n",
            "406/406 [==============================] - 1s 2ms/step - loss: 0.6895 - accuracy: 0.7124 - val_loss: 0.7000 - val_accuracy: 0.7138\n",
            "Epoch 20/50\n",
            "406/406 [==============================] - 1s 2ms/step - loss: 0.6881 - accuracy: 0.7114 - val_loss: 0.6977 - val_accuracy: 0.7117\n",
            "Epoch 21/50\n",
            "406/406 [==============================] - 1s 2ms/step - loss: 0.6830 - accuracy: 0.7135 - val_loss: 0.6966 - val_accuracy: 0.7096\n",
            "Epoch 22/50\n",
            "406/406 [==============================] - 1s 2ms/step - loss: 0.6815 - accuracy: 0.7152 - val_loss: 0.6917 - val_accuracy: 0.7138\n",
            "Epoch 23/50\n",
            "406/406 [==============================] - 1s 2ms/step - loss: 0.6776 - accuracy: 0.7149 - val_loss: 0.6932 - val_accuracy: 0.7096\n",
            "Epoch 24/50\n",
            "406/406 [==============================] - 1s 3ms/step - loss: 0.6760 - accuracy: 0.7154 - val_loss: 0.6887 - val_accuracy: 0.7117\n",
            "Epoch 25/50\n",
            "406/406 [==============================] - 2s 4ms/step - loss: 0.6752 - accuracy: 0.7147 - val_loss: 0.6857 - val_accuracy: 0.7103\n",
            "Epoch 26/50\n",
            "406/406 [==============================] - 2s 4ms/step - loss: 0.6711 - accuracy: 0.7184 - val_loss: 0.6826 - val_accuracy: 0.7117\n",
            "Epoch 27/50\n",
            "406/406 [==============================] - 1s 2ms/step - loss: 0.6683 - accuracy: 0.7146 - val_loss: 0.6799 - val_accuracy: 0.7117\n",
            "Epoch 28/50\n",
            "406/406 [==============================] - 1s 2ms/step - loss: 0.6639 - accuracy: 0.7180 - val_loss: 0.6783 - val_accuracy: 0.7117\n",
            "Epoch 29/50\n",
            "406/406 [==============================] - 1s 2ms/step - loss: 0.6635 - accuracy: 0.7186 - val_loss: 0.6752 - val_accuracy: 0.7124\n",
            "Epoch 30/50\n",
            "406/406 [==============================] - 1s 2ms/step - loss: 0.6585 - accuracy: 0.7190 - val_loss: 0.6725 - val_accuracy: 0.7166\n",
            "Epoch 31/50\n",
            "406/406 [==============================] - 1s 2ms/step - loss: 0.6575 - accuracy: 0.7173 - val_loss: 0.6686 - val_accuracy: 0.7110\n",
            "Epoch 32/50\n",
            "406/406 [==============================] - 1s 2ms/step - loss: 0.6545 - accuracy: 0.7194 - val_loss: 0.6666 - val_accuracy: 0.7138\n",
            "Epoch 33/50\n",
            "406/406 [==============================] - 1s 2ms/step - loss: 0.6531 - accuracy: 0.7159 - val_loss: 0.6648 - val_accuracy: 0.7089\n",
            "Epoch 34/50\n",
            "406/406 [==============================] - 1s 2ms/step - loss: 0.6473 - accuracy: 0.7215 - val_loss: 0.6624 - val_accuracy: 0.7152\n",
            "Epoch 35/50\n",
            "406/406 [==============================] - 1s 2ms/step - loss: 0.6482 - accuracy: 0.7187 - val_loss: 0.6608 - val_accuracy: 0.7152\n",
            "Epoch 36/50\n",
            "406/406 [==============================] - 1s 2ms/step - loss: 0.6455 - accuracy: 0.7196 - val_loss: 0.6595 - val_accuracy: 0.7069\n",
            "Epoch 37/50\n",
            "406/406 [==============================] - 1s 3ms/step - loss: 0.6446 - accuracy: 0.7227 - val_loss: 0.6571 - val_accuracy: 0.7076\n",
            "Epoch 38/50\n",
            "406/406 [==============================] - 1s 4ms/step - loss: 0.6407 - accuracy: 0.7253 - val_loss: 0.6639 - val_accuracy: 0.7179\n",
            "Epoch 39/50\n",
            "406/406 [==============================] - 2s 4ms/step - loss: 0.6422 - accuracy: 0.7240 - val_loss: 0.6553 - val_accuracy: 0.7152\n",
            "Epoch 40/50\n",
            "406/406 [==============================] - 1s 2ms/step - loss: 0.6385 - accuracy: 0.7249 - val_loss: 0.6546 - val_accuracy: 0.7200\n",
            "Epoch 41/50\n",
            "406/406 [==============================] - 1s 2ms/step - loss: 0.6381 - accuracy: 0.7265 - val_loss: 0.6571 - val_accuracy: 0.7152\n",
            "Epoch 42/50\n",
            "406/406 [==============================] - 1s 3ms/step - loss: 0.6379 - accuracy: 0.7303 - val_loss: 0.6537 - val_accuracy: 0.7256\n",
            "Epoch 43/50\n",
            "406/406 [==============================] - 1s 3ms/step - loss: 0.6372 - accuracy: 0.7278 - val_loss: 0.6514 - val_accuracy: 0.7304\n",
            "Epoch 44/50\n",
            "406/406 [==============================] - 1s 2ms/step - loss: 0.6375 - accuracy: 0.7283 - val_loss: 0.6544 - val_accuracy: 0.7186\n",
            "Epoch 45/50\n",
            "406/406 [==============================] - 1s 2ms/step - loss: 0.6324 - accuracy: 0.7333 - val_loss: 0.6507 - val_accuracy: 0.7235\n",
            "Epoch 46/50\n",
            "406/406 [==============================] - 1s 2ms/step - loss: 0.6311 - accuracy: 0.7349 - val_loss: 0.6516 - val_accuracy: 0.7186\n",
            "Epoch 47/50\n",
            "406/406 [==============================] - 1s 2ms/step - loss: 0.6315 - accuracy: 0.7340 - val_loss: 0.6508 - val_accuracy: 0.7242\n",
            "Epoch 48/50\n",
            "406/406 [==============================] - 1s 2ms/step - loss: 0.6311 - accuracy: 0.7356 - val_loss: 0.6503 - val_accuracy: 0.7200\n",
            "Epoch 49/50\n",
            "406/406 [==============================] - 1s 2ms/step - loss: 0.6332 - accuracy: 0.7378 - val_loss: 0.6485 - val_accuracy: 0.7332\n",
            "Epoch 50/50\n",
            "406/406 [==============================] - 1s 3ms/step - loss: 0.6319 - accuracy: 0.7304 - val_loss: 0.6473 - val_accuracy: 0.7325\n",
            "\n",
            "\n",
            "Evaluating Best Model\n",
            "\n",
            "46/46 - 0s - loss: 0.6485 - accuracy: 0.7332 - 111ms/epoch - 2ms/step\n"
          ]
        },
        {
          "output_type": "execute_result",
          "data": {
            "text/plain": [
              "[0.6485199332237244, 0.7331947088241577]"
            ]
          },
          "metadata": {},
          "execution_count": 22
        }
      ]
    },
    {
      "cell_type": "code",
      "source": [
        "#save the model\n",
        "model.save(\"/content/drive/MyDrive/Colab Notebooks/Deep Learning/HW3/bestModel.keras\")\n",
        "print(\"Saved Model\")"
      ],
      "metadata": {
        "colab": {
          "base_uri": "https://localhost:8080/"
        },
        "id": "7aLVYq9FCJCK",
        "outputId": "3bc4b011-b7a9-4a4d-f06b-b16df1ffd0bc"
      },
      "execution_count": 25,
      "outputs": [
        {
          "output_type": "stream",
          "name": "stdout",
          "text": [
            "Saved Model\n"
          ]
        }
      ]
    },
    {
      "cell_type": "markdown",
      "source": [
        "# Graph Results"
      ],
      "metadata": {
        "id": "NyVPRsM3DO9E"
      }
    },
    {
      "cell_type": "code",
      "source": [
        "acc = history.history['accuracy']\n",
        "val_acc = history.history['val_accuracy']\n",
        "loss = history.history['loss']\n",
        "val_loss = history.history['val_loss']\n",
        "\n",
        "\n",
        "epochs = range(1, len(acc) + 1)\n",
        "\n",
        "plt.plot(epochs, acc, 'r', label='Training acc')\n",
        "plt.plot(epochs, val_acc, 'b', label='Validation acc')\n",
        "plt.title('Training and validation accuracy')\n",
        "plt.xlabel(\"Epochs\")\n",
        "plt.ylabel(\"Accuracy Percent\")\n",
        "plt.legend()\n",
        "\n",
        "# #Saving the Accuracy Figure\n",
        "# plt.savefig(\"/content/drive/MyDrive/Colab Notebooks/Deep Learning/HW3/best_model_Accuracy.png\")\n",
        "plt.figure()\n",
        "\n",
        "plt.plot(epochs, loss, 'r', label='Training loss')\n",
        "plt.plot(epochs, val_loss, 'b', label='Validation loss')\n",
        "plt.title('Training and validation loss')\n",
        "plt.xlabel(\"Epochs\")\n",
        "plt.ylabel(\"Loss\")\n",
        "plt.legend()\n",
        "\n",
        "\n",
        "# #Saving the Loss Figure\n",
        "# plt.savefig(\"/content/drive/MyDrive/Colab Notebooks/Deep Learning/HW3/best_model_Loss.png\")\n",
        "# plt.show()"
      ],
      "metadata": {
        "colab": {
          "base_uri": "https://localhost:8080/",
          "height": 944
        },
        "id": "WlLLtdWdDRu8",
        "outputId": "97f7197b-e456-4fca-fea1-181ba217f0e5"
      },
      "execution_count": 26,
      "outputs": [
        {
          "output_type": "execute_result",
          "data": {
            "text/plain": [
              "<matplotlib.legend.Legend at 0x797506f74d60>"
            ]
          },
          "metadata": {},
          "execution_count": 26
        },
        {
          "output_type": "display_data",
          "data": {
            "text/plain": [
              "<Figure size 640x480 with 1 Axes>"
            ],
            "image/png": "[encoded data removed]"
          },
          "metadata": {}
        },
        {
          "output_type": "display_data",
          "data": {
            "text/plain": [
              "<Figure size 640x480 with 1 Axes>"
            ],
            "image/png": "[encoded data removed]"
          },
          "metadata": {}
        }
      ]
    },
    {
      "cell_type": "markdown",
      "source": [
        "# Running Test Set for Project Grading"
      ],
      "metadata": {
        "id": "1UoEhAiRQVr4"
      }
    },
    {
      "cell_type": "code",
      "source": [
        "#import libraries\n",
        "import tensorflow as tf\n",
        "import numpy as np\n",
        "import pandas as pd\n",
        "import csv\n",
        "import os\n",
        "from matplotlib import pyplot as plt\n",
        "\n",
        "## Mount Google drive and load test data\n",
        "from google.colab import drive\n",
        "drive.mount('/content/drive', force_remount=True)\n",
        "data_dir = '/content/drive/MyDrive/Colab Notebooks/Deep Learning/HW3/'\n",
        "\n",
        "mainFile = \"test.csv\"\n",
        "\n",
        "#read test.csv, dropping the first column as it just holds the index of the rows, which we don't need\n",
        "testData = pd.read_csv(\"/content/drive/MyDrive/Colab Notebooks/Deep Learning/HW3/\" + mainFile, sep=',', usecols=[1, 2, 3, 4], names = ['Heart Rate', 'Respiratory Rate', 'O2 Level', 'Label'])\n",
        "testLabel = testData.pop(\"Label\")\n",
        "\n",
        "#Normalize the test data using the normalization factors we found in the training data. Hard coded here\n",
        "normFactors = {'Heart Rate': 199, 'Respiratory Rate': 90, 'O2 Level': 100}\n",
        "\n",
        "for col in testData:\n",
        "  testData[col] = testData[col]  / normFactors[col]\n",
        "\n",
        "# #load the model from a saved file\n",
        "# model = tf.keras.models.load_model(\"/content/drive/MyDrive/Colab Notebooks/Deep Learning/HW3/bestModel.keras\")\n",
        "\n",
        "#evaluation the model on the test data\n",
        "loss, acc = model.evaluate(testData, testLabel, verbose=2)\n",
        "print(\"Loss on test data: \", loss)\n",
        "print(\"Accuracy on test data: \", acc)"
      ],
      "metadata": {
        "id": "IazZKLIIQaOA",
        "outputId": "612a6e65-e426-48e8-f53a-56ab022c88cd",
        "colab": {
          "base_uri": "https://localhost:8080/"
        }
      },
      "execution_count": 24,
      "outputs": [
        {
          "output_type": "stream",
          "name": "stdout",
          "text": [
            "Mounted at /content/drive\n",
            "4/4 - 0s - loss: 0.5240 - accuracy: 0.7258 - 26ms/epoch - 6ms/step\n",
            "Loss on test data:  0.5239657759666443\n",
            "Accuracy on test data:  0.725806474685669\n"
          ]
        }
      ]
    }
  ]
}