{
  "nbformat": 4,
  "nbformat_minor": 0,
  "metadata": {
    "colab": {
      "provenance": [],
      "authorship_tag": "ABX9TyNaZh10XmRUCNOzVsavaKs0",
      "include_colab_link": true
    },
    "kernelspec": {
      "name": "python3",
      "display_name": "Python 3"
    },
    "language_info": {
      "name": "python"
    }
  },
  "cells": [
    {
      "cell_type": "markdown",
      "metadata": {
        "id": "view-in-github",
        "colab_type": "text"
      },
      "source": [
        "<a href=\"https://colab.research.google.com/github/ChrisKantor/Deep-Learning/blob/main/Homework%203/Deep_Learning_HW3.ipynb\" target=\"_parent\"><img src=\"https://colab.research.google.com/assets/colab-badge.svg\" alt=\"Open In Colab\"/></a>"
      ]
    },
    {
      "cell_type": "code",
      "execution_count": null,
      "metadata": {
        "id": "HCY4N1ruqq5u"
      },
      "outputs": [],
      "source": [
        "#Deep Learning Assignment Notes:\n",
        "#Need to submite 3 things, training code, the trained model, and then a bunch of results.\n",
        "#need to try all of the things listed in q2\n",
        "#lots of tial and eror with the hyperparameter tuning\n",
        "\n",
        "#data set is about baby vitals for detecting baby pain\n",
        "#3 classes: no pain, mild pain, lots of pain\n",
        "#col 1 is heart rate\n",
        "#col 2 is respiratory rate\n",
        "#col 3 is oxygen saturation\n",
        "#Can merge all the csv files into 1 large one\n",
        "#randomize and then split into training/validation data\n",
        "\n",
        "#need to clean the data, invalid data could be in any column\n",
        "\n",
        "#need 5 HIDDEN layers, so 7 total with the input and output layers\n",
        "#We can choose any number of neurons per layer\n",
        "\n",
        "#70% accuracy is a good minimum\n",
        "\n",
        "#Submit the best model only, but save figures for the other models with hyperparameter tuning\n",
        "#the model is not enough, need to submit a script which loads the model and then runs the test dataset on it\n",
        "#the test data has 2 folders same format as training data, need to combine the data into 1 csv\n",
        "\n",
        "#the testing script can be on a seperate cell in the notebook\n",
        "\n",
        "#figures are for validation loss\n",
        "#don't need to combine hyperparameters, just do them without each other, should be 12 figures total for part 2\n",
        "#1 figure for part 1 (the best model)"
      ]
    },
    {
      "cell_type": "markdown",
      "source": [
        "# **Loading Dataset**"
      ],
      "metadata": {
        "id": "qC0rRcFpQf42"
      }
    },
    {
      "cell_type": "code",
      "source": [
        "#import libraries\n",
        "import tensorflow as tf\n",
        "import numpy as np\n",
        "import pandas as pd\n",
        "import csv\n",
        "import os\n",
        "from matplotlib import pyplot as plt\n",
        "\n",
        "## Mount Google drive\n",
        "from google.colab import drive\n",
        "drive.mount('/content/drive')\n",
        "data_dir = '/content/drive/MyDrive/Colab Notebooks/Deep Learning/Homework 3 Data/'\n",
        "\n",
        "mainFile = \"baby_data.csv\""
      ],
      "metadata": {
        "id": "occsCpZzfvaK",
        "outputId": "513c3b72-8589-4d9f-d2cd-2bc70ec0c25e",
        "colab": {
          "base_uri": "https://localhost:8080/"
        }
      },
      "execution_count": 5,
      "outputs": [
        {
          "output_type": "stream",
          "name": "stdout",
          "text": [
            "Drive already mounted at /content/drive; to attempt to forcibly remount, call drive.mount(\"/content/drive\", force_remount=True).\n"
          ]
        }
      ]
    },
    {
      "cell_type": "code",
      "source": [
        "#create a new csv file that will hold all of our valid data\n",
        "with open(\"/content/drive/MyDrive/Colab Notebooks/Deep Learning/Homework 3 Data/\" + mainFile, 'w') as csvfile:\n",
        "  csvwriter = csv.writer(csvfile)\n",
        "\n",
        "  # writing the column names\n",
        "  csvwriter.writerow(['Heart Rate', 'Respiratory Rate', 'O2 Level', 'Label'])\n",
        "\n",
        "  #use the os library to iterate through all files in the current path\n",
        "  for (root,dirs,files) in os.walk(data_dir, topdown=True):\n",
        "    #open each CSV file, we don't want to open any other type of file\n",
        "    for f in files:\n",
        "      if f.endswith(\".csv\"):\n",
        "        #in each file, go through each row and check if it is valid\n",
        "        with open(os.path.join(root, f), mode ='r') as csvFile:\n",
        "          csvData = csv.reader(csvFile)\n",
        "\n",
        "          #one way to tell if the data is invalid is if the label is NOT [0, 1, 2]. This means there was something wrong with one of the sensors at the time of capture\n",
        "          #another way is to check if the heart rate, respiratory rate, or o2 level is too low, in this case we check if it is <= 0. if so, there was something wrong with the sensor\n",
        "          for row in csvData:\n",
        "            try:\n",
        "              if row[4] in \"012\" and int(row[1]) > 0 and int(row[2]) > 0 and int(row[3]) > 0:   #data is valid, so add it to the main csv\n",
        "\n",
        "                #row[0] just stores the row # in the csv file, so it is not needed in the training dataset\n",
        "                csvwriter.writerow([row[1], row[2], row[3], row[4]])\n",
        "\n",
        "            #Catches errors that occur when an element cannot be parsed into an integer. In this case the row is invalid so we can skip it\n",
        "            except ValueError:\n",
        "              continue\n",
        "\n",
        "print(\"Done writing to main csv file: \", mainFile)"
      ],
      "metadata": {
        "colab": {
          "base_uri": "https://localhost:8080/"
        },
        "id": "mWP_e1NDQorH",
        "outputId": "17bfc355-dd85-4318-99db-32e7b0768335"
      },
      "execution_count": 2,
      "outputs": [
        {
          "output_type": "stream",
          "name": "stdout",
          "text": [
            "Mounted at /content/drive\n",
            "Done writing to main csv file:  baby_data.csv\n"
          ]
        }
      ]
    },
    {
      "cell_type": "code",
      "source": [
        "#Now we have a csv file that has ALL of the valid data which we will use in training our model\n",
        "#The next step is to split the data into a training and validation set, using a 90/10 split\n",
        "dataframe = pd.read_csv(\"/content/drive/MyDrive/Colab Notebooks/Deep Learning/Homework 3 Data/\" + mainFile, sep=',')\n",
        "print(dataframe.shape)\n",
        "print(dataframe.head())\n",
        "\n",
        "\n",
        "#split the data into a training and validation set using a 90/10 split, and randomize beforehand\n",
        "trainData, valData = np.split(dataframe.sample(frac=1), [int(0.9*len(dataframe))])\n",
        "\n",
        "#save the labels to a seperate dataframe and remove them from the data dataframe\n",
        "trainLabel = trainData.pop('Label')\n",
        "valLabel = valData.pop('Label')"
      ],
      "metadata": {
        "colab": {
          "base_uri": "https://localhost:8080/"
        },
        "id": "l-8o5KTrDopv",
        "outputId": "bf221cea-7ec3-4dc6-cbd0-3b7dc4cfa042"
      },
      "execution_count": 6,
      "outputs": [
        {
          "output_type": "stream",
          "name": "stdout",
          "text": [
            "(16531, 4)\n",
            "   Heart Rate  Respiratory Rate  O2 Level  Label\n",
            "0         172                46        98      2\n",
            "1         172                46        98      2\n",
            "2         173                46        98      2\n",
            "3         175                48        98      2\n",
            "4         172                49        98      2\n"
          ]
        }
      ]
    },
    {
      "cell_type": "code",
      "source": [
        "#Hyperparameter Tuning\n",
        "batchSize = 32\n",
        "learningRate = 0.0001\n",
        "numEpochs = 50\n",
        "normalize = False\n",
        "optType = 'Adam'\n",
        "momentum = 0.9\n",
        "initType = 'Random'\n",
        "regularize = False         #using L2 regularization in tensorflow\n",
        "regularizeLamda = 0.0001\n",
        "\n",
        "\n",
        "\n",
        "#Choosing optimizer\n",
        "if optType == 'Adam':\n",
        "  opt = tf.keras.optimizers.Adam(learning_rate = learningRate)\n",
        "\n",
        "elif optType == 'SGD':\n",
        "  opt = tf.keras.optimizers.SGD(learning_rate = learningRate, momentum = momentum)\n",
        "\n",
        "\n",
        "#Normalizing data\n",
        "if normalize:\n",
        "  #normalize the data using pandas - use standard scaling\n",
        "  #normalize the validation data using the training datas values(?)\n",
        "  for col in trainData.columns:\n",
        "    trainData[col] = trainData[col]  / trainData[col].abs().max()\n",
        "\n",
        "  for col in valData.columns:\n",
        "    valData[col] = valData[col]  / valData[col].abs().max()"
      ],
      "metadata": {
        "id": "G6cnVUTKscGS"
      },
      "execution_count": 9,
      "outputs": []
    },
    {
      "cell_type": "markdown",
      "source": [
        "# Model Creation and Training"
      ],
      "metadata": {
        "id": "rSBe9Q_gb8W4"
      }
    },
    {
      "cell_type": "code",
      "source": [
        "#Create the model\n",
        "if regularize:\n",
        "  model = tf.keras.models.Sequential([\n",
        "    tf.keras.layers.Input(3),\n",
        "    tf.keras.layers.Dense(64, activation='relu', kernel_regularizer = tf.keras.regularizers.l2(regularizeLamda)),\n",
        "    tf.keras.layers.Dropout(0.5),\n",
        "    tf.keras.layers.Dense(128, activation='relu', kernel_regularizer = tf.keras.regularizers.l2(regularizeLamda)),\n",
        "    tf.keras.layers.Dropout(0.5),\n",
        "    tf.keras.layers.Dense(64, activation='relu', kernel_regularizer = tf.keras.regularizers.l2(regularizeLamda)),\n",
        "    tf.keras.layers.Dense(3)\n",
        "  ])\n",
        "\n",
        "else:\n",
        "  model = tf.keras.models.Sequential([\n",
        "    tf.keras.layers.Dense(3),\n",
        "    tf.keras.layers.Dense(64, activation='relu'),\n",
        "    tf.keras.layers.Dropout(0.2),\n",
        "    tf.keras.layers.Dense(128, activation='relu'),\n",
        "    tf.keras.layers.Dropout(0.2),\n",
        "    tf.keras.layers.Dense(64, activation='relu'),\n",
        "    tf.keras.layers.Dense(3)\n",
        "  ])\n",
        "\n",
        "#creating the loss function we will use\n",
        "loss_fn = tf.keras.losses.SparseCategoricalCrossentropy(from_logits=True)\n",
        "model.compile(optimizer=opt,\n",
        "              loss=loss_fn,\n",
        "              metrics=['accuracy'])\n",
        "\n",
        "\n",
        "#or optionally load a model from a file\n",
        "#model = tf.keras.models.load_model(\"/content/drive/MyDrive/Colab Notebooks/Deep Learning/Homework 3 Data/baby_pain_model.keras\")"
      ],
      "metadata": {
        "id": "-CdMRySJcCgc"
      },
      "execution_count": 10,
      "outputs": []
    },
    {
      "cell_type": "code",
      "source": [
        "checkpoint_filepath = '/content/drive/MyDrive/Colab Notebooks/Deep Learning/Homework 3 Data/checkpoint'\n",
        "model_checkpoint_callback = tf.keras.callbacks.ModelCheckpoint(\n",
        "    filepath=checkpoint_filepath,\n",
        "    save_weights_only=True,\n",
        "    monitor='val_accuracy',\n",
        "    mode='max',\n",
        "    save_best_only=True)\n",
        "\n",
        "\n",
        "#Running the model\n",
        "print(\"Running Model\\n\")\n",
        "history = model.fit(trainData, trainLabel, epochs=numEpochs, batch_size=batchSize, validation_data=(valData, valLabel), callbacks=[model_checkpoint_callback])\n",
        "\n",
        "\n",
        "#load the best model using the callback\n",
        "model.load_weights(checkpoint_filepath)\n",
        "\n",
        "print(\"\\n\\nEvaluating Best Model\\n\")\n",
        "#evaluation the model on the validation data\n",
        "model.evaluate(valData, valLabel, verbose=2)"
      ],
      "metadata": {
        "id": "3TMqqRZZflHh",
        "outputId": "33575bbe-0edf-42df-d8ee-d1e81fe11fd7",
        "colab": {
          "base_uri": "https://localhost:8080/"
        }
      },
      "execution_count": 11,
      "outputs": [
        {
          "output_type": "stream",
          "name": "stdout",
          "text": [
            "Running Model\n",
            "\n",
            "Epoch 1/50\n",
            "465/465 [==============================] - 4s 6ms/step - loss: 3.6171 - accuracy: 0.4781 - val_loss: 0.7957 - val_accuracy: 0.6064\n",
            "Epoch 2/50\n",
            "465/465 [==============================] - 1s 3ms/step - loss: 1.7675 - accuracy: 0.4999 - val_loss: 0.7843 - val_accuracy: 0.6584\n",
            "Epoch 3/50\n",
            "465/465 [==============================] - 1s 3ms/step - loss: 1.3138 - accuracy: 0.5288 - val_loss: 0.7571 - val_accuracy: 0.6790\n",
            "Epoch 4/50\n",
            "465/465 [==============================] - 1s 3ms/step - loss: 1.1161 - accuracy: 0.5370 - val_loss: 0.7561 - val_accuracy: 0.6844\n",
            "Epoch 5/50\n",
            "465/465 [==============================] - 1s 3ms/step - loss: 0.9875 - accuracy: 0.5638 - val_loss: 0.7452 - val_accuracy: 0.6802\n",
            "Epoch 6/50\n",
            "465/465 [==============================] - 1s 3ms/step - loss: 0.9092 - accuracy: 0.5819 - val_loss: 0.7183 - val_accuracy: 0.6880\n",
            "Epoch 7/50\n",
            "465/465 [==============================] - 1s 3ms/step - loss: 0.8738 - accuracy: 0.5925 - val_loss: 0.7152 - val_accuracy: 0.6911\n",
            "Epoch 8/50\n",
            "465/465 [==============================] - 1s 3ms/step - loss: 0.8404 - accuracy: 0.6117 - val_loss: 0.7069 - val_accuracy: 0.6929\n",
            "Epoch 9/50\n",
            "465/465 [==============================] - 2s 4ms/step - loss: 0.8076 - accuracy: 0.6247 - val_loss: 0.7031 - val_accuracy: 0.6947\n",
            "Epoch 10/50\n",
            "465/465 [==============================] - 2s 5ms/step - loss: 0.7974 - accuracy: 0.6316 - val_loss: 0.6842 - val_accuracy: 0.7019\n",
            "Epoch 11/50\n",
            "465/465 [==============================] - 1s 3ms/step - loss: 0.7751 - accuracy: 0.6449 - val_loss: 0.6908 - val_accuracy: 0.6983\n",
            "Epoch 12/50\n",
            "465/465 [==============================] - 1s 3ms/step - loss: 0.7543 - accuracy: 0.6518 - val_loss: 0.6770 - val_accuracy: 0.6953\n",
            "Epoch 13/50\n",
            "465/465 [==============================] - 1s 3ms/step - loss: 0.7503 - accuracy: 0.6579 - val_loss: 0.6675 - val_accuracy: 0.6995\n",
            "Epoch 14/50\n",
            "465/465 [==============================] - 1s 3ms/step - loss: 0.7352 - accuracy: 0.6651 - val_loss: 0.6788 - val_accuracy: 0.6953\n",
            "Epoch 15/50\n",
            "465/465 [==============================] - 1s 3ms/step - loss: 0.7276 - accuracy: 0.6721 - val_loss: 0.6763 - val_accuracy: 0.6983\n",
            "Epoch 16/50\n",
            "465/465 [==============================] - 1s 3ms/step - loss: 0.7183 - accuracy: 0.6704 - val_loss: 0.6480 - val_accuracy: 0.7050\n",
            "Epoch 17/50\n",
            "465/465 [==============================] - 1s 3ms/step - loss: 0.7067 - accuracy: 0.6776 - val_loss: 0.6456 - val_accuracy: 0.7068\n",
            "Epoch 18/50\n",
            "465/465 [==============================] - 2s 4ms/step - loss: 0.7031 - accuracy: 0.6779 - val_loss: 0.6496 - val_accuracy: 0.7037\n",
            "Epoch 19/50\n",
            "465/465 [==============================] - 2s 4ms/step - loss: 0.6986 - accuracy: 0.6804 - val_loss: 0.6491 - val_accuracy: 0.7056\n",
            "Epoch 20/50\n",
            "465/465 [==============================] - 1s 3ms/step - loss: 0.6862 - accuracy: 0.6856 - val_loss: 0.6423 - val_accuracy: 0.7086\n",
            "Epoch 21/50\n",
            "465/465 [==============================] - 1s 3ms/step - loss: 0.6867 - accuracy: 0.6836 - val_loss: 0.6468 - val_accuracy: 0.7062\n",
            "Epoch 22/50\n",
            "465/465 [==============================] - 1s 3ms/step - loss: 0.6880 - accuracy: 0.6837 - val_loss: 0.6401 - val_accuracy: 0.7152\n",
            "Epoch 23/50\n",
            "465/465 [==============================] - 1s 3ms/step - loss: 0.6787 - accuracy: 0.6843 - val_loss: 0.6320 - val_accuracy: 0.7062\n",
            "Epoch 24/50\n",
            "465/465 [==============================] - 2s 3ms/step - loss: 0.6775 - accuracy: 0.6866 - val_loss: 0.6382 - val_accuracy: 0.7170\n",
            "Epoch 25/50\n",
            "465/465 [==============================] - 1s 3ms/step - loss: 0.6728 - accuracy: 0.6917 - val_loss: 0.6367 - val_accuracy: 0.7152\n",
            "Epoch 26/50\n",
            "465/465 [==============================] - 1s 3ms/step - loss: 0.6739 - accuracy: 0.6907 - val_loss: 0.6371 - val_accuracy: 0.7116\n",
            "Epoch 27/50\n",
            "465/465 [==============================] - 2s 4ms/step - loss: 0.6723 - accuracy: 0.6903 - val_loss: 0.6439 - val_accuracy: 0.7104\n",
            "Epoch 28/50\n",
            "465/465 [==============================] - 2s 4ms/step - loss: 0.6683 - accuracy: 0.6890 - val_loss: 0.6320 - val_accuracy: 0.7128\n",
            "Epoch 29/50\n",
            "465/465 [==============================] - 1s 3ms/step - loss: 0.6679 - accuracy: 0.6929 - val_loss: 0.6344 - val_accuracy: 0.7104\n",
            "Epoch 30/50\n",
            "465/465 [==============================] - 1s 3ms/step - loss: 0.6662 - accuracy: 0.6937 - val_loss: 0.6318 - val_accuracy: 0.7122\n",
            "Epoch 31/50\n",
            "465/465 [==============================] - 1s 3ms/step - loss: 0.6645 - accuracy: 0.6978 - val_loss: 0.6407 - val_accuracy: 0.7098\n",
            "Epoch 32/50\n",
            "465/465 [==============================] - 1s 3ms/step - loss: 0.6609 - accuracy: 0.6991 - val_loss: 0.6392 - val_accuracy: 0.7110\n",
            "Epoch 33/50\n",
            "465/465 [==============================] - 1s 3ms/step - loss: 0.6615 - accuracy: 0.6962 - val_loss: 0.6318 - val_accuracy: 0.7140\n",
            "Epoch 34/50\n",
            "465/465 [==============================] - 1s 3ms/step - loss: 0.6623 - accuracy: 0.6961 - val_loss: 0.6317 - val_accuracy: 0.7207\n",
            "Epoch 35/50\n",
            "465/465 [==============================] - 1s 3ms/step - loss: 0.6633 - accuracy: 0.6932 - val_loss: 0.6345 - val_accuracy: 0.7116\n",
            "Epoch 36/50\n",
            "465/465 [==============================] - 1s 3ms/step - loss: 0.6630 - accuracy: 0.6966 - val_loss: 0.6348 - val_accuracy: 0.7050\n",
            "Epoch 37/50\n",
            "465/465 [==============================] - 2s 4ms/step - loss: 0.6562 - accuracy: 0.7005 - val_loss: 0.6338 - val_accuracy: 0.7189\n",
            "Epoch 38/50\n",
            "465/465 [==============================] - 2s 4ms/step - loss: 0.6600 - accuracy: 0.6986 - val_loss: 0.6283 - val_accuracy: 0.7164\n",
            "Epoch 39/50\n",
            "465/465 [==============================] - 1s 3ms/step - loss: 0.6593 - accuracy: 0.7017 - val_loss: 0.6305 - val_accuracy: 0.7134\n",
            "Epoch 40/50\n",
            "465/465 [==============================] - 1s 3ms/step - loss: 0.6578 - accuracy: 0.6983 - val_loss: 0.6313 - val_accuracy: 0.7122\n",
            "Epoch 41/50\n",
            "465/465 [==============================] - 1s 3ms/step - loss: 0.6585 - accuracy: 0.6986 - val_loss: 0.6365 - val_accuracy: 0.7074\n",
            "Epoch 42/50\n",
            "465/465 [==============================] - 1s 3ms/step - loss: 0.6554 - accuracy: 0.6973 - val_loss: 0.6329 - val_accuracy: 0.7122\n",
            "Epoch 43/50\n",
            "465/465 [==============================] - 1s 3ms/step - loss: 0.6552 - accuracy: 0.6995 - val_loss: 0.6297 - val_accuracy: 0.7080\n",
            "Epoch 44/50\n",
            "465/465 [==============================] - 1s 3ms/step - loss: 0.6539 - accuracy: 0.7007 - val_loss: 0.6358 - val_accuracy: 0.7134\n",
            "Epoch 45/50\n",
            "465/465 [==============================] - 1s 3ms/step - loss: 0.6541 - accuracy: 0.7032 - val_loss: 0.6333 - val_accuracy: 0.7134\n",
            "Epoch 46/50\n",
            "465/465 [==============================] - 2s 4ms/step - loss: 0.6549 - accuracy: 0.7011 - val_loss: 0.6275 - val_accuracy: 0.7219\n",
            "Epoch 47/50\n",
            "465/465 [==============================] - 2s 4ms/step - loss: 0.6520 - accuracy: 0.7001 - val_loss: 0.6230 - val_accuracy: 0.7183\n",
            "Epoch 48/50\n",
            "465/465 [==============================] - 1s 3ms/step - loss: 0.6514 - accuracy: 0.7020 - val_loss: 0.6271 - val_accuracy: 0.7183\n",
            "Epoch 49/50\n",
            "465/465 [==============================] - 1s 3ms/step - loss: 0.6532 - accuracy: 0.7013 - val_loss: 0.6303 - val_accuracy: 0.7152\n",
            "Epoch 50/50\n",
            "465/465 [==============================] - 1s 3ms/step - loss: 0.6530 - accuracy: 0.7042 - val_loss: 0.6274 - val_accuracy: 0.7152\n",
            "\n",
            "\n",
            "Evaluating Best Model\n",
            "\n",
            "52/52 - 0s - loss: 0.6275 - accuracy: 0.7219 - 136ms/epoch - 3ms/step\n"
          ]
        },
        {
          "output_type": "execute_result",
          "data": {
            "text/plain": [
              "[0.6275262236595154, 0.7218863368034363]"
            ]
          },
          "metadata": {},
          "execution_count": 11
        }
      ]
    },
    {
      "cell_type": "code",
      "source": [
        "#save the model\n",
        "model.save(\"/content/drive/MyDrive/Colab Notebooks/Deep Learning/Homework 3 Data/baby_pain_model.keras\")\n",
        "print(\"Saved Model\")"
      ],
      "metadata": {
        "colab": {
          "base_uri": "https://localhost:8080/"
        },
        "id": "7aLVYq9FCJCK",
        "outputId": "0a6643e3-8112-4a68-c4a9-279477139605"
      },
      "execution_count": 12,
      "outputs": [
        {
          "output_type": "stream",
          "name": "stdout",
          "text": [
            "Saved Model\n"
          ]
        }
      ]
    },
    {
      "cell_type": "markdown",
      "source": [
        "# Graph Results"
      ],
      "metadata": {
        "id": "NyVPRsM3DO9E"
      }
    },
    {
      "cell_type": "code",
      "source": [
        "acc = history.history['accuracy']\n",
        "val_acc = history.history['val_accuracy']\n",
        "loss = history.history['loss']\n",
        "val_loss = history.history['val_loss']\n",
        "\n",
        "\n",
        "epochs = range(1, len(acc) + 1)\n",
        "\n",
        "plt.plot(epochs, acc, 'r', label='Training acc')\n",
        "plt.plot(epochs, val_acc, 'b', label='Validation acc')\n",
        "plt.title('Training and validation accuracy')\n",
        "plt.xlabel(\"Epochs\")\n",
        "plt.ylabel(\"Accuracy Percent\")\n",
        "plt.legend()\n",
        "\n",
        "#Saving the Accuracy Figure\n",
        "plt.savefig(\"/content/drive/MyDrive/Colab Notebooks/Deep Learning/Homework 3 Data/best_model_yet_Accuracy.png\")\n",
        "plt.figure()\n",
        "\n",
        "plt.plot(epochs, loss, 'r', label='Training loss')\n",
        "plt.plot(epochs, val_loss, 'b', label='Validation loss')\n",
        "plt.title('Training and validation loss')\n",
        "plt.xlabel(\"Epochs\")\n",
        "plt.ylabel(\"Loss\")\n",
        "plt.legend()\n",
        "\n",
        "\n",
        "#Saving the Loss Figure\n",
        "plt.savefig(\"/content/drive/MyDrive/Colab Notebooks/Deep Learning/Homework 3 Data/best_model_yet_Loss.png\")\n",
        "plt.show()"
      ],
      "metadata": {
        "colab": {
          "base_uri": "https://localhost:8080/",
          "height": 927
        },
        "id": "WlLLtdWdDRu8",
        "outputId": "bbf37fd8-504f-4fbe-c41b-efc6f8bcbf7d"
      },
      "execution_count": 16,
      "outputs": [
        {
          "output_type": "display_data",
          "data": {
            "text/plain": [
              "<Figure size 640x480 with 1 Axes>"
            ],
            "image/png": "[encoded data removed]"
          },
          "metadata": {}
        },
        {
          "output_type": "display_data",
          "data": {
            "text/plain": [
              "<Figure size 640x480 with 1 Axes>"
            ],
            "image/png": "[encoded data removed]"
          },
          "metadata": {}
        }
      ]
    }
  ]
}