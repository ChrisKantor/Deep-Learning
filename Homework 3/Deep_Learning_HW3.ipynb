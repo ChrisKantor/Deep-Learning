{
  "nbformat": 4,
  "nbformat_minor": 0,
  "metadata": {
    "colab": {
      "provenance": [],
      "authorship_tag": "ABX9TyM0lmOBBbQNUFNhlBAR2ual",
      "include_colab_link": true
    },
    "kernelspec": {
      "name": "python3",
      "display_name": "Python 3"
    },
    "language_info": {
      "name": "python"
    }
  },
  "cells": [
    {
      "cell_type": "markdown",
      "metadata": {
        "id": "view-in-github",
        "colab_type": "text"
      },
      "source": [
        "<a href=\"https://colab.research.google.com/github/ChrisKantor/Deep-Learning/blob/main/Homework%203/Deep_Learning_HW3.ipynb\" target=\"_parent\"><img src=\"https://colab.research.google.com/assets/colab-badge.svg\" alt=\"Open In Colab\"/></a>"
      ]
    },
    {
      "cell_type": "code",
      "execution_count": null,
      "metadata": {
        "id": "HCY4N1ruqq5u"
      },
      "outputs": [],
      "source": [
        "#Deep Learning Assignment Notes:\n",
        "#Need to submite 3 things, training code, the trained model, and then a bunch of results.\n",
        "#need to try all of the things listed in q2\n",
        "#lots of tial and eror with the hyperparameter tuning\n",
        "\n",
        "#data set is about baby vitals for detecting baby pain\n",
        "#3 classes: no pain, mild pain, lots of pain\n",
        "#col 1 is heart rate\n",
        "#col 2 is respiratory rate\n",
        "#col 3 is oxygen saturation\n",
        "#Can merge all the csv files into 1 large one\n",
        "#randomize and then split into training/validation data\n",
        "\n",
        "#need to clean the data, invalid data could be in any column\n",
        "\n",
        "#need 5 HIDDEN layers, so 7 total with the input and output layers\n",
        "#We can choose any number of neurons per layer\n",
        "\n",
        "#70% accuracy is a good minimum\n",
        "\n",
        "#Submit the best model only, but save figures for the other models with hyperparameter tuning\n",
        "#the model is not enough, need to submit a script which loads the model and then runs the test dataset on it\n",
        "#the test data has 2 folders same format as training data, need to combine the data into 1 csv\n",
        "\n",
        "#the testing script can be on a seperate cell in the notebook\n",
        "\n",
        "#figures are for validation loss\n",
        "#don't need to combine hyperparameters, just do them without each other, should be 12 figures total for part 2\n",
        "#1 figure for part 1 (the best model)"
      ]
    },
    {
      "cell_type": "markdown",
      "source": [
        "# **Loading Dataset**"
      ],
      "metadata": {
        "id": "qC0rRcFpQf42"
      }
    },
    {
      "cell_type": "code",
      "source": [
        "#import libraries\n",
        "import tensorflow as tf\n",
        "import numpy as np\n",
        "import pandas as pd\n",
        "import csv\n",
        "import os\n",
        "from matplotlib import pyplot as plt"
      ],
      "metadata": {
        "id": "occsCpZzfvaK"
      },
      "execution_count": 111,
      "outputs": []
    },
    {
      "cell_type": "code",
      "source": [
        "## Mount Google drive\n",
        "from google.colab import drive\n",
        "drive.mount('/content/drive')\n",
        "data_dir = '/content/drive/MyDrive/Colab Notebooks/Deep Learning/Homework 3 Data/'\n",
        "\n",
        "mainFile = \"baby_data.csv\"\n",
        "\n",
        "#create a new csv file that will hold all of our valid data\n",
        "with open(\"/content/drive/MyDrive/Colab Notebooks/Deep Learning/Homework 3 Data/\" + mainFile, 'w') as csvfile:\n",
        "  csvwriter = csv.writer(csvfile)\n",
        "\n",
        "  # writing the column names\n",
        "  csvwriter.writerow(['Heart Rate', 'Respiratory Rate', 'O2 Level', 'Label'])\n",
        "\n",
        "  #use the os library to iterate through all files in the current path\n",
        "  for (root,dirs,files) in os.walk(data_dir, topdown=True):\n",
        "    #open each CSV file, we don't want to open any other type of file\n",
        "    for f in files:\n",
        "      if f.endswith(\".csv\"):\n",
        "        #in each file, go through each row and check if it is valid\n",
        "        with open(os.path.join(root, f), mode ='r') as csvFile:\n",
        "          csvData = csv.reader(csvFile)\n",
        "\n",
        "          #one way to tell if the data is invalid is if the label is NOT [0, 1, 2]. This means there was something wrong with one of the sensors at the time of capture\n",
        "          #another way is to check if the heart rate, respiratory rate, or o2 level is too low, in this case we check if it is <= 0. if so, there was something wrong with the sensor\n",
        "          for row in csvData:\n",
        "            try:\n",
        "              if row[4] in \"012\" and int(row[1]) > 0 and int(row[2]) > 0 and int(row[3]) > 0:   #data is valid, so add it to the main csv\n",
        "\n",
        "                #row[0] just stores the row # in the csv file, so it is not needed in the training dataset\n",
        "                csvwriter.writerow([row[1], row[2], row[3], row[4]])\n",
        "\n",
        "            #Catches errors that occur when an element cannot be parsed into an integer. In this case the row is invalid so we can skip it\n",
        "            except ValueError:\n",
        "              continue\n",
        "\n",
        "print(\"Done writing to main csv file: \", mainFile)"
      ],
      "metadata": {
        "colab": {
          "base_uri": "https://localhost:8080/"
        },
        "id": "mWP_e1NDQorH",
        "outputId": "a42ae3e4-4209-4d38-b4ce-17d9029eb2a8"
      },
      "execution_count": 112,
      "outputs": [
        {
          "output_type": "stream",
          "name": "stdout",
          "text": [
            "Drive already mounted at /content/drive; to attempt to forcibly remount, call drive.mount(\"/content/drive\", force_remount=True).\n",
            "Done writing to main csv file:  baby_data.csv\n"
          ]
        }
      ]
    },
    {
      "cell_type": "code",
      "source": [
        "#Now we have a csv file that has ALL of the valid data which we will use in training our model\n",
        "#The next step is to split the data into a training and validation set, using a 90/10 split\n",
        "dataframe = pd.read_csv(\"/content/drive/MyDrive/Colab Notebooks/Deep Learning/Homework 3 Data/\" + mainFile, sep=',')\n",
        "print(dataframe.shape)\n",
        "print(dataframe.head())\n",
        "\n",
        "\n",
        "#split the data into a training and validation set using a 90/10 split, and randomize beforehand\n",
        "trainData, valData = np.split(dataframe.sample(frac=1), [int(0.9*len(dataframe))])\n",
        "\n",
        "#save the labels to a seperate dataframe and remove them from the data dataframe\n",
        "trainLabel = trainData.pop('Label')\n",
        "valLabel = valData.pop('Label')"
      ],
      "metadata": {
        "colab": {
          "base_uri": "https://localhost:8080/"
        },
        "id": "l-8o5KTrDopv",
        "outputId": "10bafbff-9c32-4240-8356-c3564743d0a4"
      },
      "execution_count": 138,
      "outputs": [
        {
          "output_type": "stream",
          "name": "stdout",
          "text": [
            "(16531, 4)\n",
            "   Heart Rate  Respiratory Rate  O2 Level  Label\n",
            "0         172                46        98      2\n",
            "1         172                46        98      2\n",
            "2         173                46        98      2\n",
            "3         175                48        98      2\n",
            "4         172                49        98      2\n"
          ]
        }
      ]
    },
    {
      "cell_type": "code",
      "source": [
        "#Hyperparameter Tuning\n",
        "batchSize = 16\n",
        "learningRate = 0.0001\n",
        "numEpochs = 50\n",
        "normalize = False\n",
        "optType = 'Adam'\n",
        "momentum = 0.9\n",
        "initType = 'Random'\n",
        "regularize = False         #using L2 regularization in tensorflow\n",
        "regularizeLamda = 0.0001\n",
        "\n",
        "\n",
        "\n",
        "#Choosing optimizer\n",
        "if optType == 'Adam':\n",
        "  opt = tf.keras.optimizers.Adam(learning_rate = learningRate)\n",
        "\n",
        "elif optType == 'SGD':\n",
        "  opt = tf.keras.optimizers.SGD(learning_rate = learningRate, momentum = momentum)\n",
        "\n",
        "\n",
        "#Normalizing data\n",
        "if normalize:\n",
        "  #normalize the data using pandas - use standard scaling\n",
        "  #normalize the validation data using the training datas values(?)\n",
        "  for col in trainData.columns:\n",
        "    trainData[col] = trainData[col]  / trainData[col].abs().max()\n",
        "\n",
        "  for col in valData.columns:\n",
        "    valData[col] = valData[col]  / valData[col].abs().max()"
      ],
      "metadata": {
        "id": "G6cnVUTKscGS"
      },
      "execution_count": 144,
      "outputs": []
    },
    {
      "cell_type": "markdown",
      "source": [
        "# Model Creation and Training"
      ],
      "metadata": {
        "id": "rSBe9Q_gb8W4"
      }
    },
    {
      "cell_type": "code",
      "source": [
        "#Create the model\n",
        "if regularize:\n",
        "  model = tf.keras.models.Sequential([\n",
        "    tf.keras.layers.Dense(3),\n",
        "    tf.keras.layers.Dense(64, activation='relu', kernel_regularizer = tf.keras.regularizers.l2(regularizeLamda)),\n",
        "    tf.keras.layers.Dropout(0.5),\n",
        "    tf.keras.layers.Dense(128, activation='relu', kernel_regularizer = tf.keras.regularizers.l2(regularizeLamda)),\n",
        "    tf.keras.layers.Dropout(0.5),\n",
        "    tf.keras.layers.Dense(64, activation='relu', kernel_regularizer = tf.keras.regularizers.l2(regularizeLamda)),\n",
        "    tf.keras.layers.Dense(3)\n",
        "  ])\n",
        "\n",
        "else:\n",
        "  model = tf.keras.models.Sequential([\n",
        "    tf.keras.layers.Dense(3),\n",
        "    tf.keras.layers.Dense(64, activation='relu'),\n",
        "    tf.keras.layers.Dropout(0.5),\n",
        "    tf.keras.layers.Dense(128, activation='relu'),\n",
        "    tf.keras.layers.Dropout(0.5),\n",
        "    tf.keras.layers.Dense(64, activation='relu'),\n",
        "    tf.keras.layers.Dense(3)\n",
        "  ])\n",
        "\n",
        "#creating the loss function we will use\n",
        "loss_fn = tf.keras.losses.SparseCategoricalCrossentropy(from_logits=True)\n",
        "model.compile(optimizer=opt,\n",
        "              loss=loss_fn,\n",
        "              metrics=['accuracy'])\n",
        "\n",
        "\n",
        "#or optionally load a model from a file\n",
        "#model = tf.keras.models.load_model(\"/content/drive/MyDrive/Colab Notebooks/Deep Learning/Homework 3 Data/baby_pain_model.keras\")"
      ],
      "metadata": {
        "id": "-CdMRySJcCgc"
      },
      "execution_count": 145,
      "outputs": []
    },
    {
      "cell_type": "code",
      "source": [
        "checkpoint_filepath = '/content/drive/MyDrive/Colab Notebooks/Deep Learning/Homework 3 Data/checkpoint'\n",
        "model_checkpoint_callback = tf.keras.callbacks.ModelCheckpoint(\n",
        "    filepath=checkpoint_filepath,\n",
        "    save_weights_only=True,\n",
        "    monitor='val_accuracy',\n",
        "    mode='max',\n",
        "    save_best_only=True)\n",
        "\n",
        "\n",
        "#Running the model\n",
        "print(\"Running Model\\n\")\n",
        "history = model.fit(trainData, trainLabel, epochs=numEpochs, batch_size=batchSize, validation_data=(valData, valLabel), callbacks=[model_checkpoint_callback])\n",
        "\n",
        "\n",
        "#load the best model using the callback\n",
        "model.load_weights(checkpoint_filepath)\n",
        "\n",
        "print(\"\\n\\nEvaluating Best Model\\n\")\n",
        "#evaluation the model on the validation data\n",
        "model.evaluate(valData, valLabel, verbose=2)"
      ],
      "metadata": {
        "id": "3TMqqRZZflHh",
        "outputId": "52368fa4-1fac-44c1-c195-9b1513ace1a4",
        "colab": {
          "base_uri": "https://localhost:8080/"
        }
      },
      "execution_count": 146,
      "outputs": [
        {
          "output_type": "stream",
          "name": "stdout",
          "text": [
            "Running Model\n",
            "\n",
            "Epoch 1/50\n",
            "930/930 [==============================] - 4s 3ms/step - loss: 3.0589 - accuracy: 0.4733 - val_loss: 0.8170 - val_accuracy: 0.6729\n",
            "Epoch 2/50\n",
            "930/930 [==============================] - 2s 2ms/step - loss: 1.3455 - accuracy: 0.5047 - val_loss: 0.7838 - val_accuracy: 0.6554\n",
            "Epoch 3/50\n",
            "930/930 [==============================] - 3s 3ms/step - loss: 1.0437 - accuracy: 0.5351 - val_loss: 0.7960 - val_accuracy: 0.6778\n",
            "Epoch 4/50\n",
            "930/930 [==============================] - 4s 4ms/step - loss: 0.9345 - accuracy: 0.5570 - val_loss: 0.7867 - val_accuracy: 0.6765\n",
            "Epoch 5/50\n",
            "930/930 [==============================] - 2s 2ms/step - loss: 0.8826 - accuracy: 0.5849 - val_loss: 0.7839 - val_accuracy: 0.6620\n",
            "Epoch 6/50\n",
            "930/930 [==============================] - 2s 2ms/step - loss: 0.8466 - accuracy: 0.5993 - val_loss: 0.7704 - val_accuracy: 0.6602\n",
            "Epoch 7/50\n",
            "930/930 [==============================] - 2s 2ms/step - loss: 0.8413 - accuracy: 0.6130 - val_loss: 0.7646 - val_accuracy: 0.6632\n",
            "Epoch 8/50\n",
            "930/930 [==============================] - 4s 4ms/step - loss: 0.8202 - accuracy: 0.6177 - val_loss: 0.7512 - val_accuracy: 0.6632\n",
            "Epoch 9/50\n",
            "930/930 [==============================] - 4s 4ms/step - loss: 0.7995 - accuracy: 0.6385 - val_loss: 0.7389 - val_accuracy: 0.6723\n",
            "Epoch 10/50\n",
            "930/930 [==============================] - 2s 3ms/step - loss: 0.7910 - accuracy: 0.6411 - val_loss: 0.7319 - val_accuracy: 0.6868\n",
            "Epoch 11/50\n",
            "930/930 [==============================] - 3s 3ms/step - loss: 0.7743 - accuracy: 0.6581 - val_loss: 0.7184 - val_accuracy: 0.6784\n",
            "Epoch 12/50\n",
            "930/930 [==============================] - 3s 3ms/step - loss: 0.7741 - accuracy: 0.6562 - val_loss: 0.7157 - val_accuracy: 0.6838\n",
            "Epoch 13/50\n",
            "930/930 [==============================] - 3s 3ms/step - loss: 0.7640 - accuracy: 0.6583 - val_loss: 0.7128 - val_accuracy: 0.6790\n",
            "Epoch 14/50\n",
            "930/930 [==============================] - 4s 4ms/step - loss: 0.7574 - accuracy: 0.6638 - val_loss: 0.7012 - val_accuracy: 0.6784\n",
            "Epoch 15/50\n",
            "930/930 [==============================] - 2s 3ms/step - loss: 0.7443 - accuracy: 0.6685 - val_loss: 0.6964 - val_accuracy: 0.6874\n",
            "Epoch 16/50\n",
            "930/930 [==============================] - 2s 2ms/step - loss: 0.7428 - accuracy: 0.6669 - val_loss: 0.6958 - val_accuracy: 0.6868\n",
            "Epoch 17/50\n",
            "930/930 [==============================] - 2s 3ms/step - loss: 0.7323 - accuracy: 0.6745 - val_loss: 0.6830 - val_accuracy: 0.6874\n",
            "Epoch 18/50\n",
            "930/930 [==============================] - 3s 3ms/step - loss: 0.7319 - accuracy: 0.6759 - val_loss: 0.6872 - val_accuracy: 0.6856\n",
            "Epoch 19/50\n",
            "930/930 [==============================] - 3s 3ms/step - loss: 0.7241 - accuracy: 0.6778 - val_loss: 0.6810 - val_accuracy: 0.6838\n",
            "Epoch 20/50\n",
            "930/930 [==============================] - 2s 3ms/step - loss: 0.7214 - accuracy: 0.6794 - val_loss: 0.6778 - val_accuracy: 0.6850\n",
            "Epoch 21/50\n",
            "930/930 [==============================] - 2s 2ms/step - loss: 0.7224 - accuracy: 0.6837 - val_loss: 0.6708 - val_accuracy: 0.6862\n",
            "Epoch 22/50\n",
            "930/930 [==============================] - 3s 3ms/step - loss: 0.7132 - accuracy: 0.6829 - val_loss: 0.6669 - val_accuracy: 0.6904\n",
            "Epoch 23/50\n",
            "930/930 [==============================] - 3s 3ms/step - loss: 0.7110 - accuracy: 0.6843 - val_loss: 0.6673 - val_accuracy: 0.6898\n",
            "Epoch 24/50\n",
            "930/930 [==============================] - 3s 4ms/step - loss: 0.7096 - accuracy: 0.6837 - val_loss: 0.6630 - val_accuracy: 0.6862\n",
            "Epoch 25/50\n",
            "930/930 [==============================] - 3s 3ms/step - loss: 0.7057 - accuracy: 0.6889 - val_loss: 0.6735 - val_accuracy: 0.6995\n",
            "Epoch 26/50\n",
            "930/930 [==============================] - 3s 3ms/step - loss: 0.7048 - accuracy: 0.6870 - val_loss: 0.6657 - val_accuracy: 0.7001\n",
            "Epoch 27/50\n",
            "930/930 [==============================] - 3s 3ms/step - loss: 0.7048 - accuracy: 0.6836 - val_loss: 0.6657 - val_accuracy: 0.6868\n",
            "Epoch 28/50\n",
            "930/930 [==============================] - 4s 4ms/step - loss: 0.7000 - accuracy: 0.6867 - val_loss: 0.6603 - val_accuracy: 0.6959\n",
            "Epoch 29/50\n",
            "930/930 [==============================] - 3s 3ms/step - loss: 0.6939 - accuracy: 0.6882 - val_loss: 0.6750 - val_accuracy: 0.6911\n",
            "Epoch 30/50\n",
            "930/930 [==============================] - 3s 3ms/step - loss: 0.6932 - accuracy: 0.6906 - val_loss: 0.6580 - val_accuracy: 0.7001\n",
            "Epoch 31/50\n",
            "930/930 [==============================] - 3s 3ms/step - loss: 0.6887 - accuracy: 0.6903 - val_loss: 0.6593 - val_accuracy: 0.6947\n",
            "Epoch 32/50\n",
            "930/930 [==============================] - 3s 3ms/step - loss: 0.6859 - accuracy: 0.6898 - val_loss: 0.6608 - val_accuracy: 0.6904\n",
            "Epoch 33/50\n",
            "930/930 [==============================] - 4s 4ms/step - loss: 0.6826 - accuracy: 0.6895 - val_loss: 0.6555 - val_accuracy: 0.6989\n",
            "Epoch 34/50\n",
            "930/930 [==============================] - 3s 3ms/step - loss: 0.6838 - accuracy: 0.6899 - val_loss: 0.6514 - val_accuracy: 0.6971\n",
            "Epoch 35/50\n",
            "930/930 [==============================] - 2s 3ms/step - loss: 0.6811 - accuracy: 0.6929 - val_loss: 0.6508 - val_accuracy: 0.6977\n",
            "Epoch 36/50\n",
            "930/930 [==============================] - 3s 3ms/step - loss: 0.6803 - accuracy: 0.6898 - val_loss: 0.6506 - val_accuracy: 0.6983\n",
            "Epoch 37/50\n",
            "930/930 [==============================] - 3s 3ms/step - loss: 0.6770 - accuracy: 0.6897 - val_loss: 0.6501 - val_accuracy: 0.7007\n",
            "Epoch 38/50\n",
            "930/930 [==============================] - 3s 4ms/step - loss: 0.6785 - accuracy: 0.6923 - val_loss: 0.6518 - val_accuracy: 0.6977\n",
            "Epoch 39/50\n",
            "930/930 [==============================] - 2s 3ms/step - loss: 0.6768 - accuracy: 0.6942 - val_loss: 0.6554 - val_accuracy: 0.6917\n",
            "Epoch 40/50\n",
            "930/930 [==============================] - 3s 3ms/step - loss: 0.6734 - accuracy: 0.6968 - val_loss: 0.6513 - val_accuracy: 0.6929\n",
            "Epoch 41/50\n",
            "930/930 [==============================] - 3s 3ms/step - loss: 0.6750 - accuracy: 0.6962 - val_loss: 0.6527 - val_accuracy: 0.6923\n",
            "Epoch 42/50\n",
            "930/930 [==============================] - 3s 3ms/step - loss: 0.6763 - accuracy: 0.6915 - val_loss: 0.6435 - val_accuracy: 0.6995\n",
            "Epoch 43/50\n",
            "930/930 [==============================] - 3s 3ms/step - loss: 0.6709 - accuracy: 0.6942 - val_loss: 0.6535 - val_accuracy: 0.6911\n",
            "Epoch 44/50\n",
            "930/930 [==============================] - 2s 3ms/step - loss: 0.6726 - accuracy: 0.6877 - val_loss: 0.6477 - val_accuracy: 0.6959\n",
            "Epoch 45/50\n",
            "930/930 [==============================] - 3s 3ms/step - loss: 0.6673 - accuracy: 0.6948 - val_loss: 0.6385 - val_accuracy: 0.7025\n",
            "Epoch 46/50\n",
            "930/930 [==============================] - 2s 3ms/step - loss: 0.6718 - accuracy: 0.6924 - val_loss: 0.6426 - val_accuracy: 0.6983\n",
            "Epoch 47/50\n",
            "930/930 [==============================] - 3s 3ms/step - loss: 0.6664 - accuracy: 0.6966 - val_loss: 0.6411 - val_accuracy: 0.6995\n",
            "Epoch 48/50\n",
            "930/930 [==============================] - 4s 4ms/step - loss: 0.6658 - accuracy: 0.6995 - val_loss: 0.6430 - val_accuracy: 0.6995\n",
            "Epoch 49/50\n",
            "930/930 [==============================] - 4s 4ms/step - loss: 0.6710 - accuracy: 0.6958 - val_loss: 0.6398 - val_accuracy: 0.6995\n",
            "Epoch 50/50\n",
            "930/930 [==============================] - 3s 3ms/step - loss: 0.6667 - accuracy: 0.6940 - val_loss: 0.6443 - val_accuracy: 0.6953\n",
            "\n",
            "\n",
            "Evaluating Best Model\n",
            "\n",
            "52/52 - 0s - loss: 0.6385 - accuracy: 0.7025 - 115ms/epoch - 2ms/step\n"
          ]
        },
        {
          "output_type": "execute_result",
          "data": {
            "text/plain": [
              "[0.638536274433136, 0.702539324760437]"
            ]
          },
          "metadata": {},
          "execution_count": 146
        }
      ]
    },
    {
      "cell_type": "code",
      "source": [
        "#save the model\n",
        "model.save(\"/content/drive/MyDrive/Colab Notebooks/Deep Learning/Homework 3 Data/baby_pain_model.keras\")\n",
        "print(\"Saved Model\")"
      ],
      "metadata": {
        "colab": {
          "base_uri": "https://localhost:8080/"
        },
        "id": "7aLVYq9FCJCK",
        "outputId": "ad92596e-c547-445c-8292-fe978a57f0ec"
      },
      "execution_count": 147,
      "outputs": [
        {
          "output_type": "stream",
          "name": "stdout",
          "text": [
            "Saved Model\n"
          ]
        }
      ]
    },
    {
      "cell_type": "markdown",
      "source": [
        "# Graph Results"
      ],
      "metadata": {
        "id": "NyVPRsM3DO9E"
      }
    },
    {
      "cell_type": "code",
      "source": [
        "acc = history.history['accuracy']\n",
        "val_acc = history.history['val_accuracy']\n",
        "loss = history.history['loss']\n",
        "val_loss = history.history['val_loss']\n",
        "\n",
        "\n",
        "epochs = range(1, len(acc) + 1)\n",
        "\n",
        "plt.plot(epochs, acc, 'r', label='Training acc')\n",
        "plt.plot(epochs, val_acc, 'b', label='Validation acc')\n",
        "plt.title('Training and validation accuracy')\n",
        "plt.xlabel(\"Epochs\")\n",
        "plt.ylabel(\"Accuracy Percent\")\n",
        "plt.legend()\n",
        "\n",
        "plt.figure()\n",
        "\n",
        "plt.plot(epochs, loss, 'r', label='Training loss')\n",
        "plt.plot(epochs, val_loss, 'b', label='Validation loss')\n",
        "plt.title('Training and validation loss')\n",
        "plt.xlabel(\"Epochs\")\n",
        "plt.ylabel(\"Loss\")\n",
        "plt.legend()\n",
        "\n",
        "plt.show()"
      ],
      "metadata": {
        "colab": {
          "base_uri": "https://localhost:8080/",
          "height": 927
        },
        "id": "WlLLtdWdDRu8",
        "outputId": "132772f2-c440-4b3c-99e7-4ce544d8c1ce"
      },
      "execution_count": 148,
      "outputs": [
        {
          "output_type": "display_data",
          "data": {
            "text/plain": [
              "<Figure size 640x480 with 1 Axes>"
            ],
            "image/png": "[encoded data removed]"
          },
          "metadata": {}
        },
        {
          "output_type": "display_data",
          "data": {
            "text/plain": [
              "<Figure size 640x480 with 1 Axes>"
            ],
            "image/png": "[encoded data removed]"
          },
          "metadata": {}
        }
      ]
    }
  ]
}