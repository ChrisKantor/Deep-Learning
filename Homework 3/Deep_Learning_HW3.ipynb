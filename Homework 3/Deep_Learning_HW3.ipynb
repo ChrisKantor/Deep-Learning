{
  "nbformat": 4,
  "nbformat_minor": 0,
  "metadata": {
    "colab": {
      "provenance": [],
      "authorship_tag": "ABX9TyNlQv2XumZfwbteXHlcG+zp",
      "include_colab_link": true
    },
    "kernelspec": {
      "name": "python3",
      "display_name": "Python 3"
    },
    "language_info": {
      "name": "python"
    }
  },
  "cells": [
    {
      "cell_type": "markdown",
      "metadata": {
        "id": "view-in-github",
        "colab_type": "text"
      },
      "source": [
        "<a href=\"https://colab.research.google.com/github/ChrisKantor/Deep-Learning/blob/main/Homework%203/Deep_Learning_HW3.ipynb\" target=\"_parent\"><img src=\"https://colab.research.google.com/assets/colab-badge.svg\" alt=\"Open In Colab\"/></a>"
      ]
    },
    {
      "cell_type": "code",
      "execution_count": 34,
      "metadata": {
        "id": "HCY4N1ruqq5u"
      },
      "outputs": [],
      "source": [
        "#Deep Learning Assignment Notes:\n",
        "#Need to submite 3 things, training code, the trained model, and then a bunch of results.\n",
        "#need to try all of the things listed in q2\n",
        "#lots of tial and eror with the hyperparameter tuning\n",
        "\n",
        "#data set is about baby vitals for detecting baby pain\n",
        "#3 classes: no pain, mild pain, lots of pain\n",
        "#col 1 is heart rate\n",
        "#col 2 is respiratory rate\n",
        "#col 3 is oxygen saturation\n",
        "#Can merge all the csv files into 1 large one\n",
        "#randomize and then split into training/validation data\n",
        "\n",
        "#need to clean the data, invalid data could be in any column\n",
        "\n",
        "#need 5 HIDDEN layers, so 7 total with the input and output layers\n",
        "#We can choose any number of neurons per layer\n",
        "\n",
        "#70% accuracy is a good minimum\n",
        "\n",
        "#Submit the best model only, but save figures for the other models with hyperparameter tuning\n",
        "#the model is not enough, need to submit a script which loads the model and then runs the test dataset on it\n",
        "#the testing script can be on a seperate cell in the notebook\n",
        "\n",
        "#figures are for validation loss\n",
        "#don't need to combine hyperparameters, just do them without each other, should be 12 figures total for part 2\n",
        "#1 figure for part 1 (the best model)"
      ]
    },
    {
      "cell_type": "markdown",
      "source": [
        "# **Loading Dataset**"
      ],
      "metadata": {
        "id": "qC0rRcFpQf42"
      }
    },
    {
      "cell_type": "code",
      "source": [
        "#import libraries\n",
        "import tensorflow as tf\n",
        "import numpy as np\n",
        "import pandas as pd\n",
        "import csv\n",
        "import os\n",
        "from matplotlib import pyplot as plt\n",
        "\n",
        "## Mount Google drive\n",
        "from google.colab import drive\n",
        "drive.mount('/content/drive', force_remount=True)\n",
        "data_dir = '/content/drive/MyDrive/Colab Notebooks/Deep Learning/HW3/Homework 3 Data/'\n",
        "\n",
        "mainFile = \"baby_data.csv\""
      ],
      "metadata": {
        "id": "occsCpZzfvaK",
        "outputId": "1601ebd9-8a48-451b-a51b-4ce141440994",
        "colab": {
          "base_uri": "https://localhost:8080/"
        }
      },
      "execution_count": 65,
      "outputs": [
        {
          "output_type": "stream",
          "name": "stdout",
          "text": [
            "Mounted at /content/drive\n"
          ]
        }
      ]
    },
    {
      "cell_type": "code",
      "source": [
        "#create a new csv file that will hold all of our valid data\n",
        "with open(\"/content/drive/MyDrive/Colab Notebooks/Deep Learning/HW3/\" + mainFile, 'w') as csvfile:\n",
        "  csvwriter = csv.writer(csvfile)\n",
        "\n",
        "  # writing the column names\n",
        "  csvwriter.writerow(['Heart Rate', 'Respiratory Rate', 'O2 Level', 'Label'])\n",
        "\n",
        "  #use the os library to iterate through all files in the current path\n",
        "  for (root,dirs,files) in os.walk(data_dir, topdown=True):\n",
        "    #open each CSV file, we don't want to open any other type of file\n",
        "    for f in files:\n",
        "      if f.endswith(\".csv\"):\n",
        "        #in each file, go through each row and check if it is valid\n",
        "        with open(os.path.join(root, f), mode ='r') as csvFile:\n",
        "          csvData = csv.reader(csvFile)\n",
        "\n",
        "          #one way to tell if the data is invalid is if the label is NOT [0, 1, 2]. This means there was something wrong with one of the sensors at the time of capture\n",
        "          #another way is to check if the heart rate, respiratory rate, or o2 level is too low or too high\n",
        "          #for heart Rate, we want a range of 44 - 200\n",
        "          #for Respiratory Rate, we want a range of 18 - 90\n",
        "          #for o2 level, we want a rate of 80 - 100\n",
        "          for row in csvData:\n",
        "            try:\n",
        "              if row[4] in \"012\" and (int(row[1]) >= 44 and int(row[1]) <= 200) and (int(row[2]) >= 18 and int(row[2]) <= 90) and (int(row[3]) >= 80 and int(row[3]) <= 100):   #data is valid, so add it to the main csv\n",
        "\n",
        "                #row[0] just stores the row # in the csv file, so it is not needed in the training dataset\n",
        "                csvwriter.writerow([row[1], row[2], row[3], row[4]])\n",
        "\n",
        "            #Catches errors that occur when an element cannot be parsed into an integer. In this case the row is invalid so we can skip it\n",
        "            except ValueError:\n",
        "              continue\n",
        "\n",
        "print(\"Done writing to main csv file: \", mainFile)"
      ],
      "metadata": {
        "id": "mWP_e1NDQorH"
      },
      "execution_count": null,
      "outputs": []
    },
    {
      "cell_type": "code",
      "source": [
        "#Now we have a csv file that has ALL of the valid data which we will use in training our model\n",
        "#The next step is to split the data into a training and validation set, using a 90/10 split\n",
        "dataframe = pd.read_csv(\"/content/drive/MyDrive/Colab Notebooks/Deep Learning/HW3/\" + mainFile, sep=',')\n",
        "print(dataframe.shape)\n",
        "print(dataframe.head())\n",
        "\n",
        "\n",
        "#split the data into a training and validation set using a 90/10 split, and randomize beforehand\n",
        "trainData, valData = np.split(dataframe.sample(frac=1), [int(0.9*len(dataframe))])\n",
        "\n",
        "#save the labels to a seperate dataframe and remove them from the data dataframe\n",
        "trainLabel = trainData.pop('Label')\n",
        "valLabel = valData.pop('Label')"
      ],
      "metadata": {
        "colab": {
          "base_uri": "https://localhost:8080/"
        },
        "id": "l-8o5KTrDopv",
        "outputId": "32b06467-fde6-4d22-99dc-37e6774df446"
      },
      "execution_count": 66,
      "outputs": [
        {
          "output_type": "stream",
          "name": "stdout",
          "text": [
            "(14423, 4)\n",
            "   Heart Rate  Respiratory Rate  O2 Level  Label\n",
            "0         172                46        98      2\n",
            "1         172                46        98      2\n",
            "2         173                46        98      2\n",
            "3         175                48        98      2\n",
            "4         172                49        98      2\n"
          ]
        }
      ]
    },
    {
      "cell_type": "code",
      "source": [
        "#Hyperparameter Tuning\n",
        "batchSize = 32\n",
        "learningRate = 0.0001\n",
        "numEpochs = 50\n",
        "normalize = False\n",
        "optType = 'Adam'\n",
        "momentum = 0.9\n",
        "initType = 'Random'\n",
        "regularize = False         #using L2 regularization in tensorflow\n",
        "regularizeLamda = 0.0001\n",
        "\n",
        "\n",
        "\n",
        "#Choosing optimizer\n",
        "if optType == 'Adam':\n",
        "  opt = tf.keras.optimizers.Adam(learning_rate = learningRate)\n",
        "\n",
        "elif optType == 'SGD':\n",
        "  opt = tf.keras.optimizers.SGD(learning_rate = learningRate, momentum = momentum)\n",
        "\n",
        "\n",
        "#Normalizing data\n",
        "if normalize:\n",
        "  #normalize the data using pandas - use standard scaling\n",
        "  #normalize the validation data using the training datas values(?)\n",
        "  for col in trainData.columns:\n",
        "    trainData[col] = trainData[col]  / trainData[col].abs().max()\n",
        "\n",
        "  for col in valData.columns:\n",
        "    valData[col] = valData[col]  / valData[col].abs().max()"
      ],
      "metadata": {
        "id": "G6cnVUTKscGS"
      },
      "execution_count": 67,
      "outputs": []
    },
    {
      "cell_type": "markdown",
      "source": [
        "# Model Creation and Training"
      ],
      "metadata": {
        "id": "rSBe9Q_gb8W4"
      }
    },
    {
      "cell_type": "code",
      "source": [
        "#Create the model\n",
        "if regularize:\n",
        "  model = tf.keras.models.Sequential([\n",
        "    tf.keras.layers.Input(3),\n",
        "    tf.keras.layers.Dense(64, activation='relu', kernel_regularizer = tf.keras.regularizers.l2(regularizeLamda)),\n",
        "    tf.keras.layers.Dropout(0.5),\n",
        "    tf.keras.layers.Dense(128, activation='relu', kernel_regularizer = tf.keras.regularizers.l2(regularizeLamda)),\n",
        "    tf.keras.layers.Dropout(0.5),\n",
        "    tf.keras.layers.Dense(64, activation='relu', kernel_regularizer = tf.keras.regularizers.l2(regularizeLamda)),\n",
        "    tf.keras.layers.Dense(3)\n",
        "  ])\n",
        "\n",
        "else:\n",
        "  model = tf.keras.models.Sequential([\n",
        "    tf.keras.layers.Dense(3),\n",
        "    tf.keras.layers.Dense(64, activation='relu'),\n",
        "    tf.keras.layers.Dropout(0.2),\n",
        "    tf.keras.layers.Dense(128, activation='relu'),\n",
        "    tf.keras.layers.Dropout(0.2),\n",
        "    tf.keras.layers.Dense(64, activation='relu'),\n",
        "    tf.keras.layers.Dense(3)\n",
        "  ])\n",
        "\n",
        "#creating the loss function we will use\n",
        "loss_fn = tf.keras.losses.SparseCategoricalCrossentropy(from_logits=True)\n",
        "model.compile(optimizer=opt,\n",
        "              loss=loss_fn,\n",
        "              metrics=['accuracy'])\n",
        "\n",
        "\n",
        "#or optionally load a model from a file\n",
        "# model = tf.keras.models.load_model(\"/content/drive/MyDrive/Colab Notebooks/Deep Learning/HW3/bestModel.keras\")"
      ],
      "metadata": {
        "id": "-CdMRySJcCgc"
      },
      "execution_count": 68,
      "outputs": []
    },
    {
      "cell_type": "code",
      "source": [
        "checkpoint_filepath = '/content/drive/MyDrive/Colab Notebooks/Deep Learning/HW3/checkpoint'\n",
        "model_checkpoint_callback = tf.keras.callbacks.ModelCheckpoint(\n",
        "    filepath=checkpoint_filepath,\n",
        "    save_weights_only=True,\n",
        "    monitor='val_accuracy',\n",
        "    mode='max',\n",
        "    save_best_only=True)\n",
        "\n",
        "\n",
        "#Running the model\n",
        "print(\"Running Model\\n\")\n",
        "history = model.fit(trainData, trainLabel, epochs=numEpochs, batch_size=batchSize, validation_data=(valData, valLabel), callbacks=[model_checkpoint_callback])\n",
        "\n",
        "\n",
        "#load the best model using the callback\n",
        "model.load_weights(checkpoint_filepath)\n",
        "\n",
        "print(\"\\n\\nEvaluating Best Model\\n\")\n",
        "#evaluation the model on the validation data\n",
        "model.evaluate(valData, valLabel, verbose=2)"
      ],
      "metadata": {
        "id": "3TMqqRZZflHh",
        "outputId": "4f4a9de9-01c2-4f8b-d19e-395756480253",
        "colab": {
          "base_uri": "https://localhost:8080/"
        }
      },
      "execution_count": 69,
      "outputs": [
        {
          "output_type": "stream",
          "name": "stdout",
          "text": [
            "Running Model\n",
            "\n",
            "Epoch 1/50\n",
            "406/406 [==============================] - 2s 2ms/step - loss: 6.8588 - accuracy: 0.4576 - val_loss: 1.2954 - val_accuracy: 0.6036\n",
            "Epoch 2/50\n",
            "406/406 [==============================] - 1s 2ms/step - loss: 3.3710 - accuracy: 0.4602 - val_loss: 1.1556 - val_accuracy: 0.5690\n",
            "Epoch 3/50\n",
            "406/406 [==============================] - 1s 1ms/step - loss: 2.3558 - accuracy: 0.4747 - val_loss: 0.9292 - val_accuracy: 0.5946\n",
            "Epoch 4/50\n",
            "406/406 [==============================] - 1s 2ms/step - loss: 1.8037 - accuracy: 0.4797 - val_loss: 0.8725 - val_accuracy: 0.5530\n",
            "Epoch 5/50\n",
            "406/406 [==============================] - 1s 2ms/step - loss: 1.4713 - accuracy: 0.4850 - val_loss: 0.8605 - val_accuracy: 0.5613\n",
            "Epoch 6/50\n",
            "406/406 [==============================] - 1s 2ms/step - loss: 1.2583 - accuracy: 0.5031 - val_loss: 0.8366 - val_accuracy: 0.5939\n",
            "Epoch 7/50\n",
            "406/406 [==============================] - 1s 2ms/step - loss: 1.1418 - accuracy: 0.5003 - val_loss: 0.8293 - val_accuracy: 0.6147\n",
            "Epoch 8/50\n",
            "406/406 [==============================] - 1s 2ms/step - loss: 1.0551 - accuracy: 0.5197 - val_loss: 0.8358 - val_accuracy: 0.6140\n",
            "Epoch 9/50\n",
            "406/406 [==============================] - 1s 2ms/step - loss: 1.0035 - accuracy: 0.5244 - val_loss: 0.8378 - val_accuracy: 0.6188\n",
            "Epoch 10/50\n",
            "406/406 [==============================] - 1s 2ms/step - loss: 0.9632 - accuracy: 0.5366 - val_loss: 0.8383 - val_accuracy: 0.6071\n",
            "Epoch 11/50\n",
            "406/406 [==============================] - 1s 2ms/step - loss: 0.9346 - accuracy: 0.5457 - val_loss: 0.8375 - val_accuracy: 0.6237\n",
            "Epoch 12/50\n",
            "406/406 [==============================] - 1s 2ms/step - loss: 0.9108 - accuracy: 0.5492 - val_loss: 0.8430 - val_accuracy: 0.5717\n",
            "Epoch 13/50\n",
            "406/406 [==============================] - 1s 1ms/step - loss: 0.9004 - accuracy: 0.5531 - val_loss: 0.8466 - val_accuracy: 0.5939\n",
            "Epoch 14/50\n",
            "406/406 [==============================] - 1s 2ms/step - loss: 0.8867 - accuracy: 0.5597 - val_loss: 0.8379 - val_accuracy: 0.5981\n",
            "Epoch 15/50\n",
            "406/406 [==============================] - 1s 2ms/step - loss: 0.8770 - accuracy: 0.5696 - val_loss: 0.8300 - val_accuracy: 0.5835\n",
            "Epoch 16/50\n",
            "406/406 [==============================] - 1s 2ms/step - loss: 0.8620 - accuracy: 0.5796 - val_loss: 0.8223 - val_accuracy: 0.6050\n",
            "Epoch 17/50\n",
            "406/406 [==============================] - 1s 2ms/step - loss: 0.8524 - accuracy: 0.5945 - val_loss: 0.8205 - val_accuracy: 0.6140\n",
            "Epoch 18/50\n",
            "406/406 [==============================] - 1s 1ms/step - loss: 0.8470 - accuracy: 0.6008 - val_loss: 0.8211 - val_accuracy: 0.6216\n",
            "Epoch 19/50\n",
            "406/406 [==============================] - 1s 2ms/step - loss: 0.8329 - accuracy: 0.6051 - val_loss: 0.8073 - val_accuracy: 0.6459\n",
            "Epoch 20/50\n",
            "406/406 [==============================] - 1s 1ms/step - loss: 0.8216 - accuracy: 0.6111 - val_loss: 0.7975 - val_accuracy: 0.6431\n",
            "Epoch 21/50\n",
            "406/406 [==============================] - 1s 2ms/step - loss: 0.8174 - accuracy: 0.6179 - val_loss: 0.7849 - val_accuracy: 0.6528\n",
            "Epoch 22/50\n",
            "406/406 [==============================] - 1s 2ms/step - loss: 0.8030 - accuracy: 0.6261 - val_loss: 0.7849 - val_accuracy: 0.6480\n",
            "Epoch 23/50\n",
            "406/406 [==============================] - 1s 2ms/step - loss: 0.7921 - accuracy: 0.6399 - val_loss: 0.7677 - val_accuracy: 0.6549\n",
            "Epoch 24/50\n",
            "406/406 [==============================] - 1s 2ms/step - loss: 0.7811 - accuracy: 0.6446 - val_loss: 0.7564 - val_accuracy: 0.6667\n",
            "Epoch 25/50\n",
            "406/406 [==============================] - 1s 2ms/step - loss: 0.7767 - accuracy: 0.6532 - val_loss: 0.7380 - val_accuracy: 0.6847\n",
            "Epoch 26/50\n",
            "406/406 [==============================] - 1s 2ms/step - loss: 0.7564 - accuracy: 0.6626 - val_loss: 0.7326 - val_accuracy: 0.6812\n",
            "Epoch 27/50\n",
            "406/406 [==============================] - 1s 2ms/step - loss: 0.7511 - accuracy: 0.6653 - val_loss: 0.7285 - val_accuracy: 0.7069\n",
            "Epoch 28/50\n",
            "406/406 [==============================] - 1s 2ms/step - loss: 0.7392 - accuracy: 0.6708 - val_loss: 0.7210 - val_accuracy: 0.6992\n",
            "Epoch 29/50\n",
            "406/406 [==============================] - 1s 2ms/step - loss: 0.7324 - accuracy: 0.6763 - val_loss: 0.7111 - val_accuracy: 0.7027\n",
            "Epoch 30/50\n",
            "406/406 [==============================] - 1s 2ms/step - loss: 0.7217 - accuracy: 0.6821 - val_loss: 0.7149 - val_accuracy: 0.7062\n",
            "Epoch 31/50\n",
            "406/406 [==============================] - 1s 2ms/step - loss: 0.7128 - accuracy: 0.6884 - val_loss: 0.6952 - val_accuracy: 0.7034\n",
            "Epoch 32/50\n",
            "406/406 [==============================] - 1s 2ms/step - loss: 0.7102 - accuracy: 0.6888 - val_loss: 0.6979 - val_accuracy: 0.7027\n",
            "Epoch 33/50\n",
            "406/406 [==============================] - 1s 2ms/step - loss: 0.7029 - accuracy: 0.6914 - val_loss: 0.6928 - val_accuracy: 0.7152\n",
            "Epoch 34/50\n",
            "406/406 [==============================] - 1s 1ms/step - loss: 0.7005 - accuracy: 0.6897 - val_loss: 0.6870 - val_accuracy: 0.7041\n",
            "Epoch 35/50\n",
            "406/406 [==============================] - 1s 2ms/step - loss: 0.6942 - accuracy: 0.6952 - val_loss: 0.6876 - val_accuracy: 0.7034\n",
            "Epoch 36/50\n",
            "406/406 [==============================] - 1s 2ms/step - loss: 0.6892 - accuracy: 0.6960 - val_loss: 0.6908 - val_accuracy: 0.7089\n",
            "Epoch 37/50\n",
            "406/406 [==============================] - 1s 2ms/step - loss: 0.6802 - accuracy: 0.7008 - val_loss: 0.6696 - val_accuracy: 0.7055\n",
            "Epoch 38/50\n",
            "406/406 [==============================] - 1s 2ms/step - loss: 0.6789 - accuracy: 0.7005 - val_loss: 0.6747 - val_accuracy: 0.7200\n",
            "Epoch 39/50\n",
            "406/406 [==============================] - 1s 2ms/step - loss: 0.6774 - accuracy: 0.7008 - val_loss: 0.6802 - val_accuracy: 0.7242\n",
            "Epoch 40/50\n",
            "406/406 [==============================] - 1s 2ms/step - loss: 0.6725 - accuracy: 0.7022 - val_loss: 0.6718 - val_accuracy: 0.7041\n",
            "Epoch 41/50\n",
            "406/406 [==============================] - 1s 2ms/step - loss: 0.6670 - accuracy: 0.7062 - val_loss: 0.6659 - val_accuracy: 0.7256\n",
            "Epoch 42/50\n",
            "406/406 [==============================] - 1s 2ms/step - loss: 0.6630 - accuracy: 0.7039 - val_loss: 0.6578 - val_accuracy: 0.7055\n",
            "Epoch 43/50\n",
            "406/406 [==============================] - 1s 2ms/step - loss: 0.6629 - accuracy: 0.7049 - val_loss: 0.6586 - val_accuracy: 0.7096\n",
            "Epoch 44/50\n",
            "406/406 [==============================] - 1s 2ms/step - loss: 0.6608 - accuracy: 0.7080 - val_loss: 0.6537 - val_accuracy: 0.7263\n",
            "Epoch 45/50\n",
            "406/406 [==============================] - 1s 2ms/step - loss: 0.6547 - accuracy: 0.7086 - val_loss: 0.6618 - val_accuracy: 0.7131\n",
            "Epoch 46/50\n",
            "406/406 [==============================] - 1s 2ms/step - loss: 0.6535 - accuracy: 0.7108 - val_loss: 0.6580 - val_accuracy: 0.7304\n",
            "Epoch 47/50\n",
            "406/406 [==============================] - 1s 1ms/step - loss: 0.6521 - accuracy: 0.7124 - val_loss: 0.6554 - val_accuracy: 0.7076\n",
            "Epoch 48/50\n",
            "406/406 [==============================] - 1s 2ms/step - loss: 0.6495 - accuracy: 0.7089 - val_loss: 0.6563 - val_accuracy: 0.7277\n",
            "Epoch 49/50\n",
            "406/406 [==============================] - 1s 1ms/step - loss: 0.6507 - accuracy: 0.7123 - val_loss: 0.6630 - val_accuracy: 0.7270\n",
            "Epoch 50/50\n",
            "406/406 [==============================] - 1s 2ms/step - loss: 0.6464 - accuracy: 0.7140 - val_loss: 0.6532 - val_accuracy: 0.7159\n",
            "\n",
            "\n",
            "Evaluating Best Model\n",
            "\n",
            "46/46 - 0s - loss: 0.6580 - accuracy: 0.7304 - 52ms/epoch - 1ms/step\n"
          ]
        },
        {
          "output_type": "execute_result",
          "data": {
            "text/plain": [
              "[0.6579825282096863, 0.7304227352142334]"
            ]
          },
          "metadata": {},
          "execution_count": 69
        }
      ]
    },
    {
      "cell_type": "code",
      "source": [
        "#save the model\n",
        "model.save(\"/content/drive/MyDrive/Colab Notebooks/Deep Learning/HW3/bestModel.keras\")\n",
        "print(\"Saved Model\")"
      ],
      "metadata": {
        "colab": {
          "base_uri": "https://localhost:8080/"
        },
        "id": "7aLVYq9FCJCK",
        "outputId": "1a1601f3-778b-4f77-9f75-601bf63ac21e"
      },
      "execution_count": null,
      "outputs": [
        {
          "output_type": "stream",
          "name": "stdout",
          "text": [
            "Saved Model\n"
          ]
        }
      ]
    },
    {
      "cell_type": "markdown",
      "source": [
        "# Graph Results"
      ],
      "metadata": {
        "id": "NyVPRsM3DO9E"
      }
    },
    {
      "cell_type": "code",
      "source": [
        "acc = history.history['accuracy']\n",
        "val_acc = history.history['val_accuracy']\n",
        "loss = history.history['loss']\n",
        "val_loss = history.history['val_loss']\n",
        "\n",
        "\n",
        "epochs = range(1, len(acc) + 1)\n",
        "\n",
        "plt.plot(epochs, acc, 'r', label='Training acc')\n",
        "plt.plot(epochs, val_acc, 'b', label='Validation acc')\n",
        "plt.title('Training and validation accuracy')\n",
        "plt.xlabel(\"Epochs\")\n",
        "plt.ylabel(\"Accuracy Percent\")\n",
        "plt.legend()\n",
        "\n",
        "# #Saving the Accuracy Figure\n",
        "# plt.savefig(\"/content/drive/MyDrive/Colab Notebooks/Deep Learning/HW3/best_model_Accuracy.png\")\n",
        "plt.figure()\n",
        "\n",
        "plt.plot(epochs, loss, 'r', label='Training loss')\n",
        "plt.plot(epochs, val_loss, 'b', label='Validation loss')\n",
        "plt.title('Training and validation loss')\n",
        "plt.xlabel(\"Epochs\")\n",
        "plt.ylabel(\"Loss\")\n",
        "plt.legend()\n",
        "\n",
        "\n",
        "# #Saving the Loss Figure\n",
        "# plt.savefig(\"/content/drive/MyDrive/Colab Notebooks/Deep Learning/HW3/best_model_Loss.png\")\n",
        "# plt.show()"
      ],
      "metadata": {
        "colab": {
          "base_uri": "https://localhost:8080/",
          "height": 944
        },
        "id": "WlLLtdWdDRu8",
        "outputId": "2adbcbb4-183e-4be9-c12f-07e14a2d65c7"
      },
      "execution_count": 70,
      "outputs": [
        {
          "output_type": "execute_result",
          "data": {
            "text/plain": [
              "<matplotlib.legend.Legend at 0x7f40dfc7feb0>"
            ]
          },
          "metadata": {},
          "execution_count": 70
        },
        {
          "output_type": "display_data",
          "data": {
            "text/plain": [
              "<Figure size 640x480 with 1 Axes>"
            ],
            "image/png": "[encoded data removed]"
          },
          "metadata": {}
        },
        {
          "output_type": "display_data",
          "data": {
            "text/plain": [
              "<Figure size 640x480 with 1 Axes>"
            ],
            "image/png": "[encoded data removed]"
          },
          "metadata": {}
        }
      ]
    },
    {
      "cell_type": "markdown",
      "source": [
        "# Running Test Set for Project Grading"
      ],
      "metadata": {
        "id": "1UoEhAiRQVr4"
      }
    },
    {
      "cell_type": "code",
      "source": [
        "#import libraries\n",
        "import tensorflow as tf\n",
        "import numpy as np\n",
        "import pandas as pd\n",
        "import csv\n",
        "import os\n",
        "from matplotlib import pyplot as plt\n",
        "\n",
        "## Mount Google drive and load test data\n",
        "from google.colab import drive\n",
        "drive.mount('/content/drive', force_remount=True)\n",
        "data_dir = '/content/drive/MyDrive/Colab Notebooks/Deep Learning/HW3/'\n",
        "\n",
        "mainFile = \"test.csv\"\n",
        "\n",
        "#read test.csv, dropping the first column as it just holds the index of the rows, which we don't need\n",
        "testData = pd.read_csv(\"/content/drive/MyDrive/Colab Notebooks/Deep Learning/HW3/\" + mainFile, sep=',', usecols=[1, 2, 3, 4], names = ['Heart Rate', 'Respiratory Rate', 'O2 Level', 'Label'])\n",
        "testLabel = testData.pop(\"Label\")\n",
        "\n",
        "\n",
        "# #load the model from a saved file\n",
        "# model = tf.keras.models.load_model(\"/content/drive/MyDrive/Colab Notebooks/Deep Learning/HW3/bestModel.keras\")\n",
        "\n",
        "#evaluation the model on the test data\n",
        "loss, acc = model.evaluate(testData, testLabel, verbose=2)\n",
        "print(\"Loss on test data: \", loss)\n",
        "print(\"Accuracy on test data: \", acc)"
      ],
      "metadata": {
        "id": "IazZKLIIQaOA",
        "outputId": "c4f100cc-3588-4d7f-c768-06dc38206ce8",
        "colab": {
          "base_uri": "https://localhost:8080/"
        }
      },
      "execution_count": 72,
      "outputs": [
        {
          "output_type": "stream",
          "name": "stdout",
          "text": [
            "Mounted at /content/drive\n",
            "4/4 - 0s - loss: 0.5841 - accuracy: 0.6935 - 18ms/epoch - 4ms/step\n",
            "Loss on test data:  0.5840513110160828\n",
            "Accuracy on test data:  0.6935483813285828\n"
          ]
        }
      ]
    }
  ]
}