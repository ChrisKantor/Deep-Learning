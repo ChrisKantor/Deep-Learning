{
  "nbformat": 4,
  "nbformat_minor": 0,
  "metadata": {
    "colab": {
      "provenance": [],
      "authorship_tag": "ABX9TyOFZDnTL0zgKPbuyVSzMR9O",
      "include_colab_link": true
    },
    "kernelspec": {
      "name": "python3",
      "display_name": "Python 3"
    },
    "language_info": {
      "name": "python"
    }
  },
  "cells": [
    {
      "cell_type": "markdown",
      "metadata": {
        "id": "view-in-github",
        "colab_type": "text"
      },
      "source": [
        "<a href=\"https://colab.research.google.com/github/ChrisKantor/Deep-Learning/blob/main/Homework%203/Deep_Learning_HW3.ipynb\" target=\"_parent\"><img src=\"https://colab.research.google.com/assets/colab-badge.svg\" alt=\"Open In Colab\"/></a>"
      ]
    },
    {
      "cell_type": "code",
      "execution_count": null,
      "metadata": {
        "id": "HCY4N1ruqq5u"
      },
      "outputs": [],
      "source": [
        "#Deep Learning Assignment Notes:\n",
        "#Need to submit 3 things, training code, the trained model, and then a bunch of results.\n",
        "#need to try all of the things listed in q2\n",
        "#lots of tial and eror with the hyperparameter tuning\n",
        "\n",
        "#data set is about baby vitals for detecting baby pain\n",
        "#3 classes: no pain, mild pain, lots of pain\n",
        "#col 1 is heart rate\n",
        "#col 2 is respiratory rate\n",
        "#col 3 is oxygen saturation\n",
        "#Can merge all the csv files into 1 large one\n",
        "#randomize and then split into training/validation data\n",
        "\n",
        "#need to clean the data, invalid data could be in any column\n",
        "\n",
        "#need 5 HIDDEN layers, so 7 total with the input and output layers\n",
        "#We can choose any number of neurons per layer\n",
        "\n",
        "#70% accuracy is a good minimum\n",
        "\n",
        "#Submit the best model only, but save figures for the other models with hyperparameter tuning\n",
        "#the model is not enough, need to submit a script which loads the model and then runs the test dataset on it\n",
        "#the testing script can be on a seperate cell in the notebook\n",
        "\n",
        "#figures are for validation loss\n",
        "#don't need to combine hyperparameters, just do them without each other, should be 12 figures total for part 2\n",
        "#1 figure for part 1 (the best model)"
      ]
    },
    {
      "cell_type": "markdown",
      "source": [
        "# **Loading Dataset**"
      ],
      "metadata": {
        "id": "qC0rRcFpQf42"
      }
    },
    {
      "cell_type": "code",
      "source": [
        "#import libraries\n",
        "import tensorflow as tf\n",
        "import numpy as np\n",
        "import pandas as pd\n",
        "import csv\n",
        "import os\n",
        "from matplotlib import pyplot as plt\n",
        "\n",
        "## Mount Google drive\n",
        "from google.colab import drive\n",
        "drive.mount('/content/drive', force_remount=True)\n",
        "data_dir = '/content/drive/MyDrive/Colab Notebooks/Deep Learning/HW3/Homework 3 Data/'\n",
        "\n",
        "mainFile = \"baby_data.csv\""
      ],
      "metadata": {
        "id": "occsCpZzfvaK",
        "outputId": "e4c1ec41-a4d2-43cb-bc2e-e5300c4388f0",
        "colab": {
          "base_uri": "https://localhost:8080/"
        }
      },
      "execution_count": 129,
      "outputs": [
        {
          "output_type": "stream",
          "name": "stdout",
          "text": [
            "Mounted at /content/drive\n"
          ]
        }
      ]
    },
    {
      "cell_type": "code",
      "source": [
        "#create a new csv file that will hold all of our valid data\n",
        "with open(\"/content/drive/MyDrive/Colab Notebooks/Deep Learning/HW3/\" + mainFile, 'w') as csvfile:\n",
        "  csvwriter = csv.writer(csvfile)\n",
        "\n",
        "  # writing the column names\n",
        "  csvwriter.writerow(['Heart Rate', 'Respiratory Rate', 'O2 Level', 'Label'])\n",
        "\n",
        "  #use the os library to iterate through all files in the current path\n",
        "  for (root,dirs,files) in os.walk(data_dir, topdown=True):\n",
        "    #open each CSV file, we don't want to open any other type of file\n",
        "    for f in files:\n",
        "      if f.endswith(\".csv\"):\n",
        "        #in each file, go through each row and check if it is valid\n",
        "        with open(os.path.join(root, f), mode ='r') as csvFile:\n",
        "          csvData = csv.reader(csvFile)\n",
        "\n",
        "          #one way to tell if the data is invalid is if the label is NOT [0, 1, 2]. This means there was something wrong with one of the sensors at the time of capture\n",
        "          #another way is to check if the heart rate, respiratory rate, or o2 level is too low or too high\n",
        "          #for heart Rate, we want a range of 44 - 200\n",
        "          #for Respiratory Rate, we want a range of 18 - 90\n",
        "          #for o2 level, we want a rate of 80 - 100\n",
        "          for row in csvData:\n",
        "            try:\n",
        "              if row[4] in \"012\" and (int(row[1]) >= 44 and int(row[1]) <= 200) and (int(row[2]) >= 18 and int(row[2]) <= 90) and (int(row[3]) >= 80 and int(row[3]) <= 100):   #data is valid, so add it to the main csv\n",
        "\n",
        "                #row[0] just stores the row # in the csv file, so it is not needed in the training dataset\n",
        "                csvwriter.writerow([row[1], row[2], row[3], row[4]])\n",
        "\n",
        "            #Catches errors that occur when an element cannot be parsed into an integer. In this case the row is invalid so we can skip it\n",
        "            except ValueError:\n",
        "              continue\n",
        "\n",
        "print(\"Done writing to main csv file: \", mainFile)"
      ],
      "metadata": {
        "id": "mWP_e1NDQorH",
        "colab": {
          "base_uri": "https://localhost:8080/"
        },
        "outputId": "69f686f1-770e-4a40-9ba6-95740cfd5aae"
      },
      "execution_count": 33,
      "outputs": [
        {
          "output_type": "stream",
          "name": "stdout",
          "text": [
            "Done writing to main csv file:  baby_data.csv\n"
          ]
        }
      ]
    },
    {
      "cell_type": "code",
      "source": [
        "#Now we have a csv file that has ALL of the valid data which we will use in training our model\n",
        "#The next step is to split the data into a training and validation set, using a 90/10 split\n",
        "dataframe = pd.read_csv(\"/content/drive/MyDrive/Colab Notebooks/Deep Learning/HW3/\" + mainFile, sep=',')\n",
        "print(dataframe.shape)\n",
        "print(dataframe.head())\n",
        "\n",
        "\n",
        "#split the data into a training and validation set using a 90/10 split, and randomize beforehand\n",
        "trainData, valData = np.split(dataframe.sample(frac=1), [int(0.9*len(dataframe))])\n",
        "\n",
        "#save the labels to a seperate dataframe and remove them from the data dataframe\n",
        "trainLabel = trainData.pop('Label')\n",
        "valLabel = valData.pop('Label')"
      ],
      "metadata": {
        "colab": {
          "base_uri": "https://localhost:8080/"
        },
        "id": "l-8o5KTrDopv",
        "outputId": "6a64d4fa-aa11-4a88-f027-7f5e818a6b3c"
      },
      "execution_count": 130,
      "outputs": [
        {
          "output_type": "stream",
          "name": "stdout",
          "text": [
            "(14423, 4)\n",
            "   Heart Rate  Respiratory Rate  O2 Level  Label\n",
            "0         172                46        98      2\n",
            "1         172                46        98      2\n",
            "2         173                46        98      2\n",
            "3         175                48        98      2\n",
            "4         172                49        98      2\n"
          ]
        }
      ]
    },
    {
      "cell_type": "code",
      "source": [
        "#Hyperparameter Tuning\n",
        "batchSize = 32\n",
        "learningRate = 0.0001\n",
        "numEpochs = 50\n",
        "normalize = False\n",
        "optType = 'Adam'\n",
        "momentum = 0.9\n",
        "initType = 'Default'\n",
        "regularize = False         #using L2 regularization in tensorflow\n",
        "regularizeLamda = 0.0001\n",
        "\n",
        "\n",
        "\n",
        "#Choosing optimizer\n",
        "if optType == 'Adam':\n",
        "  opt = tf.keras.optimizers.Adam(learning_rate = learningRate)\n",
        "\n",
        "elif optType == 'SGD':\n",
        "  opt = tf.keras.optimizers.SGD(learning_rate = learningRate, momentum = momentum)\n",
        "\n",
        "\n",
        "#using a random weight initializer\n",
        "if initType == 'Random':\n",
        "  initializer = tf.keras.initializers.RandomUniform(minval=0.0, maxval=1.0, seed = 8312001)\n",
        "\n",
        "#use the default initizalizer, the Xavier/Golrot initializer\n",
        "else:\n",
        "  initializer = tf.keras.initializers.GlorotUniform(seed = 8312001)\n",
        "\n",
        "\n",
        "#Normalizing data\n",
        "#normFactors stores the column maximums so we can normalize our validation and test data with the same factors we found in our training data\n",
        "normFactors = {}\n",
        "\n",
        "if normalize:\n",
        "  for col in trainData.columns:\n",
        "    normFactors[col] = trainData[col].abs().max()\n",
        "    trainData[col] = trainData[col]  / normFactors[col]\n",
        "    valData[col] = valData[col]  / normFactors[col]\n",
        "\n",
        "print(normFactors)"
      ],
      "metadata": {
        "id": "G6cnVUTKscGS",
        "colab": {
          "base_uri": "https://localhost:8080/"
        },
        "outputId": "0eb6a45b-f081-4802-c5e5-c9b5c9ace1df"
      },
      "execution_count": 131,
      "outputs": [
        {
          "output_type": "stream",
          "name": "stdout",
          "text": [
            "{}\n"
          ]
        }
      ]
    },
    {
      "cell_type": "markdown",
      "source": [
        "# Model Creation and Training"
      ],
      "metadata": {
        "id": "rSBe9Q_gb8W4"
      }
    },
    {
      "cell_type": "code",
      "source": [
        "#Create the model\n",
        "if regularize:\n",
        "  model = tf.keras.models.Sequential([\n",
        "    tf.keras.layers.Input(3, kernel_initializer=initializer),\n",
        "    tf.keras.layers.Dense(64, activation='relu', kernel_regularizer = tf.keras.regularizers.l2(regularizeLamda), kernel_initializer=initializer),\n",
        "    tf.keras.layers.Dropout(0.2),\n",
        "    tf.keras.layers.Dense(128, activation='relu', kernel_regularizer = tf.keras.regularizers.l2(regularizeLamda), kernel_initializer=initializer),\n",
        "    tf.keras.layers.Dropout(0.2),\n",
        "    tf.keras.layers.Dense(64, activation='relu', kernel_regularizer = tf.keras.regularizers.l2(regularizeLamda), kernel_initializer=initializer),\n",
        "    tf.keras.layers.Dense(3, kernel_initializer=initializer)\n",
        "  ])\n",
        "\n",
        "else:\n",
        "  model = tf.keras.models.Sequential([\n",
        "    tf.keras.layers.Dense(3, kernel_initializer=initializer),\n",
        "    tf.keras.layers.Dense(64, activation='relu', kernel_initializer=initializer),\n",
        "    tf.keras.layers.Dropout(0.2),\n",
        "    tf.keras.layers.Dense(128, activation='relu', kernel_initializer=initializer),\n",
        "    tf.keras.layers.Dropout(0.2),\n",
        "    tf.keras.layers.Dense(64, activation='relu', kernel_initializer=initializer),\n",
        "    tf.keras.layers.Dense(3, kernel_initializer=initializer)\n",
        "  ])\n",
        "\n",
        "\n",
        "#creating the loss function we will use\n",
        "loss_fn = tf.keras.losses.SparseCategoricalCrossentropy(from_logits=True)\n",
        "model.compile(optimizer=opt,\n",
        "              loss=loss_fn,\n",
        "              metrics=['accuracy'])\n",
        "\n",
        "\n",
        "#or optionally load a model from a file\n",
        "# model = tf.keras.models.load_model(\"/content/drive/MyDrive/Colab Notebooks/Deep Learning/HW3/bestModel.keras\")"
      ],
      "metadata": {
        "id": "-CdMRySJcCgc"
      },
      "execution_count": 132,
      "outputs": []
    },
    {
      "cell_type": "code",
      "source": [
        "checkpoint_filepath = '/content/drive/MyDrive/Colab Notebooks/Deep Learning/HW3/checkpoint'\n",
        "model_checkpoint_callback = tf.keras.callbacks.ModelCheckpoint(\n",
        "    filepath=checkpoint_filepath,\n",
        "    save_weights_only=True,\n",
        "    monitor='val_accuracy',\n",
        "    mode='max',\n",
        "    save_best_only=True)\n",
        "\n",
        "\n",
        "#Running the model\n",
        "print(\"Running Model\\n\")\n",
        "history = model.fit(trainData, trainLabel, epochs=numEpochs, batch_size=batchSize, validation_data=(valData, valLabel), callbacks=[model_checkpoint_callback])\n",
        "\n",
        "\n",
        "#load the best model using the callback\n",
        "model.load_weights(checkpoint_filepath)\n",
        "\n",
        "print(\"\\n\\nEvaluating Best Model\\n\")\n",
        "#evaluation the model on the validation data\n",
        "model.evaluate(valData, valLabel, verbose=2)"
      ],
      "metadata": {
        "id": "3TMqqRZZflHh",
        "outputId": "3924d53c-cb11-44fd-ede8-db904255107f",
        "colab": {
          "base_uri": "https://localhost:8080/"
        }
      },
      "execution_count": 133,
      "outputs": [
        {
          "output_type": "stream",
          "name": "stdout",
          "text": [
            "Running Model\n",
            "\n",
            "Epoch 1/50\n",
            "406/406 [==============================] - 2s 3ms/step - loss: 1.5947 - accuracy: 0.5172 - val_loss: 0.8521 - val_accuracy: 0.6681\n",
            "Epoch 2/50\n",
            "406/406 [==============================] - 1s 2ms/step - loss: 1.0047 - accuracy: 0.5680 - val_loss: 0.7632 - val_accuracy: 0.6861\n",
            "Epoch 3/50\n",
            "406/406 [==============================] - 1s 2ms/step - loss: 0.8669 - accuracy: 0.6055 - val_loss: 0.7379 - val_accuracy: 0.6895\n",
            "Epoch 4/50\n",
            "406/406 [==============================] - 1s 2ms/step - loss: 0.8165 - accuracy: 0.6303 - val_loss: 0.7299 - val_accuracy: 0.6847\n",
            "Epoch 5/50\n",
            "406/406 [==============================] - 1s 2ms/step - loss: 0.7851 - accuracy: 0.6506 - val_loss: 0.7171 - val_accuracy: 0.6875\n",
            "Epoch 6/50\n",
            "406/406 [==============================] - 1s 3ms/step - loss: 0.7540 - accuracy: 0.6640 - val_loss: 0.6928 - val_accuracy: 0.6979\n",
            "Epoch 7/50\n",
            "406/406 [==============================] - 2s 6ms/step - loss: 0.7323 - accuracy: 0.6773 - val_loss: 0.6800 - val_accuracy: 0.6999\n",
            "Epoch 8/50\n",
            "406/406 [==============================] - 2s 4ms/step - loss: 0.7139 - accuracy: 0.6802 - val_loss: 0.6692 - val_accuracy: 0.7020\n",
            "Epoch 9/50\n",
            "406/406 [==============================] - 2s 5ms/step - loss: 0.7026 - accuracy: 0.6931 - val_loss: 0.6605 - val_accuracy: 0.7159\n",
            "Epoch 10/50\n",
            "406/406 [==============================] - 2s 5ms/step - loss: 0.6962 - accuracy: 0.6978 - val_loss: 0.6614 - val_accuracy: 0.7166\n",
            "Epoch 11/50\n",
            "406/406 [==============================] - 1s 3ms/step - loss: 0.6884 - accuracy: 0.6984 - val_loss: 0.6528 - val_accuracy: 0.7263\n",
            "Epoch 12/50\n",
            "406/406 [==============================] - 1s 2ms/step - loss: 0.6788 - accuracy: 0.7018 - val_loss: 0.6458 - val_accuracy: 0.7228\n",
            "Epoch 13/50\n",
            "406/406 [==============================] - 1s 2ms/step - loss: 0.6759 - accuracy: 0.7047 - val_loss: 0.6445 - val_accuracy: 0.7235\n",
            "Epoch 14/50\n",
            "406/406 [==============================] - 1s 3ms/step - loss: 0.6673 - accuracy: 0.7086 - val_loss: 0.6465 - val_accuracy: 0.7270\n",
            "Epoch 15/50\n",
            "406/406 [==============================] - 1s 3ms/step - loss: 0.6648 - accuracy: 0.7070 - val_loss: 0.6387 - val_accuracy: 0.7242\n",
            "Epoch 16/50\n",
            "406/406 [==============================] - 2s 4ms/step - loss: 0.6651 - accuracy: 0.7068 - val_loss: 0.6384 - val_accuracy: 0.7249\n",
            "Epoch 17/50\n",
            "406/406 [==============================] - 1s 3ms/step - loss: 0.6604 - accuracy: 0.7067 - val_loss: 0.6396 - val_accuracy: 0.7200\n",
            "Epoch 18/50\n",
            "406/406 [==============================] - 1s 4ms/step - loss: 0.6565 - accuracy: 0.7122 - val_loss: 0.6391 - val_accuracy: 0.7235\n",
            "Epoch 19/50\n",
            "406/406 [==============================] - 1s 3ms/step - loss: 0.6589 - accuracy: 0.7102 - val_loss: 0.6355 - val_accuracy: 0.7242\n",
            "Epoch 20/50\n",
            "406/406 [==============================] - 1s 2ms/step - loss: 0.6483 - accuracy: 0.7174 - val_loss: 0.6320 - val_accuracy: 0.7297\n",
            "Epoch 21/50\n",
            "406/406 [==============================] - 1s 2ms/step - loss: 0.6488 - accuracy: 0.7174 - val_loss: 0.6323 - val_accuracy: 0.7270\n",
            "Epoch 22/50\n",
            "406/406 [==============================] - 1s 2ms/step - loss: 0.6538 - accuracy: 0.7139 - val_loss: 0.6335 - val_accuracy: 0.7235\n",
            "Epoch 23/50\n",
            "406/406 [==============================] - 1s 2ms/step - loss: 0.6480 - accuracy: 0.7162 - val_loss: 0.6284 - val_accuracy: 0.7228\n",
            "Epoch 24/50\n",
            "406/406 [==============================] - 1s 3ms/step - loss: 0.6472 - accuracy: 0.7149 - val_loss: 0.6347 - val_accuracy: 0.7270\n",
            "Epoch 25/50\n",
            "406/406 [==============================] - 1s 3ms/step - loss: 0.6445 - accuracy: 0.7146 - val_loss: 0.6305 - val_accuracy: 0.7200\n",
            "Epoch 26/50\n",
            "406/406 [==============================] - 1s 3ms/step - loss: 0.6453 - accuracy: 0.7163 - val_loss: 0.6285 - val_accuracy: 0.7228\n",
            "Epoch 27/50\n",
            "406/406 [==============================] - 1s 2ms/step - loss: 0.6420 - accuracy: 0.7185 - val_loss: 0.6305 - val_accuracy: 0.7221\n",
            "Epoch 28/50\n",
            "406/406 [==============================] - 1s 2ms/step - loss: 0.6427 - accuracy: 0.7177 - val_loss: 0.6296 - val_accuracy: 0.7249\n",
            "Epoch 29/50\n",
            "406/406 [==============================] - 1s 4ms/step - loss: 0.6404 - accuracy: 0.7199 - val_loss: 0.6309 - val_accuracy: 0.7249\n",
            "Epoch 30/50\n",
            "406/406 [==============================] - 2s 4ms/step - loss: 0.6385 - accuracy: 0.7190 - val_loss: 0.6249 - val_accuracy: 0.7249\n",
            "Epoch 31/50\n",
            "406/406 [==============================] - 1s 3ms/step - loss: 0.6395 - accuracy: 0.7176 - val_loss: 0.6276 - val_accuracy: 0.7235\n",
            "Epoch 32/50\n",
            "406/406 [==============================] - 1s 2ms/step - loss: 0.6395 - accuracy: 0.7170 - val_loss: 0.6278 - val_accuracy: 0.7263\n",
            "Epoch 33/50\n",
            "406/406 [==============================] - 1s 3ms/step - loss: 0.6382 - accuracy: 0.7191 - val_loss: 0.6289 - val_accuracy: 0.7283\n",
            "Epoch 34/50\n",
            "406/406 [==============================] - 1s 2ms/step - loss: 0.6380 - accuracy: 0.7172 - val_loss: 0.6251 - val_accuracy: 0.7235\n",
            "Epoch 35/50\n",
            "406/406 [==============================] - 1s 2ms/step - loss: 0.6329 - accuracy: 0.7196 - val_loss: 0.6232 - val_accuracy: 0.7242\n",
            "Epoch 36/50\n",
            "406/406 [==============================] - 1s 2ms/step - loss: 0.6358 - accuracy: 0.7239 - val_loss: 0.6262 - val_accuracy: 0.7277\n",
            "Epoch 37/50\n",
            "406/406 [==============================] - 1s 2ms/step - loss: 0.6351 - accuracy: 0.7237 - val_loss: 0.6252 - val_accuracy: 0.7311\n",
            "Epoch 38/50\n",
            "406/406 [==============================] - 1s 2ms/step - loss: 0.6355 - accuracy: 0.7223 - val_loss: 0.6254 - val_accuracy: 0.7297\n",
            "Epoch 39/50\n",
            "406/406 [==============================] - 1s 2ms/step - loss: 0.6366 - accuracy: 0.7183 - val_loss: 0.6248 - val_accuracy: 0.7263\n",
            "Epoch 40/50\n",
            "406/406 [==============================] - 1s 2ms/step - loss: 0.6383 - accuracy: 0.7203 - val_loss: 0.6234 - val_accuracy: 0.7304\n",
            "Epoch 41/50\n",
            "406/406 [==============================] - 1s 3ms/step - loss: 0.6328 - accuracy: 0.7210 - val_loss: 0.6239 - val_accuracy: 0.7249\n",
            "Epoch 42/50\n",
            "406/406 [==============================] - 2s 4ms/step - loss: 0.6302 - accuracy: 0.7250 - val_loss: 0.6228 - val_accuracy: 0.7277\n",
            "Epoch 43/50\n",
            "406/406 [==============================] - 2s 4ms/step - loss: 0.6324 - accuracy: 0.7210 - val_loss: 0.6234 - val_accuracy: 0.7325\n",
            "Epoch 44/50\n",
            "406/406 [==============================] - 1s 2ms/step - loss: 0.6350 - accuracy: 0.7201 - val_loss: 0.6235 - val_accuracy: 0.7304\n",
            "Epoch 45/50\n",
            "406/406 [==============================] - 1s 2ms/step - loss: 0.6321 - accuracy: 0.7241 - val_loss: 0.6232 - val_accuracy: 0.7297\n",
            "Epoch 46/50\n",
            "406/406 [==============================] - 1s 2ms/step - loss: 0.6314 - accuracy: 0.7223 - val_loss: 0.6217 - val_accuracy: 0.7263\n",
            "Epoch 47/50\n",
            "406/406 [==============================] - 1s 2ms/step - loss: 0.6259 - accuracy: 0.7237 - val_loss: 0.6195 - val_accuracy: 0.7270\n",
            "Epoch 48/50\n",
            "406/406 [==============================] - 1s 2ms/step - loss: 0.6327 - accuracy: 0.7208 - val_loss: 0.6232 - val_accuracy: 0.7297\n",
            "Epoch 49/50\n",
            "406/406 [==============================] - 1s 2ms/step - loss: 0.6278 - accuracy: 0.7256 - val_loss: 0.6224 - val_accuracy: 0.7242\n",
            "Epoch 50/50\n",
            "406/406 [==============================] - 1s 2ms/step - loss: 0.6288 - accuracy: 0.7263 - val_loss: 0.6223 - val_accuracy: 0.7304\n",
            "\n",
            "\n",
            "Evaluating Best Model\n",
            "\n",
            "46/46 - 0s - loss: 0.6234 - accuracy: 0.7325 - 72ms/epoch - 2ms/step\n"
          ]
        },
        {
          "output_type": "execute_result",
          "data": {
            "text/plain": [
              "[0.6233729124069214, 0.732501745223999]"
            ]
          },
          "metadata": {},
          "execution_count": 133
        }
      ]
    },
    {
      "cell_type": "code",
      "source": [
        "#save the model\n",
        "model.save(\"/content/drive/MyDrive/Colab Notebooks/Deep Learning/HW3/bestModel.keras\")\n",
        "print(\"Saved Model\")"
      ],
      "metadata": {
        "colab": {
          "base_uri": "https://localhost:8080/"
        },
        "id": "7aLVYq9FCJCK",
        "outputId": "3803d87a-1f97-49d2-eac3-c6cff307c706"
      },
      "execution_count": 40,
      "outputs": [
        {
          "output_type": "stream",
          "name": "stdout",
          "text": [
            "Saved Model\n"
          ]
        }
      ]
    },
    {
      "cell_type": "markdown",
      "source": [
        "# Graph Results"
      ],
      "metadata": {
        "id": "NyVPRsM3DO9E"
      }
    },
    {
      "cell_type": "code",
      "source": [
        "acc = history.history['accuracy']\n",
        "val_acc = history.history['val_accuracy']\n",
        "loss = history.history['loss']\n",
        "val_loss = history.history['val_loss']\n",
        "\n",
        "\n",
        "epochs = range(1, len(acc) + 1)\n",
        "\n",
        "plt.plot(epochs, acc, 'r', label='Training acc')\n",
        "plt.plot(epochs, val_acc, 'b', label='Validation acc')\n",
        "plt.title('Weight Init: Xavier - Training and validation accuracy')\n",
        "plt.xlabel(\"Epochs\")\n",
        "plt.ylabel(\"Accuracy Percent\")\n",
        "plt.legend()\n",
        "\n",
        "#Saving the Accuracy Figure\n",
        "plt.savefig(\"/content/drive/MyDrive/Colab Notebooks/Deep Learning/HW3/Results/weightInit_xavier_Accuracy.png\")\n",
        "plt.figure()\n",
        "\n",
        "plt.plot(epochs, loss, 'r', label='Training loss')\n",
        "plt.plot(epochs, val_loss, 'b', label='Validation loss')\n",
        "plt.title('Weight Init: Xavier - Training and validation loss')\n",
        "plt.xlabel(\"Epochs\")\n",
        "plt.ylabel(\"Loss\")\n",
        "plt.legend()\n",
        "\n",
        "\n",
        "#Saving the Loss Figure\n",
        "plt.savefig(\"/content/drive/MyDrive/Colab Notebooks/Deep Learning/HW3/Results/weightInit_xavier_Loss.png\")\n",
        "# plt.show()"
      ],
      "metadata": {
        "colab": {
          "base_uri": "https://localhost:8080/",
          "height": 927
        },
        "id": "WlLLtdWdDRu8",
        "outputId": "8fde582d-9740-4f9a-ee2e-5e5028b19425"
      },
      "execution_count": 134,
      "outputs": [
        {
          "output_type": "display_data",
          "data": {
            "text/plain": [
              "<Figure size 640x480 with 1 Axes>"
            ],
            "image/png": "[encoded data removed]"
          },
          "metadata": {}
        },
        {
          "output_type": "display_data",
          "data": {
            "text/plain": [
              "<Figure size 640x480 with 1 Axes>"
            ],
            "image/png": "[encoded data removed]"
          },
          "metadata": {}
        }
      ]
    },
    {
      "cell_type": "markdown",
      "source": [
        "# Running Test Set for Project Grading"
      ],
      "metadata": {
        "id": "1UoEhAiRQVr4"
      }
    },
    {
      "cell_type": "code",
      "source": [
        "#import libraries\n",
        "import tensorflow as tf\n",
        "import numpy as np\n",
        "import pandas as pd\n",
        "import csv\n",
        "import os\n",
        "from matplotlib import pyplot as plt\n",
        "\n",
        "## Mount Google drive and load test data\n",
        "from google.colab import drive\n",
        "drive.mount('/content/drive', force_remount=True)\n",
        "data_dir = '/content/drive/MyDrive/Colab Notebooks/Deep Learning/HW3/'\n",
        "\n",
        "mainFile = \"test.csv\"\n",
        "\n",
        "#read test.csv, dropping the first column as it just holds the index of the rows, which we don't need\n",
        "testData = pd.read_csv(\"/content/drive/MyDrive/Colab Notebooks/Deep Learning/HW3/\" + mainFile, sep=',', usecols=[1, 2, 3, 4], names = ['Heart Rate', 'Respiratory Rate', 'O2 Level', 'Label'])\n",
        "testLabel = testData.pop(\"Label\")\n",
        "\n",
        "#Normalize the test data using the normalization factors we found in the training data. Hard coded here\n",
        "normFactors = {'Heart Rate': 199, 'Respiratory Rate': 90, 'O2 Level': 100}\n",
        "\n",
        "for col in testData:\n",
        "  testData[col] = testData[col]  / normFactors[col]\n",
        "\n",
        "#load the model from a saved file\n",
        "model = tf.keras.models.load_model(\"/content/drive/MyDrive/Colab Notebooks/Deep Learning/HW3/bestModel.keras\")\n",
        "\n",
        "#evaluation the model on the test data\n",
        "loss, acc = model.evaluate(testData, testLabel, verbose=2)\n",
        "print(\"Loss on test data: \", loss)\n",
        "print(\"Accuracy on test data: \", acc)"
      ],
      "metadata": {
        "id": "IazZKLIIQaOA",
        "outputId": "4bef1f0a-14cc-4434-9e0e-c117d7f519c2",
        "colab": {
          "base_uri": "https://localhost:8080/"
        }
      },
      "execution_count": 136,
      "outputs": [
        {
          "output_type": "stream",
          "name": "stdout",
          "text": [
            "Mounted at /content/drive\n",
            "4/4 - 0s - loss: 0.4541 - accuracy: 0.8306 - 347ms/epoch - 87ms/step\n",
            "Loss on test data:  0.4541206359863281\n",
            "Accuracy on test data:  0.8306451439857483\n"
          ]
        }
      ]
    }
  ]
}