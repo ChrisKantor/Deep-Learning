{
  "nbformat": 4,
  "nbformat_minor": 0,
  "metadata": {
    "colab": {
      "provenance": [],
      "authorship_tag": "ABX9TyNxg/7Gct1bEOOjI9IxXxt2",
      "include_colab_link": true
    },
    "kernelspec": {
      "name": "python3",
      "display_name": "Python 3"
    },
    "language_info": {
      "name": "python"
    }
  },
  "cells": [
    {
      "cell_type": "markdown",
      "metadata": {
        "id": "view-in-github",
        "colab_type": "text"
      },
      "source": [
        "<a href=\"https://colab.research.google.com/github/ChrisKantor/Deep-Learning/blob/main/CV_Module_4_3_Assignment.ipynb\" target=\"_parent\"><img src=\"https://colab.research.google.com/assets/colab-badge.svg\" alt=\"Open In Colab\"/></a>"
      ]
    },
    {
      "cell_type": "code",
      "execution_count": 3,
      "metadata": {
        "colab": {
          "base_uri": "https://localhost:8080/"
        },
        "id": "vscg_63UJQCx",
        "outputId": "9bb20c8e-8068-4eb9-c316-e16133b4c1b0"
      },
      "outputs": [
        {
          "output_type": "stream",
          "name": "stdout",
          "text": [
            "Real (a, b) = (3, 5)\n",
            "\n",
            "Our predicted (a, b) = (3.05, 5.12)\n",
            "\n"
          ]
        }
      ],
      "source": [
        "import numpy as np\n",
        "\n",
        "#Our compute H and b functions\n",
        "def compute_H(x, y):\n",
        "  x_sum = np.sum(x)\n",
        "  x_sum_squared = np.sum(x*x)\n",
        "  n = len(x)\n",
        "  return np.array([[x_sum_squared, x_sum],[x_sum, n]])\n",
        "\n",
        "def compute_b(x, y):\n",
        "  y_diff = np.sum(y - x)\n",
        "  y_diff_mult = np.sum((y - x) * x)\n",
        "  return np.array([[y_diff_mult], [y_diff]])\n",
        "\n",
        "\n",
        "#generate synthetic data\n",
        "x_data = np.random.rand(100)\n",
        "\n",
        "#set a, b to later approximate\n",
        "real_a = 3\n",
        "real_b = 5\n",
        "\n",
        "#generate random noise\n",
        "noise = 0.3 * np.random.rand(100)\n",
        "\n",
        "#calculate y data using the provided formulas\n",
        "y_data = (real_a + 1) * x_data + (real_b + noise)\n",
        "\n",
        "#compute H and b using our defined functions\n",
        "H = compute_H(x_data, y_data)\n",
        "b = compute_b(x_data, y_data)\n",
        "\n",
        "#find p using the given linear algebra formula\n",
        "Hinv = np.linalg.inv(H)\n",
        "p = np.dot(Hinv, b)\n",
        "\n",
        "#print our approximations\n",
        "print(f'Real (a, b) = ({real_a}, {real_b})\\n')\n",
        "print(f'Our predicted (a, b) = ({\"%.2f\" % round(p[0, 0],2)}, {\"%.2f\" % round(p[1, 0],2)})\\n')"
      ]
    }
  ]
}